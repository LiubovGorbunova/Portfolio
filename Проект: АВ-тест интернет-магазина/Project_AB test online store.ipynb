{
 "cells": [
  {
   "cell_type": "markdown",
   "metadata": {},
   "source": [
    "**Оглавление** \n",
    "\n",
    "1. [Загрузка данных](#1)\n",
    "2. [Предобработка данных](#2)\n",
    "3. [Приоритизация гипотез](#3)\n",
    "4. [Анализ А/В теста](#4)\n",
    "5. [Вывод](#5)"
   ]
  },
  {
   "cell_type": "markdown",
   "metadata": {},
   "source": [
    "# Анализ гипотез и анализ A/B-теста "
   ]
  },
  {
   "cell_type": "markdown",
   "metadata": {},
   "source": [
    "**Описание проекта**\n",
    "\n",
    "Аналитик крупного интернет-магазина вместе с отделом маркетинга подготовили список гипотез для увеличения выручки. Необходимо приоритизировать гипотезы, запустить A/B-тест и проанализировать результаты.\n",
    "\n",
    "**Описание данных**\n",
    "\n",
    "В распоряжении имеется три датасета. Файл hypothesis.csv хранит данные о гипотезах, orders.csv — информацию о заказах, а visitors.csv — информацию о посещениях сайта.\n",
    "\n",
    "Структура hypothesis.csv:\n",
    "- Hypothesis — краткое описание гипотезы;\n",
    "- Reach — охват пользователей по 10-балльной шкале;\n",
    "- Impact — влияние на пользователей по 10-балльной шкале;\n",
    "- Confidence — уверенность в гипотезе по 10-балльной шкале;\n",
    "- Efforts — затраты ресурсов на проверку гипотезы по 10-балльной шкале. Чем больше значение Efforts, тем дороже проверка гипотезы.\n",
    "\n",
    "Структура orders.csv:\n",
    "- transactionId — идентификатор заказа;\n",
    "- visitorId — идентификатор пользователя, совершившего заказ;\n",
    "- date — дата, когда был совершён заказ;\n",
    "- revenue — выручка заказа;\n",
    "- group — группа A/B-теста, в которую попал заказ.\n",
    "\n",
    "Структура visitors.csv:\n",
    "- date — дата;\n",
    "- group — группа A/B-теста;\n",
    "- visitors — количество пользователей в указанную дату в указанной группе A/B-теста"
   ]
  },
  {
   "cell_type": "markdown",
   "metadata": {},
   "source": [
    "<a id=\"1\"></a> \n",
    "### Загрузка данных"
   ]
  },
  {
   "cell_type": "markdown",
   "metadata": {},
   "source": [
    "Импортируем необходимые библиотеки. Считаем данные из csv-файлов в датафреймы и сохраним их в переменные hypothesis, orders и visitors."
   ]
  },
  {
   "cell_type": "code",
   "execution_count": 1,
   "metadata": {},
   "outputs": [],
   "source": [
    "import pandas as pd\n",
    "import datetime as dt\n",
    "import numpy as np\n",
    "import scipy.stats as stats\n",
    "import matplotlib.pyplot as plt\n",
    "from pandas.plotting import register_matplotlib_converters\n",
    "import warnings\n",
    "register_matplotlib_converters()"
   ]
  },
  {
   "cell_type": "code",
   "execution_count": 2,
   "metadata": {},
   "outputs": [],
   "source": [
    "try:\n",
    "    hypothesis = pd.read_csv('/datasets/hypothesis.csv')\n",
    "    orders = pd.read_csv('/datasets/orders.csv')\n",
    "    visitors = pd.read_csv('/datasets/visitors.csv')\n",
    "except:\n",
    "    hypothesis = pd.read_csv('hypothesis.csv')    \n",
    "    orders = pd.read_csv('orders.csv')\n",
    "    visitors = pd.read_csv('visitors.csv')"
   ]
  },
  {
   "cell_type": "markdown",
   "metadata": {},
   "source": [
    "**1.1 Обзор исходных данных**"
   ]
  },
  {
   "cell_type": "markdown",
   "metadata": {},
   "source": [
    "Выведем первые 10 строчек датафрейма hypothesis на экран."
   ]
  },
  {
   "cell_type": "code",
   "execution_count": 3,
   "metadata": {},
   "outputs": [
    {
     "data": {
      "text/html": [
       "<div>\n",
       "<style scoped>\n",
       "    .dataframe tbody tr th:only-of-type {\n",
       "        vertical-align: middle;\n",
       "    }\n",
       "\n",
       "    .dataframe tbody tr th {\n",
       "        vertical-align: top;\n",
       "    }\n",
       "\n",
       "    .dataframe thead th {\n",
       "        text-align: right;\n",
       "    }\n",
       "</style>\n",
       "<table border=\"1\" class=\"dataframe\">\n",
       "  <thead>\n",
       "    <tr style=\"text-align: right;\">\n",
       "      <th></th>\n",
       "      <th>Hypothesis</th>\n",
       "      <th>Reach</th>\n",
       "      <th>Impact</th>\n",
       "      <th>Confidence</th>\n",
       "      <th>Efforts</th>\n",
       "    </tr>\n",
       "  </thead>\n",
       "  <tbody>\n",
       "    <tr>\n",
       "      <th>0</th>\n",
       "      <td>Добавить два новых канала привлечения трафика, что позволит привлекать на 30% больше пользователей</td>\n",
       "      <td>3</td>\n",
       "      <td>10</td>\n",
       "      <td>8</td>\n",
       "      <td>6</td>\n",
       "    </tr>\n",
       "    <tr>\n",
       "      <th>1</th>\n",
       "      <td>Запустить собственную службу доставки, что сократит срок доставки заказов</td>\n",
       "      <td>2</td>\n",
       "      <td>5</td>\n",
       "      <td>4</td>\n",
       "      <td>10</td>\n",
       "    </tr>\n",
       "    <tr>\n",
       "      <th>2</th>\n",
       "      <td>Добавить блоки рекомендаций товаров на сайт интернет магазина, чтобы повысить конверсию и средний чек заказа</td>\n",
       "      <td>8</td>\n",
       "      <td>3</td>\n",
       "      <td>7</td>\n",
       "      <td>3</td>\n",
       "    </tr>\n",
       "    <tr>\n",
       "      <th>3</th>\n",
       "      <td>Изменить структура категорий, что увеличит конверсию, т.к. пользователи быстрее найдут нужный товар</td>\n",
       "      <td>8</td>\n",
       "      <td>3</td>\n",
       "      <td>3</td>\n",
       "      <td>8</td>\n",
       "    </tr>\n",
       "    <tr>\n",
       "      <th>4</th>\n",
       "      <td>Изменить цвет фона главной страницы, чтобы увеличить вовлеченность пользователей</td>\n",
       "      <td>3</td>\n",
       "      <td>1</td>\n",
       "      <td>1</td>\n",
       "      <td>1</td>\n",
       "    </tr>\n",
       "    <tr>\n",
       "      <th>5</th>\n",
       "      <td>Добавить страницу отзывов клиентов о магазине, что позволит увеличить количество заказов</td>\n",
       "      <td>3</td>\n",
       "      <td>2</td>\n",
       "      <td>2</td>\n",
       "      <td>3</td>\n",
       "    </tr>\n",
       "    <tr>\n",
       "      <th>6</th>\n",
       "      <td>Показать на главной странице баннеры с актуальными акциями и распродажами, чтобы увеличить конверсию</td>\n",
       "      <td>5</td>\n",
       "      <td>3</td>\n",
       "      <td>8</td>\n",
       "      <td>3</td>\n",
       "    </tr>\n",
       "    <tr>\n",
       "      <th>7</th>\n",
       "      <td>Добавить форму подписки на все основные страницы, чтобы собрать базу клиентов для email-рассылок</td>\n",
       "      <td>10</td>\n",
       "      <td>7</td>\n",
       "      <td>8</td>\n",
       "      <td>5</td>\n",
       "    </tr>\n",
       "    <tr>\n",
       "      <th>8</th>\n",
       "      <td>Запустить акцию, дающую скидку на товар в день рождения</td>\n",
       "      <td>1</td>\n",
       "      <td>9</td>\n",
       "      <td>9</td>\n",
       "      <td>5</td>\n",
       "    </tr>\n",
       "  </tbody>\n",
       "</table>\n",
       "</div>"
      ],
      "text/plain": [
       "                                                                                                     Hypothesis  \\\n",
       "0            Добавить два новых канала привлечения трафика, что позволит привлекать на 30% больше пользователей   \n",
       "1                                     Запустить собственную службу доставки, что сократит срок доставки заказов   \n",
       "2  Добавить блоки рекомендаций товаров на сайт интернет магазина, чтобы повысить конверсию и средний чек заказа   \n",
       "3           Изменить структура категорий, что увеличит конверсию, т.к. пользователи быстрее найдут нужный товар   \n",
       "4                              Изменить цвет фона главной страницы, чтобы увеличить вовлеченность пользователей   \n",
       "5                      Добавить страницу отзывов клиентов о магазине, что позволит увеличить количество заказов   \n",
       "6          Показать на главной странице баннеры с актуальными акциями и распродажами, чтобы увеличить конверсию   \n",
       "7              Добавить форму подписки на все основные страницы, чтобы собрать базу клиентов для email-рассылок   \n",
       "8                                                       Запустить акцию, дающую скидку на товар в день рождения   \n",
       "\n",
       "   Reach  Impact  Confidence  Efforts  \n",
       "0      3      10           8        6  \n",
       "1      2       5           4       10  \n",
       "2      8       3           7        3  \n",
       "3      8       3           3        8  \n",
       "4      3       1           1        1  \n",
       "5      3       2           2        3  \n",
       "6      5       3           8        3  \n",
       "7     10       7           8        5  \n",
       "8      1       9           9        5  "
      ]
     },
     "execution_count": 3,
     "metadata": {},
     "output_type": "execute_result"
    }
   ],
   "source": [
    "pd.options.display.max_colwidth = 150\n",
    "hypothesis.head(10)"
   ]
  },
  {
   "cell_type": "markdown",
   "metadata": {},
   "source": [
    "Выведем основную информацию о датафрейме hypothesis с помощью метода info()."
   ]
  },
  {
   "cell_type": "code",
   "execution_count": 4,
   "metadata": {},
   "outputs": [
    {
     "name": "stdout",
     "output_type": "stream",
     "text": [
      "<class 'pandas.core.frame.DataFrame'>\n",
      "RangeIndex: 9 entries, 0 to 8\n",
      "Data columns (total 5 columns):\n",
      " #   Column      Non-Null Count  Dtype \n",
      "---  ------      --------------  ----- \n",
      " 0   Hypothesis  9 non-null      object\n",
      " 1   Reach       9 non-null      int64 \n",
      " 2   Impact      9 non-null      int64 \n",
      " 3   Confidence  9 non-null      int64 \n",
      " 4   Efforts     9 non-null      int64 \n",
      "dtypes: int64(4), object(1)\n",
      "memory usage: 488.0+ bytes\n"
     ]
    }
   ],
   "source": [
    "hypothesis.info()"
   ]
  },
  {
   "cell_type": "markdown",
   "metadata": {},
   "source": [
    "Датафрейм переменной hypothesis содержит 5 столбцов и 9 строк. Из основной информации видно, что датафрейм имеет следующее проблемы:\n",
    "\n",
    "- названия столбцов содержат заглавные буквы."
   ]
  },
  {
   "cell_type": "markdown",
   "metadata": {},
   "source": [
    "Выведем первые 10 строчек датафрейма orders на экран."
   ]
  },
  {
   "cell_type": "code",
   "execution_count": 5,
   "metadata": {},
   "outputs": [
    {
     "data": {
      "text/html": [
       "<div>\n",
       "<style scoped>\n",
       "    .dataframe tbody tr th:only-of-type {\n",
       "        vertical-align: middle;\n",
       "    }\n",
       "\n",
       "    .dataframe tbody tr th {\n",
       "        vertical-align: top;\n",
       "    }\n",
       "\n",
       "    .dataframe thead th {\n",
       "        text-align: right;\n",
       "    }\n",
       "</style>\n",
       "<table border=\"1\" class=\"dataframe\">\n",
       "  <thead>\n",
       "    <tr style=\"text-align: right;\">\n",
       "      <th></th>\n",
       "      <th>transactionId</th>\n",
       "      <th>visitorId</th>\n",
       "      <th>date</th>\n",
       "      <th>revenue</th>\n",
       "      <th>group</th>\n",
       "    </tr>\n",
       "  </thead>\n",
       "  <tbody>\n",
       "    <tr>\n",
       "      <th>0</th>\n",
       "      <td>3667963787</td>\n",
       "      <td>3312258926</td>\n",
       "      <td>2019-08-15</td>\n",
       "      <td>1650</td>\n",
       "      <td>B</td>\n",
       "    </tr>\n",
       "    <tr>\n",
       "      <th>1</th>\n",
       "      <td>2804400009</td>\n",
       "      <td>3642806036</td>\n",
       "      <td>2019-08-15</td>\n",
       "      <td>730</td>\n",
       "      <td>B</td>\n",
       "    </tr>\n",
       "    <tr>\n",
       "      <th>2</th>\n",
       "      <td>2961555356</td>\n",
       "      <td>4069496402</td>\n",
       "      <td>2019-08-15</td>\n",
       "      <td>400</td>\n",
       "      <td>A</td>\n",
       "    </tr>\n",
       "    <tr>\n",
       "      <th>3</th>\n",
       "      <td>3797467345</td>\n",
       "      <td>1196621759</td>\n",
       "      <td>2019-08-15</td>\n",
       "      <td>9759</td>\n",
       "      <td>B</td>\n",
       "    </tr>\n",
       "    <tr>\n",
       "      <th>4</th>\n",
       "      <td>2282983706</td>\n",
       "      <td>2322279887</td>\n",
       "      <td>2019-08-15</td>\n",
       "      <td>2308</td>\n",
       "      <td>B</td>\n",
       "    </tr>\n",
       "    <tr>\n",
       "      <th>5</th>\n",
       "      <td>182168103</td>\n",
       "      <td>935554773</td>\n",
       "      <td>2019-08-15</td>\n",
       "      <td>2210</td>\n",
       "      <td>B</td>\n",
       "    </tr>\n",
       "    <tr>\n",
       "      <th>6</th>\n",
       "      <td>398296753</td>\n",
       "      <td>2900797465</td>\n",
       "      <td>2019-08-15</td>\n",
       "      <td>1860</td>\n",
       "      <td>B</td>\n",
       "    </tr>\n",
       "    <tr>\n",
       "      <th>7</th>\n",
       "      <td>2626614568</td>\n",
       "      <td>78758296</td>\n",
       "      <td>2019-08-15</td>\n",
       "      <td>1044</td>\n",
       "      <td>A</td>\n",
       "    </tr>\n",
       "    <tr>\n",
       "      <th>8</th>\n",
       "      <td>1576988021</td>\n",
       "      <td>295230930</td>\n",
       "      <td>2019-08-15</td>\n",
       "      <td>13710</td>\n",
       "      <td>A</td>\n",
       "    </tr>\n",
       "    <tr>\n",
       "      <th>9</th>\n",
       "      <td>1506739906</td>\n",
       "      <td>1882260405</td>\n",
       "      <td>2019-08-15</td>\n",
       "      <td>1855</td>\n",
       "      <td>B</td>\n",
       "    </tr>\n",
       "  </tbody>\n",
       "</table>\n",
       "</div>"
      ],
      "text/plain": [
       "   transactionId   visitorId        date  revenue group\n",
       "0     3667963787  3312258926  2019-08-15     1650     B\n",
       "1     2804400009  3642806036  2019-08-15      730     B\n",
       "2     2961555356  4069496402  2019-08-15      400     A\n",
       "3     3797467345  1196621759  2019-08-15     9759     B\n",
       "4     2282983706  2322279887  2019-08-15     2308     B\n",
       "5      182168103   935554773  2019-08-15     2210     B\n",
       "6      398296753  2900797465  2019-08-15     1860     B\n",
       "7     2626614568    78758296  2019-08-15     1044     A\n",
       "8     1576988021   295230930  2019-08-15    13710     A\n",
       "9     1506739906  1882260405  2019-08-15     1855     B"
      ]
     },
     "execution_count": 5,
     "metadata": {},
     "output_type": "execute_result"
    }
   ],
   "source": [
    "orders.head(10)"
   ]
  },
  {
   "cell_type": "markdown",
   "metadata": {},
   "source": [
    "Выведем основную информацию о датафрейме orders с помощью метода info()."
   ]
  },
  {
   "cell_type": "code",
   "execution_count": 6,
   "metadata": {},
   "outputs": [
    {
     "name": "stdout",
     "output_type": "stream",
     "text": [
      "<class 'pandas.core.frame.DataFrame'>\n",
      "RangeIndex: 1197 entries, 0 to 1196\n",
      "Data columns (total 5 columns):\n",
      " #   Column         Non-Null Count  Dtype \n",
      "---  ------         --------------  ----- \n",
      " 0   transactionId  1197 non-null   int64 \n",
      " 1   visitorId      1197 non-null   int64 \n",
      " 2   date           1197 non-null   object\n",
      " 3   revenue        1197 non-null   int64 \n",
      " 4   group          1197 non-null   object\n",
      "dtypes: int64(3), object(2)\n",
      "memory usage: 46.9+ KB\n"
     ]
    }
   ],
   "source": [
    "orders.info()"
   ]
  },
  {
   "cell_type": "markdown",
   "metadata": {},
   "source": [
    "Датафрейм переменной orders содержит 5 столбцов и 1197 строк. Из основной информации видно, что датафрейм имеет следующее проблемы:\n",
    "\n",
    "- столбец 'date' имеeт неверный типы данных."
   ]
  },
  {
   "cell_type": "markdown",
   "metadata": {},
   "source": [
    "Выведем первые 10 строчек датафрейма visitors на экран."
   ]
  },
  {
   "cell_type": "code",
   "execution_count": 7,
   "metadata": {},
   "outputs": [
    {
     "data": {
      "text/html": [
       "<div>\n",
       "<style scoped>\n",
       "    .dataframe tbody tr th:only-of-type {\n",
       "        vertical-align: middle;\n",
       "    }\n",
       "\n",
       "    .dataframe tbody tr th {\n",
       "        vertical-align: top;\n",
       "    }\n",
       "\n",
       "    .dataframe thead th {\n",
       "        text-align: right;\n",
       "    }\n",
       "</style>\n",
       "<table border=\"1\" class=\"dataframe\">\n",
       "  <thead>\n",
       "    <tr style=\"text-align: right;\">\n",
       "      <th></th>\n",
       "      <th>date</th>\n",
       "      <th>group</th>\n",
       "      <th>visitors</th>\n",
       "    </tr>\n",
       "  </thead>\n",
       "  <tbody>\n",
       "    <tr>\n",
       "      <th>0</th>\n",
       "      <td>2019-08-01</td>\n",
       "      <td>A</td>\n",
       "      <td>719</td>\n",
       "    </tr>\n",
       "    <tr>\n",
       "      <th>1</th>\n",
       "      <td>2019-08-02</td>\n",
       "      <td>A</td>\n",
       "      <td>619</td>\n",
       "    </tr>\n",
       "    <tr>\n",
       "      <th>2</th>\n",
       "      <td>2019-08-03</td>\n",
       "      <td>A</td>\n",
       "      <td>507</td>\n",
       "    </tr>\n",
       "    <tr>\n",
       "      <th>3</th>\n",
       "      <td>2019-08-04</td>\n",
       "      <td>A</td>\n",
       "      <td>717</td>\n",
       "    </tr>\n",
       "    <tr>\n",
       "      <th>4</th>\n",
       "      <td>2019-08-05</td>\n",
       "      <td>A</td>\n",
       "      <td>756</td>\n",
       "    </tr>\n",
       "    <tr>\n",
       "      <th>5</th>\n",
       "      <td>2019-08-06</td>\n",
       "      <td>A</td>\n",
       "      <td>667</td>\n",
       "    </tr>\n",
       "    <tr>\n",
       "      <th>6</th>\n",
       "      <td>2019-08-07</td>\n",
       "      <td>A</td>\n",
       "      <td>644</td>\n",
       "    </tr>\n",
       "    <tr>\n",
       "      <th>7</th>\n",
       "      <td>2019-08-08</td>\n",
       "      <td>A</td>\n",
       "      <td>610</td>\n",
       "    </tr>\n",
       "    <tr>\n",
       "      <th>8</th>\n",
       "      <td>2019-08-09</td>\n",
       "      <td>A</td>\n",
       "      <td>617</td>\n",
       "    </tr>\n",
       "    <tr>\n",
       "      <th>9</th>\n",
       "      <td>2019-08-10</td>\n",
       "      <td>A</td>\n",
       "      <td>406</td>\n",
       "    </tr>\n",
       "  </tbody>\n",
       "</table>\n",
       "</div>"
      ],
      "text/plain": [
       "         date group  visitors\n",
       "0  2019-08-01     A       719\n",
       "1  2019-08-02     A       619\n",
       "2  2019-08-03     A       507\n",
       "3  2019-08-04     A       717\n",
       "4  2019-08-05     A       756\n",
       "5  2019-08-06     A       667\n",
       "6  2019-08-07     A       644\n",
       "7  2019-08-08     A       610\n",
       "8  2019-08-09     A       617\n",
       "9  2019-08-10     A       406"
      ]
     },
     "execution_count": 7,
     "metadata": {},
     "output_type": "execute_result"
    }
   ],
   "source": [
    "visitors.head(10)"
   ]
  },
  {
   "cell_type": "markdown",
   "metadata": {},
   "source": [
    "Выведем основную информацию о датафрейме visitors с помощью метода info()."
   ]
  },
  {
   "cell_type": "code",
   "execution_count": 8,
   "metadata": {},
   "outputs": [
    {
     "name": "stdout",
     "output_type": "stream",
     "text": [
      "<class 'pandas.core.frame.DataFrame'>\n",
      "RangeIndex: 62 entries, 0 to 61\n",
      "Data columns (total 3 columns):\n",
      " #   Column    Non-Null Count  Dtype \n",
      "---  ------    --------------  ----- \n",
      " 0   date      62 non-null     object\n",
      " 1   group     62 non-null     object\n",
      " 2   visitors  62 non-null     int64 \n",
      "dtypes: int64(1), object(2)\n",
      "memory usage: 1.6+ KB\n"
     ]
    }
   ],
   "source": [
    "visitors.info()"
   ]
  },
  {
   "cell_type": "markdown",
   "metadata": {},
   "source": [
    "Датафрейм переменной visitors содержит 3 столбца и 62 строки. Из основной информации видно, что датафрейм имеет следующее проблемы:\n",
    "\n",
    "- столбец 'date' имеeт неверный типы данных."
   ]
  },
  {
   "cell_type": "markdown",
   "metadata": {},
   "source": [
    "<a id=\"2\"></a> \n",
    "### Переработка данных"
   ]
  },
  {
   "cell_type": "markdown",
   "metadata": {},
   "source": [
    "**2.1 Работа с названиями столбцов**\n",
    "\n",
    "Все столбцы датафрейма hypothesis имеют в названии заглавные буквы, что неудобно для дальнейшей работы. Переименуем их и приведем названия к единому стилю заменив заглавные буквы на строчные ."
   ]
  },
  {
   "cell_type": "code",
   "execution_count": 9,
   "metadata": {},
   "outputs": [],
   "source": [
    "hypothesis.columns = hypothesis.columns.str.lower()"
   ]
  },
  {
   "cell_type": "markdown",
   "metadata": {},
   "source": [
    "**2.2 Работа с типом данных**\n",
    "\n",
    "Столбцы 'date' датафреймов orders и visitors имеют тип данных object несмотря на то, что указанные столбцы содержат информацию о датах. Для возможности работы с ними в дальнейшем изменим тип данных на datetime."
   ]
  },
  {
   "cell_type": "code",
   "execution_count": 10,
   "metadata": {},
   "outputs": [],
   "source": [
    "orders['date'] = pd.to_datetime(orders['date'])"
   ]
  },
  {
   "cell_type": "code",
   "execution_count": 11,
   "metadata": {},
   "outputs": [],
   "source": [
    "visitors['date'] = pd.to_datetime(visitors['date'])"
   ]
  },
  {
   "cell_type": "markdown",
   "metadata": {},
   "source": [
    "**2.3 Обработка дубликатов**\n",
    "\n",
    "Проверим наличие дубликатов в датафреймах."
   ]
  },
  {
   "cell_type": "code",
   "execution_count": 12,
   "metadata": {},
   "outputs": [
    {
     "name": "stdout",
     "output_type": "stream",
     "text": [
      "Количество дубликатов в датафрейме visits: 0\n",
      "Количество дубликатов в датафрейме orders: 0\n",
      "Количество дубликатов в датафрейме costs: 0\n"
     ]
    }
   ],
   "source": [
    "# вывод количества дубликатов\n",
    "print('Количество дубликатов в датафрейме visits:', hypothesis.duplicated().sum())\n",
    "print('Количество дубликатов в датафрейме orders:', orders.duplicated().sum())\n",
    "print('Количество дубликатов в датафрейме costs:', visitors.duplicated().sum())"
   ]
  },
  {
   "cell_type": "markdown",
   "metadata": {},
   "source": [
    "**2.4 Обработка пропусков**\n",
    "\n",
    "Проверим наличие пропусков в датафреймах."
   ]
  },
  {
   "cell_type": "code",
   "execution_count": 13,
   "metadata": {},
   "outputs": [
    {
     "name": "stdout",
     "output_type": "stream",
     "text": [
      "======hypothesis======\n",
      "hypothesis    0\n",
      "reach         0\n",
      "impact        0\n",
      "confidence    0\n",
      "efforts       0\n",
      "dtype: int64\n",
      "======orders======\n",
      "transactionId    0\n",
      "visitorId        0\n",
      "date             0\n",
      "revenue          0\n",
      "group            0\n",
      "dtype: int64\n",
      "======visitors======\n",
      "date        0\n",
      "group       0\n",
      "visitors    0\n",
      "dtype: int64\n"
     ]
    }
   ],
   "source": [
    "print('======hypothesis======')\n",
    "print(hypothesis.isna().sum())\n",
    "print('======orders======')\n",
    "print(orders.isna().sum())\n",
    "print('======visitors======')\n",
    "print(visitors.isna().sum())"
   ]
  },
  {
   "cell_type": "markdown",
   "metadata": {},
   "source": [
    "Пропуски в данных во всех датафреймах отсутствуют.\n",
    "\n",
    "Выведем основную информацию о датафрейме с помощью метода info(), чтобы удостовериться, что данные готовы для анализа."
   ]
  },
  {
   "cell_type": "code",
   "execution_count": 14,
   "metadata": {},
   "outputs": [
    {
     "name": "stdout",
     "output_type": "stream",
     "text": [
      "======hypothesis======\n",
      "<class 'pandas.core.frame.DataFrame'>\n",
      "RangeIndex: 9 entries, 0 to 8\n",
      "Data columns (total 5 columns):\n",
      " #   Column      Non-Null Count  Dtype \n",
      "---  ------      --------------  ----- \n",
      " 0   hypothesis  9 non-null      object\n",
      " 1   reach       9 non-null      int64 \n",
      " 2   impact      9 non-null      int64 \n",
      " 3   confidence  9 non-null      int64 \n",
      " 4   efforts     9 non-null      int64 \n",
      "dtypes: int64(4), object(1)\n",
      "memory usage: 488.0+ bytes\n",
      "======orders======\n",
      "<class 'pandas.core.frame.DataFrame'>\n",
      "RangeIndex: 1197 entries, 0 to 1196\n",
      "Data columns (total 5 columns):\n",
      " #   Column         Non-Null Count  Dtype         \n",
      "---  ------         --------------  -----         \n",
      " 0   transactionId  1197 non-null   int64         \n",
      " 1   visitorId      1197 non-null   int64         \n",
      " 2   date           1197 non-null   datetime64[ns]\n",
      " 3   revenue        1197 non-null   int64         \n",
      " 4   group          1197 non-null   object        \n",
      "dtypes: datetime64[ns](1), int64(3), object(1)\n",
      "memory usage: 46.9+ KB\n",
      "======visitors======\n",
      "<class 'pandas.core.frame.DataFrame'>\n",
      "RangeIndex: 62 entries, 0 to 61\n",
      "Data columns (total 3 columns):\n",
      " #   Column    Non-Null Count  Dtype         \n",
      "---  ------    --------------  -----         \n",
      " 0   date      62 non-null     datetime64[ns]\n",
      " 1   group     62 non-null     object        \n",
      " 2   visitors  62 non-null     int64         \n",
      "dtypes: datetime64[ns](1), int64(1), object(1)\n",
      "memory usage: 1.6+ KB\n"
     ]
    }
   ],
   "source": [
    "print('======hypothesis======')\n",
    "hypothesis.info()\n",
    "print('======orders======')\n",
    "orders.info()\n",
    "print('======visitors======')\n",
    "visitors.info()"
   ]
  },
  {
   "cell_type": "markdown",
   "metadata": {},
   "source": [
    "Вся необходимая переработка данных проведена."
   ]
  },
  {
   "cell_type": "markdown",
   "metadata": {},
   "source": [
    "<a id=\"3\"></a> \n",
    "### Приоритизация гипотез\n",
    "\n",
    "Выведем данные о гипотезах на экран."
   ]
  },
  {
   "cell_type": "code",
   "execution_count": 15,
   "metadata": {},
   "outputs": [
    {
     "data": {
      "text/html": [
       "<div>\n",
       "<style scoped>\n",
       "    .dataframe tbody tr th:only-of-type {\n",
       "        vertical-align: middle;\n",
       "    }\n",
       "\n",
       "    .dataframe tbody tr th {\n",
       "        vertical-align: top;\n",
       "    }\n",
       "\n",
       "    .dataframe thead th {\n",
       "        text-align: right;\n",
       "    }\n",
       "</style>\n",
       "<table border=\"1\" class=\"dataframe\">\n",
       "  <thead>\n",
       "    <tr style=\"text-align: right;\">\n",
       "      <th></th>\n",
       "      <th>hypothesis</th>\n",
       "      <th>reach</th>\n",
       "      <th>impact</th>\n",
       "      <th>confidence</th>\n",
       "      <th>efforts</th>\n",
       "    </tr>\n",
       "  </thead>\n",
       "  <tbody>\n",
       "    <tr>\n",
       "      <th>0</th>\n",
       "      <td>Добавить два новых канала привлечения трафика, что позволит привлекать на 30% больше пользователей</td>\n",
       "      <td>3</td>\n",
       "      <td>10</td>\n",
       "      <td>8</td>\n",
       "      <td>6</td>\n",
       "    </tr>\n",
       "    <tr>\n",
       "      <th>1</th>\n",
       "      <td>Запустить собственную службу доставки, что сократит срок доставки заказов</td>\n",
       "      <td>2</td>\n",
       "      <td>5</td>\n",
       "      <td>4</td>\n",
       "      <td>10</td>\n",
       "    </tr>\n",
       "    <tr>\n",
       "      <th>2</th>\n",
       "      <td>Добавить блоки рекомендаций товаров на сайт интернет магазина, чтобы повысить конверсию и средний чек заказа</td>\n",
       "      <td>8</td>\n",
       "      <td>3</td>\n",
       "      <td>7</td>\n",
       "      <td>3</td>\n",
       "    </tr>\n",
       "    <tr>\n",
       "      <th>3</th>\n",
       "      <td>Изменить структура категорий, что увеличит конверсию, т.к. пользователи быстрее найдут нужный товар</td>\n",
       "      <td>8</td>\n",
       "      <td>3</td>\n",
       "      <td>3</td>\n",
       "      <td>8</td>\n",
       "    </tr>\n",
       "    <tr>\n",
       "      <th>4</th>\n",
       "      <td>Изменить цвет фона главной страницы, чтобы увеличить вовлеченность пользователей</td>\n",
       "      <td>3</td>\n",
       "      <td>1</td>\n",
       "      <td>1</td>\n",
       "      <td>1</td>\n",
       "    </tr>\n",
       "    <tr>\n",
       "      <th>5</th>\n",
       "      <td>Добавить страницу отзывов клиентов о магазине, что позволит увеличить количество заказов</td>\n",
       "      <td>3</td>\n",
       "      <td>2</td>\n",
       "      <td>2</td>\n",
       "      <td>3</td>\n",
       "    </tr>\n",
       "    <tr>\n",
       "      <th>6</th>\n",
       "      <td>Показать на главной странице баннеры с актуальными акциями и распродажами, чтобы увеличить конверсию</td>\n",
       "      <td>5</td>\n",
       "      <td>3</td>\n",
       "      <td>8</td>\n",
       "      <td>3</td>\n",
       "    </tr>\n",
       "    <tr>\n",
       "      <th>7</th>\n",
       "      <td>Добавить форму подписки на все основные страницы, чтобы собрать базу клиентов для email-рассылок</td>\n",
       "      <td>10</td>\n",
       "      <td>7</td>\n",
       "      <td>8</td>\n",
       "      <td>5</td>\n",
       "    </tr>\n",
       "    <tr>\n",
       "      <th>8</th>\n",
       "      <td>Запустить акцию, дающую скидку на товар в день рождения</td>\n",
       "      <td>1</td>\n",
       "      <td>9</td>\n",
       "      <td>9</td>\n",
       "      <td>5</td>\n",
       "    </tr>\n",
       "  </tbody>\n",
       "</table>\n",
       "</div>"
      ],
      "text/plain": [
       "                                                                                                     hypothesis  \\\n",
       "0            Добавить два новых канала привлечения трафика, что позволит привлекать на 30% больше пользователей   \n",
       "1                                     Запустить собственную службу доставки, что сократит срок доставки заказов   \n",
       "2  Добавить блоки рекомендаций товаров на сайт интернет магазина, чтобы повысить конверсию и средний чек заказа   \n",
       "3           Изменить структура категорий, что увеличит конверсию, т.к. пользователи быстрее найдут нужный товар   \n",
       "4                              Изменить цвет фона главной страницы, чтобы увеличить вовлеченность пользователей   \n",
       "5                      Добавить страницу отзывов клиентов о магазине, что позволит увеличить количество заказов   \n",
       "6          Показать на главной странице баннеры с актуальными акциями и распродажами, чтобы увеличить конверсию   \n",
       "7              Добавить форму подписки на все основные страницы, чтобы собрать базу клиентов для email-рассылок   \n",
       "8                                                       Запустить акцию, дающую скидку на товар в день рождения   \n",
       "\n",
       "   reach  impact  confidence  efforts  \n",
       "0      3      10           8        6  \n",
       "1      2       5           4       10  \n",
       "2      8       3           7        3  \n",
       "3      8       3           3        8  \n",
       "4      3       1           1        1  \n",
       "5      3       2           2        3  \n",
       "6      5       3           8        3  \n",
       "7     10       7           8        5  \n",
       "8      1       9           9        5  "
      ]
     },
     "execution_count": 15,
     "metadata": {},
     "output_type": "execute_result"
    }
   ],
   "source": [
    "hypothesis"
   ]
  },
  {
   "cell_type": "markdown",
   "metadata": {},
   "source": [
    "Поскольку проверка гипотез чаще всего стоит дорого, а ресурсов не всегда хватает, необходимо определить какая гипотеза будет тестироваться, а какая нет. Чтобы максимизировать ожидаемое улучшение ключевых метрик бизнеса, сформулированные гипотезы приоритизируют.\n",
    "\n",
    "Применим фреймворк ICE для приоритизации гипотез. Отсортируем их по убыванию приоритета."
   ]
  },
  {
   "cell_type": "code",
   "execution_count": 16,
   "metadata": {},
   "outputs": [
    {
     "data": {
      "text/html": [
       "<div>\n",
       "<style scoped>\n",
       "    .dataframe tbody tr th:only-of-type {\n",
       "        vertical-align: middle;\n",
       "    }\n",
       "\n",
       "    .dataframe tbody tr th {\n",
       "        vertical-align: top;\n",
       "    }\n",
       "\n",
       "    .dataframe thead th {\n",
       "        text-align: right;\n",
       "    }\n",
       "</style>\n",
       "<table border=\"1\" class=\"dataframe\">\n",
       "  <thead>\n",
       "    <tr style=\"text-align: right;\">\n",
       "      <th></th>\n",
       "      <th>hypothesis</th>\n",
       "      <th>ICE</th>\n",
       "    </tr>\n",
       "  </thead>\n",
       "  <tbody>\n",
       "    <tr>\n",
       "      <th>8</th>\n",
       "      <td>Запустить акцию, дающую скидку на товар в день рождения</td>\n",
       "      <td>16.20</td>\n",
       "    </tr>\n",
       "    <tr>\n",
       "      <th>0</th>\n",
       "      <td>Добавить два новых канала привлечения трафика, что позволит привлекать на 30% больше пользователей</td>\n",
       "      <td>13.33</td>\n",
       "    </tr>\n",
       "    <tr>\n",
       "      <th>7</th>\n",
       "      <td>Добавить форму подписки на все основные страницы, чтобы собрать базу клиентов для email-рассылок</td>\n",
       "      <td>11.20</td>\n",
       "    </tr>\n",
       "    <tr>\n",
       "      <th>6</th>\n",
       "      <td>Показать на главной странице баннеры с актуальными акциями и распродажами, чтобы увеличить конверсию</td>\n",
       "      <td>8.00</td>\n",
       "    </tr>\n",
       "    <tr>\n",
       "      <th>2</th>\n",
       "      <td>Добавить блоки рекомендаций товаров на сайт интернет магазина, чтобы повысить конверсию и средний чек заказа</td>\n",
       "      <td>7.00</td>\n",
       "    </tr>\n",
       "    <tr>\n",
       "      <th>1</th>\n",
       "      <td>Запустить собственную службу доставки, что сократит срок доставки заказов</td>\n",
       "      <td>2.00</td>\n",
       "    </tr>\n",
       "    <tr>\n",
       "      <th>5</th>\n",
       "      <td>Добавить страницу отзывов клиентов о магазине, что позволит увеличить количество заказов</td>\n",
       "      <td>1.33</td>\n",
       "    </tr>\n",
       "    <tr>\n",
       "      <th>3</th>\n",
       "      <td>Изменить структура категорий, что увеличит конверсию, т.к. пользователи быстрее найдут нужный товар</td>\n",
       "      <td>1.12</td>\n",
       "    </tr>\n",
       "    <tr>\n",
       "      <th>4</th>\n",
       "      <td>Изменить цвет фона главной страницы, чтобы увеличить вовлеченность пользователей</td>\n",
       "      <td>1.00</td>\n",
       "    </tr>\n",
       "  </tbody>\n",
       "</table>\n",
       "</div>"
      ],
      "text/plain": [
       "                                                                                                     hypothesis  \\\n",
       "8                                                       Запустить акцию, дающую скидку на товар в день рождения   \n",
       "0            Добавить два новых канала привлечения трафика, что позволит привлекать на 30% больше пользователей   \n",
       "7              Добавить форму подписки на все основные страницы, чтобы собрать базу клиентов для email-рассылок   \n",
       "6          Показать на главной странице баннеры с актуальными акциями и распродажами, чтобы увеличить конверсию   \n",
       "2  Добавить блоки рекомендаций товаров на сайт интернет магазина, чтобы повысить конверсию и средний чек заказа   \n",
       "1                                     Запустить собственную службу доставки, что сократит срок доставки заказов   \n",
       "5                      Добавить страницу отзывов клиентов о магазине, что позволит увеличить количество заказов   \n",
       "3           Изменить структура категорий, что увеличит конверсию, т.к. пользователи быстрее найдут нужный товар   \n",
       "4                              Изменить цвет фона главной страницы, чтобы увеличить вовлеченность пользователей   \n",
       "\n",
       "     ICE  \n",
       "8  16.20  \n",
       "0  13.33  \n",
       "7  11.20  \n",
       "6   8.00  \n",
       "2   7.00  \n",
       "1   2.00  \n",
       "5   1.33  \n",
       "3   1.12  \n",
       "4   1.00  "
      ]
     },
     "execution_count": 16,
     "metadata": {},
     "output_type": "execute_result"
    }
   ],
   "source": [
    "# расчет ICE для гипотез на основании их параметров\n",
    "hypothesis['ICE'] = (hypothesis['impact'] * hypothesis['confidence'] / hypothesis['efforts']).round(2)\n",
    "# вывод столбцов 'hypothesis' и 'ICE', отсортированных по столбцу 'ICE'\n",
    "hypothesis[['hypothesis', 'ICE']].sort_values(by = 'ICE', ascending = False)"
   ]
  },
  {
   "cell_type": "markdown",
   "metadata": {},
   "source": [
    "Наиболее перспективные гипотезы по ICE - гипотезы с индексами 8, 0, 7.\n",
    "\n",
    "Далее применим фреймворк RICE для приоритизации гипотез. Отсортируем их по убыванию приоритета."
   ]
  },
  {
   "cell_type": "code",
   "execution_count": 17,
   "metadata": {},
   "outputs": [
    {
     "data": {
      "text/html": [
       "<div>\n",
       "<style scoped>\n",
       "    .dataframe tbody tr th:only-of-type {\n",
       "        vertical-align: middle;\n",
       "    }\n",
       "\n",
       "    .dataframe tbody tr th {\n",
       "        vertical-align: top;\n",
       "    }\n",
       "\n",
       "    .dataframe thead th {\n",
       "        text-align: right;\n",
       "    }\n",
       "</style>\n",
       "<table border=\"1\" class=\"dataframe\">\n",
       "  <thead>\n",
       "    <tr style=\"text-align: right;\">\n",
       "      <th></th>\n",
       "      <th>hypothesis</th>\n",
       "      <th>RICE</th>\n",
       "    </tr>\n",
       "  </thead>\n",
       "  <tbody>\n",
       "    <tr>\n",
       "      <th>7</th>\n",
       "      <td>Добавить форму подписки на все основные страницы, чтобы собрать базу клиентов для email-рассылок</td>\n",
       "      <td>112.0</td>\n",
       "    </tr>\n",
       "    <tr>\n",
       "      <th>2</th>\n",
       "      <td>Добавить блоки рекомендаций товаров на сайт интернет магазина, чтобы повысить конверсию и средний чек заказа</td>\n",
       "      <td>56.0</td>\n",
       "    </tr>\n",
       "    <tr>\n",
       "      <th>0</th>\n",
       "      <td>Добавить два новых канала привлечения трафика, что позволит привлекать на 30% больше пользователей</td>\n",
       "      <td>40.0</td>\n",
       "    </tr>\n",
       "    <tr>\n",
       "      <th>6</th>\n",
       "      <td>Показать на главной странице баннеры с актуальными акциями и распродажами, чтобы увеличить конверсию</td>\n",
       "      <td>40.0</td>\n",
       "    </tr>\n",
       "    <tr>\n",
       "      <th>8</th>\n",
       "      <td>Запустить акцию, дающую скидку на товар в день рождения</td>\n",
       "      <td>16.2</td>\n",
       "    </tr>\n",
       "    <tr>\n",
       "      <th>3</th>\n",
       "      <td>Изменить структура категорий, что увеличит конверсию, т.к. пользователи быстрее найдут нужный товар</td>\n",
       "      <td>9.0</td>\n",
       "    </tr>\n",
       "    <tr>\n",
       "      <th>1</th>\n",
       "      <td>Запустить собственную службу доставки, что сократит срок доставки заказов</td>\n",
       "      <td>4.0</td>\n",
       "    </tr>\n",
       "    <tr>\n",
       "      <th>5</th>\n",
       "      <td>Добавить страницу отзывов клиентов о магазине, что позволит увеличить количество заказов</td>\n",
       "      <td>4.0</td>\n",
       "    </tr>\n",
       "    <tr>\n",
       "      <th>4</th>\n",
       "      <td>Изменить цвет фона главной страницы, чтобы увеличить вовлеченность пользователей</td>\n",
       "      <td>3.0</td>\n",
       "    </tr>\n",
       "  </tbody>\n",
       "</table>\n",
       "</div>"
      ],
      "text/plain": [
       "                                                                                                     hypothesis  \\\n",
       "7              Добавить форму подписки на все основные страницы, чтобы собрать базу клиентов для email-рассылок   \n",
       "2  Добавить блоки рекомендаций товаров на сайт интернет магазина, чтобы повысить конверсию и средний чек заказа   \n",
       "0            Добавить два новых канала привлечения трафика, что позволит привлекать на 30% больше пользователей   \n",
       "6          Показать на главной странице баннеры с актуальными акциями и распродажами, чтобы увеличить конверсию   \n",
       "8                                                       Запустить акцию, дающую скидку на товар в день рождения   \n",
       "3           Изменить структура категорий, что увеличит конверсию, т.к. пользователи быстрее найдут нужный товар   \n",
       "1                                     Запустить собственную службу доставки, что сократит срок доставки заказов   \n",
       "5                      Добавить страницу отзывов клиентов о магазине, что позволит увеличить количество заказов   \n",
       "4                              Изменить цвет фона главной страницы, чтобы увеличить вовлеченность пользователей   \n",
       "\n",
       "    RICE  \n",
       "7  112.0  \n",
       "2   56.0  \n",
       "0   40.0  \n",
       "6   40.0  \n",
       "8   16.2  \n",
       "3    9.0  \n",
       "1    4.0  \n",
       "5    4.0  \n",
       "4    3.0  "
      ]
     },
     "execution_count": 17,
     "metadata": {},
     "output_type": "execute_result"
    }
   ],
   "source": [
    "# расчет RICE для гипотез на основании их параметров\n",
    "hypothesis['RICE'] = (hypothesis['reach'] * hypothesis['impact'] * hypothesis['confidence'] / hypothesis['efforts']).round(2)\n",
    "# вывод столбцов 'hypothesis' и 'RICE', отсортированных по столбцу 'ICE'\n",
    "hypothesis[['hypothesis', 'RICE']].sort_values(by = 'RICE', ascending = False)"
   ]
  },
  {
   "cell_type": "markdown",
   "metadata": {},
   "source": [
    "Наиболее перспективные гипотезы по RICE - гипотезы с индексами 7, 2, 0 и 6. Таким образом у нас произошла смена лидера по сравнению с ICE.\n",
    "\n",
    "Так получилось потому, что параметр reach у гипотезы с индексом 7 выше, чем у остальных. Параметр Reach показывает скольких пользователей затронет изменение, которое мы хотим внести. Таким образом кроме силы гипотез необходимо учитывать как много пользователей он затронет."
   ]
  },
  {
   "cell_type": "markdown",
   "metadata": {},
   "source": [
    "<a id=\"4\"></a> \n",
    "### Анализ А/В теста\n",
    "\n",
    "Изучим графики кумулятивных (накапливаемых) данных. "
   ]
  },
  {
   "cell_type": "markdown",
   "metadata": {},
   "source": [
    "Перед началом теста определим количество групп и количество участников в них."
   ]
  },
  {
   "cell_type": "code",
   "execution_count": 18,
   "metadata": {},
   "outputs": [
    {
     "data": {
      "text/html": [
       "<div>\n",
       "<style scoped>\n",
       "    .dataframe tbody tr th:only-of-type {\n",
       "        vertical-align: middle;\n",
       "    }\n",
       "\n",
       "    .dataframe tbody tr th {\n",
       "        vertical-align: top;\n",
       "    }\n",
       "\n",
       "    .dataframe thead th {\n",
       "        text-align: right;\n",
       "    }\n",
       "</style>\n",
       "<table border=\"1\" class=\"dataframe\">\n",
       "  <thead>\n",
       "    <tr style=\"text-align: right;\">\n",
       "      <th></th>\n",
       "      <th>visitorId</th>\n",
       "    </tr>\n",
       "    <tr>\n",
       "      <th>group</th>\n",
       "      <th></th>\n",
       "    </tr>\n",
       "  </thead>\n",
       "  <tbody>\n",
       "    <tr>\n",
       "      <th>A</th>\n",
       "      <td>503</td>\n",
       "    </tr>\n",
       "    <tr>\n",
       "      <th>B</th>\n",
       "      <td>586</td>\n",
       "    </tr>\n",
       "  </tbody>\n",
       "</table>\n",
       "</div>"
      ],
      "text/plain": [
       "       visitorId\n",
       "group           \n",
       "A            503\n",
       "B            586"
      ]
     },
     "execution_count": 18,
     "metadata": {},
     "output_type": "execute_result"
    }
   ],
   "source": [
    "# сгруппируем данные по группам и найдем количество уникальных пользователей \n",
    "# в каждой из нах \n",
    "orders.groupby('group').agg({'visitorId':'nunique'})"
   ]
  },
  {
   "cell_type": "markdown",
   "metadata": {},
   "source": [
    "Пользователи были разделены на 2 группы, численностью 503 чел. (в группе А) и 586 чел. (в группе В). Разница в количестве участников в группах составляет 83 чел., или 16,5%. Это говорит о том, что к результатам теста нужно относиться с осторожностью.\n",
    "\n",
    "Количество групп свидетельствует о том, что тест был парный.\n",
    "\n",
    "Далее определим сроки проведения теста."
   ]
  },
  {
   "cell_type": "code",
   "execution_count": 19,
   "metadata": {},
   "outputs": [
    {
     "name": "stdout",
     "output_type": "stream",
     "text": [
      "Начало теста: 2019-08-01 00:00:00\n",
      "Конец теста: 2019-08-31 00:00:00\n"
     ]
    }
   ],
   "source": [
    "print('Начало теста:', orders['date'].min())\n",
    "print('Конец теста:', orders['date'].max())"
   ]
  },
  {
   "cell_type": "markdown",
   "metadata": {},
   "source": [
    "Продолжительность теста составила 1 месяц с 01 августа 2019 до 31 августа 2019.\n",
    "\n",
    "Очень важно также проверить, нет ли в данных пользователей, участвовавших в нескольких группах теста одновременно. Большое количество таких пользователей приведет к искажению результатов теста."
   ]
  },
  {
   "cell_type": "code",
   "execution_count": 20,
   "metadata": {},
   "outputs": [
    {
     "data": {
      "text/plain": [
       "group\n",
       "1        973\n",
       "2         58\n",
       "dtype: int64"
      ]
     },
     "execution_count": 20,
     "metadata": {},
     "output_type": "execute_result"
    }
   ],
   "source": [
    "# сгруппируем данные по пользователям и найдем тех из них,\n",
    "# кто был более чем в одной группе\n",
    "orders.groupby('visitorId').agg({'group':'nunique'}).value_counts()"
   ]
  },
  {
   "cell_type": "markdown",
   "metadata": {},
   "source": [
    "Чуть больше 5% пользователей участвовали в нескольких группах теста одновременно. В связи с небольшим количеством продолжим анализ данных с учётом таких пользователей."
   ]
  },
  {
   "cell_type": "markdown",
   "metadata": {},
   "source": [
    "Рассчитаем кумулятивные данные о заказах и посетителях интернет-магазина."
   ]
  },
  {
   "cell_type": "code",
   "execution_count": 21,
   "metadata": {},
   "outputs": [],
   "source": [
    "# создаем массив уникальных пар значений дат и групп теста\n",
    "datesGroups = orders[['date', 'group']].drop_duplicates()\n",
    "\n",
    "#получим агрегированные кумулятивные по дням данные о заказах\n",
    "ordersAggregated = datesGroups.apply(\n",
    "    lambda x: orders[\n",
    "        np.logical_and(orders['date'] <= x['date'], orders['group'] == x['group'])\n",
    "    ].agg({'date': 'max', 'group': 'max', 'transactionId': 'nunique', 'visitorId': 'nunique', 'revenue': 'sum'}),\n",
    "    axis=1).sort_values(by=['date', 'group'])\n",
    "\n",
    "#получим агрегированные кумулятивные по дням данные о посетителях интернет-магазина\n",
    "visitorsAggregated = datesGroups.apply(\n",
    "    lambda x: visitors[\n",
    "        np.logical_and(visitors['date'] <= x['date'], visitors['group'] == x['group'])\n",
    "    ].agg({'date': 'max', 'group': 'max', 'visitors': 'sum'}),\n",
    "    axis=1).sort_values(by=['date', 'group'])\n",
    "\n",
    "# объединяем кумулятивные данные в одной таблице и присваиваем ее столбцам понятные названия\n",
    "cumulativeData = ordersAggregated.merge(visitorsAggregated, left_on=['date', 'group'], right_on=['date', 'group'])\n",
    "cumulativeData.columns = ['date', 'group', 'orders', 'buyers', 'revenue', 'visitors']\n",
    "\n",
    "# датафрейм с кумулятивным количеством заказов и кумулятивной выручкой по дням в группе А\n",
    "cumulativeRevenueA = cumulativeData[cumulativeData['group']=='A'][['date','revenue', 'orders']]\n",
    "\n",
    "# датафрейм с кумулятивным количеством заказов и кумулятивной выручкой по дням в группе B\n",
    "cumulativeRevenueB = cumulativeData[cumulativeData['group']=='B'][['date','revenue', 'orders']]"
   ]
  },
  {
   "cell_type": "markdown",
   "metadata": {},
   "source": [
    "**4.1. Построим график кумулятивной выручки по группам.**"
   ]
  },
  {
   "cell_type": "code",
   "execution_count": 22,
   "metadata": {},
   "outputs": [
    {
     "data": {
      "image/png": "[encoded data removed]",
      "text/plain": [
       "<Figure size 1200x400 with 1 Axes>"
      ]
     },
     "metadata": {},
     "output_type": "display_data"
    }
   ],
   "source": [
    "plt.figure(figsize=(12,4))\n",
    "\n",
    "# Строим график выручки группы А\n",
    "plt.plot(cumulativeRevenueA['date'], cumulativeRevenueA['revenue'], label='A')\n",
    "\n",
    "# Строим график выручки группы B\n",
    "plt.plot(cumulativeRevenueB['date'], cumulativeRevenueB['revenue'], label='B')\n",
    "\n",
    "plt.title('Кумулятивная выручка по группам')\n",
    "plt.xlabel('Дата')\n",
    "plt.ylabel('Доход')\n",
    "plt.legend();"
   ]
  },
  {
   "cell_type": "markdown",
   "metadata": {},
   "source": [
    "Выручка почти равномерно увеличивается в течение всего теста. В середине теста сегмент В вышел вперед и продолжил лидировать до конца теста. Однако график выручки группы В в одной точке резко растет. Это может сигнализировать о всплесках числа заказов, либо о появлении очень дорогих заказов в выборке. Необходимо выяснить причину данного всплеска. При заключительном анализе аномально большие заказы необходимо будет удалить."
   ]
  },
  {
   "cell_type": "markdown",
   "metadata": {},
   "source": [
    "**4.2. Построим график кумулятивного среднего чека по группам.**"
   ]
  },
  {
   "cell_type": "code",
   "execution_count": 23,
   "metadata": {},
   "outputs": [
    {
     "data": {
      "image/png": "[encoded data removed]",
      "text/plain": [
       "<Figure size 1200x400 with 1 Axes>"
      ]
     },
     "metadata": {},
     "output_type": "display_data"
    }
   ],
   "source": [
    "plt.figure(figsize=(12,4))\n",
    "\n",
    "# делаем расчет и строим график размера среднего чека группы А\n",
    "plt.plot(cumulativeRevenueA['date'], cumulativeRevenueA['revenue']/cumulativeRevenueA['orders'], label='A')\n",
    "\n",
    "# делаем расчет и строим график размера среднего чека группы В\n",
    "plt.plot(cumulativeRevenueB['date'], cumulativeRevenueB['revenue']/cumulativeRevenueB['orders'], label='B')\n",
    "\n",
    "plt.title('Кумулятивный средний чек по группам')\n",
    "plt.xlabel('Дата')\n",
    "plt.ylabel('Сумма')\n",
    "plt.legend();"
   ]
  },
  {
   "cell_type": "markdown",
   "metadata": {},
   "source": [
    "Средний чек тоже становится равномерным ближе к концу теста: для группы A он изменяется незначительно, а для группы В наблюдается его снижение. Однако и здесь виден резкий всплеск по группе В во второй половине теста. Возможно, в группу B попали крупные заказы. Необходимо получить больше данных, чтобы прийти к реальному среднему чеку."
   ]
  },
  {
   "cell_type": "markdown",
   "metadata": {},
   "source": [
    "**4.3. Построим график относительного изменения кумулятивного среднего чека группы B к группе A.**"
   ]
  },
  {
   "cell_type": "code",
   "execution_count": 24,
   "metadata": {},
   "outputs": [],
   "source": [
    "# объединяем кумулятивные данные в разрезе групп в одной таблице\n",
    "mergedCumulativeRevenue = cumulativeRevenueA.merge(\n",
    "    cumulativeRevenueB, left_on='date', right_on='date', how='left', suffixes=['A', 'B'])"
   ]
  },
  {
   "cell_type": "code",
   "execution_count": 25,
   "metadata": {},
   "outputs": [
    {
     "data": {
      "image/png": "[encoded data removed]",
      "text/plain": [
       "<Figure size 1200x400 with 1 Axes>"
      ]
     },
     "metadata": {},
     "output_type": "display_data"
    }
   ],
   "source": [
    "plt.figure(figsize=(12,4))\n",
    "\n",
    "# cтроим отношение средних чеков\n",
    "plt.plot(mergedCumulativeRevenue['date'], (mergedCumulativeRevenue['revenueB']/mergedCumulativeRevenue['ordersB'])/(mergedCumulativeRevenue['revenueA']/mergedCumulativeRevenue['ordersA'])-1)\n",
    "# добавляем ось X\n",
    "plt.axhline(y=0, color='black', linestyle='--')\n",
    "\n",
    "plt.title('Относительное изменение кумулятивного среднего чека группы B к группе A')\n",
    "plt.xlabel('Дата')\n",
    "plt.ylabel('Относительное изменение');"
   ]
  },
  {
   "cell_type": "markdown",
   "metadata": {},
   "source": [
    "Результаты теста значительно и резко менялись в несколько дат. Видимо, именно тогда были совершены аномальные заказы."
   ]
  },
  {
   "cell_type": "markdown",
   "metadata": {},
   "source": [
    "**4.4. Построим график кумулятивного среднего количества заказов на посетителя по группам.**"
   ]
  },
  {
   "cell_type": "markdown",
   "metadata": {},
   "source": [
    "Рассчитаем среднее количество заказов на посетителя по каждой группе."
   ]
  },
  {
   "cell_type": "code",
   "execution_count": 26,
   "metadata": {},
   "outputs": [],
   "source": [
    "# считаем кумулятивное среднее количества заказов на пользователя\n",
    "cumulativeData['avg'] = cumulativeData['orders']/cumulativeData['visitors']\n",
    "\n",
    "# отделяем данные по группе A\n",
    "cumulativeDataA = cumulativeData[cumulativeData['group']=='A']\n",
    "\n",
    "# отделяем данные по группе B\n",
    "cumulativeDataB = cumulativeData[cumulativeData['group']=='B']"
   ]
  },
  {
   "cell_type": "markdown",
   "metadata": {},
   "source": [
    "Теперь можно построить график."
   ]
  },
  {
   "cell_type": "code",
   "execution_count": 27,
   "metadata": {},
   "outputs": [
    {
     "data": {
      "image/png": "[encoded data removed]",
      "text/plain": [
       "<Figure size 1200x400 with 1 Axes>"
      ]
     },
     "metadata": {},
     "output_type": "display_data"
    }
   ],
   "source": [
    "# строим графики\n",
    "plt.figure(figsize=(12,4))\n",
    "plt.plot(cumulativeDataA['date'], cumulativeDataA['avg'], label='A')\n",
    "plt.plot(cumulativeDataB['date'], cumulativeDataB['avg'], label='B')\n",
    "\n",
    "plt.title('Кумулятивное среднее количество заказов на посетителя')\n",
    "plt.xlabel('Дата')\n",
    "plt.ylabel('Cреднее количество заказов на посетителя')\n",
    "plt.legend()\n",
    "# задаем масштаб осей\n",
    "plt.axis([dt.datetime(2019, 8, 1), dt.datetime(2019, 9, 1), 0.028, 0.038]);"
   ]
  },
  {
   "cell_type": "markdown",
   "metadata": {},
   "source": [
    "Кумулятивное среднее количество заказов на посетителя группы В в первой половине теста вырвалось вперёд и зафиксировалось. Данный показатель по группе А просел и также зафиксировался."
   ]
  },
  {
   "cell_type": "markdown",
   "metadata": {},
   "source": [
    "**4.5. Построим график относительного изменения кумулятивного среднего количества заказов на посетителя группы B к группе A.**"
   ]
  },
  {
   "cell_type": "code",
   "execution_count": 28,
   "metadata": {},
   "outputs": [
    {
     "data": {
      "image/png": "[encoded data removed]",
      "text/plain": [
       "<Figure size 1200x400 with 1 Axes>"
      ]
     },
     "metadata": {},
     "output_type": "display_data"
    }
   ],
   "source": [
    "# объединим таблицы с данными\n",
    "mergedCumulativeConversions = cumulativeDataA[['date','avg']].merge(\n",
    "    cumulativeDataB[['date','avg']], left_on='date', right_on='date', how='left', suffixes=['A', 'B'])\n",
    "\n",
    "plt.figure(figsize=(12,4))\n",
    "# строим графики\n",
    "plt.plot(mergedCumulativeConversions['date'], \n",
    "         mergedCumulativeConversions['avgB']/mergedCumulativeConversions['avgA']-1, \n",
    "         label=\"Относительный прирост конверсии группы B относительно группы A\")\n",
    "\n",
    "plt.axhline(y=0, color='black', linestyle='--')\n",
    "plt.axhline(y=0.15, color='grey', linestyle='--')\n",
    "plt.title('Относительное изменение кумулятивного среднего количества заказов на посетителя группы B к группе A')\n",
    "plt.xlabel('Дата')\n",
    "plt.ylabel('Относительное изменение')\n",
    "# задаем масштаб осей\n",
    "plt.axis([dt.datetime(2019, 8, 1), dt.datetime(2019, 9, 1), -0.25, 0.25]);"
   ]
  },
  {
   "cell_type": "markdown",
   "metadata": {},
   "source": [
    "В начале теста группа B значительно проигрывала группе A, затем вырвалась вперёд и зафиксоровалась на уровне прироста примерно 14%."
   ]
  },
  {
   "cell_type": "markdown",
   "metadata": {},
   "source": [
    "**4.6. Построим точечный график количества заказов по пользователям.**\n",
    "\n",
    "Сначала подготовим данные."
   ]
  },
  {
   "cell_type": "code",
   "execution_count": 29,
   "metadata": {},
   "outputs": [],
   "source": [
    "# сформируем таблицу, в которой будут рассчитано количество заказов для каждого пользователя\n",
    "ordersByUsers = (orders.groupby('visitorId', as_index=False).agg({'transactionId': 'nunique'}))\n",
    "ordersByUsers.columns = ['userId', 'orders']"
   ]
  },
  {
   "cell_type": "markdown",
   "metadata": {},
   "source": [
    "Теперь построим график."
   ]
  },
  {
   "cell_type": "code",
   "execution_count": 30,
   "metadata": {},
   "outputs": [
    {
     "data": {
      "image/png": "[encoded data removed]",
      "text/plain": [
       "<Figure size 640x480 with 1 Axes>"
      ]
     },
     "metadata": {},
     "output_type": "display_data"
    }
   ],
   "source": [
    "x_values = pd.Series(range(0,len(ordersByUsers)))\n",
    "# построим график\n",
    "plt.scatter(x_values, ordersByUsers['orders'])\n",
    "\n",
    "plt.title('Количество заказов по пользователям')\n",
    "plt.xlabel('Количество пользователей')\n",
    "plt.ylabel('Количество заказов');"
   ]
  },
  {
   "cell_type": "markdown",
   "metadata": {},
   "source": [
    "Большинство покупателей заказывали только один раз. Тех, кто сделал 2 заказа значительно меньше, а более 2-х - вообще незначительное количество. Однако точная доля пользователей с большим количеством заказов не ясна — непонятно, считать их аномалиями или нет."
   ]
  },
  {
   "cell_type": "markdown",
   "metadata": {},
   "source": [
    "**4.7. Посчитаем 95-й и 99-й перцентили количества заказов на пользователя. Установим границу для определения аномальных пользователей.**"
   ]
  },
  {
   "cell_type": "code",
   "execution_count": 31,
   "metadata": {},
   "outputs": [
    {
     "data": {
      "text/plain": [
       "array([2., 4.])"
      ]
     },
     "execution_count": 31,
     "metadata": {},
     "output_type": "execute_result"
    }
   ],
   "source": [
    "np.percentile(ordersByUsers['orders'], [95, 99])"
   ]
  },
  {
   "cell_type": "markdown",
   "metadata": {},
   "source": [
    "Не более 5% пользователей оформляли более 2х заказов. И только 1% пользователей заказывали более 4х раз.\n",
    "\n",
    "Примем за аномальных пользователей тех, кто совершил более 2 заказов. Так мы уберём 5% пользователей с наибольшим числом заказов."
   ]
  },
  {
   "cell_type": "markdown",
   "metadata": {},
   "source": [
    "**4.8. Построим точечный график стоимостей заказов.**"
   ]
  },
  {
   "cell_type": "code",
   "execution_count": 32,
   "metadata": {},
   "outputs": [
    {
     "data": {
      "image/png": "[encoded data removed]",
      "text/plain": [
       "<Figure size 640x480 with 1 Axes>"
      ]
     },
     "metadata": {},
     "output_type": "display_data"
    }
   ],
   "source": [
    "# серия из чисел от 0 до количества наблюдений в ordersByUsers\n",
    "x_values = pd.Series(range(0, len(orders['revenue'])))\n",
    "# построим график\n",
    "plt.scatter(x_values, orders['revenue'])\n",
    "\n",
    "plt.title('Стоимость заказов')\n",
    "plt.xlabel('Количество пользователей')\n",
    "plt.ylabel('Стоимость заказов');"
   ]
  },
  {
   "cell_type": "markdown",
   "metadata": {},
   "source": [
    "На графике видно, что были очень дорогие заказы, но из было мало. Построим аналогичный  график без учета таких заказов."
   ]
  },
  {
   "cell_type": "code",
   "execution_count": 33,
   "metadata": {},
   "outputs": [
    {
     "data": {
      "image/png": "[encoded data removed]",
      "text/plain": [
       "<Figure size 640x480 with 1 Axes>"
      ]
     },
     "metadata": {},
     "output_type": "display_data"
    }
   ],
   "source": [
    "# сделаем срез данных, удалив заказы, стоистью более 25 000 руб.\n",
    "orders_for_plot = orders.query('revenue < 25000')\n",
    "# серия из чисел от 0 до количества наблюдений в ordersByUsers\n",
    "x_values = pd.Series(range(0, len(orders_for_plot['revenue'])))\n",
    "# построим график\n",
    "plt.scatter(x_values, orders_for_plot['revenue'])\n",
    "\n",
    "plt.title('Стоимость заказов (без учета сверхдорогих заказов)')\n",
    "plt.xlabel('Количество пользователей')\n",
    "plt.ylabel('Стоимость заказов');"
   ]
  },
  {
   "cell_type": "markdown",
   "metadata": {},
   "source": [
    "Стоимость основной части заказов находилась в пределах 5 000 руб. \n",
    "\n",
    "Далее необходимо определить долю дорогих заказов."
   ]
  },
  {
   "cell_type": "markdown",
   "metadata": {},
   "source": [
    "**4.9. Посчитаем 95-й и 99-й перцентили стоимости заказов. Установим границу для определения аномальных заказов.**"
   ]
  },
  {
   "cell_type": "code",
   "execution_count": 34,
   "metadata": {},
   "outputs": [
    {
     "name": "stdout",
     "output_type": "stream",
     "text": [
      "[28000.  58233.2]\n"
     ]
    }
   ],
   "source": [
    "print(np.percentile(orders['revenue'], [95, 99]))"
   ]
  },
  {
   "cell_type": "markdown",
   "metadata": {},
   "source": [
    "Не более 5% заказов были со стоимостью более 28 000 рублей, и не более 1% дороже 58 233 рублей.\n",
    "\n",
    "Примем за аномальные заказы те, стоимость которых составила больше 28 000 рублей. Так мы уберём 5% заказов с наибольшей стоимостью."
   ]
  },
  {
   "cell_type": "markdown",
   "metadata": {},
   "source": [
    "**4.10. Посчитаем статистическую значимость различий в среднем количестве заказов на посетителя между группами между группами по «сырым» данным.**\n",
    "\n",
    "Для рассчета статистической значимости различия среднего количества заказов по результатам теста применим тест Манна-Уитни. Данный тест будет применен в связи с тем, что в данных есть большие (по сравнению с нормальным распределением) выбросы. В такой ситуации алгебраические метрики работают плохо и предпочтительнее использовать параметрические.\n",
    "\n",
    "Сформулируем гипотезу. Нулевая: различий в среднем количестве заказов на посетителя между группами нет. Альтернативная: различия в среднем  количестве заказов на посетителя между группами есть.\n",
    "\n",
    "Для анализа здесь и далее будем использовать уровень статистической значимости в размере 5%.\n",
    "\n",
    "Для начала подготовим общие данные."
   ]
  },
  {
   "cell_type": "code",
   "execution_count": 35,
   "metadata": {},
   "outputs": [],
   "source": [
    "data = visitors.pivot_table(index = 'date', columns = 'group', values = 'visitors')\n",
    "data.columns = ['visitorsPerDateA', 'visitorsPerDateB']"
   ]
  },
  {
   "cell_type": "markdown",
   "metadata": {},
   "source": [
    "Подготовим данные для расчета статистической значимости различий в среднем количестве заказов на посетителя между группами между группами по «сырым» данным."
   ]
  },
  {
   "cell_type": "code",
   "execution_count": 36,
   "metadata": {},
   "outputs": [],
   "source": [
    "# создадим таблицу с общим количеством заказов по каждому пользователю по группе А и присваиваем ее столбцам понятные названия\n",
    "ordersByUsersA = (orders[orders['group'] == 'A'].groupby('visitorId', as_index=False).agg({'transactionId': pd.Series.nunique}))\n",
    "ordersByUsersA.columns = ['userId', 'orders']\n",
    "\n",
    "# создадим таблицу с общим количеством заказов по каждому пользователю по группе В и присваиваем ее столбцам понятные названия\n",
    "ordersByUsersB = (orders[orders['group'] == 'B'].groupby('visitorId', as_index=False).agg({'transactionId': pd.Series.nunique}))\n",
    "ordersByUsersB.columns = ['userId', 'orders'] \n",
    "\n",
    "# по группам А и В создадим таблицы, в которых будут указаны пользователи и общее количество их заказов. \n",
    "# тем, кто ничего не заказал, будут соответствовать нули\n",
    "sampleA = pd.concat([ordersByUsersA['orders'],pd.Series\n",
    "                     (0, index=np.arange(data['visitorsPerDateA'].sum() - len(ordersByUsersA['orders'])), name='orders')],axis=0)\n",
    "sampleB = pd.concat([ordersByUsersB['orders'],pd.Series\n",
    "                     (0, index=np.arange(data['visitorsPerDateB'].sum() - len(ordersByUsersB['orders'])), name='orders')],axis=0)"
   ]
  },
  {
   "cell_type": "markdown",
   "metadata": {},
   "source": [
    "Произведем расчет p-value и относительного различия между группами."
   ]
  },
  {
   "cell_type": "code",
   "execution_count": 37,
   "metadata": {},
   "outputs": [
    {
     "name": "stdout",
     "output_type": "stream",
     "text": [
      "p-value: 0.017\n",
      "Относительное изменение среднего В к среднему А: 0.138\n"
     ]
    }
   ],
   "source": [
    "# произведем расчет p-value\n",
    "print('p-value:', \"{0:.3f}\".format(stats.mannwhitneyu(sampleA, sampleB)[1]))\n",
    "# произведем расчет  относительного различия между группами\n",
    "print('Относительное изменение среднего В к среднему А:', \"{0:.3f}\".format(sampleB.mean() / sampleA.mean() - 1))"
   ]
  },
  {
   "cell_type": "markdown",
   "metadata": {},
   "source": [
    "Р-value значительно меньше 0.05, поэтому нулевую гипотезу отвергаем. Анализ \"сырых\" данных показывает, что в среднем количестве заказов на посетителя между группами есть статистически значимые различия. Относительный прирост среднего группы B к среднему группы А равен 13.8%."
   ]
  },
  {
   "cell_type": "markdown",
   "metadata": {},
   "source": [
    "**4.11. Посчитаем статистическую значимость различий в среднем чеке заказа между группами по «сырым» данным**\n",
    "\n",
    "Сформулируем гипотезу. Нулевая: различий в среднем чеке заказов между группами нет. Альтернативная: различия в среднем  чеке заказов между группами есть."
   ]
  },
  {
   "cell_type": "code",
   "execution_count": 38,
   "metadata": {},
   "outputs": [
    {
     "name": "stdout",
     "output_type": "stream",
     "text": [
      "p-value: 0.729\n",
      "Относительное изменение среднего В к среднему А: 0.259\n"
     ]
    }
   ],
   "source": [
    "# произведем расчет p-value\n",
    "print('p-value:', '{0:.3f}'.format(stats.mannwhitneyu\n",
    "                                   (orders[orders['group']=='A']['revenue'], orders[orders['group']=='B']['revenue'])[1]))\n",
    "# произведем расчет  относительного различия между группами\n",
    "print('Относительное изменение среднего В к среднему А:', \n",
    "      '{0:.3f}'.format(orders[orders['group']=='B']['revenue'].mean()/orders[orders['group']=='A']['revenue'].mean()-1)) "
   ]
  },
  {
   "cell_type": "markdown",
   "metadata": {},
   "source": [
    "P-value значительно больше 0.05. Значит, причин отвергать нулевую гипотезу и считать, что в среднем чеке есть различия, нет. Впрочем, средний чек группы B значительно выше среднего чека группы A - почти на 26%.\n",
    "\n",
    "Далее необходимо провести анализ без аномалий."
   ]
  },
  {
   "cell_type": "markdown",
   "metadata": {},
   "source": [
    "**4.12. Посчитаем статистическую значимость различий в среднем количестве заказов на посетителя между группами между группами по «очищенным» данным.**\n",
    "\n",
    "Уберем из анализируемых данных "
   ]
  },
  {
   "cell_type": "code",
   "execution_count": 39,
   "metadata": {},
   "outputs": [],
   "source": [
    "# cделаем срезы пользователей с более чем двумя заказами\n",
    "usersWithManyOrders = pd.concat([ordersByUsersA[ordersByUsersA['orders'] > np.percentile(ordersByUsers['orders'], 95)]['userId'], \n",
    "                                 ordersByUsersB[ordersByUsersB['orders'] > np.percentile(ordersByUsers['orders'], 95)]['userId']], axis=0)\n",
    "\n",
    "# cделаем срезы заказов стоимостью более 28 000 рублей\n",
    "usersWithExpensiveOrders = orders[orders['revenue'] > np.percentile(orders['revenue'], 95)]['visitorId']\n",
    "\n",
    "# объединим два среза создав перечень уникальных комбинаций пользователей с большим количеством заказов \n",
    "# и пользователей с аномально дорогими заказами\n",
    "abnormalUsers = (pd.concat([usersWithManyOrders, usersWithExpensiveOrders], axis=0).drop_duplicates().sort_values())"
   ]
  },
  {
   "cell_type": "markdown",
   "metadata": {},
   "source": [
    "Пределим количество исключаемых покупателей."
   ]
  },
  {
   "cell_type": "code",
   "execution_count": 40,
   "metadata": {},
   "outputs": [
    {
     "name": "stdout",
     "output_type": "stream",
     "text": [
      "Количество исключаемых покупателей: 74\n",
      "Доля исключаемых покупателей, %: 7.18\n"
     ]
    }
   ],
   "source": [
    "print('Количество исключаемых покупателей:', abnormalUsers.count())\n",
    "print('Доля исключаемых покупателей, %:', (abnormalUsers.count() / len(orders['visitorId'].unique()) * 100).round(2))"
   ]
  },
  {
   "cell_type": "markdown",
   "metadata": {},
   "source": [
    "В тесте учавствовало 74 пользователя с большим количеством заказов и/или пользователей с аномально дорогими заказами. Таким образом мы исключили примерно 7.2% покупателей."
   ]
  },
  {
   "cell_type": "code",
   "execution_count": 41,
   "metadata": {},
   "outputs": [],
   "source": [
    "# по группам А и В создадим таблицы, в которых будут указаны пользователи и общее количество их заказов. \n",
    "# исключим из них пользователей и большим количеством заказов и пользователей с аномально дорогими заказами\n",
    "sampleAFiltered = pd.concat([ordersByUsersA[np.logical_not(ordersByUsersA['userId'].isin(abnormalUsers))]['orders'],\n",
    "        pd.Series(0, index=np.arange(data['visitorsPerDateA'].sum() - len(ordersByUsersA['orders'])), name='orders')], axis=0)\n",
    "\n",
    "sampleBFiltered = pd.concat([ordersByUsersB[np.logical_not(ordersByUsersB['userId'].isin(abnormalUsers))]['orders'],\n",
    "        pd.Series(0, index=np.arange(data['visitorsPerDateB'].sum() - len(ordersByUsersB['orders'])), name='orders')], axis=0) "
   ]
  },
  {
   "cell_type": "markdown",
   "metadata": {},
   "source": [
    "Произведем расчет p-value и относительного различия между группами по «очищенным» данным."
   ]
  },
  {
   "cell_type": "code",
   "execution_count": 42,
   "metadata": {},
   "outputs": [
    {
     "name": "stdout",
     "output_type": "stream",
     "text": [
      "p-value: 0.013\n",
      "Относительное изменение среднего В к среднему А: 0.173\n"
     ]
    }
   ],
   "source": [
    "# произведем расчет p-value\n",
    "print('p-value:', '{0:.3f}'.format(stats.mannwhitneyu(sampleAFiltered, sampleBFiltered)[1]))\n",
    "# произведем расчет  относительного различия между группами\n",
    "print('Относительное изменение среднего В к среднему А:', '{0:.3f}'.format(sampleBFiltered.mean()/sampleAFiltered.mean()-1)) "
   ]
  },
  {
   "cell_type": "markdown",
   "metadata": {},
   "source": [
    "P-value практически не изменился, но и разница по среднему количеству заказов на посетителя между сегментами увеличилась с 13,8% до 17,3%."
   ]
  },
  {
   "cell_type": "markdown",
   "metadata": {},
   "source": [
    "**4.13. Посчитаем статистическую значимость различий в среднем чеке заказа между группами по «очищенным» данным.**"
   ]
  },
  {
   "cell_type": "code",
   "execution_count": 43,
   "metadata": {},
   "outputs": [
    {
     "name": "stdout",
     "output_type": "stream",
     "text": [
      "p-value: 0.738\n",
      "Относительное изменение среднего В к среднему А: -0.020\n"
     ]
    }
   ],
   "source": [
    "# произведем расчет p-value\n",
    "print('p-value:', '{0:.3f}'.format(stats.mannwhitneyu(orders[np.logical_and(orders['group'] == 'A', np.logical_not(\n",
    "    orders['visitorId'].isin(abnormalUsers)))]['revenue'], orders[np.logical_and(orders['group'] == 'B', np.logical_not(\n",
    "    orders['visitorId'].isin(abnormalUsers)))]['revenue'])[1]))\n",
    "# произведем расчет  относительного различия между группами\n",
    "print('Относительное изменение среднего В к среднему А:', \"{0:.3f}\".format(orders[np.logical_and(orders['group'] == 'B', np.logical_not(\n",
    "    orders['visitorId'].isin(abnormalUsers)))]['revenue'].mean() / orders[np.logical_and(orders['group'] == 'A', np.logical_not(\n",
    "    orders['visitorId'].isin(abnormalUsers)))]['revenue'].mean() - 1))"
   ]
  },
  {
   "cell_type": "markdown",
   "metadata": {},
   "source": [
    "P-value практически не изменился, но и разница между сегментами сократилась с 26% до -2%."
   ]
  },
  {
   "cell_type": "markdown",
   "metadata": {},
   "source": [
    "<a id=\"5\"></a> \n",
    "### Вывод\n",
    "\n",
    "Результаты проведенного A/B-теста показывают:\n",
    "\n",
    "- Есть статистически значимое различие в среднем количестве заказов на посетителя  между группами как по «сырым» данным, так и после фильтрации аномалий.\n",
    "- Нет статистически значимого различия по среднему чеку между группами ни по «сырым», ни по данным после фильтрации аномалий.\n",
    "- График различия конверсии между группами сообщает, что результаты группы B лучше группы A: имеют тенденцию к росту, либо зафиксировались около среднего значения.\n",
    "- График различия среднего чека колеблется. Именно он позволил найти аномалии. Сделать из этого графика определённые выводы нельзя.\n",
    "\n",
    "Исходя из обнаруженных фактов, тест следует остановить и зафиксировать победу группы В."
   ]
  }
 ],
 "metadata": {
  "ExecuteTimeLog": [
   {
    "duration": 73,
    "start_time": "2023-04-11T11:41:56.032Z"
   },
   {
    "duration": 420,
    "start_time": "2023-04-11T11:42:29.944Z"
   },
   {
    "duration": 62,
    "start_time": "2023-04-11T11:42:30.599Z"
   },
   {
    "duration": 90,
    "start_time": "2023-04-11T11:43:14.931Z"
   },
   {
    "duration": 51,
    "start_time": "2023-04-11T11:43:52.433Z"
   },
   {
    "duration": 59,
    "start_time": "2023-04-11T11:44:05.100Z"
   },
   {
    "duration": 52,
    "start_time": "2023-04-11T11:45:25.873Z"
   },
   {
    "duration": 22,
    "start_time": "2023-04-11T11:45:40.343Z"
   },
   {
    "duration": 35,
    "start_time": "2023-04-11T11:46:11.930Z"
   },
   {
    "duration": 40,
    "start_time": "2023-04-11T11:46:49.772Z"
   },
   {
    "duration": 18,
    "start_time": "2023-04-11T11:47:19.420Z"
   },
   {
    "duration": 9,
    "start_time": "2023-04-11T11:47:44.915Z"
   },
   {
    "duration": 8,
    "start_time": "2023-04-11T11:48:09.259Z"
   },
   {
    "duration": 14,
    "start_time": "2023-04-11T11:48:41.852Z"
   },
   {
    "duration": 17,
    "start_time": "2023-04-11T11:49:04.124Z"
   },
   {
    "duration": 16,
    "start_time": "2023-04-11T11:49:27.381Z"
   },
   {
    "duration": 5,
    "start_time": "2023-04-11T11:51:13.682Z"
   },
   {
    "duration": 12,
    "start_time": "2023-04-11T11:51:23.020Z"
   },
   {
    "duration": 7,
    "start_time": "2023-04-11T11:53:04.679Z"
   },
   {
    "duration": 16,
    "start_time": "2023-04-11T11:53:20.226Z"
   },
   {
    "duration": 15,
    "start_time": "2023-04-11T11:53:31.415Z"
   },
   {
    "duration": 5,
    "start_time": "2023-04-11T11:53:39.438Z"
   },
   {
    "duration": 5,
    "start_time": "2023-04-11T11:53:54.968Z"
   },
   {
    "duration": 50,
    "start_time": "2023-04-11T11:56:36.394Z"
   },
   {
    "duration": 5,
    "start_time": "2023-04-11T11:59:31.219Z"
   },
   {
    "duration": 9,
    "start_time": "2023-04-11T11:59:46.543Z"
   },
   {
    "duration": 8,
    "start_time": "2023-04-11T12:01:02.770Z"
   },
   {
    "duration": 10,
    "start_time": "2023-04-11T12:01:10.852Z"
   },
   {
    "duration": 4,
    "start_time": "2023-04-11T12:02:17.790Z"
   },
   {
    "duration": 12,
    "start_time": "2023-04-11T12:02:24.949Z"
   },
   {
    "duration": 31,
    "start_time": "2023-04-11T12:02:48.310Z"
   },
   {
    "duration": 7,
    "start_time": "2023-04-11T12:03:21.237Z"
   },
   {
    "duration": 14,
    "start_time": "2023-04-11T12:03:33.598Z"
   },
   {
    "duration": 7,
    "start_time": "2023-04-11T12:04:12.734Z"
   },
   {
    "duration": 10,
    "start_time": "2023-04-11T12:05:10.331Z"
   },
   {
    "duration": 62,
    "start_time": "2023-04-11T12:11:15.922Z"
   },
   {
    "duration": 404,
    "start_time": "2023-04-11T12:17:17.859Z"
   },
   {
    "duration": 603,
    "start_time": "2023-04-11T12:17:23.228Z"
   },
   {
    "duration": 20,
    "start_time": "2023-04-11T12:17:23.833Z"
   },
   {
    "duration": 27,
    "start_time": "2023-04-11T12:17:23.855Z"
   },
   {
    "duration": 13,
    "start_time": "2023-04-11T12:17:23.884Z"
   },
   {
    "duration": 12,
    "start_time": "2023-04-11T12:17:23.898Z"
   },
   {
    "duration": 12,
    "start_time": "2023-04-11T12:17:23.912Z"
   },
   {
    "duration": 14,
    "start_time": "2023-04-11T12:17:23.925Z"
   },
   {
    "duration": 16,
    "start_time": "2023-04-11T12:17:23.941Z"
   },
   {
    "duration": 34,
    "start_time": "2023-04-11T12:17:23.960Z"
   },
   {
    "duration": 18,
    "start_time": "2023-04-11T12:17:23.997Z"
   },
   {
    "duration": 6,
    "start_time": "2023-04-11T12:17:24.018Z"
   },
   {
    "duration": 6,
    "start_time": "2023-04-11T12:17:24.026Z"
   },
   {
    "duration": 11,
    "start_time": "2023-04-11T12:17:24.034Z"
   },
   {
    "duration": 15,
    "start_time": "2023-04-11T12:17:24.047Z"
   },
   {
    "duration": 17,
    "start_time": "2023-04-11T12:17:24.084Z"
   },
   {
    "duration": 9,
    "start_time": "2023-04-11T12:19:06.839Z"
   },
   {
    "duration": 98,
    "start_time": "2023-04-11T12:21:30.720Z"
   },
   {
    "duration": 28,
    "start_time": "2023-04-11T12:21:58.026Z"
   },
   {
    "duration": 572,
    "start_time": "2023-04-11T12:23:42.724Z"
   },
   {
    "duration": 552,
    "start_time": "2023-04-11T12:23:53.818Z"
   },
   {
    "duration": 296,
    "start_time": "2023-04-11T12:25:27.490Z"
   },
   {
    "duration": 197,
    "start_time": "2023-04-11T12:25:29.505Z"
   },
   {
    "duration": 478,
    "start_time": "2023-04-11T12:26:11.750Z"
   },
   {
    "duration": 204,
    "start_time": "2023-04-11T12:26:38.220Z"
   },
   {
    "duration": 606,
    "start_time": "2023-04-11T12:26:45.724Z"
   },
   {
    "duration": 21,
    "start_time": "2023-04-11T12:26:46.332Z"
   },
   {
    "duration": 27,
    "start_time": "2023-04-11T12:26:46.355Z"
   },
   {
    "duration": 12,
    "start_time": "2023-04-11T12:26:46.385Z"
   },
   {
    "duration": 12,
    "start_time": "2023-04-11T12:26:46.398Z"
   },
   {
    "duration": 8,
    "start_time": "2023-04-11T12:26:46.411Z"
   },
   {
    "duration": 29,
    "start_time": "2023-04-11T12:26:46.420Z"
   },
   {
    "duration": 34,
    "start_time": "2023-04-11T12:26:46.451Z"
   },
   {
    "duration": 17,
    "start_time": "2023-04-11T12:26:46.487Z"
   },
   {
    "duration": 31,
    "start_time": "2023-04-11T12:26:46.506Z"
   },
   {
    "duration": 20,
    "start_time": "2023-04-11T12:26:46.539Z"
   },
   {
    "duration": 14,
    "start_time": "2023-04-11T12:26:46.561Z"
   },
   {
    "duration": 19,
    "start_time": "2023-04-11T12:26:46.577Z"
   },
   {
    "duration": 25,
    "start_time": "2023-04-11T12:26:46.598Z"
   },
   {
    "duration": 11,
    "start_time": "2023-04-11T12:26:46.624Z"
   },
   {
    "duration": 287,
    "start_time": "2023-04-11T12:26:46.637Z"
   },
   {
    "duration": 288,
    "start_time": "2023-04-11T12:26:46.926Z"
   },
   {
    "duration": 206,
    "start_time": "2023-04-11T12:26:47.216Z"
   },
   {
    "duration": 178,
    "start_time": "2023-04-11T12:27:36.667Z"
   },
   {
    "duration": 231,
    "start_time": "2023-04-11T12:29:06.637Z"
   },
   {
    "duration": 199,
    "start_time": "2023-04-11T12:29:14.532Z"
   },
   {
    "duration": 188,
    "start_time": "2023-04-11T12:29:22.165Z"
   },
   {
    "duration": 271,
    "start_time": "2023-04-11T12:30:10.294Z"
   },
   {
    "duration": 289,
    "start_time": "2023-04-11T12:30:48.293Z"
   },
   {
    "duration": 274,
    "start_time": "2023-04-11T12:31:43.544Z"
   },
   {
    "duration": 177,
    "start_time": "2023-04-11T12:31:46.949Z"
   },
   {
    "duration": 663,
    "start_time": "2023-04-11T12:31:53.442Z"
   },
   {
    "duration": 23,
    "start_time": "2023-04-11T12:31:54.107Z"
   },
   {
    "duration": 30,
    "start_time": "2023-04-11T12:31:54.133Z"
   },
   {
    "duration": 13,
    "start_time": "2023-04-11T12:31:54.166Z"
   },
   {
    "duration": 17,
    "start_time": "2023-04-11T12:31:54.181Z"
   },
   {
    "duration": 11,
    "start_time": "2023-04-11T12:31:54.201Z"
   },
   {
    "duration": 11,
    "start_time": "2023-04-11T12:31:54.214Z"
   },
   {
    "duration": 20,
    "start_time": "2023-04-11T12:31:54.227Z"
   },
   {
    "duration": 11,
    "start_time": "2023-04-11T12:31:54.249Z"
   },
   {
    "duration": 24,
    "start_time": "2023-04-11T12:31:54.262Z"
   },
   {
    "duration": 5,
    "start_time": "2023-04-11T12:31:54.288Z"
   },
   {
    "duration": 9,
    "start_time": "2023-04-11T12:31:54.295Z"
   },
   {
    "duration": 5,
    "start_time": "2023-04-11T12:31:54.306Z"
   },
   {
    "duration": 13,
    "start_time": "2023-04-11T12:31:54.312Z"
   },
   {
    "duration": 12,
    "start_time": "2023-04-11T12:31:54.326Z"
   },
   {
    "duration": 311,
    "start_time": "2023-04-11T12:31:54.339Z"
   },
   {
    "duration": 284,
    "start_time": "2023-04-11T12:31:54.652Z"
   },
   {
    "duration": 184,
    "start_time": "2023-04-11T12:31:54.938Z"
   },
   {
    "duration": 179,
    "start_time": "2023-04-11T12:33:27.552Z"
   },
   {
    "duration": 659,
    "start_time": "2023-04-11T12:33:54.608Z"
   },
   {
    "duration": 21,
    "start_time": "2023-04-11T12:33:55.269Z"
   },
   {
    "duration": 28,
    "start_time": "2023-04-11T12:33:55.292Z"
   },
   {
    "duration": 12,
    "start_time": "2023-04-11T12:33:55.322Z"
   },
   {
    "duration": 12,
    "start_time": "2023-04-11T12:33:55.336Z"
   },
   {
    "duration": 24,
    "start_time": "2023-04-11T12:33:55.349Z"
   },
   {
    "duration": 10,
    "start_time": "2023-04-11T12:33:55.375Z"
   },
   {
    "duration": 24,
    "start_time": "2023-04-11T12:33:55.388Z"
   },
   {
    "duration": 15,
    "start_time": "2023-04-11T12:33:55.414Z"
   },
   {
    "duration": 11,
    "start_time": "2023-04-11T12:33:55.433Z"
   },
   {
    "duration": 5,
    "start_time": "2023-04-11T12:33:55.445Z"
   },
   {
    "duration": 8,
    "start_time": "2023-04-11T12:33:55.451Z"
   },
   {
    "duration": 7,
    "start_time": "2023-04-11T12:33:55.492Z"
   },
   {
    "duration": 16,
    "start_time": "2023-04-11T12:33:55.502Z"
   },
   {
    "duration": 11,
    "start_time": "2023-04-11T12:33:55.519Z"
   },
   {
    "duration": 346,
    "start_time": "2023-04-11T12:33:55.531Z"
   },
   {
    "duration": 293,
    "start_time": "2023-04-11T12:33:55.879Z"
   },
   {
    "duration": 207,
    "start_time": "2023-04-11T12:33:56.174Z"
   },
   {
    "duration": 256,
    "start_time": "2023-04-11T12:35:03.837Z"
   },
   {
    "duration": 308,
    "start_time": "2023-04-11T12:35:13.144Z"
   },
   {
    "duration": 293,
    "start_time": "2023-04-11T12:35:21.258Z"
   },
   {
    "duration": 171,
    "start_time": "2023-04-11T12:36:47.266Z"
   },
   {
    "duration": 81,
    "start_time": "2023-04-11T12:42:31.773Z"
   },
   {
    "duration": 121,
    "start_time": "2023-04-11T12:42:50.645Z"
   },
   {
    "duration": 125,
    "start_time": "2023-04-11T12:42:57.962Z"
   },
   {
    "duration": 113,
    "start_time": "2023-04-11T12:43:51.417Z"
   },
   {
    "duration": 117,
    "start_time": "2023-04-11T12:44:06.661Z"
   },
   {
    "duration": 5,
    "start_time": "2023-04-11T12:44:34.006Z"
   },
   {
    "duration": 150,
    "start_time": "2023-04-11T12:47:03.815Z"
   },
   {
    "duration": 133,
    "start_time": "2023-04-11T12:47:14.359Z"
   },
   {
    "duration": 127,
    "start_time": "2023-04-11T12:48:18.008Z"
   },
   {
    "duration": 163,
    "start_time": "2023-04-11T12:48:28.249Z"
   },
   {
    "duration": 6,
    "start_time": "2023-04-11T12:48:57.393Z"
   },
   {
    "duration": 679,
    "start_time": "2023-04-11T12:52:53.515Z"
   },
   {
    "duration": 21,
    "start_time": "2023-04-11T12:52:54.196Z"
   },
   {
    "duration": 28,
    "start_time": "2023-04-11T12:52:54.219Z"
   },
   {
    "duration": 13,
    "start_time": "2023-04-11T12:52:54.249Z"
   },
   {
    "duration": 13,
    "start_time": "2023-04-11T12:52:54.264Z"
   },
   {
    "duration": 9,
    "start_time": "2023-04-11T12:52:54.279Z"
   },
   {
    "duration": 10,
    "start_time": "2023-04-11T12:52:54.290Z"
   },
   {
    "duration": 13,
    "start_time": "2023-04-11T12:52:54.301Z"
   },
   {
    "duration": 10,
    "start_time": "2023-04-11T12:52:54.315Z"
   },
   {
    "duration": 11,
    "start_time": "2023-04-11T12:52:54.329Z"
   },
   {
    "duration": 5,
    "start_time": "2023-04-11T12:52:54.341Z"
   },
   {
    "duration": 39,
    "start_time": "2023-04-11T12:52:54.347Z"
   },
   {
    "duration": 4,
    "start_time": "2023-04-11T12:52:54.388Z"
   },
   {
    "duration": 13,
    "start_time": "2023-04-11T12:52:54.394Z"
   },
   {
    "duration": 10,
    "start_time": "2023-04-11T12:52:54.409Z"
   },
   {
    "duration": 306,
    "start_time": "2023-04-11T12:52:54.421Z"
   },
   {
    "duration": 257,
    "start_time": "2023-04-11T12:52:54.729Z"
   },
   {
    "duration": 178,
    "start_time": "2023-04-11T12:52:54.988Z"
   },
   {
    "duration": 298,
    "start_time": "2023-04-11T12:52:55.168Z"
   },
   {
    "duration": 172,
    "start_time": "2023-04-11T12:52:55.468Z"
   },
   {
    "duration": 137,
    "start_time": "2023-04-11T12:52:55.642Z"
   },
   {
    "duration": 110,
    "start_time": "2023-04-11T12:52:55.786Z"
   },
   {
    "duration": 4,
    "start_time": "2023-04-11T12:52:55.898Z"
   },
   {
    "duration": 129,
    "start_time": "2023-04-11T12:52:55.904Z"
   },
   {
    "duration": 4,
    "start_time": "2023-04-11T12:52:56.036Z"
   },
   {
    "duration": 33,
    "start_time": "2023-04-11T13:36:48.283Z"
   },
   {
    "duration": 10,
    "start_time": "2023-04-11T13:39:10.751Z"
   },
   {
    "duration": 52,
    "start_time": "2023-04-11T13:39:34.213Z"
   },
   {
    "duration": 46,
    "start_time": "2023-04-11T13:39:54.556Z"
   },
   {
    "duration": 13,
    "start_time": "2023-04-11T13:40:01.007Z"
   },
   {
    "duration": 11,
    "start_time": "2023-04-11T13:41:41.799Z"
   },
   {
    "duration": 14,
    "start_time": "2023-04-11T13:42:38.183Z"
   },
   {
    "duration": 11,
    "start_time": "2023-04-11T13:42:46.551Z"
   },
   {
    "duration": 655,
    "start_time": "2023-04-11T13:43:30.638Z"
   },
   {
    "duration": 26,
    "start_time": "2023-04-11T13:43:31.295Z"
   },
   {
    "duration": 28,
    "start_time": "2023-04-11T13:43:31.323Z"
   },
   {
    "duration": 20,
    "start_time": "2023-04-11T13:43:31.353Z"
   },
   {
    "duration": 57,
    "start_time": "2023-04-11T13:43:31.375Z"
   },
   {
    "duration": 56,
    "start_time": "2023-04-11T13:43:31.433Z"
   },
   {
    "duration": 26,
    "start_time": "2023-04-11T13:43:31.491Z"
   },
   {
    "duration": 30,
    "start_time": "2023-04-11T13:43:31.519Z"
   },
   {
    "duration": 16,
    "start_time": "2023-04-11T13:43:31.551Z"
   },
   {
    "duration": 42,
    "start_time": "2023-04-11T13:43:31.570Z"
   },
   {
    "duration": 14,
    "start_time": "2023-04-11T13:43:31.614Z"
   },
   {
    "duration": 47,
    "start_time": "2023-04-11T13:43:31.630Z"
   },
   {
    "duration": 34,
    "start_time": "2023-04-11T13:43:31.679Z"
   },
   {
    "duration": 49,
    "start_time": "2023-04-11T13:43:31.714Z"
   },
   {
    "duration": 22,
    "start_time": "2023-04-11T13:43:31.765Z"
   },
   {
    "duration": 319,
    "start_time": "2023-04-11T13:43:31.790Z"
   },
   {
    "duration": 277,
    "start_time": "2023-04-11T13:43:32.112Z"
   },
   {
    "duration": 215,
    "start_time": "2023-04-11T13:43:32.391Z"
   },
   {
    "duration": 307,
    "start_time": "2023-04-11T13:43:32.608Z"
   },
   {
    "duration": 199,
    "start_time": "2023-04-11T13:43:32.917Z"
   },
   {
    "duration": 146,
    "start_time": "2023-04-11T13:43:33.118Z"
   },
   {
    "duration": 131,
    "start_time": "2023-04-11T13:43:33.266Z"
   },
   {
    "duration": 7,
    "start_time": "2023-04-11T13:43:33.399Z"
   },
   {
    "duration": 167,
    "start_time": "2023-04-11T13:43:33.408Z"
   },
   {
    "duration": 17,
    "start_time": "2023-04-11T13:43:33.577Z"
   },
   {
    "duration": 89,
    "start_time": "2023-04-11T13:47:09.483Z"
   },
   {
    "duration": 729,
    "start_time": "2023-04-11T13:49:08.553Z"
   },
   {
    "duration": 21,
    "start_time": "2023-04-11T13:49:09.284Z"
   },
   {
    "duration": 29,
    "start_time": "2023-04-11T13:49:09.307Z"
   },
   {
    "duration": 13,
    "start_time": "2023-04-11T13:49:09.338Z"
   },
   {
    "duration": 13,
    "start_time": "2023-04-11T13:49:09.353Z"
   },
   {
    "duration": 13,
    "start_time": "2023-04-11T13:49:09.368Z"
   },
   {
    "duration": 14,
    "start_time": "2023-04-11T13:49:09.382Z"
   },
   {
    "duration": 30,
    "start_time": "2023-04-11T13:49:09.398Z"
   },
   {
    "duration": 10,
    "start_time": "2023-04-11T13:49:09.430Z"
   },
   {
    "duration": 11,
    "start_time": "2023-04-11T13:49:09.444Z"
   },
   {
    "duration": 5,
    "start_time": "2023-04-11T13:49:09.456Z"
   },
   {
    "duration": 6,
    "start_time": "2023-04-11T13:49:09.463Z"
   },
   {
    "duration": 6,
    "start_time": "2023-04-11T13:49:09.470Z"
   },
   {
    "duration": 12,
    "start_time": "2023-04-11T13:49:09.486Z"
   },
   {
    "duration": 12,
    "start_time": "2023-04-11T13:49:09.500Z"
   },
   {
    "duration": 323,
    "start_time": "2023-04-11T13:49:09.513Z"
   },
   {
    "duration": 255,
    "start_time": "2023-04-11T13:49:09.837Z"
   },
   {
    "duration": 176,
    "start_time": "2023-04-11T13:49:10.093Z"
   },
   {
    "duration": 306,
    "start_time": "2023-04-11T13:49:10.270Z"
   },
   {
    "duration": 172,
    "start_time": "2023-04-11T13:49:10.578Z"
   },
   {
    "duration": 148,
    "start_time": "2023-04-11T13:49:10.752Z"
   },
   {
    "duration": 115,
    "start_time": "2023-04-11T13:49:10.902Z"
   },
   {
    "duration": 5,
    "start_time": "2023-04-11T13:49:11.018Z"
   },
   {
    "duration": 145,
    "start_time": "2023-04-11T13:49:11.025Z"
   },
   {
    "duration": 4,
    "start_time": "2023-04-11T13:49:11.171Z"
   },
   {
    "duration": 11,
    "start_time": "2023-04-11T14:28:14.273Z"
   },
   {
    "duration": 25,
    "start_time": "2023-04-11T14:31:31.074Z"
   },
   {
    "duration": 693,
    "start_time": "2023-04-11T14:32:33.697Z"
   },
   {
    "duration": 21,
    "start_time": "2023-04-11T14:32:34.392Z"
   },
   {
    "duration": 29,
    "start_time": "2023-04-11T14:32:34.414Z"
   },
   {
    "duration": 28,
    "start_time": "2023-04-11T14:32:34.446Z"
   },
   {
    "duration": 14,
    "start_time": "2023-04-11T14:32:34.476Z"
   },
   {
    "duration": 12,
    "start_time": "2023-04-11T14:32:34.491Z"
   },
   {
    "duration": 10,
    "start_time": "2023-04-11T14:32:34.504Z"
   },
   {
    "duration": 11,
    "start_time": "2023-04-11T14:32:34.515Z"
   },
   {
    "duration": 9,
    "start_time": "2023-04-11T14:32:34.527Z"
   },
   {
    "duration": 10,
    "start_time": "2023-04-11T14:32:34.538Z"
   },
   {
    "duration": 3,
    "start_time": "2023-04-11T14:32:34.551Z"
   },
   {
    "duration": 36,
    "start_time": "2023-04-11T14:32:34.555Z"
   },
   {
    "duration": 6,
    "start_time": "2023-04-11T14:32:34.593Z"
   },
   {
    "duration": 20,
    "start_time": "2023-04-11T14:32:34.600Z"
   },
   {
    "duration": 28,
    "start_time": "2023-04-11T14:32:34.622Z"
   },
   {
    "duration": 36,
    "start_time": "2023-04-11T14:32:34.652Z"
   },
   {
    "duration": 12,
    "start_time": "2023-04-11T14:32:34.689Z"
   },
   {
    "duration": 311,
    "start_time": "2023-04-11T14:32:34.703Z"
   },
   {
    "duration": 266,
    "start_time": "2023-04-11T14:32:35.015Z"
   },
   {
    "duration": 195,
    "start_time": "2023-04-11T14:32:35.285Z"
   },
   {
    "duration": 289,
    "start_time": "2023-04-11T14:32:35.482Z"
   },
   {
    "duration": 201,
    "start_time": "2023-04-11T14:32:35.773Z"
   },
   {
    "duration": 140,
    "start_time": "2023-04-11T14:32:35.986Z"
   },
   {
    "duration": 122,
    "start_time": "2023-04-11T14:32:36.128Z"
   },
   {
    "duration": 7,
    "start_time": "2023-04-11T14:32:36.251Z"
   },
   {
    "duration": 144,
    "start_time": "2023-04-11T14:32:36.260Z"
   },
   {
    "duration": 4,
    "start_time": "2023-04-11T14:32:36.406Z"
   },
   {
    "duration": 1020,
    "start_time": "2023-04-11T16:12:56.775Z"
   },
   {
    "duration": 88,
    "start_time": "2023-04-11T16:12:57.798Z"
   },
   {
    "duration": 96,
    "start_time": "2023-04-11T16:12:57.889Z"
   },
   {
    "duration": 70,
    "start_time": "2023-04-11T16:12:57.988Z"
   },
   {
    "duration": 13,
    "start_time": "2023-04-11T16:12:58.060Z"
   },
   {
    "duration": 12,
    "start_time": "2023-04-11T16:12:58.075Z"
   },
   {
    "duration": 29,
    "start_time": "2023-04-11T16:12:58.090Z"
   },
   {
    "duration": 13,
    "start_time": "2023-04-11T16:12:58.121Z"
   },
   {
    "duration": 12,
    "start_time": "2023-04-11T16:12:58.136Z"
   },
   {
    "duration": 19,
    "start_time": "2023-04-11T16:12:58.151Z"
   },
   {
    "duration": 17,
    "start_time": "2023-04-11T16:12:58.172Z"
   },
   {
    "duration": 25,
    "start_time": "2023-04-11T16:12:58.192Z"
   },
   {
    "duration": 8,
    "start_time": "2023-04-11T16:12:58.219Z"
   },
   {
    "duration": 17,
    "start_time": "2023-04-11T16:12:58.228Z"
   },
   {
    "duration": 28,
    "start_time": "2023-04-11T16:12:58.247Z"
   },
   {
    "duration": 17,
    "start_time": "2023-04-11T16:12:58.276Z"
   },
   {
    "duration": 13,
    "start_time": "2023-04-11T16:12:58.298Z"
   },
   {
    "duration": 341,
    "start_time": "2023-04-11T16:12:58.313Z"
   },
   {
    "duration": 310,
    "start_time": "2023-04-11T16:12:58.656Z"
   },
   {
    "duration": 210,
    "start_time": "2023-04-11T16:12:58.968Z"
   },
   {
    "duration": 333,
    "start_time": "2023-04-11T16:12:59.180Z"
   },
   {
    "duration": 227,
    "start_time": "2023-04-11T16:12:59.515Z"
   },
   {
    "duration": 226,
    "start_time": "2023-04-11T16:12:59.744Z"
   },
   {
    "duration": 148,
    "start_time": "2023-04-11T16:12:59.972Z"
   },
   {
    "duration": 6,
    "start_time": "2023-04-11T16:13:00.121Z"
   },
   {
    "duration": 183,
    "start_time": "2023-04-11T16:13:00.129Z"
   },
   {
    "duration": 6,
    "start_time": "2023-04-11T16:13:00.313Z"
   },
   {
    "duration": 11,
    "start_time": "2023-04-11T16:31:09.823Z"
   },
   {
    "duration": 83,
    "start_time": "2023-04-11T16:31:31.578Z"
   },
   {
    "duration": 131,
    "start_time": "2023-04-11T16:34:36.477Z"
   },
   {
    "duration": 98,
    "start_time": "2023-04-11T16:34:54.216Z"
   },
   {
    "duration": 189,
    "start_time": "2023-04-11T16:35:07.377Z"
   },
   {
    "duration": 324,
    "start_time": "2023-04-11T16:35:18.830Z"
   },
   {
    "duration": 12,
    "start_time": "2023-04-11T16:35:58.270Z"
   },
   {
    "duration": 15,
    "start_time": "2023-04-11T16:36:10.715Z"
   },
   {
    "duration": 15,
    "start_time": "2023-04-11T16:36:29.561Z"
   },
   {
    "duration": 12,
    "start_time": "2023-04-11T16:36:34.350Z"
   },
   {
    "duration": 18,
    "start_time": "2023-04-11T16:41:15.585Z"
   },
   {
    "duration": 16,
    "start_time": "2023-04-11T16:45:17.206Z"
   },
   {
    "duration": 742,
    "start_time": "2023-04-11T16:48:07.435Z"
   },
   {
    "duration": 41,
    "start_time": "2023-04-11T16:48:08.180Z"
   },
   {
    "duration": 39,
    "start_time": "2023-04-11T16:48:08.223Z"
   },
   {
    "duration": 17,
    "start_time": "2023-04-11T16:48:08.265Z"
   },
   {
    "duration": 16,
    "start_time": "2023-04-11T16:48:08.284Z"
   },
   {
    "duration": 39,
    "start_time": "2023-04-11T16:48:08.302Z"
   },
   {
    "duration": 21,
    "start_time": "2023-04-11T16:48:08.344Z"
   },
   {
    "duration": 47,
    "start_time": "2023-04-11T16:48:08.367Z"
   },
   {
    "duration": 37,
    "start_time": "2023-04-11T16:48:08.416Z"
   },
   {
    "duration": 23,
    "start_time": "2023-04-11T16:48:08.459Z"
   },
   {
    "duration": 59,
    "start_time": "2023-04-11T16:48:08.484Z"
   },
   {
    "duration": 17,
    "start_time": "2023-04-11T16:48:08.546Z"
   },
   {
    "duration": 15,
    "start_time": "2023-04-11T16:48:08.565Z"
   },
   {
    "duration": 47,
    "start_time": "2023-04-11T16:48:08.582Z"
   },
   {
    "duration": 39,
    "start_time": "2023-04-11T16:48:08.631Z"
   },
   {
    "duration": 11,
    "start_time": "2023-04-11T16:48:08.672Z"
   },
   {
    "duration": 56,
    "start_time": "2023-04-11T16:48:08.685Z"
   },
   {
    "duration": 42,
    "start_time": "2023-04-11T16:48:08.743Z"
   },
   {
    "duration": 420,
    "start_time": "2023-04-11T16:48:08.787Z"
   },
   {
    "duration": 323,
    "start_time": "2023-04-11T16:48:09.220Z"
   },
   {
    "duration": 217,
    "start_time": "2023-04-11T16:48:09.544Z"
   },
   {
    "duration": 346,
    "start_time": "2023-04-11T16:48:09.763Z"
   },
   {
    "duration": 206,
    "start_time": "2023-04-11T16:48:10.114Z"
   },
   {
    "duration": 229,
    "start_time": "2023-04-11T16:48:10.322Z"
   },
   {
    "duration": 187,
    "start_time": "2023-04-11T16:48:10.554Z"
   },
   {
    "duration": 9,
    "start_time": "2023-04-11T16:48:10.743Z"
   },
   {
    "duration": 198,
    "start_time": "2023-04-11T16:48:10.754Z"
   },
   {
    "duration": 5,
    "start_time": "2023-04-11T16:48:10.957Z"
   },
   {
    "duration": 692,
    "start_time": "2023-04-11T16:55:54.349Z"
   },
   {
    "duration": 28,
    "start_time": "2023-04-11T16:55:55.043Z"
   },
   {
    "duration": 46,
    "start_time": "2023-04-11T16:55:55.073Z"
   },
   {
    "duration": 17,
    "start_time": "2023-04-11T16:55:55.123Z"
   },
   {
    "duration": 13,
    "start_time": "2023-04-11T16:55:55.142Z"
   },
   {
    "duration": 16,
    "start_time": "2023-04-11T16:55:55.157Z"
   },
   {
    "duration": 12,
    "start_time": "2023-04-11T16:55:55.175Z"
   },
   {
    "duration": 27,
    "start_time": "2023-04-11T16:55:55.190Z"
   },
   {
    "duration": 15,
    "start_time": "2023-04-11T16:55:55.218Z"
   },
   {
    "duration": 22,
    "start_time": "2023-04-11T16:55:55.236Z"
   },
   {
    "duration": 8,
    "start_time": "2023-04-11T16:55:55.260Z"
   },
   {
    "duration": 12,
    "start_time": "2023-04-11T16:55:55.270Z"
   },
   {
    "duration": 21,
    "start_time": "2023-04-11T16:55:55.284Z"
   },
   {
    "duration": 23,
    "start_time": "2023-04-11T16:55:55.307Z"
   },
   {
    "duration": 26,
    "start_time": "2023-04-11T16:55:55.331Z"
   },
   {
    "duration": 7,
    "start_time": "2023-04-11T16:55:55.359Z"
   },
   {
    "duration": 15,
    "start_time": "2023-04-11T16:55:55.368Z"
   },
   {
    "duration": 14,
    "start_time": "2023-04-11T16:55:55.395Z"
   },
   {
    "duration": 349,
    "start_time": "2023-04-11T16:55:55.410Z"
   },
   {
    "duration": 285,
    "start_time": "2023-04-11T16:55:55.761Z"
   },
   {
    "duration": 194,
    "start_time": "2023-04-11T16:55:56.048Z"
   },
   {
    "duration": 363,
    "start_time": "2023-04-11T16:55:56.244Z"
   },
   {
    "duration": 207,
    "start_time": "2023-04-11T16:55:56.609Z"
   },
   {
    "duration": 150,
    "start_time": "2023-04-11T16:55:56.819Z"
   },
   {
    "duration": 137,
    "start_time": "2023-04-11T16:55:56.971Z"
   },
   {
    "duration": 6,
    "start_time": "2023-04-11T16:55:57.110Z"
   },
   {
    "duration": 153,
    "start_time": "2023-04-11T16:55:57.118Z"
   },
   {
    "duration": 4,
    "start_time": "2023-04-11T16:55:57.275Z"
   },
   {
    "duration": 700,
    "start_time": "2023-04-11T16:56:30.322Z"
   },
   {
    "duration": 29,
    "start_time": "2023-04-11T16:56:31.025Z"
   },
   {
    "duration": 57,
    "start_time": "2023-04-11T16:56:31.056Z"
   },
   {
    "duration": 17,
    "start_time": "2023-04-11T16:56:31.115Z"
   },
   {
    "duration": 58,
    "start_time": "2023-04-11T16:56:31.135Z"
   },
   {
    "duration": 68,
    "start_time": "2023-04-11T16:56:31.195Z"
   },
   {
    "duration": 43,
    "start_time": "2023-04-11T16:56:31.265Z"
   },
   {
    "duration": 81,
    "start_time": "2023-04-11T16:56:31.309Z"
   },
   {
    "duration": 56,
    "start_time": "2023-04-11T16:56:31.392Z"
   },
   {
    "duration": 47,
    "start_time": "2023-04-11T16:56:31.450Z"
   },
   {
    "duration": 43,
    "start_time": "2023-04-11T16:56:31.504Z"
   },
   {
    "duration": 71,
    "start_time": "2023-04-11T16:56:31.550Z"
   },
   {
    "duration": 37,
    "start_time": "2023-04-11T16:56:31.623Z"
   },
   {
    "duration": 44,
    "start_time": "2023-04-11T16:56:31.663Z"
   },
   {
    "duration": 56,
    "start_time": "2023-04-11T16:56:31.709Z"
   },
   {
    "duration": 27,
    "start_time": "2023-04-11T16:56:31.766Z"
   },
   {
    "duration": 51,
    "start_time": "2023-04-11T16:56:31.794Z"
   },
   {
    "duration": 27,
    "start_time": "2023-04-11T16:56:31.847Z"
   },
   {
    "duration": 335,
    "start_time": "2023-04-11T16:56:31.876Z"
   },
   {
    "duration": 298,
    "start_time": "2023-04-11T16:56:32.213Z"
   },
   {
    "duration": 202,
    "start_time": "2023-04-11T16:56:32.513Z"
   },
   {
    "duration": 278,
    "start_time": "2023-04-11T16:56:32.717Z"
   },
   {
    "duration": 200,
    "start_time": "2023-04-11T16:56:32.997Z"
   },
   {
    "duration": 143,
    "start_time": "2023-04-11T16:56:33.199Z"
   },
   {
    "duration": 121,
    "start_time": "2023-04-11T16:56:33.344Z"
   },
   {
    "duration": 5,
    "start_time": "2023-04-11T16:56:33.467Z"
   },
   {
    "duration": 156,
    "start_time": "2023-04-11T16:56:33.473Z"
   },
   {
    "duration": 5,
    "start_time": "2023-04-11T16:56:33.630Z"
   },
   {
    "duration": 16,
    "start_time": "2023-04-11T16:59:49.755Z"
   },
   {
    "duration": 177,
    "start_time": "2023-04-11T17:06:57.700Z"
   },
   {
    "duration": 187,
    "start_time": "2023-04-11T17:10:25.953Z"
   },
   {
    "duration": 349,
    "start_time": "2023-04-11T17:20:38.953Z"
   },
   {
    "duration": 311,
    "start_time": "2023-04-11T17:20:50.011Z"
   },
   {
    "duration": 298,
    "start_time": "2023-04-11T17:21:34.442Z"
   },
   {
    "duration": 352,
    "start_time": "2023-04-11T17:22:46.703Z"
   },
   {
    "duration": 332,
    "start_time": "2023-04-11T17:22:59.242Z"
   },
   {
    "duration": 696,
    "start_time": "2023-04-11T17:24:11.024Z"
   },
   {
    "duration": 27,
    "start_time": "2023-04-11T17:24:11.722Z"
   },
   {
    "duration": 46,
    "start_time": "2023-04-11T17:24:11.751Z"
   },
   {
    "duration": 15,
    "start_time": "2023-04-11T17:24:11.801Z"
   },
   {
    "duration": 25,
    "start_time": "2023-04-11T17:24:11.818Z"
   },
   {
    "duration": 12,
    "start_time": "2023-04-11T17:24:11.845Z"
   },
   {
    "duration": 25,
    "start_time": "2023-04-11T17:24:11.858Z"
   },
   {
    "duration": 40,
    "start_time": "2023-04-11T17:24:11.885Z"
   },
   {
    "duration": 36,
    "start_time": "2023-04-11T17:24:11.927Z"
   },
   {
    "duration": 36,
    "start_time": "2023-04-11T17:24:11.966Z"
   },
   {
    "duration": 6,
    "start_time": "2023-04-11T17:24:12.004Z"
   },
   {
    "duration": 15,
    "start_time": "2023-04-11T17:24:12.012Z"
   },
   {
    "duration": 6,
    "start_time": "2023-04-11T17:24:12.029Z"
   },
   {
    "duration": 32,
    "start_time": "2023-04-11T17:24:12.037Z"
   },
   {
    "duration": 31,
    "start_time": "2023-04-11T17:24:12.071Z"
   },
   {
    "duration": 8,
    "start_time": "2023-04-11T17:24:12.103Z"
   },
   {
    "duration": 26,
    "start_time": "2023-04-11T17:24:12.113Z"
   },
   {
    "duration": 12,
    "start_time": "2023-04-11T17:24:12.141Z"
   },
   {
    "duration": 312,
    "start_time": "2023-04-11T17:24:12.154Z"
   },
   {
    "duration": 326,
    "start_time": "2023-04-11T17:24:12.469Z"
   },
   {
    "duration": 199,
    "start_time": "2023-04-11T17:24:12.806Z"
   },
   {
    "duration": 303,
    "start_time": "2023-04-11T17:24:13.007Z"
   },
   {
    "duration": 183,
    "start_time": "2023-04-11T17:24:13.312Z"
   },
   {
    "duration": 147,
    "start_time": "2023-04-11T17:24:13.501Z"
   },
   {
    "duration": 125,
    "start_time": "2023-04-11T17:24:13.650Z"
   },
   {
    "duration": 16,
    "start_time": "2023-04-11T17:24:13.777Z"
   },
   {
    "duration": 145,
    "start_time": "2023-04-11T17:24:13.798Z"
   },
   {
    "duration": 3,
    "start_time": "2023-04-11T17:24:13.946Z"
   },
   {
    "duration": 197,
    "start_time": "2023-04-11T17:30:12.071Z"
   },
   {
    "duration": 238,
    "start_time": "2023-04-11T17:31:39.516Z"
   },
   {
    "duration": 95,
    "start_time": "2023-04-11T17:33:34.932Z"
   },
   {
    "duration": 126,
    "start_time": "2023-04-11T17:33:41.827Z"
   },
   {
    "duration": 80,
    "start_time": "2023-04-11T17:34:06.156Z"
   },
   {
    "duration": 101,
    "start_time": "2023-04-11T17:34:22.556Z"
   },
   {
    "duration": 330,
    "start_time": "2023-04-11T17:35:10.285Z"
   },
   {
    "duration": 269,
    "start_time": "2023-04-11T17:35:20.479Z"
   },
   {
    "duration": 196,
    "start_time": "2023-04-11T17:35:43.622Z"
   },
   {
    "duration": 301,
    "start_time": "2023-04-11T17:38:09.538Z"
   },
   {
    "duration": 334,
    "start_time": "2023-04-11T17:38:29.290Z"
   },
   {
    "duration": 430,
    "start_time": "2023-04-11T17:38:35.445Z"
   },
   {
    "duration": 206,
    "start_time": "2023-04-11T17:39:28.242Z"
   },
   {
    "duration": 193,
    "start_time": "2023-04-11T17:43:00.563Z"
   },
   {
    "duration": 359,
    "start_time": "2023-04-11T17:43:27.387Z"
   },
   {
    "duration": 212,
    "start_time": "2023-04-11T17:43:50.575Z"
   },
   {
    "duration": 350,
    "start_time": "2023-04-11T17:44:14.774Z"
   },
   {
    "duration": 423,
    "start_time": "2023-04-11T17:44:23.018Z"
   },
   {
    "duration": 1092,
    "start_time": "2023-04-11T17:44:28.531Z"
   },
   {
    "duration": 512,
    "start_time": "2023-04-11T17:44:40.609Z"
   },
   {
    "duration": 462,
    "start_time": "2023-04-11T17:45:01.443Z"
   },
   {
    "duration": 214,
    "start_time": "2023-04-11T17:45:13.638Z"
   },
   {
    "duration": 380,
    "start_time": "2023-04-11T17:45:55.247Z"
   },
   {
    "duration": 293,
    "start_time": "2023-04-11T17:46:15.218Z"
   },
   {
    "duration": 357,
    "start_time": "2023-04-11T17:46:48.875Z"
   },
   {
    "duration": 286,
    "start_time": "2023-04-11T17:47:00.410Z"
   },
   {
    "duration": 226,
    "start_time": "2023-04-11T17:47:10.819Z"
   },
   {
    "duration": 220,
    "start_time": "2023-04-11T17:47:22.186Z"
   },
   {
    "duration": 231,
    "start_time": "2023-04-11T17:47:32.874Z"
   },
   {
    "duration": 218,
    "start_time": "2023-04-11T17:47:50.029Z"
   },
   {
    "duration": 202,
    "start_time": "2023-04-11T17:48:10.955Z"
   },
   {
    "duration": 338,
    "start_time": "2023-04-11T17:49:29.781Z"
   },
   {
    "duration": 230,
    "start_time": "2023-04-11T17:50:29.973Z"
   },
   {
    "duration": 331,
    "start_time": "2023-04-11T17:51:01.595Z"
   },
   {
    "duration": 689,
    "start_time": "2023-04-11T17:53:57.119Z"
   },
   {
    "duration": 30,
    "start_time": "2023-04-11T17:53:57.811Z"
   },
   {
    "duration": 39,
    "start_time": "2023-04-11T17:53:57.847Z"
   },
   {
    "duration": 22,
    "start_time": "2023-04-11T17:53:57.888Z"
   },
   {
    "duration": 15,
    "start_time": "2023-04-11T17:53:57.912Z"
   },
   {
    "duration": 12,
    "start_time": "2023-04-11T17:53:57.928Z"
   },
   {
    "duration": 13,
    "start_time": "2023-04-11T17:53:57.941Z"
   },
   {
    "duration": 33,
    "start_time": "2023-04-11T17:53:57.956Z"
   },
   {
    "duration": 20,
    "start_time": "2023-04-11T17:53:57.991Z"
   },
   {
    "duration": 13,
    "start_time": "2023-04-11T17:53:58.013Z"
   },
   {
    "duration": 5,
    "start_time": "2023-04-11T17:53:58.028Z"
   },
   {
    "duration": 10,
    "start_time": "2023-04-11T17:53:58.035Z"
   },
   {
    "duration": 9,
    "start_time": "2023-04-11T17:53:58.047Z"
   },
   {
    "duration": 38,
    "start_time": "2023-04-11T17:53:58.057Z"
   },
   {
    "duration": 27,
    "start_time": "2023-04-11T17:53:58.104Z"
   },
   {
    "duration": 11,
    "start_time": "2023-04-11T17:53:58.133Z"
   },
   {
    "duration": 17,
    "start_time": "2023-04-11T17:53:58.145Z"
   },
   {
    "duration": 39,
    "start_time": "2023-04-11T17:53:58.164Z"
   },
   {
    "duration": 329,
    "start_time": "2023-04-11T17:53:58.205Z"
   },
   {
    "duration": 338,
    "start_time": "2023-04-11T17:53:58.536Z"
   },
   {
    "duration": 233,
    "start_time": "2023-04-11T17:53:58.876Z"
   },
   {
    "duration": 333,
    "start_time": "2023-04-11T17:53:59.111Z"
   },
   {
    "duration": 195,
    "start_time": "2023-04-11T17:53:59.445Z"
   },
   {
    "duration": 159,
    "start_time": "2023-04-11T17:53:59.641Z"
   },
   {
    "duration": 130,
    "start_time": "2023-04-11T17:53:59.808Z"
   },
   {
    "duration": 6,
    "start_time": "2023-04-11T17:53:59.939Z"
   },
   {
    "duration": 158,
    "start_time": "2023-04-11T17:53:59.948Z"
   },
   {
    "duration": 5,
    "start_time": "2023-04-11T17:54:00.110Z"
   },
   {
    "duration": 732,
    "start_time": "2023-04-11T18:06:07.511Z"
   },
   {
    "duration": 29,
    "start_time": "2023-04-11T18:06:08.245Z"
   },
   {
    "duration": 47,
    "start_time": "2023-04-11T18:06:08.276Z"
   },
   {
    "duration": 15,
    "start_time": "2023-04-11T18:06:08.325Z"
   },
   {
    "duration": 39,
    "start_time": "2023-04-11T18:06:08.342Z"
   },
   {
    "duration": 45,
    "start_time": "2023-04-11T18:06:08.383Z"
   },
   {
    "duration": 35,
    "start_time": "2023-04-11T18:06:08.429Z"
   },
   {
    "duration": 44,
    "start_time": "2023-04-11T18:06:08.466Z"
   },
   {
    "duration": 37,
    "start_time": "2023-04-11T18:06:08.512Z"
   },
   {
    "duration": 32,
    "start_time": "2023-04-11T18:06:08.552Z"
   },
   {
    "duration": 37,
    "start_time": "2023-04-11T18:06:08.586Z"
   },
   {
    "duration": 28,
    "start_time": "2023-04-11T18:06:08.625Z"
   },
   {
    "duration": 29,
    "start_time": "2023-04-11T18:06:08.655Z"
   },
   {
    "duration": 34,
    "start_time": "2023-04-11T18:06:08.686Z"
   },
   {
    "duration": 42,
    "start_time": "2023-04-11T18:06:08.722Z"
   },
   {
    "duration": 44,
    "start_time": "2023-04-11T18:06:08.766Z"
   },
   {
    "duration": 36,
    "start_time": "2023-04-11T18:06:08.812Z"
   },
   {
    "duration": 24,
    "start_time": "2023-04-11T18:06:08.850Z"
   },
   {
    "duration": 352,
    "start_time": "2023-04-11T18:06:08.876Z"
   },
   {
    "duration": 310,
    "start_time": "2023-04-11T18:06:09.230Z"
   },
   {
    "duration": 224,
    "start_time": "2023-04-11T18:06:09.542Z"
   },
   {
    "duration": 315,
    "start_time": "2023-04-11T18:06:09.767Z"
   },
   {
    "duration": 196,
    "start_time": "2023-04-11T18:06:10.083Z"
   },
   {
    "duration": 158,
    "start_time": "2023-04-11T18:06:10.287Z"
   },
   {
    "duration": 156,
    "start_time": "2023-04-11T18:06:10.448Z"
   },
   {
    "duration": 9,
    "start_time": "2023-04-11T18:06:10.607Z"
   },
   {
    "duration": 177,
    "start_time": "2023-04-11T18:06:10.618Z"
   },
   {
    "duration": 9,
    "start_time": "2023-04-11T18:06:10.803Z"
   },
   {
    "duration": 884,
    "start_time": "2023-04-11T18:12:52.578Z"
   },
   {
    "duration": 42,
    "start_time": "2023-04-11T18:12:53.463Z"
   },
   {
    "duration": 37,
    "start_time": "2023-04-11T18:12:53.507Z"
   },
   {
    "duration": 16,
    "start_time": "2023-04-11T18:12:53.547Z"
   },
   {
    "duration": 12,
    "start_time": "2023-04-11T18:12:53.565Z"
   },
   {
    "duration": 17,
    "start_time": "2023-04-11T18:12:53.579Z"
   },
   {
    "duration": 30,
    "start_time": "2023-04-11T18:12:53.597Z"
   },
   {
    "duration": 14,
    "start_time": "2023-04-11T18:12:53.628Z"
   },
   {
    "duration": 12,
    "start_time": "2023-04-11T18:12:53.644Z"
   },
   {
    "duration": 12,
    "start_time": "2023-04-11T18:12:53.658Z"
   },
   {
    "duration": 6,
    "start_time": "2023-04-11T18:12:53.671Z"
   },
   {
    "duration": 21,
    "start_time": "2023-04-11T18:12:53.679Z"
   },
   {
    "duration": 10,
    "start_time": "2023-04-11T18:12:53.706Z"
   },
   {
    "duration": 17,
    "start_time": "2023-04-11T18:12:53.717Z"
   },
   {
    "duration": 24,
    "start_time": "2023-04-11T18:12:53.736Z"
   },
   {
    "duration": 8,
    "start_time": "2023-04-11T18:12:53.762Z"
   },
   {
    "duration": 28,
    "start_time": "2023-04-11T18:12:53.772Z"
   },
   {
    "duration": 21,
    "start_time": "2023-04-11T18:12:53.805Z"
   },
   {
    "duration": 321,
    "start_time": "2023-04-11T18:12:53.829Z"
   },
   {
    "duration": 387,
    "start_time": "2023-04-11T18:12:54.153Z"
   },
   {
    "duration": 258,
    "start_time": "2023-04-11T18:12:54.542Z"
   },
   {
    "duration": 343,
    "start_time": "2023-04-11T18:12:54.802Z"
   },
   {
    "duration": 195,
    "start_time": "2023-04-11T18:12:55.148Z"
   },
   {
    "duration": 165,
    "start_time": "2023-04-11T18:12:55.346Z"
   },
   {
    "duration": 136,
    "start_time": "2023-04-11T18:12:55.513Z"
   },
   {
    "duration": 6,
    "start_time": "2023-04-11T18:12:55.651Z"
   },
   {
    "duration": 166,
    "start_time": "2023-04-11T18:12:55.658Z"
   },
   {
    "duration": 5,
    "start_time": "2023-04-11T18:12:55.827Z"
   },
   {
    "duration": 676,
    "start_time": "2023-04-11T18:13:35.033Z"
   },
   {
    "duration": 29,
    "start_time": "2023-04-11T18:13:35.711Z"
   },
   {
    "duration": 41,
    "start_time": "2023-04-11T18:13:35.741Z"
   },
   {
    "duration": 34,
    "start_time": "2023-04-11T18:13:35.784Z"
   },
   {
    "duration": 11,
    "start_time": "2023-04-11T18:13:35.820Z"
   },
   {
    "duration": 33,
    "start_time": "2023-04-11T18:13:35.833Z"
   },
   {
    "duration": 13,
    "start_time": "2023-04-11T18:13:35.867Z"
   },
   {
    "duration": 33,
    "start_time": "2023-04-11T18:13:35.882Z"
   },
   {
    "duration": 18,
    "start_time": "2023-04-11T18:13:35.917Z"
   },
   {
    "duration": 33,
    "start_time": "2023-04-11T18:13:35.937Z"
   },
   {
    "duration": 12,
    "start_time": "2023-04-11T18:13:35.972Z"
   },
   {
    "duration": 24,
    "start_time": "2023-04-11T18:13:35.986Z"
   },
   {
    "duration": 10,
    "start_time": "2023-04-11T18:13:36.012Z"
   },
   {
    "duration": 24,
    "start_time": "2023-04-11T18:13:36.023Z"
   },
   {
    "duration": 35,
    "start_time": "2023-04-11T18:13:36.049Z"
   },
   {
    "duration": 15,
    "start_time": "2023-04-11T18:13:36.086Z"
   },
   {
    "duration": 25,
    "start_time": "2023-04-11T18:13:36.102Z"
   },
   {
    "duration": 20,
    "start_time": "2023-04-11T18:13:36.129Z"
   },
   {
    "duration": 330,
    "start_time": "2023-04-11T18:13:36.151Z"
   },
   {
    "duration": 316,
    "start_time": "2023-04-11T18:13:36.483Z"
   },
   {
    "duration": 219,
    "start_time": "2023-04-11T18:13:36.806Z"
   },
   {
    "duration": 295,
    "start_time": "2023-04-11T18:13:37.027Z"
   },
   {
    "duration": 189,
    "start_time": "2023-04-11T18:13:37.323Z"
   },
   {
    "duration": 145,
    "start_time": "2023-04-11T18:13:37.514Z"
   },
   {
    "duration": 141,
    "start_time": "2023-04-11T18:13:37.660Z"
   },
   {
    "duration": 5,
    "start_time": "2023-04-11T18:13:37.805Z"
   },
   {
    "duration": 149,
    "start_time": "2023-04-11T18:13:37.812Z"
   },
   {
    "duration": 4,
    "start_time": "2023-04-11T18:13:37.964Z"
   },
   {
    "duration": 805,
    "start_time": "2023-04-12T06:21:10.300Z"
   },
   {
    "duration": 70,
    "start_time": "2023-04-12T06:21:11.107Z"
   },
   {
    "duration": 68,
    "start_time": "2023-04-12T06:21:11.178Z"
   },
   {
    "duration": 59,
    "start_time": "2023-04-12T06:21:11.249Z"
   },
   {
    "duration": 15,
    "start_time": "2023-04-12T06:21:11.310Z"
   },
   {
    "duration": 14,
    "start_time": "2023-04-12T06:21:11.327Z"
   },
   {
    "duration": 11,
    "start_time": "2023-04-12T06:21:11.343Z"
   },
   {
    "duration": 11,
    "start_time": "2023-04-12T06:21:11.356Z"
   },
   {
    "duration": 18,
    "start_time": "2023-04-12T06:21:11.369Z"
   },
   {
    "duration": 11,
    "start_time": "2023-04-12T06:21:11.416Z"
   },
   {
    "duration": 5,
    "start_time": "2023-04-12T06:21:11.430Z"
   },
   {
    "duration": 6,
    "start_time": "2023-04-12T06:21:11.437Z"
   },
   {
    "duration": 5,
    "start_time": "2023-04-12T06:21:11.445Z"
   },
   {
    "duration": 18,
    "start_time": "2023-04-12T06:21:11.452Z"
   },
   {
    "duration": 55,
    "start_time": "2023-04-12T06:21:11.472Z"
   },
   {
    "duration": 8,
    "start_time": "2023-04-12T06:21:11.528Z"
   },
   {
    "duration": 12,
    "start_time": "2023-04-12T06:21:11.538Z"
   },
   {
    "duration": 11,
    "start_time": "2023-04-12T06:21:11.552Z"
   },
   {
    "duration": 304,
    "start_time": "2023-04-12T06:21:11.564Z"
   },
   {
    "duration": 281,
    "start_time": "2023-04-12T06:21:11.869Z"
   },
   {
    "duration": 200,
    "start_time": "2023-04-12T06:21:12.152Z"
   },
   {
    "duration": 350,
    "start_time": "2023-04-12T06:21:12.354Z"
   },
   {
    "duration": 165,
    "start_time": "2023-04-12T06:21:12.706Z"
   },
   {
    "duration": 124,
    "start_time": "2023-04-12T06:21:12.872Z"
   },
   {
    "duration": 106,
    "start_time": "2023-04-12T06:21:12.998Z"
   },
   {
    "duration": 12,
    "start_time": "2023-04-12T06:21:13.106Z"
   },
   {
    "duration": 125,
    "start_time": "2023-04-12T06:21:13.120Z"
   },
   {
    "duration": 4,
    "start_time": "2023-04-12T06:21:13.247Z"
   },
   {
    "duration": 292,
    "start_time": "2023-04-12T06:34:58.194Z"
   },
   {
    "duration": 7,
    "start_time": "2023-04-12T06:35:10.053Z"
   },
   {
    "duration": 13,
    "start_time": "2023-04-12T06:35:17.748Z"
   },
   {
    "duration": 14,
    "start_time": "2023-04-12T06:36:29.392Z"
   },
   {
    "duration": 6,
    "start_time": "2023-04-12T06:36:39.742Z"
   },
   {
    "duration": 271,
    "start_time": "2023-04-12T06:37:32.921Z"
   },
   {
    "duration": 277,
    "start_time": "2023-04-12T06:38:08.174Z"
   },
   {
    "duration": 310,
    "start_time": "2023-04-12T06:38:16.968Z"
   },
   {
    "duration": 315,
    "start_time": "2023-04-12T06:39:01.623Z"
   },
   {
    "duration": 88,
    "start_time": "2023-04-12T06:45:08.859Z"
   },
   {
    "duration": 16,
    "start_time": "2023-04-12T06:45:15.410Z"
   },
   {
    "duration": 140,
    "start_time": "2023-04-12T06:46:26.839Z"
   },
   {
    "duration": 137,
    "start_time": "2023-04-12T06:47:26.893Z"
   },
   {
    "duration": 202,
    "start_time": "2023-04-12T06:48:03.259Z"
   },
   {
    "duration": 133,
    "start_time": "2023-04-12T06:52:14.536Z"
   },
   {
    "duration": 164,
    "start_time": "2023-04-12T06:52:59.773Z"
   },
   {
    "duration": 146,
    "start_time": "2023-04-12T06:53:28.294Z"
   },
   {
    "duration": 155,
    "start_time": "2023-04-12T06:55:31.833Z"
   },
   {
    "duration": 142,
    "start_time": "2023-04-12T06:55:44.335Z"
   },
   {
    "duration": 149,
    "start_time": "2023-04-12T07:02:58.741Z"
   },
   {
    "duration": 330,
    "start_time": "2023-04-12T07:19:36.004Z"
   },
   {
    "duration": 326,
    "start_time": "2023-04-12T07:20:30.981Z"
   },
   {
    "duration": 319,
    "start_time": "2023-04-12T07:21:10.311Z"
   },
   {
    "duration": 21,
    "start_time": "2023-04-12T07:51:08.213Z"
   },
   {
    "duration": 123,
    "start_time": "2023-04-12T07:53:10.241Z"
   },
   {
    "duration": 21,
    "start_time": "2023-04-12T07:59:27.643Z"
   },
   {
    "duration": 6,
    "start_time": "2023-04-12T08:05:29.060Z"
   },
   {
    "duration": 209,
    "start_time": "2023-04-12T08:06:42.975Z"
   },
   {
    "duration": 180,
    "start_time": "2023-04-12T08:10:30.288Z"
   },
   {
    "duration": 154,
    "start_time": "2023-04-12T08:11:44.738Z"
   },
   {
    "duration": 1210,
    "start_time": "2023-04-12T08:22:41.383Z"
   },
   {
    "duration": 91,
    "start_time": "2023-04-12T08:22:42.595Z"
   },
   {
    "duration": 103,
    "start_time": "2023-04-12T08:22:42.688Z"
   },
   {
    "duration": 13,
    "start_time": "2023-04-12T08:22:42.792Z"
   },
   {
    "duration": 51,
    "start_time": "2023-04-12T08:22:42.807Z"
   },
   {
    "duration": 24,
    "start_time": "2023-04-12T08:22:42.871Z"
   },
   {
    "duration": 15,
    "start_time": "2023-04-12T08:22:42.896Z"
   },
   {
    "duration": 45,
    "start_time": "2023-04-12T08:22:42.913Z"
   },
   {
    "duration": 19,
    "start_time": "2023-04-12T08:22:42.960Z"
   },
   {
    "duration": 13,
    "start_time": "2023-04-12T08:22:42.984Z"
   },
   {
    "duration": 9,
    "start_time": "2023-04-12T08:22:42.999Z"
   },
   {
    "duration": 41,
    "start_time": "2023-04-12T08:22:43.009Z"
   },
   {
    "duration": 16,
    "start_time": "2023-04-12T08:22:43.063Z"
   },
   {
    "duration": 10,
    "start_time": "2023-04-12T08:22:43.083Z"
   },
   {
    "duration": 22,
    "start_time": "2023-04-12T08:22:43.094Z"
   },
   {
    "duration": 41,
    "start_time": "2023-04-12T08:22:43.124Z"
   },
   {
    "duration": 20,
    "start_time": "2023-04-12T08:22:43.175Z"
   },
   {
    "duration": 10,
    "start_time": "2023-04-12T08:22:43.197Z"
   },
   {
    "duration": 370,
    "start_time": "2023-04-12T08:22:43.209Z"
   },
   {
    "duration": 398,
    "start_time": "2023-04-12T08:22:43.584Z"
   },
   {
    "duration": 276,
    "start_time": "2023-04-12T08:22:43.984Z"
   },
   {
    "duration": 6,
    "start_time": "2023-04-12T08:22:44.261Z"
   },
   {
    "duration": 316,
    "start_time": "2023-04-12T08:22:44.268Z"
   },
   {
    "duration": 236,
    "start_time": "2023-04-12T08:22:44.586Z"
   },
   {
    "duration": 355,
    "start_time": "2023-04-12T08:22:44.824Z"
   },
   {
    "duration": 194,
    "start_time": "2023-04-12T08:22:45.181Z"
   },
   {
    "duration": 5,
    "start_time": "2023-04-12T08:22:45.377Z"
   },
   {
    "duration": 201,
    "start_time": "2023-04-12T08:22:45.384Z"
   },
   {
    "duration": 6,
    "start_time": "2023-04-12T08:22:45.587Z"
   },
   {
    "duration": 103,
    "start_time": "2023-04-12T08:28:57.797Z"
   },
   {
    "duration": 24,
    "start_time": "2023-04-12T08:29:28.251Z"
   },
   {
    "duration": 195,
    "start_time": "2023-04-12T08:30:25.256Z"
   },
   {
    "duration": 183,
    "start_time": "2023-04-12T08:30:55.853Z"
   },
   {
    "duration": 145,
    "start_time": "2023-04-12T08:31:21.038Z"
   },
   {
    "duration": 155,
    "start_time": "2023-04-12T08:31:45.152Z"
   },
   {
    "duration": 99,
    "start_time": "2023-04-12T08:31:54.040Z"
   },
   {
    "duration": 155,
    "start_time": "2023-04-12T08:32:21.192Z"
   },
   {
    "duration": 205,
    "start_time": "2023-04-12T08:40:44.860Z"
   },
   {
    "duration": 135,
    "start_time": "2023-04-12T08:40:49.705Z"
   },
   {
    "duration": 140,
    "start_time": "2023-04-12T08:40:54.021Z"
   },
   {
    "duration": 8,
    "start_time": "2023-04-12T08:41:25.609Z"
   },
   {
    "duration": 1174,
    "start_time": "2023-04-12T08:42:13.194Z"
   },
   {
    "duration": 50,
    "start_time": "2023-04-12T08:42:14.369Z"
   },
   {
    "duration": 59,
    "start_time": "2023-04-12T08:42:14.421Z"
   },
   {
    "duration": 14,
    "start_time": "2023-04-12T08:42:14.482Z"
   },
   {
    "duration": 13,
    "start_time": "2023-04-12T08:42:14.497Z"
   },
   {
    "duration": 13,
    "start_time": "2023-04-12T08:42:14.511Z"
   },
   {
    "duration": 24,
    "start_time": "2023-04-12T08:42:14.525Z"
   },
   {
    "duration": 17,
    "start_time": "2023-04-12T08:42:14.551Z"
   },
   {
    "duration": 14,
    "start_time": "2023-04-12T08:42:14.569Z"
   },
   {
    "duration": 17,
    "start_time": "2023-04-12T08:42:14.585Z"
   },
   {
    "duration": 21,
    "start_time": "2023-04-12T08:42:14.603Z"
   },
   {
    "duration": 31,
    "start_time": "2023-04-12T08:42:14.626Z"
   },
   {
    "duration": 43,
    "start_time": "2023-04-12T08:42:14.659Z"
   },
   {
    "duration": 27,
    "start_time": "2023-04-12T08:42:14.703Z"
   },
   {
    "duration": 30,
    "start_time": "2023-04-12T08:42:14.732Z"
   },
   {
    "duration": 16,
    "start_time": "2023-04-12T08:42:14.763Z"
   },
   {
    "duration": 25,
    "start_time": "2023-04-12T08:42:14.781Z"
   },
   {
    "duration": 10,
    "start_time": "2023-04-12T08:42:14.808Z"
   },
   {
    "duration": 310,
    "start_time": "2023-04-12T08:42:14.821Z"
   },
   {
    "duration": 305,
    "start_time": "2023-04-12T08:42:15.133Z"
   },
   {
    "duration": 210,
    "start_time": "2023-04-12T08:42:15.440Z"
   },
   {
    "duration": 6,
    "start_time": "2023-04-12T08:42:15.652Z"
   },
   {
    "duration": 299,
    "start_time": "2023-04-12T08:42:15.659Z"
   },
   {
    "duration": 159,
    "start_time": "2023-04-12T08:42:15.959Z"
   },
   {
    "duration": 319,
    "start_time": "2023-04-12T08:42:16.122Z"
   },
   {
    "duration": 150,
    "start_time": "2023-04-12T08:42:16.443Z"
   },
   {
    "duration": 8,
    "start_time": "2023-04-12T08:42:16.594Z"
   },
   {
    "duration": 176,
    "start_time": "2023-04-12T08:42:16.605Z"
   },
   {
    "duration": 4,
    "start_time": "2023-04-12T08:42:16.783Z"
   },
   {
    "duration": 245,
    "start_time": "2023-04-12T08:42:16.789Z"
   },
   {
    "duration": 157,
    "start_time": "2023-04-12T08:42:17.036Z"
   },
   {
    "duration": 25,
    "start_time": "2023-04-12T08:42:17.195Z"
   },
   {
    "duration": 23,
    "start_time": "2023-04-12T08:42:40.075Z"
   },
   {
    "duration": 14,
    "start_time": "2023-04-12T08:43:34.421Z"
   },
   {
    "duration": 1137,
    "start_time": "2023-04-12T08:45:20.172Z"
   },
   {
    "duration": 41,
    "start_time": "2023-04-12T08:47:27.406Z"
   },
   {
    "duration": 766,
    "start_time": "2023-04-12T08:48:12.357Z"
   },
   {
    "duration": 14,
    "start_time": "2023-04-12T08:48:53.840Z"
   },
   {
    "duration": 1165,
    "start_time": "2023-04-12T08:50:42.277Z"
   },
   {
    "duration": 23,
    "start_time": "2023-04-12T08:50:43.444Z"
   },
   {
    "duration": 32,
    "start_time": "2023-04-12T08:50:43.469Z"
   },
   {
    "duration": 13,
    "start_time": "2023-04-12T08:50:43.502Z"
   },
   {
    "duration": 22,
    "start_time": "2023-04-12T08:50:43.518Z"
   },
   {
    "duration": 11,
    "start_time": "2023-04-12T08:50:43.542Z"
   },
   {
    "duration": 9,
    "start_time": "2023-04-12T08:50:43.555Z"
   },
   {
    "duration": 12,
    "start_time": "2023-04-12T08:50:43.566Z"
   },
   {
    "duration": 9,
    "start_time": "2023-04-12T08:50:43.579Z"
   },
   {
    "duration": 41,
    "start_time": "2023-04-12T08:50:43.590Z"
   },
   {
    "duration": 6,
    "start_time": "2023-04-12T08:50:43.633Z"
   },
   {
    "duration": 7,
    "start_time": "2023-04-12T08:50:43.641Z"
   },
   {
    "duration": 5,
    "start_time": "2023-04-12T08:50:43.650Z"
   },
   {
    "duration": 10,
    "start_time": "2023-04-12T08:50:43.657Z"
   },
   {
    "duration": 64,
    "start_time": "2023-04-12T08:50:43.668Z"
   },
   {
    "duration": 9,
    "start_time": "2023-04-12T08:50:43.734Z"
   },
   {
    "duration": 16,
    "start_time": "2023-04-12T08:50:43.745Z"
   },
   {
    "duration": 12,
    "start_time": "2023-04-12T08:50:43.763Z"
   },
   {
    "duration": 327,
    "start_time": "2023-04-12T08:50:43.777Z"
   },
   {
    "duration": 305,
    "start_time": "2023-04-12T08:50:44.105Z"
   },
   {
    "duration": 210,
    "start_time": "2023-04-12T08:50:44.412Z"
   },
   {
    "duration": 9,
    "start_time": "2023-04-12T08:50:44.626Z"
   },
   {
    "duration": 306,
    "start_time": "2023-04-12T08:50:44.637Z"
   },
   {
    "duration": 166,
    "start_time": "2023-04-12T08:50:44.945Z"
   },
   {
    "duration": 340,
    "start_time": "2023-04-12T08:50:45.113Z"
   },
   {
    "duration": 143,
    "start_time": "2023-04-12T08:50:45.455Z"
   },
   {
    "duration": 6,
    "start_time": "2023-04-12T08:50:45.600Z"
   },
   {
    "duration": 148,
    "start_time": "2023-04-12T08:50:45.624Z"
   },
   {
    "duration": 5,
    "start_time": "2023-04-12T08:50:45.773Z"
   },
   {
    "duration": 243,
    "start_time": "2023-04-12T08:50:45.780Z"
   },
   {
    "duration": 156,
    "start_time": "2023-04-12T08:50:46.026Z"
   },
   {
    "duration": 40,
    "start_time": "2023-04-12T08:50:46.184Z"
   },
   {
    "duration": 14,
    "start_time": "2023-04-12T08:50:46.227Z"
   },
   {
    "duration": 30,
    "start_time": "2023-04-12T08:50:46.244Z"
   },
   {
    "duration": 13,
    "start_time": "2023-04-12T08:50:46.276Z"
   },
   {
    "duration": 31,
    "start_time": "2023-04-12T08:52:47.971Z"
   },
   {
    "duration": 1113,
    "start_time": "2023-04-12T08:52:53.249Z"
   },
   {
    "duration": 24,
    "start_time": "2023-04-12T08:52:54.364Z"
   },
   {
    "duration": 54,
    "start_time": "2023-04-12T08:52:54.389Z"
   },
   {
    "duration": 14,
    "start_time": "2023-04-12T08:52:54.447Z"
   },
   {
    "duration": 12,
    "start_time": "2023-04-12T08:52:54.463Z"
   },
   {
    "duration": 10,
    "start_time": "2023-04-12T08:52:54.478Z"
   },
   {
    "duration": 8,
    "start_time": "2023-04-12T08:52:54.490Z"
   },
   {
    "duration": 10,
    "start_time": "2023-04-12T08:52:54.499Z"
   },
   {
    "duration": 38,
    "start_time": "2023-04-12T08:52:54.510Z"
   },
   {
    "duration": 9,
    "start_time": "2023-04-12T08:52:54.550Z"
   },
   {
    "duration": 5,
    "start_time": "2023-04-12T08:52:54.560Z"
   },
   {
    "duration": 7,
    "start_time": "2023-04-12T08:52:54.566Z"
   },
   {
    "duration": 6,
    "start_time": "2023-04-12T08:52:54.574Z"
   },
   {
    "duration": 8,
    "start_time": "2023-04-12T08:52:54.582Z"
   },
   {
    "duration": 42,
    "start_time": "2023-04-12T08:52:54.592Z"
   },
   {
    "duration": 12,
    "start_time": "2023-04-12T08:52:54.636Z"
   },
   {
    "duration": 11,
    "start_time": "2023-04-12T08:52:54.651Z"
   },
   {
    "duration": 11,
    "start_time": "2023-04-12T08:52:54.664Z"
   },
   {
    "duration": 354,
    "start_time": "2023-04-12T08:52:54.676Z"
   },
   {
    "duration": 318,
    "start_time": "2023-04-12T08:52:55.032Z"
   },
   {
    "duration": 222,
    "start_time": "2023-04-12T08:52:55.352Z"
   },
   {
    "duration": 6,
    "start_time": "2023-04-12T08:52:55.576Z"
   },
   {
    "duration": 347,
    "start_time": "2023-04-12T08:52:55.583Z"
   },
   {
    "duration": 167,
    "start_time": "2023-04-12T08:52:55.932Z"
   },
   {
    "duration": 366,
    "start_time": "2023-04-12T08:52:56.100Z"
   },
   {
    "duration": 126,
    "start_time": "2023-04-12T08:52:56.468Z"
   },
   {
    "duration": 5,
    "start_time": "2023-04-12T08:52:56.596Z"
   },
   {
    "duration": 183,
    "start_time": "2023-04-12T08:52:56.602Z"
   },
   {
    "duration": 4,
    "start_time": "2023-04-12T08:52:56.787Z"
   },
   {
    "duration": 312,
    "start_time": "2023-04-12T08:52:56.793Z"
   },
   {
    "duration": 199,
    "start_time": "2023-04-12T08:52:57.107Z"
   },
   {
    "duration": 46,
    "start_time": "2023-04-12T08:52:57.308Z"
   },
   {
    "duration": 16,
    "start_time": "2023-04-12T08:52:57.357Z"
   },
   {
    "duration": 57,
    "start_time": "2023-04-12T08:52:57.376Z"
   },
   {
    "duration": 19,
    "start_time": "2023-04-12T08:52:57.437Z"
   },
   {
    "duration": 240,
    "start_time": "2023-04-12T08:54:00.106Z"
   },
   {
    "duration": 260,
    "start_time": "2023-04-12T08:54:09.495Z"
   },
   {
    "duration": 52,
    "start_time": "2023-04-12T08:55:22.012Z"
   },
   {
    "duration": 53,
    "start_time": "2023-04-12T08:56:20.815Z"
   },
   {
    "duration": 30,
    "start_time": "2023-04-12T08:57:46.154Z"
   },
   {
    "duration": 1287,
    "start_time": "2023-04-12T08:57:59.862Z"
   },
   {
    "duration": 25,
    "start_time": "2023-04-12T08:58:01.151Z"
   },
   {
    "duration": 71,
    "start_time": "2023-04-12T08:58:01.178Z"
   },
   {
    "duration": 15,
    "start_time": "2023-04-12T08:58:01.256Z"
   },
   {
    "duration": 34,
    "start_time": "2023-04-12T08:58:01.272Z"
   },
   {
    "duration": 52,
    "start_time": "2023-04-12T08:58:01.308Z"
   },
   {
    "duration": 74,
    "start_time": "2023-04-12T08:58:01.361Z"
   },
   {
    "duration": 30,
    "start_time": "2023-04-12T08:58:01.437Z"
   },
   {
    "duration": 45,
    "start_time": "2023-04-12T08:58:01.469Z"
   },
   {
    "duration": 47,
    "start_time": "2023-04-12T08:58:01.517Z"
   },
   {
    "duration": 44,
    "start_time": "2023-04-12T08:58:01.565Z"
   },
   {
    "duration": 47,
    "start_time": "2023-04-12T08:58:01.611Z"
   },
   {
    "duration": 20,
    "start_time": "2023-04-12T08:58:01.660Z"
   },
   {
    "duration": 30,
    "start_time": "2023-04-12T08:58:01.682Z"
   },
   {
    "duration": 56,
    "start_time": "2023-04-12T08:58:01.713Z"
   },
   {
    "duration": 14,
    "start_time": "2023-04-12T08:58:01.771Z"
   },
   {
    "duration": 67,
    "start_time": "2023-04-12T08:58:01.787Z"
   },
   {
    "duration": 11,
    "start_time": "2023-04-12T08:58:01.856Z"
   },
   {
    "duration": 298,
    "start_time": "2023-04-12T08:58:01.869Z"
   },
   {
    "duration": 324,
    "start_time": "2023-04-12T08:58:02.169Z"
   },
   {
    "duration": 209,
    "start_time": "2023-04-12T08:58:02.494Z"
   },
   {
    "duration": 37,
    "start_time": "2023-04-12T08:58:02.705Z"
   },
   {
    "duration": 305,
    "start_time": "2023-04-12T08:58:02.756Z"
   },
   {
    "duration": 189,
    "start_time": "2023-04-12T08:58:03.063Z"
   },
   {
    "duration": 314,
    "start_time": "2023-04-12T08:58:03.255Z"
   },
   {
    "duration": 145,
    "start_time": "2023-04-12T08:58:03.571Z"
   },
   {
    "duration": 29,
    "start_time": "2023-04-12T08:58:03.717Z"
   },
   {
    "duration": 145,
    "start_time": "2023-04-12T08:58:03.750Z"
   },
   {
    "duration": 3,
    "start_time": "2023-04-12T08:58:03.897Z"
   },
   {
    "duration": 253,
    "start_time": "2023-04-12T08:58:03.902Z"
   },
   {
    "duration": 173,
    "start_time": "2023-04-12T08:58:04.157Z"
   },
   {
    "duration": 28,
    "start_time": "2023-04-12T08:58:04.344Z"
   },
   {
    "duration": 10,
    "start_time": "2023-04-12T08:58:04.373Z"
   },
   {
    "duration": 31,
    "start_time": "2023-04-12T08:58:04.385Z"
   },
   {
    "duration": 37,
    "start_time": "2023-04-12T08:58:04.417Z"
   },
   {
    "duration": 1586,
    "start_time": "2023-04-12T10:58:44.640Z"
   },
   {
    "duration": 82,
    "start_time": "2023-04-12T10:58:46.229Z"
   },
   {
    "duration": 107,
    "start_time": "2023-04-12T10:58:46.313Z"
   },
   {
    "duration": 67,
    "start_time": "2023-04-12T10:58:46.423Z"
   },
   {
    "duration": 21,
    "start_time": "2023-04-12T10:58:46.494Z"
   },
   {
    "duration": 25,
    "start_time": "2023-04-12T10:58:46.517Z"
   },
   {
    "duration": 21,
    "start_time": "2023-04-12T10:58:46.544Z"
   },
   {
    "duration": 33,
    "start_time": "2023-04-12T10:58:46.568Z"
   },
   {
    "duration": 12,
    "start_time": "2023-04-12T10:58:46.603Z"
   },
   {
    "duration": 15,
    "start_time": "2023-04-12T10:58:46.619Z"
   },
   {
    "duration": 9,
    "start_time": "2023-04-12T10:58:46.636Z"
   },
   {
    "duration": 12,
    "start_time": "2023-04-12T10:58:46.647Z"
   },
   {
    "duration": 4,
    "start_time": "2023-04-12T10:58:46.688Z"
   },
   {
    "duration": 27,
    "start_time": "2023-04-12T10:58:46.695Z"
   },
   {
    "duration": 41,
    "start_time": "2023-04-12T10:58:46.724Z"
   },
   {
    "duration": 23,
    "start_time": "2023-04-12T10:58:46.767Z"
   },
   {
    "duration": 23,
    "start_time": "2023-04-12T10:58:46.793Z"
   },
   {
    "duration": 13,
    "start_time": "2023-04-12T10:58:46.818Z"
   },
   {
    "duration": 332,
    "start_time": "2023-04-12T10:58:46.833Z"
   },
   {
    "duration": 312,
    "start_time": "2023-04-12T10:58:47.166Z"
   },
   {
    "duration": 217,
    "start_time": "2023-04-12T10:58:47.480Z"
   },
   {
    "duration": 8,
    "start_time": "2023-04-12T10:58:47.699Z"
   },
   {
    "duration": 379,
    "start_time": "2023-04-12T10:58:47.708Z"
   },
   {
    "duration": 182,
    "start_time": "2023-04-12T10:58:48.089Z"
   },
   {
    "duration": 338,
    "start_time": "2023-04-12T10:58:48.273Z"
   },
   {
    "duration": 194,
    "start_time": "2023-04-12T10:58:48.613Z"
   },
   {
    "duration": 11,
    "start_time": "2023-04-12T10:58:48.812Z"
   },
   {
    "duration": 167,
    "start_time": "2023-04-12T10:58:48.827Z"
   },
   {
    "duration": 4,
    "start_time": "2023-04-12T10:58:48.996Z"
   },
   {
    "duration": 103,
    "start_time": "2023-04-12T10:58:49.003Z"
   },
   {
    "duration": 0,
    "start_time": "2023-04-12T10:58:49.108Z"
   },
   {
    "duration": 0,
    "start_time": "2023-04-12T10:58:49.109Z"
   },
   {
    "duration": 0,
    "start_time": "2023-04-12T10:58:49.111Z"
   },
   {
    "duration": 0,
    "start_time": "2023-04-12T10:58:49.112Z"
   },
   {
    "duration": 0,
    "start_time": "2023-04-12T10:58:49.113Z"
   },
   {
    "duration": 10,
    "start_time": "2023-04-12T11:00:12.313Z"
   },
   {
    "duration": 18,
    "start_time": "2023-04-12T11:00:27.752Z"
   },
   {
    "duration": 55,
    "start_time": "2023-04-12T11:05:34.563Z"
   },
   {
    "duration": 64,
    "start_time": "2023-04-12T11:05:47.676Z"
   },
   {
    "duration": 139,
    "start_time": "2023-04-12T11:08:22.722Z"
   },
   {
    "duration": 130,
    "start_time": "2023-04-12T11:10:02.939Z"
   },
   {
    "duration": 172,
    "start_time": "2023-04-12T11:11:57.222Z"
   },
   {
    "duration": 246,
    "start_time": "2023-04-12T11:15:11.641Z"
   },
   {
    "duration": 227,
    "start_time": "2023-04-12T11:23:43.045Z"
   },
   {
    "duration": 86,
    "start_time": "2023-04-12T11:27:44.843Z"
   },
   {
    "duration": 164,
    "start_time": "2023-04-12T11:29:52.031Z"
   },
   {
    "duration": 172,
    "start_time": "2023-04-12T11:31:29.243Z"
   },
   {
    "duration": 185,
    "start_time": "2023-04-12T11:47:59.211Z"
   },
   {
    "duration": 27,
    "start_time": "2023-04-12T11:48:12.072Z"
   },
   {
    "duration": 24,
    "start_time": "2023-04-12T11:50:35.053Z"
   },
   {
    "duration": 39,
    "start_time": "2023-04-12T11:52:11.253Z"
   },
   {
    "duration": 26,
    "start_time": "2023-04-12T11:54:12.802Z"
   },
   {
    "duration": 1270,
    "start_time": "2023-04-12T11:58:37.658Z"
   },
   {
    "duration": 28,
    "start_time": "2023-04-12T11:58:38.930Z"
   },
   {
    "duration": 38,
    "start_time": "2023-04-12T11:58:38.960Z"
   },
   {
    "duration": 17,
    "start_time": "2023-04-12T11:58:39.000Z"
   },
   {
    "duration": 13,
    "start_time": "2023-04-12T11:58:39.019Z"
   },
   {
    "duration": 12,
    "start_time": "2023-04-12T11:58:39.034Z"
   },
   {
    "duration": 13,
    "start_time": "2023-04-12T11:58:39.048Z"
   },
   {
    "duration": 15,
    "start_time": "2023-04-12T11:58:39.063Z"
   },
   {
    "duration": 8,
    "start_time": "2023-04-12T11:58:39.087Z"
   },
   {
    "duration": 14,
    "start_time": "2023-04-12T11:58:39.099Z"
   },
   {
    "duration": 6,
    "start_time": "2023-04-12T11:58:39.114Z"
   },
   {
    "duration": 7,
    "start_time": "2023-04-12T11:58:39.122Z"
   },
   {
    "duration": 5,
    "start_time": "2023-04-12T11:58:39.131Z"
   },
   {
    "duration": 11,
    "start_time": "2023-04-12T11:58:39.138Z"
   },
   {
    "duration": 57,
    "start_time": "2023-04-12T11:58:39.151Z"
   },
   {
    "duration": 9,
    "start_time": "2023-04-12T11:58:39.209Z"
   },
   {
    "duration": 21,
    "start_time": "2023-04-12T11:58:39.219Z"
   },
   {
    "duration": 12,
    "start_time": "2023-04-12T11:58:39.243Z"
   },
   {
    "duration": 323,
    "start_time": "2023-04-12T11:58:39.257Z"
   },
   {
    "duration": 321,
    "start_time": "2023-04-12T11:58:39.582Z"
   },
   {
    "duration": 226,
    "start_time": "2023-04-12T11:58:39.905Z"
   },
   {
    "duration": 6,
    "start_time": "2023-04-12T11:58:40.133Z"
   },
   {
    "duration": 316,
    "start_time": "2023-04-12T11:58:40.141Z"
   },
   {
    "duration": 220,
    "start_time": "2023-04-12T11:58:40.459Z"
   },
   {
    "duration": 339,
    "start_time": "2023-04-12T11:58:40.686Z"
   },
   {
    "duration": 155,
    "start_time": "2023-04-12T11:58:41.027Z"
   },
   {
    "duration": 8,
    "start_time": "2023-04-12T11:58:41.184Z"
   },
   {
    "duration": 166,
    "start_time": "2023-04-12T11:58:41.196Z"
   },
   {
    "duration": 5,
    "start_time": "2023-04-12T11:58:41.364Z"
   },
   {
    "duration": 238,
    "start_time": "2023-04-12T11:58:41.371Z"
   },
   {
    "duration": 181,
    "start_time": "2023-04-12T11:58:41.611Z"
   },
   {
    "duration": 28,
    "start_time": "2023-04-12T11:58:41.794Z"
   },
   {
    "duration": 11,
    "start_time": "2023-04-12T11:58:41.824Z"
   },
   {
    "duration": 73,
    "start_time": "2023-04-12T11:58:41.837Z"
   },
   {
    "duration": 20,
    "start_time": "2023-04-12T11:58:41.912Z"
   },
   {
    "duration": 24,
    "start_time": "2023-04-12T12:07:39.879Z"
   },
   {
    "duration": 12,
    "start_time": "2023-04-12T12:11:57.935Z"
   },
   {
    "duration": 13,
    "start_time": "2023-04-12T12:12:30.586Z"
   },
   {
    "duration": 14,
    "start_time": "2023-04-12T12:14:00.534Z"
   },
   {
    "duration": 12,
    "start_time": "2023-04-12T12:14:04.707Z"
   },
   {
    "duration": 16,
    "start_time": "2023-04-12T12:24:04.915Z"
   },
   {
    "duration": 16,
    "start_time": "2023-04-12T12:24:37.739Z"
   },
   {
    "duration": 11,
    "start_time": "2023-04-12T12:28:42.356Z"
   },
   {
    "duration": 1526,
    "start_time": "2023-04-12T12:30:10.260Z"
   },
   {
    "duration": 28,
    "start_time": "2023-04-12T12:30:11.788Z"
   },
   {
    "duration": 41,
    "start_time": "2023-04-12T12:30:11.818Z"
   },
   {
    "duration": 16,
    "start_time": "2023-04-12T12:30:11.862Z"
   },
   {
    "duration": 20,
    "start_time": "2023-04-12T12:30:11.880Z"
   },
   {
    "duration": 17,
    "start_time": "2023-04-12T12:30:11.903Z"
   },
   {
    "duration": 13,
    "start_time": "2023-04-12T12:30:11.922Z"
   },
   {
    "duration": 18,
    "start_time": "2023-04-12T12:30:11.937Z"
   },
   {
    "duration": 35,
    "start_time": "2023-04-12T12:30:11.957Z"
   },
   {
    "duration": 17,
    "start_time": "2023-04-12T12:30:11.996Z"
   },
   {
    "duration": 22,
    "start_time": "2023-04-12T12:30:12.016Z"
   },
   {
    "duration": 19,
    "start_time": "2023-04-12T12:30:12.040Z"
   },
   {
    "duration": 9,
    "start_time": "2023-04-12T12:30:12.062Z"
   },
   {
    "duration": 20,
    "start_time": "2023-04-12T12:30:12.073Z"
   },
   {
    "duration": 34,
    "start_time": "2023-04-12T12:30:12.095Z"
   },
   {
    "duration": 12,
    "start_time": "2023-04-12T12:30:12.131Z"
   },
   {
    "duration": 44,
    "start_time": "2023-04-12T12:30:12.145Z"
   },
   {
    "duration": 13,
    "start_time": "2023-04-12T12:30:12.191Z"
   },
   {
    "duration": 335,
    "start_time": "2023-04-12T12:30:12.206Z"
   },
   {
    "duration": 337,
    "start_time": "2023-04-12T12:30:12.543Z"
   },
   {
    "duration": 250,
    "start_time": "2023-04-12T12:30:12.887Z"
   },
   {
    "duration": 7,
    "start_time": "2023-04-12T12:30:13.139Z"
   },
   {
    "duration": 387,
    "start_time": "2023-04-12T12:30:13.148Z"
   },
   {
    "duration": 219,
    "start_time": "2023-04-12T12:30:13.537Z"
   },
   {
    "duration": 378,
    "start_time": "2023-04-12T12:30:13.758Z"
   },
   {
    "duration": 181,
    "start_time": "2023-04-12T12:30:14.138Z"
   },
   {
    "duration": 8,
    "start_time": "2023-04-12T12:30:14.321Z"
   },
   {
    "duration": 220,
    "start_time": "2023-04-12T12:30:14.332Z"
   },
   {
    "duration": 8,
    "start_time": "2023-04-12T12:30:14.555Z"
   },
   {
    "duration": 300,
    "start_time": "2023-04-12T12:30:14.566Z"
   },
   {
    "duration": 189,
    "start_time": "2023-04-12T12:30:14.868Z"
   },
   {
    "duration": 44,
    "start_time": "2023-04-12T12:30:15.059Z"
   },
   {
    "duration": 13,
    "start_time": "2023-04-12T12:30:15.105Z"
   },
   {
    "duration": 17,
    "start_time": "2023-04-12T12:30:15.120Z"
   },
   {
    "duration": 126,
    "start_time": "2023-04-12T12:30:15.139Z"
   },
   {
    "duration": 0,
    "start_time": "2023-04-12T12:30:15.268Z"
   },
   {
    "duration": 7,
    "start_time": "2023-04-12T12:31:08.702Z"
   },
   {
    "duration": 14,
    "start_time": "2023-04-12T12:31:26.213Z"
   },
   {
    "duration": 6,
    "start_time": "2023-04-12T14:12:08.162Z"
   },
   {
    "duration": 220,
    "start_time": "2023-04-12T14:12:41.093Z"
   },
   {
    "duration": 271,
    "start_time": "2023-04-12T14:12:57.074Z"
   },
   {
    "duration": 202,
    "start_time": "2023-04-12T14:13:14.417Z"
   },
   {
    "duration": 215,
    "start_time": "2023-04-12T14:13:59.564Z"
   },
   {
    "duration": 6,
    "start_time": "2023-04-12T14:18:24.479Z"
   },
   {
    "duration": 217,
    "start_time": "2023-04-12T14:18:34.917Z"
   },
   {
    "duration": 332,
    "start_time": "2023-04-12T14:19:53.379Z"
   },
   {
    "duration": 275,
    "start_time": "2023-04-12T14:21:18.712Z"
   },
   {
    "duration": 277,
    "start_time": "2023-04-12T14:21:42.934Z"
   },
   {
    "duration": 316,
    "start_time": "2023-04-12T14:23:05.664Z"
   },
   {
    "duration": 279,
    "start_time": "2023-04-12T14:23:21.717Z"
   },
   {
    "duration": 17,
    "start_time": "2023-04-12T14:27:46.805Z"
   },
   {
    "duration": 25,
    "start_time": "2023-04-12T14:27:50.598Z"
   },
   {
    "duration": 16,
    "start_time": "2023-04-12T14:28:00.171Z"
   },
   {
    "duration": 23,
    "start_time": "2023-04-12T14:29:34.340Z"
   },
   {
    "duration": 23,
    "start_time": "2023-04-12T14:29:48.093Z"
   },
   {
    "duration": 1156,
    "start_time": "2023-04-12T14:31:37.801Z"
   },
   {
    "duration": 28,
    "start_time": "2023-04-12T14:31:38.959Z"
   },
   {
    "duration": 39,
    "start_time": "2023-04-12T14:31:38.989Z"
   },
   {
    "duration": 15,
    "start_time": "2023-04-12T14:31:39.030Z"
   },
   {
    "duration": 11,
    "start_time": "2023-04-12T14:31:39.047Z"
   },
   {
    "duration": 12,
    "start_time": "2023-04-12T14:31:39.059Z"
   },
   {
    "duration": 13,
    "start_time": "2023-04-12T14:31:39.072Z"
   },
   {
    "duration": 20,
    "start_time": "2023-04-12T14:31:39.086Z"
   },
   {
    "duration": 11,
    "start_time": "2023-04-12T14:31:39.107Z"
   },
   {
    "duration": 11,
    "start_time": "2023-04-12T14:31:39.121Z"
   },
   {
    "duration": 7,
    "start_time": "2023-04-12T14:31:39.134Z"
   },
   {
    "duration": 8,
    "start_time": "2023-04-12T14:31:39.142Z"
   },
   {
    "duration": 13,
    "start_time": "2023-04-12T14:31:39.152Z"
   },
   {
    "duration": 33,
    "start_time": "2023-04-12T14:31:39.167Z"
   },
   {
    "duration": 25,
    "start_time": "2023-04-12T14:31:39.202Z"
   },
   {
    "duration": 10,
    "start_time": "2023-04-12T14:31:39.229Z"
   },
   {
    "duration": 21,
    "start_time": "2023-04-12T14:31:39.240Z"
   },
   {
    "duration": 26,
    "start_time": "2023-04-12T14:31:39.263Z"
   },
   {
    "duration": 308,
    "start_time": "2023-04-12T14:31:39.291Z"
   },
   {
    "duration": 295,
    "start_time": "2023-04-12T14:31:39.602Z"
   },
   {
    "duration": 226,
    "start_time": "2023-04-12T14:31:39.899Z"
   },
   {
    "duration": 7,
    "start_time": "2023-04-12T14:31:40.127Z"
   },
   {
    "duration": 304,
    "start_time": "2023-04-12T14:31:40.135Z"
   },
   {
    "duration": 6,
    "start_time": "2023-04-12T14:31:40.440Z"
   },
   {
    "duration": 232,
    "start_time": "2023-04-12T14:31:40.448Z"
   },
   {
    "duration": 322,
    "start_time": "2023-04-12T14:31:40.687Z"
   },
   {
    "duration": 111,
    "start_time": "2023-04-12T14:31:41.011Z"
   },
   {
    "duration": 0,
    "start_time": "2023-04-12T14:31:41.124Z"
   },
   {
    "duration": 0,
    "start_time": "2023-04-12T14:31:41.126Z"
   },
   {
    "duration": 0,
    "start_time": "2023-04-12T14:31:41.127Z"
   },
   {
    "duration": 0,
    "start_time": "2023-04-12T14:31:41.129Z"
   },
   {
    "duration": 0,
    "start_time": "2023-04-12T14:31:41.130Z"
   },
   {
    "duration": 0,
    "start_time": "2023-04-12T14:31:41.131Z"
   },
   {
    "duration": 0,
    "start_time": "2023-04-12T14:31:41.133Z"
   },
   {
    "duration": 0,
    "start_time": "2023-04-12T14:31:41.134Z"
   },
   {
    "duration": 0,
    "start_time": "2023-04-12T14:31:41.135Z"
   },
   {
    "duration": 0,
    "start_time": "2023-04-12T14:31:41.136Z"
   },
   {
    "duration": 1414,
    "start_time": "2023-04-12T16:31:34.106Z"
   },
   {
    "duration": 82,
    "start_time": "2023-04-12T16:31:35.523Z"
   },
   {
    "duration": 143,
    "start_time": "2023-04-12T16:31:35.607Z"
   },
   {
    "duration": 64,
    "start_time": "2023-04-12T16:31:35.752Z"
   },
   {
    "duration": 14,
    "start_time": "2023-04-12T16:31:35.818Z"
   },
   {
    "duration": 15,
    "start_time": "2023-04-12T16:31:35.834Z"
   },
   {
    "duration": 20,
    "start_time": "2023-04-12T16:31:35.850Z"
   },
   {
    "duration": 13,
    "start_time": "2023-04-12T16:31:35.872Z"
   },
   {
    "duration": 24,
    "start_time": "2023-04-12T16:31:35.886Z"
   },
   {
    "duration": 13,
    "start_time": "2023-04-12T16:31:35.912Z"
   },
   {
    "duration": 11,
    "start_time": "2023-04-12T16:31:35.927Z"
   },
   {
    "duration": 15,
    "start_time": "2023-04-12T16:31:35.940Z"
   },
   {
    "duration": 7,
    "start_time": "2023-04-12T16:31:35.956Z"
   },
   {
    "duration": 17,
    "start_time": "2023-04-12T16:31:35.966Z"
   },
   {
    "duration": 42,
    "start_time": "2023-04-12T16:31:35.984Z"
   },
   {
    "duration": 8,
    "start_time": "2023-04-12T16:31:36.027Z"
   },
   {
    "duration": 15,
    "start_time": "2023-04-12T16:31:36.037Z"
   },
   {
    "duration": 11,
    "start_time": "2023-04-12T16:31:36.053Z"
   },
   {
    "duration": 310,
    "start_time": "2023-04-12T16:31:36.066Z"
   },
   {
    "duration": 327,
    "start_time": "2023-04-12T16:31:36.378Z"
   },
   {
    "duration": 223,
    "start_time": "2023-04-12T16:31:36.707Z"
   },
   {
    "duration": 6,
    "start_time": "2023-04-12T16:31:36.931Z"
   },
   {
    "duration": 400,
    "start_time": "2023-04-12T16:31:36.939Z"
   },
   {
    "duration": 6,
    "start_time": "2023-04-12T16:31:37.341Z"
   },
   {
    "duration": 243,
    "start_time": "2023-04-12T16:31:37.348Z"
   },
   {
    "duration": 316,
    "start_time": "2023-04-12T16:31:37.593Z"
   },
   {
    "duration": 121,
    "start_time": "2023-04-12T16:31:37.911Z"
   },
   {
    "duration": 0,
    "start_time": "2023-04-12T16:31:38.033Z"
   },
   {
    "duration": 0,
    "start_time": "2023-04-12T16:31:38.035Z"
   },
   {
    "duration": 0,
    "start_time": "2023-04-12T16:31:38.036Z"
   },
   {
    "duration": 0,
    "start_time": "2023-04-12T16:31:38.037Z"
   },
   {
    "duration": 0,
    "start_time": "2023-04-12T16:31:38.038Z"
   },
   {
    "duration": 0,
    "start_time": "2023-04-12T16:31:38.040Z"
   },
   {
    "duration": 0,
    "start_time": "2023-04-12T16:31:38.041Z"
   },
   {
    "duration": 0,
    "start_time": "2023-04-12T16:31:38.042Z"
   },
   {
    "duration": 0,
    "start_time": "2023-04-12T16:31:38.043Z"
   },
   {
    "duration": 0,
    "start_time": "2023-04-12T16:31:38.044Z"
   },
   {
    "duration": 12,
    "start_time": "2023-04-12T16:39:45.219Z"
   },
   {
    "duration": 1292,
    "start_time": "2023-04-12T16:40:10.397Z"
   },
   {
    "duration": 28,
    "start_time": "2023-04-12T16:40:11.691Z"
   },
   {
    "duration": 43,
    "start_time": "2023-04-12T16:40:11.720Z"
   },
   {
    "duration": 17,
    "start_time": "2023-04-12T16:40:11.766Z"
   },
   {
    "duration": 17,
    "start_time": "2023-04-12T16:40:11.785Z"
   },
   {
    "duration": 29,
    "start_time": "2023-04-12T16:40:11.804Z"
   },
   {
    "duration": 19,
    "start_time": "2023-04-12T16:40:11.835Z"
   },
   {
    "duration": 23,
    "start_time": "2023-04-12T16:40:11.857Z"
   },
   {
    "duration": 11,
    "start_time": "2023-04-12T16:40:11.882Z"
   },
   {
    "duration": 12,
    "start_time": "2023-04-12T16:40:11.897Z"
   },
   {
    "duration": 15,
    "start_time": "2023-04-12T16:40:11.911Z"
   },
   {
    "duration": 14,
    "start_time": "2023-04-12T16:40:11.929Z"
   },
   {
    "duration": 5,
    "start_time": "2023-04-12T16:40:11.946Z"
   },
   {
    "duration": 15,
    "start_time": "2023-04-12T16:40:11.953Z"
   },
   {
    "duration": 49,
    "start_time": "2023-04-12T16:40:11.970Z"
   },
   {
    "duration": 9,
    "start_time": "2023-04-12T16:40:12.022Z"
   },
   {
    "duration": 24,
    "start_time": "2023-04-12T16:40:12.032Z"
   },
   {
    "duration": 36,
    "start_time": "2023-04-12T16:40:12.058Z"
   },
   {
    "duration": 310,
    "start_time": "2023-04-12T16:40:12.096Z"
   },
   {
    "duration": 310,
    "start_time": "2023-04-12T16:40:12.408Z"
   },
   {
    "duration": 264,
    "start_time": "2023-04-12T16:40:12.720Z"
   },
   {
    "duration": 7,
    "start_time": "2023-04-12T16:40:12.993Z"
   },
   {
    "duration": 317,
    "start_time": "2023-04-12T16:40:13.002Z"
   },
   {
    "duration": 6,
    "start_time": "2023-04-12T16:40:13.321Z"
   },
   {
    "duration": 247,
    "start_time": "2023-04-12T16:40:13.329Z"
   },
   {
    "duration": 371,
    "start_time": "2023-04-12T16:40:13.586Z"
   },
   {
    "duration": 160,
    "start_time": "2023-04-12T16:40:13.959Z"
   },
   {
    "duration": 0,
    "start_time": "2023-04-12T16:40:14.120Z"
   },
   {
    "duration": 0,
    "start_time": "2023-04-12T16:40:14.122Z"
   },
   {
    "duration": 0,
    "start_time": "2023-04-12T16:40:14.123Z"
   },
   {
    "duration": 0,
    "start_time": "2023-04-12T16:40:14.125Z"
   },
   {
    "duration": 0,
    "start_time": "2023-04-12T16:40:14.129Z"
   },
   {
    "duration": 0,
    "start_time": "2023-04-12T16:40:14.131Z"
   },
   {
    "duration": 0,
    "start_time": "2023-04-12T16:40:14.132Z"
   },
   {
    "duration": 0,
    "start_time": "2023-04-12T16:40:14.133Z"
   },
   {
    "duration": 0,
    "start_time": "2023-04-12T16:40:14.134Z"
   },
   {
    "duration": 0,
    "start_time": "2023-04-12T16:40:14.136Z"
   },
   {
    "duration": 9,
    "start_time": "2023-04-12T16:43:23.891Z"
   },
   {
    "duration": 7,
    "start_time": "2023-04-12T16:43:53.649Z"
   },
   {
    "duration": 134,
    "start_time": "2023-04-12T16:43:55.923Z"
   },
   {
    "duration": 6,
    "start_time": "2023-04-12T16:44:09.524Z"
   },
   {
    "duration": 153,
    "start_time": "2023-04-12T16:44:13.307Z"
   },
   {
    "duration": 1196,
    "start_time": "2023-04-12T16:44:21.854Z"
   },
   {
    "duration": 28,
    "start_time": "2023-04-12T16:44:23.053Z"
   },
   {
    "duration": 38,
    "start_time": "2023-04-12T16:44:23.083Z"
   },
   {
    "duration": 17,
    "start_time": "2023-04-12T16:44:23.123Z"
   },
   {
    "duration": 18,
    "start_time": "2023-04-12T16:44:23.143Z"
   },
   {
    "duration": 20,
    "start_time": "2023-04-12T16:44:23.163Z"
   },
   {
    "duration": 13,
    "start_time": "2023-04-12T16:44:23.185Z"
   },
   {
    "duration": 24,
    "start_time": "2023-04-12T16:44:23.200Z"
   },
   {
    "duration": 20,
    "start_time": "2023-04-12T16:44:23.226Z"
   },
   {
    "duration": 19,
    "start_time": "2023-04-12T16:44:23.248Z"
   },
   {
    "duration": 22,
    "start_time": "2023-04-12T16:44:23.269Z"
   },
   {
    "duration": 19,
    "start_time": "2023-04-12T16:44:23.293Z"
   },
   {
    "duration": 19,
    "start_time": "2023-04-12T16:44:23.314Z"
   },
   {
    "duration": 16,
    "start_time": "2023-04-12T16:44:23.335Z"
   },
   {
    "duration": 34,
    "start_time": "2023-04-12T16:44:23.353Z"
   },
   {
    "duration": 15,
    "start_time": "2023-04-12T16:44:23.389Z"
   },
   {
    "duration": 18,
    "start_time": "2023-04-12T16:44:23.406Z"
   },
   {
    "duration": 15,
    "start_time": "2023-04-12T16:44:23.426Z"
   },
   {
    "duration": 350,
    "start_time": "2023-04-12T16:44:23.443Z"
   },
   {
    "duration": 311,
    "start_time": "2023-04-12T16:44:23.796Z"
   },
   {
    "duration": 228,
    "start_time": "2023-04-12T16:44:24.109Z"
   },
   {
    "duration": 8,
    "start_time": "2023-04-12T16:44:24.339Z"
   },
   {
    "duration": 363,
    "start_time": "2023-04-12T16:44:24.349Z"
   },
   {
    "duration": 6,
    "start_time": "2023-04-12T16:44:24.714Z"
   },
   {
    "duration": 265,
    "start_time": "2023-04-12T16:44:24.723Z"
   },
   {
    "duration": 321,
    "start_time": "2023-04-12T16:44:24.990Z"
   },
   {
    "duration": 7,
    "start_time": "2023-04-12T16:44:25.312Z"
   },
   {
    "duration": 155,
    "start_time": "2023-04-12T16:44:25.321Z"
   },
   {
    "duration": 11,
    "start_time": "2023-04-12T16:44:25.477Z"
   },
   {
    "duration": 161,
    "start_time": "2023-04-12T16:44:25.491Z"
   },
   {
    "duration": 6,
    "start_time": "2023-04-12T16:44:25.654Z"
   },
   {
    "duration": 258,
    "start_time": "2023-04-12T16:44:25.662Z"
   },
   {
    "duration": 193,
    "start_time": "2023-04-12T16:44:25.922Z"
   },
   {
    "duration": 27,
    "start_time": "2023-04-12T16:44:26.117Z"
   },
   {
    "duration": 12,
    "start_time": "2023-04-12T16:44:26.146Z"
   },
   {
    "duration": 39,
    "start_time": "2023-04-12T16:44:26.160Z"
   },
   {
    "duration": 23,
    "start_time": "2023-04-12T16:44:26.201Z"
   },
   {
    "duration": 15,
    "start_time": "2023-04-12T16:44:26.226Z"
   },
   {
    "duration": 6,
    "start_time": "2023-04-12T16:45:07.794Z"
   },
   {
    "duration": 8,
    "start_time": "2023-04-12T16:47:15.021Z"
   },
   {
    "duration": 12,
    "start_time": "2023-04-12T16:54:15.974Z"
   },
   {
    "duration": 24,
    "start_time": "2023-04-12T16:55:19.447Z"
   },
   {
    "duration": 23,
    "start_time": "2023-04-12T16:58:27.446Z"
   },
   {
    "duration": 15,
    "start_time": "2023-04-12T17:00:53.615Z"
   },
   {
    "duration": 16,
    "start_time": "2023-04-12T17:02:52.161Z"
   },
   {
    "duration": 15,
    "start_time": "2023-04-12T17:05:50.266Z"
   },
   {
    "duration": 16,
    "start_time": "2023-04-12T17:06:04.004Z"
   },
   {
    "duration": 14,
    "start_time": "2023-04-12T17:06:26.262Z"
   },
   {
    "duration": 1104,
    "start_time": "2023-04-12T17:11:36.396Z"
   },
   {
    "duration": 28,
    "start_time": "2023-04-12T17:11:37.502Z"
   },
   {
    "duration": 38,
    "start_time": "2023-04-12T17:11:37.533Z"
   },
   {
    "duration": 16,
    "start_time": "2023-04-12T17:11:37.572Z"
   },
   {
    "duration": 13,
    "start_time": "2023-04-12T17:11:37.590Z"
   },
   {
    "duration": 11,
    "start_time": "2023-04-12T17:11:37.604Z"
   },
   {
    "duration": 10,
    "start_time": "2023-04-12T17:11:37.617Z"
   },
   {
    "duration": 13,
    "start_time": "2023-04-12T17:11:37.629Z"
   },
   {
    "duration": 11,
    "start_time": "2023-04-12T17:11:37.644Z"
   },
   {
    "duration": 37,
    "start_time": "2023-04-12T17:11:37.657Z"
   },
   {
    "duration": 7,
    "start_time": "2023-04-12T17:11:37.696Z"
   },
   {
    "duration": 12,
    "start_time": "2023-04-12T17:11:37.704Z"
   },
   {
    "duration": 6,
    "start_time": "2023-04-12T17:11:37.717Z"
   },
   {
    "duration": 13,
    "start_time": "2023-04-12T17:11:37.725Z"
   },
   {
    "duration": 24,
    "start_time": "2023-04-12T17:11:37.739Z"
   },
   {
    "duration": 25,
    "start_time": "2023-04-12T17:11:37.765Z"
   },
   {
    "duration": 15,
    "start_time": "2023-04-12T17:11:37.792Z"
   },
   {
    "duration": 10,
    "start_time": "2023-04-12T17:11:37.808Z"
   },
   {
    "duration": 311,
    "start_time": "2023-04-12T17:11:37.820Z"
   },
   {
    "duration": 304,
    "start_time": "2023-04-12T17:11:38.133Z"
   },
   {
    "duration": 208,
    "start_time": "2023-04-12T17:11:38.439Z"
   },
   {
    "duration": 5,
    "start_time": "2023-04-12T17:11:38.649Z"
   },
   {
    "duration": 351,
    "start_time": "2023-04-12T17:11:38.656Z"
   },
   {
    "duration": 6,
    "start_time": "2023-04-12T17:11:39.010Z"
   },
   {
    "duration": 222,
    "start_time": "2023-04-12T17:11:39.018Z"
   },
   {
    "duration": 287,
    "start_time": "2023-04-12T17:11:39.242Z"
   },
   {
    "duration": 6,
    "start_time": "2023-04-12T17:11:39.530Z"
   },
   {
    "duration": 137,
    "start_time": "2023-04-12T17:11:39.538Z"
   },
   {
    "duration": 13,
    "start_time": "2023-04-12T17:11:39.677Z"
   },
   {
    "duration": 168,
    "start_time": "2023-04-12T17:11:39.692Z"
   },
   {
    "duration": 5,
    "start_time": "2023-04-12T17:11:39.862Z"
   },
   {
    "duration": 275,
    "start_time": "2023-04-12T17:11:39.869Z"
   },
   {
    "duration": 153,
    "start_time": "2023-04-12T17:11:40.146Z"
   },
   {
    "duration": 24,
    "start_time": "2023-04-12T17:11:40.300Z"
   },
   {
    "duration": 10,
    "start_time": "2023-04-12T17:11:40.326Z"
   },
   {
    "duration": 36,
    "start_time": "2023-04-12T17:11:40.337Z"
   },
   {
    "duration": 49,
    "start_time": "2023-04-12T17:11:40.375Z"
   },
   {
    "duration": 17,
    "start_time": "2023-04-12T17:11:40.426Z"
   },
   {
    "duration": 15,
    "start_time": "2023-04-12T17:18:29.195Z"
   },
   {
    "duration": 1083,
    "start_time": "2023-04-12T17:18:38.046Z"
   },
   {
    "duration": 27,
    "start_time": "2023-04-12T17:18:39.131Z"
   },
   {
    "duration": 38,
    "start_time": "2023-04-12T17:18:39.160Z"
   },
   {
    "duration": 16,
    "start_time": "2023-04-12T17:18:39.200Z"
   },
   {
    "duration": 13,
    "start_time": "2023-04-12T17:18:39.218Z"
   },
   {
    "duration": 13,
    "start_time": "2023-04-12T17:18:39.233Z"
   },
   {
    "duration": 10,
    "start_time": "2023-04-12T17:18:39.248Z"
   },
   {
    "duration": 10,
    "start_time": "2023-04-12T17:18:39.260Z"
   },
   {
    "duration": 19,
    "start_time": "2023-04-12T17:18:39.272Z"
   },
   {
    "duration": 10,
    "start_time": "2023-04-12T17:18:39.293Z"
   },
   {
    "duration": 4,
    "start_time": "2023-04-12T17:18:39.305Z"
   },
   {
    "duration": 6,
    "start_time": "2023-04-12T17:18:39.311Z"
   },
   {
    "duration": 6,
    "start_time": "2023-04-12T17:18:39.319Z"
   },
   {
    "duration": 9,
    "start_time": "2023-04-12T17:18:39.328Z"
   },
   {
    "duration": 61,
    "start_time": "2023-04-12T17:18:39.339Z"
   },
   {
    "duration": 8,
    "start_time": "2023-04-12T17:18:39.402Z"
   },
   {
    "duration": 12,
    "start_time": "2023-04-12T17:18:39.412Z"
   },
   {
    "duration": 12,
    "start_time": "2023-04-12T17:18:39.426Z"
   },
   {
    "duration": 324,
    "start_time": "2023-04-12T17:18:39.439Z"
   },
   {
    "duration": 282,
    "start_time": "2023-04-12T17:18:39.765Z"
   },
   {
    "duration": 213,
    "start_time": "2023-04-12T17:18:40.049Z"
   },
   {
    "duration": 6,
    "start_time": "2023-04-12T17:18:40.263Z"
   },
   {
    "duration": 369,
    "start_time": "2023-04-12T17:18:40.270Z"
   },
   {
    "duration": 7,
    "start_time": "2023-04-12T17:18:40.641Z"
   },
   {
    "duration": 231,
    "start_time": "2023-04-12T17:18:40.651Z"
   },
   {
    "duration": 347,
    "start_time": "2023-04-12T17:18:40.884Z"
   },
   {
    "duration": 7,
    "start_time": "2023-04-12T17:18:41.234Z"
   },
   {
    "duration": 139,
    "start_time": "2023-04-12T17:18:41.243Z"
   },
   {
    "duration": 7,
    "start_time": "2023-04-12T17:18:41.383Z"
   },
   {
    "duration": 160,
    "start_time": "2023-04-12T17:18:41.392Z"
   },
   {
    "duration": 4,
    "start_time": "2023-04-12T17:18:41.554Z"
   },
   {
    "duration": 244,
    "start_time": "2023-04-12T17:18:41.560Z"
   },
   {
    "duration": 154,
    "start_time": "2023-04-12T17:18:41.807Z"
   },
   {
    "duration": 31,
    "start_time": "2023-04-12T17:18:41.963Z"
   },
   {
    "duration": 11,
    "start_time": "2023-04-12T17:18:41.995Z"
   },
   {
    "duration": 12,
    "start_time": "2023-04-12T17:18:42.007Z"
   },
   {
    "duration": 26,
    "start_time": "2023-04-12T17:18:42.020Z"
   },
   {
    "duration": 45,
    "start_time": "2023-04-12T17:18:42.048Z"
   },
   {
    "duration": 12,
    "start_time": "2023-04-12T17:25:12.264Z"
   },
   {
    "duration": 1122,
    "start_time": "2023-04-12T17:30:06.819Z"
   },
   {
    "duration": 27,
    "start_time": "2023-04-12T17:30:07.943Z"
   },
   {
    "duration": 44,
    "start_time": "2023-04-12T17:30:07.972Z"
   },
   {
    "duration": 19,
    "start_time": "2023-04-12T17:30:08.017Z"
   },
   {
    "duration": 29,
    "start_time": "2023-04-12T17:30:08.038Z"
   },
   {
    "duration": 31,
    "start_time": "2023-04-12T17:30:08.068Z"
   },
   {
    "duration": 20,
    "start_time": "2023-04-12T17:30:08.101Z"
   },
   {
    "duration": 21,
    "start_time": "2023-04-12T17:30:08.122Z"
   },
   {
    "duration": 50,
    "start_time": "2023-04-12T17:30:08.144Z"
   },
   {
    "duration": 25,
    "start_time": "2023-04-12T17:30:08.196Z"
   },
   {
    "duration": 26,
    "start_time": "2023-04-12T17:30:08.222Z"
   },
   {
    "duration": 16,
    "start_time": "2023-04-12T17:30:08.249Z"
   },
   {
    "duration": 12,
    "start_time": "2023-04-12T17:30:08.267Z"
   },
   {
    "duration": 28,
    "start_time": "2023-04-12T17:30:08.283Z"
   },
   {
    "duration": 47,
    "start_time": "2023-04-12T17:30:08.313Z"
   },
   {
    "duration": 38,
    "start_time": "2023-04-12T17:30:08.362Z"
   },
   {
    "duration": 38,
    "start_time": "2023-04-12T17:30:08.402Z"
   },
   {
    "duration": 11,
    "start_time": "2023-04-12T17:30:08.443Z"
   },
   {
    "duration": 300,
    "start_time": "2023-04-12T17:30:08.456Z"
   },
   {
    "duration": 300,
    "start_time": "2023-04-12T17:30:08.758Z"
   },
   {
    "duration": 208,
    "start_time": "2023-04-12T17:30:09.060Z"
   },
   {
    "duration": 6,
    "start_time": "2023-04-12T17:30:09.270Z"
   },
   {
    "duration": 312,
    "start_time": "2023-04-12T17:30:09.288Z"
   },
   {
    "duration": 6,
    "start_time": "2023-04-12T17:30:09.602Z"
   },
   {
    "duration": 251,
    "start_time": "2023-04-12T17:30:09.610Z"
   },
   {
    "duration": 330,
    "start_time": "2023-04-12T17:30:09.863Z"
   },
   {
    "duration": 6,
    "start_time": "2023-04-12T17:30:10.195Z"
   },
   {
    "duration": 151,
    "start_time": "2023-04-12T17:30:10.203Z"
   },
   {
    "duration": 9,
    "start_time": "2023-04-12T17:30:10.356Z"
   },
   {
    "duration": 211,
    "start_time": "2023-04-12T17:30:10.368Z"
   },
   {
    "duration": 8,
    "start_time": "2023-04-12T17:30:10.581Z"
   },
   {
    "duration": 239,
    "start_time": "2023-04-12T17:30:10.592Z"
   },
   {
    "duration": 153,
    "start_time": "2023-04-12T17:30:10.834Z"
   },
   {
    "duration": 26,
    "start_time": "2023-04-12T17:30:10.989Z"
   },
   {
    "duration": 26,
    "start_time": "2023-04-12T17:30:11.016Z"
   },
   {
    "duration": 48,
    "start_time": "2023-04-12T17:30:11.043Z"
   },
   {
    "duration": 42,
    "start_time": "2023-04-12T17:30:11.093Z"
   },
   {
    "duration": 31,
    "start_time": "2023-04-12T17:30:11.137Z"
   },
   {
    "duration": 1466,
    "start_time": "2023-04-13T06:36:56.269Z"
   },
   {
    "duration": 153,
    "start_time": "2023-04-13T06:36:57.738Z"
   },
   {
    "duration": 121,
    "start_time": "2023-04-13T06:36:57.893Z"
   },
   {
    "duration": 91,
    "start_time": "2023-04-13T06:36:58.016Z"
   },
   {
    "duration": 13,
    "start_time": "2023-04-13T06:36:58.110Z"
   },
   {
    "duration": 26,
    "start_time": "2023-04-13T06:36:58.125Z"
   },
   {
    "duration": 43,
    "start_time": "2023-04-13T06:36:58.152Z"
   },
   {
    "duration": 24,
    "start_time": "2023-04-13T06:36:58.196Z"
   },
   {
    "duration": 23,
    "start_time": "2023-04-13T06:36:58.222Z"
   },
   {
    "duration": 46,
    "start_time": "2023-04-13T06:36:58.247Z"
   },
   {
    "duration": 16,
    "start_time": "2023-04-13T06:36:58.295Z"
   },
   {
    "duration": 16,
    "start_time": "2023-04-13T06:36:58.312Z"
   },
   {
    "duration": 48,
    "start_time": "2023-04-13T06:36:58.331Z"
   },
   {
    "duration": 15,
    "start_time": "2023-04-13T06:36:58.385Z"
   },
   {
    "duration": 55,
    "start_time": "2023-04-13T06:36:58.402Z"
   },
   {
    "duration": 14,
    "start_time": "2023-04-13T06:36:58.467Z"
   },
   {
    "duration": 14,
    "start_time": "2023-04-13T06:36:58.483Z"
   },
   {
    "duration": 18,
    "start_time": "2023-04-13T06:36:58.499Z"
   },
   {
    "duration": 352,
    "start_time": "2023-04-13T06:36:58.519Z"
   },
   {
    "duration": 332,
    "start_time": "2023-04-13T06:36:58.883Z"
   },
   {
    "duration": 254,
    "start_time": "2023-04-13T06:36:59.217Z"
   },
   {
    "duration": 12,
    "start_time": "2023-04-13T06:36:59.473Z"
   },
   {
    "duration": 348,
    "start_time": "2023-04-13T06:36:59.487Z"
   },
   {
    "duration": 6,
    "start_time": "2023-04-13T06:36:59.837Z"
   },
   {
    "duration": 278,
    "start_time": "2023-04-13T06:36:59.845Z"
   },
   {
    "duration": 360,
    "start_time": "2023-04-13T06:37:00.125Z"
   },
   {
    "duration": 8,
    "start_time": "2023-04-13T06:37:00.487Z"
   },
   {
    "duration": 237,
    "start_time": "2023-04-13T06:37:00.496Z"
   },
   {
    "duration": 18,
    "start_time": "2023-04-13T06:37:00.735Z"
   },
   {
    "duration": 224,
    "start_time": "2023-04-13T06:37:00.759Z"
   },
   {
    "duration": 6,
    "start_time": "2023-04-13T06:37:00.985Z"
   },
   {
    "duration": 320,
    "start_time": "2023-04-13T06:37:00.992Z"
   },
   {
    "duration": 161,
    "start_time": "2023-04-13T06:37:01.314Z"
   },
   {
    "duration": 159,
    "start_time": "2023-04-13T06:37:01.480Z"
   },
   {
    "duration": 189,
    "start_time": "2023-04-13T06:37:01.640Z"
   },
   {
    "duration": 201,
    "start_time": "2023-04-13T06:37:01.831Z"
   },
   {
    "duration": 116,
    "start_time": "2023-04-13T06:37:02.034Z"
   },
   {
    "duration": 83,
    "start_time": "2023-04-13T06:37:02.157Z"
   },
   {
    "duration": 8,
    "start_time": "2023-04-13T06:43:30.698Z"
   },
   {
    "duration": 23,
    "start_time": "2023-04-13T06:44:51.117Z"
   },
   {
    "duration": 13,
    "start_time": "2023-04-13T06:44:58.370Z"
   },
   {
    "duration": 26,
    "start_time": "2023-04-13T06:45:05.208Z"
   },
   {
    "duration": 20,
    "start_time": "2023-04-13T06:45:15.900Z"
   },
   {
    "duration": 1337,
    "start_time": "2023-04-13T06:46:02.599Z"
   },
   {
    "duration": 57,
    "start_time": "2023-04-13T06:46:03.938Z"
   },
   {
    "duration": 78,
    "start_time": "2023-04-13T06:46:03.997Z"
   },
   {
    "duration": 24,
    "start_time": "2023-04-13T06:46:04.079Z"
   },
   {
    "duration": 18,
    "start_time": "2023-04-13T06:46:04.105Z"
   },
   {
    "duration": 30,
    "start_time": "2023-04-13T06:46:04.126Z"
   },
   {
    "duration": 70,
    "start_time": "2023-04-13T06:46:04.158Z"
   },
   {
    "duration": 92,
    "start_time": "2023-04-13T06:46:04.230Z"
   },
   {
    "duration": 72,
    "start_time": "2023-04-13T06:46:04.324Z"
   },
   {
    "duration": 36,
    "start_time": "2023-04-13T06:46:04.399Z"
   },
   {
    "duration": 43,
    "start_time": "2023-04-13T06:46:04.437Z"
   },
   {
    "duration": 25,
    "start_time": "2023-04-13T06:46:04.486Z"
   },
   {
    "duration": 18,
    "start_time": "2023-04-13T06:46:04.514Z"
   },
   {
    "duration": 34,
    "start_time": "2023-04-13T06:46:04.534Z"
   },
   {
    "duration": 55,
    "start_time": "2023-04-13T06:46:04.570Z"
   },
   {
    "duration": 8,
    "start_time": "2023-04-13T06:46:04.628Z"
   },
   {
    "duration": 50,
    "start_time": "2023-04-13T06:46:04.638Z"
   },
   {
    "duration": 14,
    "start_time": "2023-04-13T06:46:04.690Z"
   },
   {
    "duration": 331,
    "start_time": "2023-04-13T06:46:04.706Z"
   },
   {
    "duration": 378,
    "start_time": "2023-04-13T06:46:05.039Z"
   },
   {
    "duration": 257,
    "start_time": "2023-04-13T06:46:05.419Z"
   },
   {
    "duration": 8,
    "start_time": "2023-04-13T06:46:05.687Z"
   },
   {
    "duration": 376,
    "start_time": "2023-04-13T06:46:05.696Z"
   },
   {
    "duration": 14,
    "start_time": "2023-04-13T06:46:06.079Z"
   },
   {
    "duration": 280,
    "start_time": "2023-04-13T06:46:06.095Z"
   },
   {
    "duration": 352,
    "start_time": "2023-04-13T06:46:06.377Z"
   },
   {
    "duration": 28,
    "start_time": "2023-04-13T06:46:06.731Z"
   },
   {
    "duration": 204,
    "start_time": "2023-04-13T06:46:06.765Z"
   },
   {
    "duration": 15,
    "start_time": "2023-04-13T06:46:06.976Z"
   },
   {
    "duration": 180,
    "start_time": "2023-04-13T06:46:06.993Z"
   },
   {
    "duration": 14,
    "start_time": "2023-04-13T06:46:07.175Z"
   },
   {
    "duration": 284,
    "start_time": "2023-04-13T06:46:07.193Z"
   },
   {
    "duration": 173,
    "start_time": "2023-04-13T06:46:07.487Z"
   },
   {
    "duration": 36,
    "start_time": "2023-04-13T06:46:07.669Z"
   },
   {
    "duration": 12,
    "start_time": "2023-04-13T06:46:07.707Z"
   },
   {
    "duration": 105,
    "start_time": "2023-04-13T06:46:07.720Z"
   },
   {
    "duration": 88,
    "start_time": "2023-04-13T06:46:07.827Z"
   },
   {
    "duration": 38,
    "start_time": "2023-04-13T06:46:07.917Z"
   },
   {
    "duration": 184,
    "start_time": "2023-04-13T06:58:18.286Z"
   },
   {
    "duration": 412,
    "start_time": "2023-04-13T08:18:25.105Z"
   },
   {
    "duration": 440,
    "start_time": "2023-04-13T08:19:01.881Z"
   },
   {
    "duration": 406,
    "start_time": "2023-04-13T08:19:08.526Z"
   },
   {
    "duration": 324,
    "start_time": "2023-04-13T08:19:20.884Z"
   },
   {
    "duration": 297,
    "start_time": "2023-04-13T08:53:19.587Z"
   },
   {
    "duration": 296,
    "start_time": "2023-04-13T08:54:07.685Z"
   },
   {
    "duration": 246,
    "start_time": "2023-04-13T08:54:15.941Z"
   },
   {
    "duration": 268,
    "start_time": "2023-04-13T08:54:50.237Z"
   },
   {
    "duration": 230,
    "start_time": "2023-04-13T08:54:59.386Z"
   },
   {
    "duration": 300,
    "start_time": "2023-04-13T08:57:15.486Z"
   },
   {
    "duration": 338,
    "start_time": "2023-04-13T08:57:25.583Z"
   },
   {
    "duration": 296,
    "start_time": "2023-04-13T08:57:33.983Z"
   },
   {
    "duration": 1435,
    "start_time": "2023-04-13T09:00:19.283Z"
   },
   {
    "duration": 59,
    "start_time": "2023-04-13T09:00:20.720Z"
   },
   {
    "duration": 40,
    "start_time": "2023-04-13T09:00:20.781Z"
   },
   {
    "duration": 16,
    "start_time": "2023-04-13T09:00:20.823Z"
   },
   {
    "duration": 53,
    "start_time": "2023-04-13T09:00:20.842Z"
   },
   {
    "duration": 16,
    "start_time": "2023-04-13T09:00:20.897Z"
   },
   {
    "duration": 40,
    "start_time": "2023-04-13T09:00:20.915Z"
   },
   {
    "duration": 47,
    "start_time": "2023-04-13T09:00:20.957Z"
   },
   {
    "duration": 24,
    "start_time": "2023-04-13T09:00:21.006Z"
   },
   {
    "duration": 18,
    "start_time": "2023-04-13T09:00:21.032Z"
   },
   {
    "duration": 45,
    "start_time": "2023-04-13T09:00:21.053Z"
   },
   {
    "duration": 12,
    "start_time": "2023-04-13T09:00:21.100Z"
   },
   {
    "duration": 15,
    "start_time": "2023-04-13T09:00:21.114Z"
   },
   {
    "duration": 49,
    "start_time": "2023-04-13T09:00:21.132Z"
   },
   {
    "duration": 40,
    "start_time": "2023-04-13T09:00:21.183Z"
   },
   {
    "duration": 31,
    "start_time": "2023-04-13T09:00:21.225Z"
   },
   {
    "duration": 57,
    "start_time": "2023-04-13T09:00:21.259Z"
   },
   {
    "duration": 28,
    "start_time": "2023-04-13T09:00:21.318Z"
   },
   {
    "duration": 387,
    "start_time": "2023-04-13T09:00:21.347Z"
   },
   {
    "duration": 341,
    "start_time": "2023-04-13T09:00:21.736Z"
   },
   {
    "duration": 250,
    "start_time": "2023-04-13T09:00:22.079Z"
   },
   {
    "duration": 12,
    "start_time": "2023-04-13T09:00:22.331Z"
   },
   {
    "duration": 330,
    "start_time": "2023-04-13T09:00:22.351Z"
   },
   {
    "duration": 7,
    "start_time": "2023-04-13T09:00:22.683Z"
   },
   {
    "duration": 233,
    "start_time": "2023-04-13T09:00:22.691Z"
   },
   {
    "duration": 360,
    "start_time": "2023-04-13T09:00:22.926Z"
   },
   {
    "duration": 7,
    "start_time": "2023-04-13T09:00:23.289Z"
   },
   {
    "duration": 155,
    "start_time": "2023-04-13T09:00:23.298Z"
   },
   {
    "duration": 23,
    "start_time": "2023-04-13T09:00:23.454Z"
   },
   {
    "duration": 206,
    "start_time": "2023-04-13T09:00:23.479Z"
   },
   {
    "duration": 5,
    "start_time": "2023-04-13T09:00:23.687Z"
   },
   {
    "duration": 240,
    "start_time": "2023-04-13T09:00:23.694Z"
   },
   {
    "duration": 176,
    "start_time": "2023-04-13T09:00:23.936Z"
   },
   {
    "duration": 42,
    "start_time": "2023-04-13T09:00:24.113Z"
   },
   {
    "duration": 14,
    "start_time": "2023-04-13T09:00:24.161Z"
   },
   {
    "duration": 16,
    "start_time": "2023-04-13T09:00:24.176Z"
   },
   {
    "duration": 31,
    "start_time": "2023-04-13T09:00:24.194Z"
   },
   {
    "duration": 29,
    "start_time": "2023-04-13T09:00:24.228Z"
   },
   {
    "duration": 1478,
    "start_time": "2023-04-13T09:03:24.314Z"
   },
   {
    "duration": 30,
    "start_time": "2023-04-13T09:03:25.796Z"
   },
   {
    "duration": 55,
    "start_time": "2023-04-13T09:03:25.828Z"
   },
   {
    "duration": 17,
    "start_time": "2023-04-13T09:03:25.886Z"
   },
   {
    "duration": 17,
    "start_time": "2023-04-13T09:03:25.906Z"
   },
   {
    "duration": 15,
    "start_time": "2023-04-13T09:03:25.925Z"
   },
   {
    "duration": 34,
    "start_time": "2023-04-13T09:03:25.952Z"
   },
   {
    "duration": 19,
    "start_time": "2023-04-13T09:03:25.988Z"
   },
   {
    "duration": 23,
    "start_time": "2023-04-13T09:03:26.009Z"
   },
   {
    "duration": 45,
    "start_time": "2023-04-13T09:03:26.034Z"
   },
   {
    "duration": 17,
    "start_time": "2023-04-13T09:03:26.082Z"
   },
   {
    "duration": 11,
    "start_time": "2023-04-13T09:03:26.101Z"
   },
   {
    "duration": 16,
    "start_time": "2023-04-13T09:03:26.114Z"
   },
   {
    "duration": 45,
    "start_time": "2023-04-13T09:03:26.134Z"
   },
   {
    "duration": 33,
    "start_time": "2023-04-13T09:03:26.180Z"
   },
   {
    "duration": 9,
    "start_time": "2023-04-13T09:03:26.215Z"
   },
   {
    "duration": 23,
    "start_time": "2023-04-13T09:03:26.226Z"
   },
   {
    "duration": 31,
    "start_time": "2023-04-13T09:03:26.252Z"
   },
   {
    "duration": 311,
    "start_time": "2023-04-13T09:03:26.284Z"
   },
   {
    "duration": 351,
    "start_time": "2023-04-13T09:03:26.598Z"
   },
   {
    "duration": 221,
    "start_time": "2023-04-13T09:03:26.951Z"
   },
   {
    "duration": 6,
    "start_time": "2023-04-13T09:03:27.175Z"
   },
   {
    "duration": 328,
    "start_time": "2023-04-13T09:03:27.183Z"
   },
   {
    "duration": 7,
    "start_time": "2023-04-13T09:03:27.513Z"
   },
   {
    "duration": 271,
    "start_time": "2023-04-13T09:03:27.521Z"
   },
   {
    "duration": 297,
    "start_time": "2023-04-13T09:03:27.794Z"
   },
   {
    "duration": 8,
    "start_time": "2023-04-13T09:03:28.093Z"
   },
   {
    "duration": 174,
    "start_time": "2023-04-13T09:03:28.103Z"
   },
   {
    "duration": 6,
    "start_time": "2023-04-13T09:03:28.279Z"
   },
   {
    "duration": 209,
    "start_time": "2023-04-13T09:03:28.287Z"
   },
   {
    "duration": 5,
    "start_time": "2023-04-13T09:03:28.497Z"
   },
   {
    "duration": 262,
    "start_time": "2023-04-13T09:03:28.504Z"
   },
   {
    "duration": 165,
    "start_time": "2023-04-13T09:03:28.768Z"
   },
   {
    "duration": 43,
    "start_time": "2023-04-13T09:03:28.935Z"
   },
   {
    "duration": 16,
    "start_time": "2023-04-13T09:03:28.982Z"
   },
   {
    "duration": 34,
    "start_time": "2023-04-13T09:03:29.000Z"
   },
   {
    "duration": 64,
    "start_time": "2023-04-13T09:03:29.036Z"
   },
   {
    "duration": 25,
    "start_time": "2023-04-13T09:03:29.102Z"
   },
   {
    "duration": 49,
    "start_time": "2023-04-13T13:26:18.047Z"
   },
   {
    "duration": 1288,
    "start_time": "2023-04-13T13:26:26.582Z"
   },
   {
    "duration": 55,
    "start_time": "2023-04-13T13:26:27.873Z"
   },
   {
    "duration": 64,
    "start_time": "2023-04-13T13:26:27.929Z"
   },
   {
    "duration": 60,
    "start_time": "2023-04-13T13:26:27.995Z"
   },
   {
    "duration": 4,
    "start_time": "2023-04-13T13:26:28.057Z"
   },
   {
    "duration": 14,
    "start_time": "2023-04-13T13:26:28.062Z"
   },
   {
    "duration": 21,
    "start_time": "2023-04-13T13:26:28.078Z"
   },
   {
    "duration": 11,
    "start_time": "2023-04-13T13:26:28.101Z"
   },
   {
    "duration": 33,
    "start_time": "2023-04-13T13:26:28.113Z"
   },
   {
    "duration": 18,
    "start_time": "2023-04-13T13:26:28.150Z"
   },
   {
    "duration": 20,
    "start_time": "2023-04-13T13:26:28.170Z"
   },
   {
    "duration": 24,
    "start_time": "2023-04-13T13:26:28.192Z"
   },
   {
    "duration": 5,
    "start_time": "2023-04-13T13:26:28.218Z"
   },
   {
    "duration": 26,
    "start_time": "2023-04-13T13:26:28.225Z"
   },
   {
    "duration": 24,
    "start_time": "2023-04-13T13:26:28.252Z"
   },
   {
    "duration": 7,
    "start_time": "2023-04-13T13:26:28.278Z"
   },
   {
    "duration": 22,
    "start_time": "2023-04-13T13:26:28.288Z"
   },
   {
    "duration": 20,
    "start_time": "2023-04-13T13:26:28.312Z"
   },
   {
    "duration": 300,
    "start_time": "2023-04-13T13:26:28.334Z"
   },
   {
    "duration": 301,
    "start_time": "2023-04-13T13:26:28.636Z"
   },
   {
    "duration": 239,
    "start_time": "2023-04-13T13:26:28.939Z"
   },
   {
    "duration": 11,
    "start_time": "2023-04-13T13:26:29.180Z"
   },
   {
    "duration": 371,
    "start_time": "2023-04-13T13:26:29.193Z"
   },
   {
    "duration": 6,
    "start_time": "2023-04-13T13:26:29.565Z"
   },
   {
    "duration": 222,
    "start_time": "2023-04-13T13:26:29.573Z"
   },
   {
    "duration": 299,
    "start_time": "2023-04-13T13:26:29.797Z"
   },
   {
    "duration": 7,
    "start_time": "2023-04-13T13:26:30.099Z"
   },
   {
    "duration": 184,
    "start_time": "2023-04-13T13:26:30.109Z"
   },
   {
    "duration": 6,
    "start_time": "2023-04-13T13:26:30.295Z"
   },
   {
    "duration": 178,
    "start_time": "2023-04-13T13:26:30.303Z"
   },
   {
    "duration": 6,
    "start_time": "2023-04-13T13:26:30.483Z"
   },
   {
    "duration": 323,
    "start_time": "2023-04-13T13:26:30.491Z"
   },
   {
    "duration": 163,
    "start_time": "2023-04-13T13:26:30.817Z"
   },
   {
    "duration": 28,
    "start_time": "2023-04-13T13:26:30.982Z"
   },
   {
    "duration": 48,
    "start_time": "2023-04-13T13:26:31.011Z"
   },
   {
    "duration": 79,
    "start_time": "2023-04-13T13:26:31.061Z"
   },
   {
    "duration": 72,
    "start_time": "2023-04-13T13:26:31.141Z"
   },
   {
    "duration": 76,
    "start_time": "2023-04-13T13:26:31.215Z"
   },
   {
    "duration": 48,
    "start_time": "2023-04-13T13:26:31.293Z"
   },
   {
    "duration": 11,
    "start_time": "2023-04-13T13:26:59.424Z"
   },
   {
    "duration": 49,
    "start_time": "2023-04-13T13:27:41.795Z"
   },
   {
    "duration": 1191,
    "start_time": "2023-04-13T13:35:35.166Z"
   },
   {
    "duration": 3,
    "start_time": "2023-04-13T13:35:36.359Z"
   },
   {
    "duration": 11,
    "start_time": "2023-04-13T13:35:36.363Z"
   },
   {
    "duration": 13,
    "start_time": "2023-04-13T13:35:36.376Z"
   },
   {
    "duration": 75,
    "start_time": "2023-04-13T13:35:36.391Z"
   },
   {
    "duration": 12,
    "start_time": "2023-04-13T13:35:36.467Z"
   },
   {
    "duration": 22,
    "start_time": "2023-04-13T13:35:36.481Z"
   },
   {
    "duration": 14,
    "start_time": "2023-04-13T13:35:36.505Z"
   },
   {
    "duration": 24,
    "start_time": "2023-04-13T13:35:36.521Z"
   },
   {
    "duration": 7,
    "start_time": "2023-04-13T13:35:36.548Z"
   },
   {
    "duration": 12,
    "start_time": "2023-04-13T13:35:36.557Z"
   },
   {
    "duration": 16,
    "start_time": "2023-04-13T13:35:36.570Z"
   },
   {
    "duration": 13,
    "start_time": "2023-04-13T13:35:36.588Z"
   },
   {
    "duration": 7,
    "start_time": "2023-04-13T13:35:36.603Z"
   },
   {
    "duration": 12,
    "start_time": "2023-04-13T13:35:36.611Z"
   },
   {
    "duration": 30,
    "start_time": "2023-04-13T13:35:36.625Z"
   },
   {
    "duration": 7,
    "start_time": "2023-04-13T13:35:36.656Z"
   },
   {
    "duration": 13,
    "start_time": "2023-04-13T13:35:36.665Z"
   },
   {
    "duration": 11,
    "start_time": "2023-04-13T13:35:36.690Z"
   },
   {
    "duration": 318,
    "start_time": "2023-04-13T13:35:36.703Z"
   },
   {
    "duration": 294,
    "start_time": "2023-04-13T13:35:37.022Z"
   },
   {
    "duration": 208,
    "start_time": "2023-04-13T13:35:37.318Z"
   },
   {
    "duration": 6,
    "start_time": "2023-04-13T13:35:37.527Z"
   },
   {
    "duration": 282,
    "start_time": "2023-04-13T13:35:37.535Z"
   },
   {
    "duration": 6,
    "start_time": "2023-04-13T13:35:37.818Z"
   },
   {
    "duration": 231,
    "start_time": "2023-04-13T13:35:37.826Z"
   },
   {
    "duration": 312,
    "start_time": "2023-04-13T13:35:38.058Z"
   },
   {
    "duration": 7,
    "start_time": "2023-04-13T13:35:38.373Z"
   },
   {
    "duration": 133,
    "start_time": "2023-04-13T13:35:38.381Z"
   },
   {
    "duration": 4,
    "start_time": "2023-04-13T13:35:38.516Z"
   },
   {
    "duration": 157,
    "start_time": "2023-04-13T13:35:38.522Z"
   },
   {
    "duration": 5,
    "start_time": "2023-04-13T13:35:38.688Z"
   },
   {
    "duration": 229,
    "start_time": "2023-04-13T13:35:38.694Z"
   },
   {
    "duration": 152,
    "start_time": "2023-04-13T13:35:38.925Z"
   },
   {
    "duration": 31,
    "start_time": "2023-04-13T13:35:39.079Z"
   },
   {
    "duration": 11,
    "start_time": "2023-04-13T13:35:39.112Z"
   },
   {
    "duration": 37,
    "start_time": "2023-04-13T13:35:39.124Z"
   },
   {
    "duration": 13,
    "start_time": "2023-04-13T13:35:39.162Z"
   },
   {
    "duration": 30,
    "start_time": "2023-04-13T13:35:39.177Z"
   },
   {
    "duration": 14,
    "start_time": "2023-04-13T13:35:39.209Z"
   },
   {
    "duration": 6,
    "start_time": "2023-04-13T13:45:16.380Z"
   },
   {
    "duration": 7,
    "start_time": "2023-04-13T13:46:05.778Z"
   },
   {
    "duration": 6,
    "start_time": "2023-04-13T13:46:08.675Z"
   },
   {
    "duration": 9,
    "start_time": "2023-04-13T13:47:18.452Z"
   },
   {
    "duration": 9,
    "start_time": "2023-04-13T13:47:51.475Z"
   },
   {
    "duration": 45,
    "start_time": "2023-04-13T13:50:45.798Z"
   },
   {
    "duration": 5,
    "start_time": "2023-04-13T15:14:14.961Z"
   },
   {
    "duration": 4,
    "start_time": "2023-04-13T15:14:55.466Z"
   },
   {
    "duration": 42,
    "start_time": "2023-04-13T15:15:46.754Z"
   },
   {
    "duration": 109,
    "start_time": "2023-04-13T15:15:58.679Z"
   },
   {
    "duration": 9,
    "start_time": "2023-04-13T15:17:18.745Z"
   },
   {
    "duration": 12,
    "start_time": "2023-04-13T15:17:39.281Z"
   },
   {
    "duration": 12,
    "start_time": "2023-04-13T15:18:09.152Z"
   },
   {
    "duration": 15,
    "start_time": "2023-04-13T15:18:38.826Z"
   },
   {
    "duration": 11,
    "start_time": "2023-04-13T15:23:22.018Z"
   },
   {
    "duration": 10,
    "start_time": "2023-04-13T15:34:04.265Z"
   },
   {
    "duration": 11,
    "start_time": "2023-04-13T15:34:24.264Z"
   },
   {
    "duration": 323,
    "start_time": "2023-04-13T15:36:35.683Z"
   },
   {
    "duration": 388,
    "start_time": "2023-04-13T15:37:01.228Z"
   },
   {
    "duration": 295,
    "start_time": "2023-04-13T15:39:37.100Z"
   },
   {
    "duration": 308,
    "start_time": "2023-04-13T15:42:29.485Z"
   },
   {
    "duration": 306,
    "start_time": "2023-04-13T15:42:41.687Z"
   },
   {
    "duration": 1262,
    "start_time": "2023-04-14T06:54:37.809Z"
   },
   {
    "duration": 191,
    "start_time": "2023-04-14T06:54:39.073Z"
   },
   {
    "duration": 12,
    "start_time": "2023-04-14T06:54:39.266Z"
   },
   {
    "duration": 20,
    "start_time": "2023-04-14T06:54:39.279Z"
   },
   {
    "duration": 11,
    "start_time": "2023-04-14T06:54:39.302Z"
   },
   {
    "duration": 15,
    "start_time": "2023-04-14T06:54:39.318Z"
   },
   {
    "duration": 23,
    "start_time": "2023-04-14T06:54:39.335Z"
   },
   {
    "duration": 25,
    "start_time": "2023-04-14T06:54:39.360Z"
   },
   {
    "duration": 30,
    "start_time": "2023-04-14T06:54:39.388Z"
   },
   {
    "duration": 18,
    "start_time": "2023-04-14T06:54:39.420Z"
   },
   {
    "duration": 18,
    "start_time": "2023-04-14T06:54:39.439Z"
   },
   {
    "duration": 11,
    "start_time": "2023-04-14T06:54:39.459Z"
   },
   {
    "duration": 12,
    "start_time": "2023-04-14T06:54:39.472Z"
   },
   {
    "duration": 28,
    "start_time": "2023-04-14T06:54:39.487Z"
   },
   {
    "duration": 9,
    "start_time": "2023-04-14T06:54:39.517Z"
   },
   {
    "duration": 19,
    "start_time": "2023-04-14T06:54:39.529Z"
   },
   {
    "duration": 11,
    "start_time": "2023-04-14T06:54:39.550Z"
   },
   {
    "duration": 55,
    "start_time": "2023-04-14T06:54:39.562Z"
   },
   {
    "duration": 300,
    "start_time": "2023-04-14T06:54:39.618Z"
   },
   {
    "duration": 280,
    "start_time": "2023-04-14T06:54:39.920Z"
   },
   {
    "duration": 222,
    "start_time": "2023-04-14T06:54:40.202Z"
   },
   {
    "duration": 8,
    "start_time": "2023-04-14T06:54:40.426Z"
   },
   {
    "duration": 409,
    "start_time": "2023-04-14T06:54:40.436Z"
   },
   {
    "duration": 8,
    "start_time": "2023-04-14T06:54:40.847Z"
   },
   {
    "duration": 245,
    "start_time": "2023-04-14T06:54:40.856Z"
   },
   {
    "duration": 305,
    "start_time": "2023-04-14T06:54:41.103Z"
   },
   {
    "duration": 11,
    "start_time": "2023-04-14T06:54:41.411Z"
   },
   {
    "duration": 168,
    "start_time": "2023-04-14T06:54:41.424Z"
   },
   {
    "duration": 5,
    "start_time": "2023-04-14T06:54:41.594Z"
   },
   {
    "duration": 133,
    "start_time": "2023-04-14T06:54:41.601Z"
   },
   {
    "duration": 4,
    "start_time": "2023-04-14T06:54:41.735Z"
   },
   {
    "duration": 221,
    "start_time": "2023-04-14T06:54:41.740Z"
   },
   {
    "duration": 156,
    "start_time": "2023-04-14T06:54:41.962Z"
   },
   {
    "duration": 21,
    "start_time": "2023-04-14T06:54:42.120Z"
   },
   {
    "duration": 10,
    "start_time": "2023-04-14T06:54:42.142Z"
   },
   {
    "duration": 9,
    "start_time": "2023-04-14T06:54:42.154Z"
   },
   {
    "duration": 7,
    "start_time": "2023-04-14T06:54:42.165Z"
   },
   {
    "duration": 22,
    "start_time": "2023-04-14T06:54:42.194Z"
   },
   {
    "duration": 15,
    "start_time": "2023-04-14T06:54:42.217Z"
   },
   {
    "duration": 9,
    "start_time": "2023-04-14T07:07:43.917Z"
   },
   {
    "duration": 6,
    "start_time": "2023-04-14T07:17:55.811Z"
   },
   {
    "duration": 4,
    "start_time": "2023-04-14T07:18:40.557Z"
   },
   {
    "duration": 4,
    "start_time": "2023-04-14T07:19:27.930Z"
   },
   {
    "duration": 10,
    "start_time": "2023-04-14T07:46:41.042Z"
   },
   {
    "duration": 70,
    "start_time": "2023-04-14T07:56:37.246Z"
   },
   {
    "duration": 9,
    "start_time": "2023-04-14T07:56:59.454Z"
   },
   {
    "duration": 9,
    "start_time": "2023-04-14T08:08:02.320Z"
   },
   {
    "duration": 46,
    "start_time": "2023-04-14T08:15:35.909Z"
   },
   {
    "duration": 135,
    "start_time": "2023-04-14T08:31:26.300Z"
   },
   {
    "duration": 201,
    "start_time": "2023-04-14T08:31:36.303Z"
   },
   {
    "duration": 128,
    "start_time": "2023-04-14T08:31:58.225Z"
   },
   {
    "duration": 139,
    "start_time": "2023-04-14T08:32:21.153Z"
   },
   {
    "duration": 126,
    "start_time": "2023-04-14T08:32:47.004Z"
   },
   {
    "duration": 1171,
    "start_time": "2023-04-14T08:33:20.682Z"
   },
   {
    "duration": 64,
    "start_time": "2023-04-14T08:33:21.855Z"
   },
   {
    "duration": 12,
    "start_time": "2023-04-14T08:33:21.921Z"
   },
   {
    "duration": 13,
    "start_time": "2023-04-14T08:33:21.935Z"
   },
   {
    "duration": 19,
    "start_time": "2023-04-14T08:33:21.949Z"
   },
   {
    "duration": 12,
    "start_time": "2023-04-14T08:33:21.970Z"
   },
   {
    "duration": 8,
    "start_time": "2023-04-14T08:33:21.984Z"
   },
   {
    "duration": 10,
    "start_time": "2023-04-14T08:33:21.993Z"
   },
   {
    "duration": 4,
    "start_time": "2023-04-14T08:33:22.005Z"
   },
   {
    "duration": 17,
    "start_time": "2023-04-14T08:33:22.011Z"
   },
   {
    "duration": 17,
    "start_time": "2023-04-14T08:33:22.029Z"
   },
   {
    "duration": 10,
    "start_time": "2023-04-14T08:33:22.047Z"
   },
   {
    "duration": 21,
    "start_time": "2023-04-14T08:33:22.059Z"
   },
   {
    "duration": 39,
    "start_time": "2023-04-14T08:33:22.082Z"
   },
   {
    "duration": 9,
    "start_time": "2023-04-14T08:33:22.123Z"
   },
   {
    "duration": 21,
    "start_time": "2023-04-14T08:33:22.135Z"
   },
   {
    "duration": 15,
    "start_time": "2023-04-14T08:33:22.158Z"
   },
   {
    "duration": 11,
    "start_time": "2023-04-14T08:33:22.194Z"
   },
   {
    "duration": 4,
    "start_time": "2023-04-14T08:33:22.207Z"
   },
   {
    "duration": 14,
    "start_time": "2023-04-14T08:33:22.213Z"
   },
   {
    "duration": 316,
    "start_time": "2023-04-14T08:33:22.229Z"
   },
   {
    "duration": 309,
    "start_time": "2023-04-14T08:33:22.547Z"
   },
   {
    "duration": 209,
    "start_time": "2023-04-14T08:33:22.858Z"
   },
   {
    "duration": 9,
    "start_time": "2023-04-14T08:33:23.068Z"
   },
   {
    "duration": 359,
    "start_time": "2023-04-14T08:33:23.079Z"
   },
   {
    "duration": 8,
    "start_time": "2023-04-14T08:33:23.440Z"
   },
   {
    "duration": 231,
    "start_time": "2023-04-14T08:33:23.449Z"
   },
   {
    "duration": 295,
    "start_time": "2023-04-14T08:33:23.683Z"
   },
   {
    "duration": 14,
    "start_time": "2023-04-14T08:33:23.980Z"
   },
   {
    "duration": 149,
    "start_time": "2023-04-14T08:33:23.996Z"
   },
   {
    "duration": 6,
    "start_time": "2023-04-14T08:33:24.147Z"
   },
   {
    "duration": 176,
    "start_time": "2023-04-14T08:33:24.154Z"
   },
   {
    "duration": 162,
    "start_time": "2023-04-14T08:33:24.332Z"
   },
   {
    "duration": 4,
    "start_time": "2023-04-14T08:33:24.495Z"
   },
   {
    "duration": 222,
    "start_time": "2023-04-14T08:33:24.500Z"
   },
   {
    "duration": 139,
    "start_time": "2023-04-14T08:33:24.723Z"
   },
   {
    "duration": 32,
    "start_time": "2023-04-14T08:33:24.863Z"
   },
   {
    "duration": 11,
    "start_time": "2023-04-14T08:33:24.897Z"
   },
   {
    "duration": 8,
    "start_time": "2023-04-14T08:33:24.909Z"
   },
   {
    "duration": 10,
    "start_time": "2023-04-14T08:33:24.918Z"
   },
   {
    "duration": 21,
    "start_time": "2023-04-14T08:33:24.930Z"
   },
   {
    "duration": 48,
    "start_time": "2023-04-14T08:33:24.952Z"
   },
   {
    "duration": 153,
    "start_time": "2023-04-14T08:33:58.041Z"
   },
   {
    "duration": 216,
    "start_time": "2023-04-14T08:34:35.041Z"
   },
   {
    "duration": 135,
    "start_time": "2023-04-14T08:36:12.813Z"
   },
   {
    "duration": 1103,
    "start_time": "2023-04-14T08:43:27.263Z"
   },
   {
    "duration": 64,
    "start_time": "2023-04-14T08:43:28.368Z"
   },
   {
    "duration": 13,
    "start_time": "2023-04-14T08:43:28.434Z"
   },
   {
    "duration": 11,
    "start_time": "2023-04-14T08:43:28.449Z"
   },
   {
    "duration": 30,
    "start_time": "2023-04-14T08:43:28.462Z"
   },
   {
    "duration": 19,
    "start_time": "2023-04-14T08:43:28.494Z"
   },
   {
    "duration": 120,
    "start_time": "2023-04-14T08:43:28.515Z"
   },
   {
    "duration": 21,
    "start_time": "2023-04-14T08:43:28.637Z"
   },
   {
    "duration": 35,
    "start_time": "2023-04-14T08:43:28.660Z"
   },
   {
    "duration": 30,
    "start_time": "2023-04-14T08:43:28.699Z"
   },
   {
    "duration": 58,
    "start_time": "2023-04-14T08:43:28.732Z"
   },
   {
    "duration": 26,
    "start_time": "2023-04-14T08:43:28.792Z"
   },
   {
    "duration": 12,
    "start_time": "2023-04-14T08:43:28.821Z"
   },
   {
    "duration": 33,
    "start_time": "2023-04-14T08:43:28.834Z"
   },
   {
    "duration": 26,
    "start_time": "2023-04-14T08:43:28.869Z"
   },
   {
    "duration": 18,
    "start_time": "2023-04-14T08:43:28.897Z"
   },
   {
    "duration": 17,
    "start_time": "2023-04-14T08:43:28.917Z"
   },
   {
    "duration": 12,
    "start_time": "2023-04-14T08:43:28.936Z"
   },
   {
    "duration": 6,
    "start_time": "2023-04-14T08:43:28.950Z"
   },
   {
    "duration": 11,
    "start_time": "2023-04-14T08:43:28.994Z"
   },
   {
    "duration": 392,
    "start_time": "2023-04-14T08:43:29.008Z"
   },
   {
    "duration": 399,
    "start_time": "2023-04-14T08:43:29.402Z"
   },
   {
    "duration": 243,
    "start_time": "2023-04-14T08:43:29.804Z"
   },
   {
    "duration": 8,
    "start_time": "2023-04-14T08:43:30.049Z"
   },
   {
    "duration": 423,
    "start_time": "2023-04-14T08:43:30.058Z"
   },
   {
    "duration": 12,
    "start_time": "2023-04-14T08:43:30.483Z"
   },
   {
    "duration": 271,
    "start_time": "2023-04-14T08:43:30.498Z"
   },
   {
    "duration": 352,
    "start_time": "2023-04-14T08:43:30.774Z"
   },
   {
    "duration": 9,
    "start_time": "2023-04-14T08:43:31.128Z"
   },
   {
    "duration": 174,
    "start_time": "2023-04-14T08:43:31.139Z"
   },
   {
    "duration": 8,
    "start_time": "2023-04-14T08:43:31.315Z"
   },
   {
    "duration": 214,
    "start_time": "2023-04-14T08:43:31.343Z"
   },
   {
    "duration": 186,
    "start_time": "2023-04-14T08:43:31.559Z"
   },
   {
    "duration": 5,
    "start_time": "2023-04-14T08:43:31.747Z"
   },
   {
    "duration": 287,
    "start_time": "2023-04-14T08:43:31.754Z"
   },
   {
    "duration": 212,
    "start_time": "2023-04-14T08:43:32.043Z"
   },
   {
    "duration": 42,
    "start_time": "2023-04-14T08:43:32.257Z"
   },
   {
    "duration": 14,
    "start_time": "2023-04-14T08:43:32.302Z"
   },
   {
    "duration": 23,
    "start_time": "2023-04-14T08:43:32.318Z"
   },
   {
    "duration": 19,
    "start_time": "2023-04-14T08:43:32.344Z"
   },
   {
    "duration": 32,
    "start_time": "2023-04-14T08:43:32.371Z"
   },
   {
    "duration": 19,
    "start_time": "2023-04-14T08:43:32.405Z"
   },
   {
    "duration": 48,
    "start_time": "2023-04-14T08:46:59.369Z"
   },
   {
    "duration": 179,
    "start_time": "2023-04-14T08:47:34.059Z"
   },
   {
    "duration": 194,
    "start_time": "2023-04-14T08:48:28.669Z"
   },
   {
    "duration": 9,
    "start_time": "2023-04-14T09:01:54.757Z"
   },
   {
    "duration": 181,
    "start_time": "2023-04-14T09:02:08.117Z"
   },
   {
    "duration": 1506,
    "start_time": "2023-04-14T09:03:55.115Z"
   },
   {
    "duration": 73,
    "start_time": "2023-04-14T09:03:56.623Z"
   },
   {
    "duration": 16,
    "start_time": "2023-04-14T09:03:56.699Z"
   },
   {
    "duration": 21,
    "start_time": "2023-04-14T09:03:56.718Z"
   },
   {
    "duration": 23,
    "start_time": "2023-04-14T09:03:56.741Z"
   },
   {
    "duration": 31,
    "start_time": "2023-04-14T09:03:56.766Z"
   },
   {
    "duration": 13,
    "start_time": "2023-04-14T09:03:56.799Z"
   },
   {
    "duration": 22,
    "start_time": "2023-04-14T09:03:56.814Z"
   },
   {
    "duration": 8,
    "start_time": "2023-04-14T09:03:56.838Z"
   },
   {
    "duration": 14,
    "start_time": "2023-04-14T09:03:56.849Z"
   },
   {
    "duration": 5,
    "start_time": "2023-04-14T09:03:56.865Z"
   },
   {
    "duration": 30,
    "start_time": "2023-04-14T09:03:56.874Z"
   },
   {
    "duration": 14,
    "start_time": "2023-04-14T09:03:56.907Z"
   },
   {
    "duration": 35,
    "start_time": "2023-04-14T09:03:56.923Z"
   },
   {
    "duration": 37,
    "start_time": "2023-04-14T09:03:56.960Z"
   },
   {
    "duration": 19,
    "start_time": "2023-04-14T09:03:56.999Z"
   },
   {
    "duration": 27,
    "start_time": "2023-04-14T09:03:57.020Z"
   },
   {
    "duration": 22,
    "start_time": "2023-04-14T09:03:57.049Z"
   },
   {
    "duration": 22,
    "start_time": "2023-04-14T09:03:57.073Z"
   },
   {
    "duration": 25,
    "start_time": "2023-04-14T09:03:57.098Z"
   },
   {
    "duration": 412,
    "start_time": "2023-04-14T09:03:57.124Z"
   },
   {
    "duration": 400,
    "start_time": "2023-04-14T09:03:57.539Z"
   },
   {
    "duration": 329,
    "start_time": "2023-04-14T09:03:57.942Z"
   },
   {
    "duration": 10,
    "start_time": "2023-04-14T09:03:58.274Z"
   },
   {
    "duration": 388,
    "start_time": "2023-04-14T09:03:58.295Z"
   },
   {
    "duration": 15,
    "start_time": "2023-04-14T09:03:58.685Z"
   },
   {
    "duration": 281,
    "start_time": "2023-04-14T09:03:58.703Z"
   },
   {
    "duration": 380,
    "start_time": "2023-04-14T09:03:58.997Z"
   },
   {
    "duration": 14,
    "start_time": "2023-04-14T09:03:59.380Z"
   },
   {
    "duration": 218,
    "start_time": "2023-04-14T09:03:59.397Z"
   },
   {
    "duration": 8,
    "start_time": "2023-04-14T09:03:59.617Z"
   },
   {
    "duration": 213,
    "start_time": "2023-04-14T09:03:59.627Z"
   },
   {
    "duration": 198,
    "start_time": "2023-04-14T09:03:59.843Z"
   },
   {
    "duration": 7,
    "start_time": "2023-04-14T09:04:00.043Z"
   },
   {
    "duration": 378,
    "start_time": "2023-04-14T09:04:00.052Z"
   },
   {
    "duration": 292,
    "start_time": "2023-04-14T09:04:00.433Z"
   },
   {
    "duration": 34,
    "start_time": "2023-04-14T09:04:00.727Z"
   },
   {
    "duration": 32,
    "start_time": "2023-04-14T09:04:00.763Z"
   },
   {
    "duration": 34,
    "start_time": "2023-04-14T09:04:00.798Z"
   },
   {
    "duration": 64,
    "start_time": "2023-04-14T09:04:00.834Z"
   },
   {
    "duration": 78,
    "start_time": "2023-04-14T09:04:00.901Z"
   },
   {
    "duration": 22,
    "start_time": "2023-04-14T09:04:00.981Z"
   },
   {
    "duration": 241,
    "start_time": "2023-04-14T09:05:28.179Z"
   },
   {
    "duration": 304,
    "start_time": "2023-04-14T09:05:59.846Z"
   },
   {
    "duration": 256,
    "start_time": "2023-04-14T09:06:25.374Z"
   },
   {
    "duration": 205,
    "start_time": "2023-04-14T09:09:26.812Z"
   },
   {
    "duration": 219,
    "start_time": "2023-04-14T09:09:39.258Z"
   },
   {
    "duration": 179,
    "start_time": "2023-04-14T09:09:57.881Z"
   },
   {
    "duration": 1231,
    "start_time": "2023-04-14T09:16:59.174Z"
   },
   {
    "duration": 66,
    "start_time": "2023-04-14T09:17:00.407Z"
   },
   {
    "duration": 14,
    "start_time": "2023-04-14T09:17:00.475Z"
   },
   {
    "duration": 64,
    "start_time": "2023-04-14T09:17:00.491Z"
   },
   {
    "duration": 73,
    "start_time": "2023-04-14T09:17:00.557Z"
   },
   {
    "duration": 53,
    "start_time": "2023-04-14T09:17:00.632Z"
   },
   {
    "duration": 69,
    "start_time": "2023-04-14T09:17:00.689Z"
   },
   {
    "duration": 61,
    "start_time": "2023-04-14T09:17:00.760Z"
   },
   {
    "duration": 63,
    "start_time": "2023-04-14T09:17:00.825Z"
   },
   {
    "duration": 88,
    "start_time": "2023-04-14T09:17:00.891Z"
   },
   {
    "duration": 82,
    "start_time": "2023-04-14T09:17:00.981Z"
   },
   {
    "duration": 59,
    "start_time": "2023-04-14T09:17:01.066Z"
   },
   {
    "duration": 70,
    "start_time": "2023-04-14T09:17:01.128Z"
   },
   {
    "duration": 131,
    "start_time": "2023-04-14T09:17:01.201Z"
   },
   {
    "duration": 27,
    "start_time": "2023-04-14T09:17:01.334Z"
   },
   {
    "duration": 74,
    "start_time": "2023-04-14T09:17:01.363Z"
   },
   {
    "duration": 28,
    "start_time": "2023-04-14T09:17:01.439Z"
   },
   {
    "duration": 54,
    "start_time": "2023-04-14T09:17:01.469Z"
   },
   {
    "duration": 28,
    "start_time": "2023-04-14T09:17:01.524Z"
   },
   {
    "duration": 57,
    "start_time": "2023-04-14T09:17:01.554Z"
   },
   {
    "duration": 346,
    "start_time": "2023-04-14T09:17:01.613Z"
   },
   {
    "duration": 284,
    "start_time": "2023-04-14T09:17:01.961Z"
   },
   {
    "duration": 210,
    "start_time": "2023-04-14T09:17:02.247Z"
   },
   {
    "duration": 7,
    "start_time": "2023-04-14T09:17:02.459Z"
   },
   {
    "duration": 398,
    "start_time": "2023-04-14T09:17:02.468Z"
   },
   {
    "duration": 7,
    "start_time": "2023-04-14T09:17:02.869Z"
   },
   {
    "duration": 220,
    "start_time": "2023-04-14T09:17:02.878Z"
   },
   {
    "duration": 336,
    "start_time": "2023-04-14T09:17:03.101Z"
   },
   {
    "duration": 8,
    "start_time": "2023-04-14T09:17:03.439Z"
   },
   {
    "duration": 206,
    "start_time": "2023-04-14T09:17:03.449Z"
   },
   {
    "duration": 6,
    "start_time": "2023-04-14T09:17:03.656Z"
   },
   {
    "duration": 151,
    "start_time": "2023-04-14T09:17:03.664Z"
   },
   {
    "duration": 145,
    "start_time": "2023-04-14T09:17:03.817Z"
   },
   {
    "duration": 5,
    "start_time": "2023-04-14T09:17:03.964Z"
   },
   {
    "duration": 308,
    "start_time": "2023-04-14T09:17:03.972Z"
   },
   {
    "duration": 184,
    "start_time": "2023-04-14T09:17:04.282Z"
   },
   {
    "duration": 33,
    "start_time": "2023-04-14T09:17:04.468Z"
   },
   {
    "duration": 15,
    "start_time": "2023-04-14T09:17:04.503Z"
   },
   {
    "duration": 11,
    "start_time": "2023-04-14T09:17:04.520Z"
   },
   {
    "duration": 14,
    "start_time": "2023-04-14T09:17:04.533Z"
   },
   {
    "duration": 52,
    "start_time": "2023-04-14T09:17:04.549Z"
   },
   {
    "duration": 20,
    "start_time": "2023-04-14T09:17:04.603Z"
   },
   {
    "duration": 277,
    "start_time": "2023-04-14T09:25:40.747Z"
   },
   {
    "duration": 355,
    "start_time": "2023-04-14T09:25:59.059Z"
   },
   {
    "duration": 66,
    "start_time": "2023-04-14T09:33:26.928Z"
   },
   {
    "duration": 276,
    "start_time": "2023-04-14T09:35:46.769Z"
   },
   {
    "duration": 283,
    "start_time": "2023-04-14T09:36:47.249Z"
   },
   {
    "duration": 58,
    "start_time": "2023-04-14T09:37:46.011Z"
   },
   {
    "duration": 229,
    "start_time": "2023-04-14T09:40:17.908Z"
   },
   {
    "duration": 114,
    "start_time": "2023-04-14T10:10:55.136Z"
   },
   {
    "duration": 69,
    "start_time": "2023-04-14T10:11:09.902Z"
   },
   {
    "duration": 7,
    "start_time": "2023-04-14T10:14:07.814Z"
   },
   {
    "duration": 21,
    "start_time": "2023-04-14T10:14:59.212Z"
   },
   {
    "duration": 5,
    "start_time": "2023-04-14T10:16:11.683Z"
   },
   {
    "duration": 13,
    "start_time": "2023-04-14T10:16:19.087Z"
   },
   {
    "duration": 13,
    "start_time": "2023-04-14T10:20:16.194Z"
   },
   {
    "duration": 7,
    "start_time": "2023-04-14T10:21:10.619Z"
   },
   {
    "duration": 4,
    "start_time": "2023-04-14T10:21:41.955Z"
   },
   {
    "duration": 11,
    "start_time": "2023-04-14T10:25:19.172Z"
   },
   {
    "duration": 1027,
    "start_time": "2023-04-14T10:26:16.270Z"
   },
   {
    "duration": 786,
    "start_time": "2023-04-14T10:26:26.505Z"
   },
   {
    "duration": 829,
    "start_time": "2023-04-14T10:27:16.526Z"
   },
   {
    "duration": 773,
    "start_time": "2023-04-14T10:27:26.873Z"
   },
   {
    "duration": 12,
    "start_time": "2023-04-14T10:28:14.535Z"
   },
   {
    "duration": 4,
    "start_time": "2023-04-14T10:28:26.574Z"
   },
   {
    "duration": 12,
    "start_time": "2023-04-14T10:28:43.742Z"
   },
   {
    "duration": 12,
    "start_time": "2023-04-14T10:29:31.007Z"
   },
   {
    "duration": 48,
    "start_time": "2023-04-14T10:29:43.011Z"
   },
   {
    "duration": 4,
    "start_time": "2023-04-14T10:29:49.679Z"
   },
   {
    "duration": 4,
    "start_time": "2023-04-14T10:30:09.870Z"
   },
   {
    "duration": 4,
    "start_time": "2023-04-14T10:30:22.931Z"
   },
   {
    "duration": 5,
    "start_time": "2023-04-14T10:30:43.612Z"
   },
   {
    "duration": 4,
    "start_time": "2023-04-14T10:34:35.109Z"
   },
   {
    "duration": 5,
    "start_time": "2023-04-14T10:35:01.202Z"
   },
   {
    "duration": 4,
    "start_time": "2023-04-14T10:35:12.088Z"
   },
   {
    "duration": 48,
    "start_time": "2023-04-14T10:35:40.597Z"
   },
   {
    "duration": 1119,
    "start_time": "2023-04-14T12:16:29.864Z"
   },
   {
    "duration": 65,
    "start_time": "2023-04-14T12:16:30.985Z"
   },
   {
    "duration": 11,
    "start_time": "2023-04-14T12:16:31.052Z"
   },
   {
    "duration": 40,
    "start_time": "2023-04-14T12:16:31.065Z"
   },
   {
    "duration": 38,
    "start_time": "2023-04-14T12:16:31.107Z"
   },
   {
    "duration": 23,
    "start_time": "2023-04-14T12:16:31.147Z"
   },
   {
    "duration": 16,
    "start_time": "2023-04-14T12:16:31.171Z"
   },
   {
    "duration": 28,
    "start_time": "2023-04-14T12:16:31.189Z"
   },
   {
    "duration": 42,
    "start_time": "2023-04-14T12:16:31.219Z"
   },
   {
    "duration": 40,
    "start_time": "2023-04-14T12:16:31.264Z"
   },
   {
    "duration": 58,
    "start_time": "2023-04-14T12:16:31.306Z"
   },
   {
    "duration": 54,
    "start_time": "2023-04-14T12:16:31.366Z"
   },
   {
    "duration": 47,
    "start_time": "2023-04-14T12:16:31.422Z"
   },
   {
    "duration": 63,
    "start_time": "2023-04-14T12:16:31.471Z"
   },
   {
    "duration": 17,
    "start_time": "2023-04-14T12:16:31.536Z"
   },
   {
    "duration": 87,
    "start_time": "2023-04-14T12:16:31.555Z"
   },
   {
    "duration": 35,
    "start_time": "2023-04-14T12:16:31.643Z"
   },
   {
    "duration": 59,
    "start_time": "2023-04-14T12:16:31.680Z"
   },
   {
    "duration": 38,
    "start_time": "2023-04-14T12:16:31.740Z"
   },
   {
    "duration": 31,
    "start_time": "2023-04-14T12:16:31.780Z"
   },
   {
    "duration": 277,
    "start_time": "2023-04-14T12:16:31.813Z"
   },
   {
    "duration": 250,
    "start_time": "2023-04-14T12:16:32.092Z"
   },
   {
    "duration": 186,
    "start_time": "2023-04-14T12:16:32.344Z"
   },
   {
    "duration": 6,
    "start_time": "2023-04-14T12:16:32.531Z"
   },
   {
    "duration": 270,
    "start_time": "2023-04-14T12:16:32.538Z"
   },
   {
    "duration": 6,
    "start_time": "2023-04-14T12:16:32.809Z"
   },
   {
    "duration": 203,
    "start_time": "2023-04-14T12:16:32.816Z"
   },
   {
    "duration": 260,
    "start_time": "2023-04-14T12:16:33.022Z"
   },
   {
    "duration": 14,
    "start_time": "2023-04-14T12:16:33.283Z"
   },
   {
    "duration": 127,
    "start_time": "2023-04-14T12:16:33.298Z"
   },
   {
    "duration": 6,
    "start_time": "2023-04-14T12:16:33.426Z"
   },
   {
    "duration": 151,
    "start_time": "2023-04-14T12:16:33.433Z"
   },
   {
    "duration": 135,
    "start_time": "2023-04-14T12:16:33.586Z"
   },
   {
    "duration": 5,
    "start_time": "2023-04-14T12:16:33.723Z"
   },
   {
    "duration": 201,
    "start_time": "2023-04-14T12:16:33.730Z"
   },
   {
    "duration": 125,
    "start_time": "2023-04-14T12:16:33.932Z"
   },
   {
    "duration": 20,
    "start_time": "2023-04-14T12:16:34.059Z"
   },
   {
    "duration": 40,
    "start_time": "2023-04-14T12:16:34.081Z"
   },
   {
    "duration": 58,
    "start_time": "2023-04-14T12:16:34.123Z"
   },
   {
    "duration": 23,
    "start_time": "2023-04-14T12:16:34.183Z"
   },
   {
    "duration": 31,
    "start_time": "2023-04-14T12:16:34.208Z"
   },
   {
    "duration": 21,
    "start_time": "2023-04-14T12:16:34.241Z"
   },
   {
    "duration": 13,
    "start_time": "2023-04-14T12:16:34.263Z"
   },
   {
    "duration": 1039,
    "start_time": "2023-04-14T12:16:41.009Z"
   },
   {
    "duration": 64,
    "start_time": "2023-04-14T12:16:42.050Z"
   },
   {
    "duration": 11,
    "start_time": "2023-04-14T12:16:42.115Z"
   },
   {
    "duration": 24,
    "start_time": "2023-04-14T12:16:42.128Z"
   },
   {
    "duration": 12,
    "start_time": "2023-04-14T12:16:42.153Z"
   },
   {
    "duration": 12,
    "start_time": "2023-04-14T12:16:42.166Z"
   },
   {
    "duration": 9,
    "start_time": "2023-04-14T12:16:42.179Z"
   },
   {
    "duration": 11,
    "start_time": "2023-04-14T12:16:42.189Z"
   },
   {
    "duration": 6,
    "start_time": "2023-04-14T12:16:42.201Z"
   },
   {
    "duration": 5,
    "start_time": "2023-04-14T12:16:42.209Z"
   },
   {
    "duration": 5,
    "start_time": "2023-04-14T12:16:42.215Z"
   },
   {
    "duration": 10,
    "start_time": "2023-04-14T12:16:42.221Z"
   },
   {
    "duration": 8,
    "start_time": "2023-04-14T12:16:42.233Z"
   },
   {
    "duration": 20,
    "start_time": "2023-04-14T12:16:42.242Z"
   },
   {
    "duration": 7,
    "start_time": "2023-04-14T12:16:42.264Z"
   },
   {
    "duration": 31,
    "start_time": "2023-04-14T12:16:42.272Z"
   },
   {
    "duration": 9,
    "start_time": "2023-04-14T12:16:42.304Z"
   },
   {
    "duration": 16,
    "start_time": "2023-04-14T12:16:42.315Z"
   },
   {
    "duration": 18,
    "start_time": "2023-04-14T12:16:42.333Z"
   },
   {
    "duration": 9,
    "start_time": "2023-04-14T12:16:42.352Z"
   },
   {
    "duration": 277,
    "start_time": "2023-04-14T12:16:42.362Z"
   },
   {
    "duration": 247,
    "start_time": "2023-04-14T12:16:42.641Z"
   },
   {
    "duration": 181,
    "start_time": "2023-04-14T12:16:42.894Z"
   },
   {
    "duration": 6,
    "start_time": "2023-04-14T12:16:43.076Z"
   },
   {
    "duration": 286,
    "start_time": "2023-04-14T12:16:43.094Z"
   },
   {
    "duration": 12,
    "start_time": "2023-04-14T12:16:43.382Z"
   },
   {
    "duration": 189,
    "start_time": "2023-04-14T12:16:43.396Z"
   },
   {
    "duration": 289,
    "start_time": "2023-04-14T12:16:43.588Z"
   },
   {
    "duration": 15,
    "start_time": "2023-04-14T12:16:43.879Z"
   },
   {
    "duration": 130,
    "start_time": "2023-04-14T12:16:43.896Z"
   },
   {
    "duration": 4,
    "start_time": "2023-04-14T12:16:44.028Z"
   },
   {
    "duration": 207,
    "start_time": "2023-04-14T12:16:44.033Z"
   },
   {
    "duration": 144,
    "start_time": "2023-04-14T12:16:44.242Z"
   },
   {
    "duration": 8,
    "start_time": "2023-04-14T12:16:44.388Z"
   },
   {
    "duration": 217,
    "start_time": "2023-04-14T12:16:44.398Z"
   },
   {
    "duration": 128,
    "start_time": "2023-04-14T12:16:44.617Z"
   },
   {
    "duration": 20,
    "start_time": "2023-04-14T12:16:44.747Z"
   },
   {
    "duration": 9,
    "start_time": "2023-04-14T12:16:44.769Z"
   },
   {
    "duration": 20,
    "start_time": "2023-04-14T12:16:44.780Z"
   },
   {
    "duration": 20,
    "start_time": "2023-04-14T12:16:44.801Z"
   },
   {
    "duration": 9,
    "start_time": "2023-04-14T12:16:44.823Z"
   },
   {
    "duration": 48,
    "start_time": "2023-04-14T12:16:44.834Z"
   },
   {
    "duration": 14,
    "start_time": "2023-04-14T12:16:44.884Z"
   },
   {
    "duration": 1070,
    "start_time": "2023-04-14T12:37:29.081Z"
   },
   {
    "duration": 64,
    "start_time": "2023-04-14T12:37:30.153Z"
   },
   {
    "duration": 15,
    "start_time": "2023-04-14T12:37:30.219Z"
   },
   {
    "duration": 52,
    "start_time": "2023-04-14T12:37:30.236Z"
   },
   {
    "duration": 54,
    "start_time": "2023-04-14T12:37:30.290Z"
   },
   {
    "duration": 34,
    "start_time": "2023-04-14T12:37:30.346Z"
   },
   {
    "duration": 81,
    "start_time": "2023-04-14T12:37:30.381Z"
   },
   {
    "duration": 89,
    "start_time": "2023-04-14T12:37:30.463Z"
   },
   {
    "duration": 47,
    "start_time": "2023-04-14T12:37:30.554Z"
   },
   {
    "duration": 39,
    "start_time": "2023-04-14T12:37:30.605Z"
   },
   {
    "duration": 35,
    "start_time": "2023-04-14T12:37:30.646Z"
   },
   {
    "duration": 54,
    "start_time": "2023-04-14T12:37:30.683Z"
   },
   {
    "duration": 38,
    "start_time": "2023-04-14T12:37:30.739Z"
   },
   {
    "duration": 64,
    "start_time": "2023-04-14T12:37:30.779Z"
   },
   {
    "duration": 45,
    "start_time": "2023-04-14T12:37:30.845Z"
   },
   {
    "duration": 33,
    "start_time": "2023-04-14T12:37:30.892Z"
   },
   {
    "duration": 26,
    "start_time": "2023-04-14T12:37:30.928Z"
   },
   {
    "duration": 76,
    "start_time": "2023-04-14T12:37:30.955Z"
   },
   {
    "duration": 42,
    "start_time": "2023-04-14T12:37:31.033Z"
   },
   {
    "duration": 34,
    "start_time": "2023-04-14T12:37:31.077Z"
   },
   {
    "duration": 333,
    "start_time": "2023-04-14T12:37:31.112Z"
   },
   {
    "duration": 286,
    "start_time": "2023-04-14T12:37:31.447Z"
   },
   {
    "duration": 214,
    "start_time": "2023-04-14T12:37:31.735Z"
   },
   {
    "duration": 6,
    "start_time": "2023-04-14T12:37:31.951Z"
   },
   {
    "duration": 346,
    "start_time": "2023-04-14T12:37:31.958Z"
   },
   {
    "duration": 6,
    "start_time": "2023-04-14T12:37:32.307Z"
   },
   {
    "duration": 209,
    "start_time": "2023-04-14T12:37:32.315Z"
   },
   {
    "duration": 274,
    "start_time": "2023-04-14T12:37:32.527Z"
   },
   {
    "duration": 7,
    "start_time": "2023-04-14T12:37:32.803Z"
   },
   {
    "duration": 136,
    "start_time": "2023-04-14T12:37:32.811Z"
   },
   {
    "duration": 5,
    "start_time": "2023-04-14T12:37:32.949Z"
   },
   {
    "duration": 169,
    "start_time": "2023-04-14T12:37:32.956Z"
   },
   {
    "duration": 168,
    "start_time": "2023-04-14T12:37:33.126Z"
   },
   {
    "duration": 4,
    "start_time": "2023-04-14T12:37:33.296Z"
   },
   {
    "duration": 241,
    "start_time": "2023-04-14T12:37:33.302Z"
   },
   {
    "duration": 135,
    "start_time": "2023-04-14T12:37:33.545Z"
   },
   {
    "duration": 26,
    "start_time": "2023-04-14T12:37:33.682Z"
   },
   {
    "duration": 11,
    "start_time": "2023-04-14T12:37:33.709Z"
   },
   {
    "duration": 8,
    "start_time": "2023-04-14T12:37:33.721Z"
   },
   {
    "duration": 5,
    "start_time": "2023-04-14T12:37:33.731Z"
   },
   {
    "duration": 8,
    "start_time": "2023-04-14T12:37:33.737Z"
   },
   {
    "duration": 62,
    "start_time": "2023-04-14T12:37:33.746Z"
   },
   {
    "duration": 13,
    "start_time": "2023-04-14T12:37:33.810Z"
   },
   {
    "duration": 1183,
    "start_time": "2023-04-15T12:49:07.350Z"
   },
   {
    "duration": 76,
    "start_time": "2023-04-15T12:49:08.537Z"
   },
   {
    "duration": 12,
    "start_time": "2023-04-15T12:49:08.615Z"
   },
   {
    "duration": 11,
    "start_time": "2023-04-15T12:49:08.629Z"
   },
   {
    "duration": 11,
    "start_time": "2023-04-15T12:49:08.641Z"
   },
   {
    "duration": 12,
    "start_time": "2023-04-15T12:49:08.654Z"
   },
   {
    "duration": 10,
    "start_time": "2023-04-15T12:49:08.668Z"
   },
   {
    "duration": 25,
    "start_time": "2023-04-15T12:49:08.680Z"
   },
   {
    "duration": 7,
    "start_time": "2023-04-15T12:49:08.706Z"
   },
   {
    "duration": 10,
    "start_time": "2023-04-15T12:49:08.716Z"
   },
   {
    "duration": 6,
    "start_time": "2023-04-15T12:49:08.728Z"
   },
   {
    "duration": 10,
    "start_time": "2023-04-15T12:49:08.735Z"
   },
   {
    "duration": 10,
    "start_time": "2023-04-15T12:49:08.746Z"
   },
   {
    "duration": 35,
    "start_time": "2023-04-15T12:49:08.757Z"
   },
   {
    "duration": 9,
    "start_time": "2023-04-15T12:49:08.794Z"
   },
   {
    "duration": 13,
    "start_time": "2023-04-15T12:49:08.804Z"
   },
   {
    "duration": 10,
    "start_time": "2023-04-15T12:49:08.818Z"
   },
   {
    "duration": 10,
    "start_time": "2023-04-15T12:49:08.829Z"
   },
   {
    "duration": 4,
    "start_time": "2023-04-15T12:49:08.840Z"
   },
   {
    "duration": 40,
    "start_time": "2023-04-15T12:49:08.846Z"
   },
   {
    "duration": 332,
    "start_time": "2023-04-15T12:49:08.888Z"
   },
   {
    "duration": 312,
    "start_time": "2023-04-15T12:49:09.222Z"
   },
   {
    "duration": 250,
    "start_time": "2023-04-15T12:49:09.536Z"
   },
   {
    "duration": 11,
    "start_time": "2023-04-15T12:49:09.788Z"
   },
   {
    "duration": 339,
    "start_time": "2023-04-15T12:49:09.801Z"
   },
   {
    "duration": 6,
    "start_time": "2023-04-15T12:49:10.141Z"
   },
   {
    "duration": 78,
    "start_time": "2023-04-15T12:49:10.149Z"
   },
   {
    "duration": 0,
    "start_time": "2023-04-15T12:49:10.229Z"
   },
   {
    "duration": 0,
    "start_time": "2023-04-15T12:49:10.230Z"
   },
   {
    "duration": 0,
    "start_time": "2023-04-15T12:49:10.231Z"
   },
   {
    "duration": 0,
    "start_time": "2023-04-15T12:49:10.232Z"
   },
   {
    "duration": 0,
    "start_time": "2023-04-15T12:49:10.234Z"
   },
   {
    "duration": 0,
    "start_time": "2023-04-15T12:49:10.235Z"
   },
   {
    "duration": 0,
    "start_time": "2023-04-15T12:49:10.236Z"
   },
   {
    "duration": 0,
    "start_time": "2023-04-15T12:49:10.238Z"
   },
   {
    "duration": 0,
    "start_time": "2023-04-15T12:49:10.239Z"
   },
   {
    "duration": 0,
    "start_time": "2023-04-15T12:49:10.240Z"
   },
   {
    "duration": 0,
    "start_time": "2023-04-15T12:49:10.241Z"
   },
   {
    "duration": 0,
    "start_time": "2023-04-15T12:49:10.242Z"
   },
   {
    "duration": 0,
    "start_time": "2023-04-15T12:49:10.243Z"
   },
   {
    "duration": 0,
    "start_time": "2023-04-15T12:49:10.244Z"
   },
   {
    "duration": 0,
    "start_time": "2023-04-15T12:49:10.245Z"
   },
   {
    "duration": 0,
    "start_time": "2023-04-15T12:49:10.246Z"
   },
   {
    "duration": 1389,
    "start_time": "2023-04-15T15:16:12.096Z"
   },
   {
    "duration": 174,
    "start_time": "2023-04-15T15:16:13.487Z"
   },
   {
    "duration": 14,
    "start_time": "2023-04-15T15:16:13.663Z"
   },
   {
    "duration": 13,
    "start_time": "2023-04-15T15:16:13.679Z"
   },
   {
    "duration": 20,
    "start_time": "2023-04-15T15:16:13.694Z"
   },
   {
    "duration": 16,
    "start_time": "2023-04-15T15:16:13.716Z"
   },
   {
    "duration": 20,
    "start_time": "2023-04-15T15:16:13.734Z"
   },
   {
    "duration": 42,
    "start_time": "2023-04-15T15:16:13.756Z"
   },
   {
    "duration": 4,
    "start_time": "2023-04-15T15:16:13.803Z"
   },
   {
    "duration": 19,
    "start_time": "2023-04-15T15:16:13.809Z"
   },
   {
    "duration": 9,
    "start_time": "2023-04-15T15:16:13.830Z"
   },
   {
    "duration": 11,
    "start_time": "2023-04-15T15:16:13.841Z"
   },
   {
    "duration": 27,
    "start_time": "2023-04-15T15:16:13.853Z"
   },
   {
    "duration": 33,
    "start_time": "2023-04-15T15:16:13.883Z"
   },
   {
    "duration": 10,
    "start_time": "2023-04-15T15:16:13.918Z"
   },
   {
    "duration": 19,
    "start_time": "2023-04-15T15:16:13.930Z"
   },
   {
    "duration": 38,
    "start_time": "2023-04-15T15:16:13.951Z"
   },
   {
    "duration": 11,
    "start_time": "2023-04-15T15:16:13.991Z"
   },
   {
    "duration": 7,
    "start_time": "2023-04-15T15:16:14.004Z"
   },
   {
    "duration": 15,
    "start_time": "2023-04-15T15:16:14.013Z"
   },
   {
    "duration": 350,
    "start_time": "2023-04-15T15:16:14.030Z"
   },
   {
    "duration": 312,
    "start_time": "2023-04-15T15:16:14.381Z"
   },
   {
    "duration": 233,
    "start_time": "2023-04-15T15:16:14.695Z"
   },
   {
    "duration": 6,
    "start_time": "2023-04-15T15:16:14.930Z"
   },
   {
    "duration": 397,
    "start_time": "2023-04-15T15:16:14.938Z"
   },
   {
    "duration": 6,
    "start_time": "2023-04-15T15:16:15.337Z"
   },
   {
    "duration": 121,
    "start_time": "2023-04-15T15:16:15.344Z"
   },
   {
    "duration": 0,
    "start_time": "2023-04-15T15:16:15.467Z"
   },
   {
    "duration": 0,
    "start_time": "2023-04-15T15:16:15.468Z"
   },
   {
    "duration": 0,
    "start_time": "2023-04-15T15:16:15.469Z"
   },
   {
    "duration": 0,
    "start_time": "2023-04-15T15:16:15.471Z"
   },
   {
    "duration": 0,
    "start_time": "2023-04-15T15:16:15.472Z"
   },
   {
    "duration": 0,
    "start_time": "2023-04-15T15:16:15.474Z"
   },
   {
    "duration": 0,
    "start_time": "2023-04-15T15:16:15.475Z"
   },
   {
    "duration": 0,
    "start_time": "2023-04-15T15:16:15.477Z"
   },
   {
    "duration": 0,
    "start_time": "2023-04-15T15:16:15.477Z"
   },
   {
    "duration": 0,
    "start_time": "2023-04-15T15:16:15.478Z"
   },
   {
    "duration": 0,
    "start_time": "2023-04-15T15:16:15.479Z"
   },
   {
    "duration": 0,
    "start_time": "2023-04-15T15:16:15.481Z"
   },
   {
    "duration": 0,
    "start_time": "2023-04-15T15:16:15.482Z"
   },
   {
    "duration": 0,
    "start_time": "2023-04-15T15:16:15.483Z"
   },
   {
    "duration": 0,
    "start_time": "2023-04-15T15:16:15.484Z"
   },
   {
    "duration": 0,
    "start_time": "2023-04-15T15:16:15.485Z"
   },
   {
    "duration": 205,
    "start_time": "2023-04-15T15:16:41.933Z"
   },
   {
    "duration": 1194,
    "start_time": "2023-04-15T15:16:48.926Z"
   },
   {
    "duration": 60,
    "start_time": "2023-04-15T15:16:50.122Z"
   },
   {
    "duration": 15,
    "start_time": "2023-04-15T15:16:50.184Z"
   },
   {
    "duration": 16,
    "start_time": "2023-04-15T15:16:50.202Z"
   },
   {
    "duration": 8,
    "start_time": "2023-04-15T15:16:50.220Z"
   },
   {
    "duration": 21,
    "start_time": "2023-04-15T15:16:50.230Z"
   },
   {
    "duration": 38,
    "start_time": "2023-04-15T15:16:50.253Z"
   },
   {
    "duration": 16,
    "start_time": "2023-04-15T15:16:50.294Z"
   },
   {
    "duration": 5,
    "start_time": "2023-04-15T15:16:50.312Z"
   },
   {
    "duration": 10,
    "start_time": "2023-04-15T15:16:50.320Z"
   },
   {
    "duration": 17,
    "start_time": "2023-04-15T15:16:50.332Z"
   },
   {
    "duration": 12,
    "start_time": "2023-04-15T15:16:50.352Z"
   },
   {
    "duration": 33,
    "start_time": "2023-04-15T15:16:50.366Z"
   },
   {
    "duration": 34,
    "start_time": "2023-04-15T15:16:50.402Z"
   },
   {
    "duration": 11,
    "start_time": "2023-04-15T15:16:50.438Z"
   },
   {
    "duration": 53,
    "start_time": "2023-04-15T15:16:50.451Z"
   },
   {
    "duration": 17,
    "start_time": "2023-04-15T15:16:50.507Z"
   },
   {
    "duration": 22,
    "start_time": "2023-04-15T15:16:50.526Z"
   },
   {
    "duration": 6,
    "start_time": "2023-04-15T15:16:50.550Z"
   },
   {
    "duration": 18,
    "start_time": "2023-04-15T15:16:50.558Z"
   },
   {
    "duration": 362,
    "start_time": "2023-04-15T15:16:50.590Z"
   },
   {
    "duration": 296,
    "start_time": "2023-04-15T15:16:50.953Z"
   },
   {
    "duration": 208,
    "start_time": "2023-04-15T15:16:51.251Z"
   },
   {
    "duration": 6,
    "start_time": "2023-04-15T15:16:51.461Z"
   },
   {
    "duration": 332,
    "start_time": "2023-04-15T15:16:51.469Z"
   },
   {
    "duration": 7,
    "start_time": "2023-04-15T15:16:51.803Z"
   },
   {
    "duration": 251,
    "start_time": "2023-04-15T15:16:51.812Z"
   },
   {
    "duration": 331,
    "start_time": "2023-04-15T15:16:52.068Z"
   },
   {
    "duration": 11,
    "start_time": "2023-04-15T15:16:52.401Z"
   },
   {
    "duration": 167,
    "start_time": "2023-04-15T15:16:52.414Z"
   },
   {
    "duration": 5,
    "start_time": "2023-04-15T15:16:52.583Z"
   },
   {
    "duration": 159,
    "start_time": "2023-04-15T15:16:52.593Z"
   },
   {
    "duration": 163,
    "start_time": "2023-04-15T15:16:52.753Z"
   },
   {
    "duration": 5,
    "start_time": "2023-04-15T15:16:52.918Z"
   },
   {
    "duration": 255,
    "start_time": "2023-04-15T15:16:52.925Z"
   },
   {
    "duration": 164,
    "start_time": "2023-04-15T15:16:53.181Z"
   },
   {
    "duration": 23,
    "start_time": "2023-04-15T15:16:53.346Z"
   },
   {
    "duration": 27,
    "start_time": "2023-04-15T15:16:53.371Z"
   },
   {
    "duration": 10,
    "start_time": "2023-04-15T15:16:53.400Z"
   },
   {
    "duration": 6,
    "start_time": "2023-04-15T15:16:53.412Z"
   },
   {
    "duration": 9,
    "start_time": "2023-04-15T15:16:53.420Z"
   },
   {
    "duration": 21,
    "start_time": "2023-04-15T15:16:53.430Z"
   },
   {
    "duration": 52,
    "start_time": "2023-04-15T15:16:53.452Z"
   },
   {
    "duration": 1384,
    "start_time": "2023-04-16T15:26:58.833Z"
   },
   {
    "duration": 249,
    "start_time": "2023-04-16T15:27:00.219Z"
   },
   {
    "duration": 14,
    "start_time": "2023-04-16T15:27:00.469Z"
   },
   {
    "duration": 34,
    "start_time": "2023-04-16T15:27:00.485Z"
   },
   {
    "duration": 28,
    "start_time": "2023-04-16T15:27:00.526Z"
   },
   {
    "duration": 26,
    "start_time": "2023-04-16T15:27:00.555Z"
   },
   {
    "duration": 46,
    "start_time": "2023-04-16T15:27:00.584Z"
   },
   {
    "duration": 34,
    "start_time": "2023-04-16T15:27:00.632Z"
   },
   {
    "duration": 27,
    "start_time": "2023-04-16T15:27:00.668Z"
   },
   {
    "duration": 64,
    "start_time": "2023-04-16T15:27:00.697Z"
   },
   {
    "duration": 23,
    "start_time": "2023-04-16T15:27:00.764Z"
   },
   {
    "duration": 54,
    "start_time": "2023-04-16T15:27:00.789Z"
   },
   {
    "duration": 16,
    "start_time": "2023-04-16T15:27:00.845Z"
   },
   {
    "duration": 42,
    "start_time": "2023-04-16T15:27:00.865Z"
   },
   {
    "duration": 36,
    "start_time": "2023-04-16T15:27:00.909Z"
   },
   {
    "duration": 42,
    "start_time": "2023-04-16T15:27:00.947Z"
   },
   {
    "duration": 42,
    "start_time": "2023-04-16T15:27:00.991Z"
   },
   {
    "duration": 16,
    "start_time": "2023-04-16T15:27:01.035Z"
   },
   {
    "duration": 24,
    "start_time": "2023-04-16T15:27:01.053Z"
   },
   {
    "duration": 18,
    "start_time": "2023-04-16T15:27:01.079Z"
   },
   {
    "duration": 327,
    "start_time": "2023-04-16T15:27:01.099Z"
   },
   {
    "duration": 349,
    "start_time": "2023-04-16T15:27:01.428Z"
   },
   {
    "duration": 217,
    "start_time": "2023-04-16T15:27:01.779Z"
   },
   {
    "duration": 6,
    "start_time": "2023-04-16T15:27:01.998Z"
   },
   {
    "duration": 431,
    "start_time": "2023-04-16T15:27:02.006Z"
   },
   {
    "duration": 7,
    "start_time": "2023-04-16T15:27:02.438Z"
   },
   {
    "duration": 232,
    "start_time": "2023-04-16T15:27:02.447Z"
   },
   {
    "duration": 328,
    "start_time": "2023-04-16T15:27:02.681Z"
   },
   {
    "duration": 8,
    "start_time": "2023-04-16T15:27:03.010Z"
   },
   {
    "duration": 138,
    "start_time": "2023-04-16T15:27:03.019Z"
   },
   {
    "duration": 5,
    "start_time": "2023-04-16T15:27:03.158Z"
   },
   {
    "duration": 187,
    "start_time": "2023-04-16T15:27:03.164Z"
   },
   {
    "duration": 201,
    "start_time": "2023-04-16T15:27:03.353Z"
   },
   {
    "duration": 5,
    "start_time": "2023-04-16T15:27:03.556Z"
   },
   {
    "duration": 297,
    "start_time": "2023-04-16T15:27:03.567Z"
   },
   {
    "duration": 172,
    "start_time": "2023-04-16T15:27:03.866Z"
   },
   {
    "duration": 22,
    "start_time": "2023-04-16T15:27:04.040Z"
   },
   {
    "duration": 15,
    "start_time": "2023-04-16T15:27:04.064Z"
   },
   {
    "duration": 16,
    "start_time": "2023-04-16T15:27:04.111Z"
   },
   {
    "duration": 10,
    "start_time": "2023-04-16T15:27:04.129Z"
   },
   {
    "duration": 8,
    "start_time": "2023-04-16T15:27:04.142Z"
   },
   {
    "duration": 29,
    "start_time": "2023-04-16T15:27:04.152Z"
   },
   {
    "duration": 17,
    "start_time": "2023-04-16T15:27:04.182Z"
   },
   {
    "duration": 1160,
    "start_time": "2023-04-16T15:35:11.598Z"
   },
   {
    "duration": 63,
    "start_time": "2023-04-16T15:35:12.761Z"
   },
   {
    "duration": 13,
    "start_time": "2023-04-16T15:35:12.826Z"
   },
   {
    "duration": 13,
    "start_time": "2023-04-16T15:35:12.841Z"
   },
   {
    "duration": 8,
    "start_time": "2023-04-16T15:35:12.857Z"
   },
   {
    "duration": 12,
    "start_time": "2023-04-16T15:35:12.866Z"
   },
   {
    "duration": 7,
    "start_time": "2023-04-16T15:35:12.880Z"
   },
   {
    "duration": 16,
    "start_time": "2023-04-16T15:35:12.889Z"
   },
   {
    "duration": 4,
    "start_time": "2023-04-16T15:35:12.909Z"
   },
   {
    "duration": 7,
    "start_time": "2023-04-16T15:35:12.916Z"
   },
   {
    "duration": 5,
    "start_time": "2023-04-16T15:35:12.924Z"
   },
   {
    "duration": 11,
    "start_time": "2023-04-16T15:35:12.930Z"
   },
   {
    "duration": 12,
    "start_time": "2023-04-16T15:35:12.943Z"
   },
   {
    "duration": 29,
    "start_time": "2023-04-16T15:35:12.957Z"
   },
   {
    "duration": 16,
    "start_time": "2023-04-16T15:35:12.995Z"
   },
   {
    "duration": 11,
    "start_time": "2023-04-16T15:35:13.013Z"
   },
   {
    "duration": 14,
    "start_time": "2023-04-16T15:35:13.026Z"
   },
   {
    "duration": 9,
    "start_time": "2023-04-16T15:35:13.042Z"
   },
   {
    "duration": 5,
    "start_time": "2023-04-16T15:35:13.053Z"
   },
   {
    "duration": 40,
    "start_time": "2023-04-16T15:35:13.059Z"
   },
   {
    "duration": 306,
    "start_time": "2023-04-16T15:35:13.106Z"
   },
   {
    "duration": 263,
    "start_time": "2023-04-16T15:35:13.415Z"
   },
   {
    "duration": 178,
    "start_time": "2023-04-16T15:35:13.679Z"
   },
   {
    "duration": 5,
    "start_time": "2023-04-16T15:35:13.859Z"
   },
   {
    "duration": 335,
    "start_time": "2023-04-16T15:35:13.866Z"
   },
   {
    "duration": 9,
    "start_time": "2023-04-16T15:35:14.203Z"
   },
   {
    "duration": 208,
    "start_time": "2023-04-16T15:35:14.214Z"
   },
   {
    "duration": 265,
    "start_time": "2023-04-16T15:35:14.424Z"
   },
   {
    "duration": 14,
    "start_time": "2023-04-16T15:35:14.694Z"
   },
   {
    "duration": 121,
    "start_time": "2023-04-16T15:35:14.710Z"
   },
   {
    "duration": 5,
    "start_time": "2023-04-16T15:35:14.832Z"
   },
   {
    "duration": 132,
    "start_time": "2023-04-16T15:35:14.838Z"
   },
   {
    "duration": 144,
    "start_time": "2023-04-16T15:35:14.971Z"
   },
   {
    "duration": 4,
    "start_time": "2023-04-16T15:35:15.117Z"
   },
   {
    "duration": 215,
    "start_time": "2023-04-16T15:35:15.123Z"
   },
   {
    "duration": 161,
    "start_time": "2023-04-16T15:35:15.340Z"
   },
   {
    "duration": 21,
    "start_time": "2023-04-16T15:35:15.503Z"
   },
   {
    "duration": 9,
    "start_time": "2023-04-16T15:35:15.525Z"
   },
   {
    "duration": 14,
    "start_time": "2023-04-16T15:35:15.535Z"
   },
   {
    "duration": 19,
    "start_time": "2023-04-16T15:35:15.550Z"
   },
   {
    "duration": 6,
    "start_time": "2023-04-16T15:35:15.572Z"
   },
   {
    "duration": 33,
    "start_time": "2023-04-16T15:35:15.579Z"
   },
   {
    "duration": 12,
    "start_time": "2023-04-16T15:35:15.615Z"
   }
  ],
  "kernelspec": {
   "display_name": "Python 3 (ipykernel)",
   "language": "python",
   "name": "python3"
  },
  "language_info": {
   "codemirror_mode": {
    "name": "ipython",
    "version": 3
   },
   "file_extension": ".py",
   "mimetype": "text/x-python",
   "name": "python",
   "nbconvert_exporter": "python",
   "pygments_lexer": "ipython3",
   "version": "3.9.13"
  },
  "toc": {
   "base_numbering": 1,
   "nav_menu": {},
   "number_sections": true,
   "sideBar": true,
   "skip_h1_title": true,
   "title_cell": "Table of Contents",
   "title_sidebar": "Contents",
   "toc_cell": false,
   "toc_position": {
    "height": "calc(100% - 180px)",
    "left": "10px",
    "top": "150px",
    "width": "336px"
   },
   "toc_section_display": true,
   "toc_window_display": true
  }
 },
 "nbformat": 4,
 "nbformat_minor": 2
}
