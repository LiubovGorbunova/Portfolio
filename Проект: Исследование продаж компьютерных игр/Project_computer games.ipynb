{
 "cells": [
  {
   "cell_type": "markdown",
   "metadata": {},
   "source": [
    "**Оглавление** \n",
    "\n",
    "1. [Загрузка данных](#1)\n",
    "2. [Предобработка данных](#2)\n",
    "3. [Исследовательский анализ данных](#3)\n",
    "4. [Портрет пользователя каждого региона](#4)\n",
    "5. [Проверьте гипотезы](#5)\n",
    "6. [Вывод](#6)"
   ]
  },
  {
   "cell_type": "markdown",
   "metadata": {},
   "source": [
    "# Исследование продаж компьютерных игр\n",
    "\n",
    "Интернет-магазин «Стримчик» продаёт по всему миру компьютерные игры. Из открытых источников нам доступны исторические данные о продажах игр, оценки пользователей и экспертов, жанры и платформы (например, Xbox или PlayStation). Нам нужно выявить определяющие успешность игры закономерности. Это позволит сделать ставку на потенциально популярный продукт и спланировать рекламные кампании. Перед нами данные до 2016 года. Представим, что сейчас декабрь 2016 г., и мы планируем кампанию на 2017 год. \n",
    "\n",
    "Цель исследования: анализ состояния рынка компьютерных игр, оценка объемов продаж, а также определение факторов, влияющих на продажи для построения прогноза на 2017 год.\n",
    "\n",
    "Данные для анализа: сведения о продажах игр за период с 1980 по 2016 года на различных платформах в разрезе регионов продаж. Данные также содержат информацию об оценках критиков, оценках пользователей и рейтинге ESRB.\n",
    "\n",
    "В ходе исследования мы выясним:\n",
    "- наиболее популярные и потенциально прибыльные платформы;\n",
    "- наиболее популярные и потенциально прибыльные жанры;\n",
    "- влияют ли рейтинги экспертов и пользователей на продажи игр;\n",
    "- как отличаются предпочтения пользователей в разных регионах;\n",
    "- влияет ли рейтинг ESRB на продажи в разных регионах.\n",
    "\n",
    "Кроме того, мы проверим 2 гипотезы:\n",
    "- гипотезу о том, что средние пользовательские рейтинги платформ Xbox One и PC одинаковые;\n",
    "- гипотезу о том, что средние пользовательские рейтинги жанров Action и Sports разные."
   ]
  },
  {
   "cell_type": "markdown",
   "metadata": {},
   "source": [
    "<a id=\"1\"></a>\n",
    "## Загрузка данных"
   ]
  },
  {
   "cell_type": "markdown",
   "metadata": {},
   "source": [
    "Импортируем необходимые библиотеки. Считаем данные из csv-файла в датафрейм и сохраним в переменную data."
   ]
  },
  {
   "cell_type": "code",
   "execution_count": 1,
   "metadata": {},
   "outputs": [],
   "source": [
    "import pandas as pd\n",
    "import matplotlib.pyplot as plt\n",
    "from scipy import stats as st\n",
    "import warnings\n",
    "warnings.filterwarnings('ignore')"
   ]
  },
  {
   "cell_type": "code",
   "execution_count": 2,
   "metadata": {},
   "outputs": [],
   "source": [
    "try:\n",
    "    data = pd.read_csv('games.csv')\n",
    "except:\n",
    "    data = pd.read_csv('/datasets/games.csv')"
   ]
  },
  {
   "cell_type": "markdown",
   "metadata": {},
   "source": [
    "Выведем первые 10 строчек датафрейма data на экран."
   ]
  },
  {
   "cell_type": "code",
   "execution_count": 3,
   "metadata": {},
   "outputs": [
    {
     "data": {
      "text/html": [
       "<div>\n",
       "<style scoped>\n",
       "    .dataframe tbody tr th:only-of-type {\n",
       "        vertical-align: middle;\n",
       "    }\n",
       "\n",
       "    .dataframe tbody tr th {\n",
       "        vertical-align: top;\n",
       "    }\n",
       "\n",
       "    .dataframe thead th {\n",
       "        text-align: right;\n",
       "    }\n",
       "</style>\n",
       "<table border=\"1\" class=\"dataframe\">\n",
       "  <thead>\n",
       "    <tr style=\"text-align: right;\">\n",
       "      <th></th>\n",
       "      <th>Name</th>\n",
       "      <th>Platform</th>\n",
       "      <th>Year_of_Release</th>\n",
       "      <th>Genre</th>\n",
       "      <th>NA_sales</th>\n",
       "      <th>EU_sales</th>\n",
       "      <th>JP_sales</th>\n",
       "      <th>Other_sales</th>\n",
       "      <th>Critic_Score</th>\n",
       "      <th>User_Score</th>\n",
       "      <th>Rating</th>\n",
       "    </tr>\n",
       "  </thead>\n",
       "  <tbody>\n",
       "    <tr>\n",
       "      <th>0</th>\n",
       "      <td>Wii Sports</td>\n",
       "      <td>Wii</td>\n",
       "      <td>2006.0</td>\n",
       "      <td>Sports</td>\n",
       "      <td>41.36</td>\n",
       "      <td>28.96</td>\n",
       "      <td>3.77</td>\n",
       "      <td>8.45</td>\n",
       "      <td>76.0</td>\n",
       "      <td>8</td>\n",
       "      <td>E</td>\n",
       "    </tr>\n",
       "    <tr>\n",
       "      <th>1</th>\n",
       "      <td>Super Mario Bros.</td>\n",
       "      <td>NES</td>\n",
       "      <td>1985.0</td>\n",
       "      <td>Platform</td>\n",
       "      <td>29.08</td>\n",
       "      <td>3.58</td>\n",
       "      <td>6.81</td>\n",
       "      <td>0.77</td>\n",
       "      <td>NaN</td>\n",
       "      <td>NaN</td>\n",
       "      <td>NaN</td>\n",
       "    </tr>\n",
       "    <tr>\n",
       "      <th>2</th>\n",
       "      <td>Mario Kart Wii</td>\n",
       "      <td>Wii</td>\n",
       "      <td>2008.0</td>\n",
       "      <td>Racing</td>\n",
       "      <td>15.68</td>\n",
       "      <td>12.76</td>\n",
       "      <td>3.79</td>\n",
       "      <td>3.29</td>\n",
       "      <td>82.0</td>\n",
       "      <td>8.3</td>\n",
       "      <td>E</td>\n",
       "    </tr>\n",
       "    <tr>\n",
       "      <th>3</th>\n",
       "      <td>Wii Sports Resort</td>\n",
       "      <td>Wii</td>\n",
       "      <td>2009.0</td>\n",
       "      <td>Sports</td>\n",
       "      <td>15.61</td>\n",
       "      <td>10.93</td>\n",
       "      <td>3.28</td>\n",
       "      <td>2.95</td>\n",
       "      <td>80.0</td>\n",
       "      <td>8</td>\n",
       "      <td>E</td>\n",
       "    </tr>\n",
       "    <tr>\n",
       "      <th>4</th>\n",
       "      <td>Pokemon Red/Pokemon Blue</td>\n",
       "      <td>GB</td>\n",
       "      <td>1996.0</td>\n",
       "      <td>Role-Playing</td>\n",
       "      <td>11.27</td>\n",
       "      <td>8.89</td>\n",
       "      <td>10.22</td>\n",
       "      <td>1.00</td>\n",
       "      <td>NaN</td>\n",
       "      <td>NaN</td>\n",
       "      <td>NaN</td>\n",
       "    </tr>\n",
       "    <tr>\n",
       "      <th>5</th>\n",
       "      <td>Tetris</td>\n",
       "      <td>GB</td>\n",
       "      <td>1989.0</td>\n",
       "      <td>Puzzle</td>\n",
       "      <td>23.20</td>\n",
       "      <td>2.26</td>\n",
       "      <td>4.22</td>\n",
       "      <td>0.58</td>\n",
       "      <td>NaN</td>\n",
       "      <td>NaN</td>\n",
       "      <td>NaN</td>\n",
       "    </tr>\n",
       "    <tr>\n",
       "      <th>6</th>\n",
       "      <td>New Super Mario Bros.</td>\n",
       "      <td>DS</td>\n",
       "      <td>2006.0</td>\n",
       "      <td>Platform</td>\n",
       "      <td>11.28</td>\n",
       "      <td>9.14</td>\n",
       "      <td>6.50</td>\n",
       "      <td>2.88</td>\n",
       "      <td>89.0</td>\n",
       "      <td>8.5</td>\n",
       "      <td>E</td>\n",
       "    </tr>\n",
       "    <tr>\n",
       "      <th>7</th>\n",
       "      <td>Wii Play</td>\n",
       "      <td>Wii</td>\n",
       "      <td>2006.0</td>\n",
       "      <td>Misc</td>\n",
       "      <td>13.96</td>\n",
       "      <td>9.18</td>\n",
       "      <td>2.93</td>\n",
       "      <td>2.84</td>\n",
       "      <td>58.0</td>\n",
       "      <td>6.6</td>\n",
       "      <td>E</td>\n",
       "    </tr>\n",
       "    <tr>\n",
       "      <th>8</th>\n",
       "      <td>New Super Mario Bros. Wii</td>\n",
       "      <td>Wii</td>\n",
       "      <td>2009.0</td>\n",
       "      <td>Platform</td>\n",
       "      <td>14.44</td>\n",
       "      <td>6.94</td>\n",
       "      <td>4.70</td>\n",
       "      <td>2.24</td>\n",
       "      <td>87.0</td>\n",
       "      <td>8.4</td>\n",
       "      <td>E</td>\n",
       "    </tr>\n",
       "    <tr>\n",
       "      <th>9</th>\n",
       "      <td>Duck Hunt</td>\n",
       "      <td>NES</td>\n",
       "      <td>1984.0</td>\n",
       "      <td>Shooter</td>\n",
       "      <td>26.93</td>\n",
       "      <td>0.63</td>\n",
       "      <td>0.28</td>\n",
       "      <td>0.47</td>\n",
       "      <td>NaN</td>\n",
       "      <td>NaN</td>\n",
       "      <td>NaN</td>\n",
       "    </tr>\n",
       "  </tbody>\n",
       "</table>\n",
       "</div>"
      ],
      "text/plain": [
       "                        Name Platform  Year_of_Release         Genre  \\\n",
       "0                 Wii Sports      Wii           2006.0        Sports   \n",
       "1          Super Mario Bros.      NES           1985.0      Platform   \n",
       "2             Mario Kart Wii      Wii           2008.0        Racing   \n",
       "3          Wii Sports Resort      Wii           2009.0        Sports   \n",
       "4   Pokemon Red/Pokemon Blue       GB           1996.0  Role-Playing   \n",
       "5                     Tetris       GB           1989.0        Puzzle   \n",
       "6      New Super Mario Bros.       DS           2006.0      Platform   \n",
       "7                   Wii Play      Wii           2006.0          Misc   \n",
       "8  New Super Mario Bros. Wii      Wii           2009.0      Platform   \n",
       "9                  Duck Hunt      NES           1984.0       Shooter   \n",
       "\n",
       "   NA_sales  EU_sales  JP_sales  Other_sales  Critic_Score User_Score Rating  \n",
       "0     41.36     28.96      3.77         8.45          76.0          8      E  \n",
       "1     29.08      3.58      6.81         0.77           NaN        NaN    NaN  \n",
       "2     15.68     12.76      3.79         3.29          82.0        8.3      E  \n",
       "3     15.61     10.93      3.28         2.95          80.0          8      E  \n",
       "4     11.27      8.89     10.22         1.00           NaN        NaN    NaN  \n",
       "5     23.20      2.26      4.22         0.58           NaN        NaN    NaN  \n",
       "6     11.28      9.14      6.50         2.88          89.0        8.5      E  \n",
       "7     13.96      9.18      2.93         2.84          58.0        6.6      E  \n",
       "8     14.44      6.94      4.70         2.24          87.0        8.4      E  \n",
       "9     26.93      0.63      0.28         0.47           NaN        NaN    NaN  "
      ]
     },
     "execution_count": 3,
     "metadata": {},
     "output_type": "execute_result"
    }
   ],
   "source": [
    "data.head(10)"
   ]
  },
  {
   "cell_type": "markdown",
   "metadata": {},
   "source": [
    "Выведем основную информацию о датафрейме с помощью метода info()."
   ]
  },
  {
   "cell_type": "code",
   "execution_count": 4,
   "metadata": {
    "scrolled": true
   },
   "outputs": [
    {
     "name": "stdout",
     "output_type": "stream",
     "text": [
      "<class 'pandas.core.frame.DataFrame'>\n",
      "RangeIndex: 16715 entries, 0 to 16714\n",
      "Data columns (total 11 columns):\n",
      " #   Column           Non-Null Count  Dtype  \n",
      "---  ------           --------------  -----  \n",
      " 0   Name             16713 non-null  object \n",
      " 1   Platform         16715 non-null  object \n",
      " 2   Year_of_Release  16446 non-null  float64\n",
      " 3   Genre            16713 non-null  object \n",
      " 4   NA_sales         16715 non-null  float64\n",
      " 5   EU_sales         16715 non-null  float64\n",
      " 6   JP_sales         16715 non-null  float64\n",
      " 7   Other_sales      16715 non-null  float64\n",
      " 8   Critic_Score     8137 non-null   float64\n",
      " 9   User_Score       10014 non-null  object \n",
      " 10  Rating           9949 non-null   object \n",
      "dtypes: float64(6), object(5)\n",
      "memory usage: 1.4+ MB\n"
     ]
    }
   ],
   "source": [
    "data.info()"
   ]
  },
  {
   "cell_type": "markdown",
   "metadata": {},
   "source": [
    "Датафрейм содержит 11 столбцов и 16715 строк. Из основной информации видно, что датафрейм имеет следующее проблемы:\n",
    "\n",
    "- названия столбцов содержат заглавные буквы;\n",
    "- столбцы 'Year_of_Release' и 'User_Score' имеют неверные типы данных;\n",
    "- в 6 из 11 столбцов имеются пропущенные значения."
   ]
  },
  {
   "cell_type": "markdown",
   "metadata": {},
   "source": [
    "<a id=\"2\"></a>\n",
    "## Предобработка данных"
   ]
  },
  {
   "cell_type": "markdown",
   "metadata": {},
   "source": [
    "**2.1 Работа с названиями столбцов**"
   ]
  },
  {
   "cell_type": "markdown",
   "metadata": {},
   "source": [
    "Все столбцы датафрейма имеют в названии заглавные буквы, что неудобно для дальнейшей работы. Переименуем их и приведем названия к единому стилю."
   ]
  },
  {
   "cell_type": "code",
   "execution_count": 5,
   "metadata": {
    "scrolled": true
   },
   "outputs": [
    {
     "data": {
      "text/plain": [
       "Index(['name', 'platform', 'year_of_release', 'genre', 'na_sales', 'eu_sales',\n",
       "       'jp_sales', 'other_sales', 'critic_score', 'user_score', 'rating'],\n",
       "      dtype='object')"
      ]
     },
     "execution_count": 5,
     "metadata": {},
     "output_type": "execute_result"
    }
   ],
   "source": [
    "# изменение наименования столбцов\n",
    "data.columns = data.columns.str.lower()\n",
    "# вывод наименований столбцов\n",
    "data.columns"
   ]
  },
  {
   "cell_type": "markdown",
   "metadata": {},
   "source": [
    "**2.2 Работа с пропусками и типом данных**"
   ]
  },
  {
   "cell_type": "markdown",
   "metadata": {},
   "source": [
    "Выведем количество пропущенных значений для каждого столбца."
   ]
  },
  {
   "cell_type": "code",
   "execution_count": 6,
   "metadata": {},
   "outputs": [
    {
     "data": {
      "text/plain": [
       "name                  2\n",
       "platform              0\n",
       "year_of_release     269\n",
       "genre                 2\n",
       "na_sales              0\n",
       "eu_sales              0\n",
       "jp_sales              0\n",
       "other_sales           0\n",
       "critic_score       8578\n",
       "user_score         6701\n",
       "rating             6766\n",
       "dtype: int64"
      ]
     },
     "execution_count": 6,
     "metadata": {},
     "output_type": "execute_result"
    }
   ],
   "source": [
    "# вывод количества пропусков в каждом столбце\n",
    "data.isna().sum()"
   ]
  },
  {
   "cell_type": "markdown",
   "metadata": {},
   "source": [
    "В столбцах 'name' и 'genre' имеются по 2 пропуска. Анализ показал, что эти пропуски находятся в одних и тех же строках. Видимо при отсутствии названия игры не было возможности указать жанр игры. Данные строки можно удалить из датафрейма в виду их малого количества.\n",
    "\n",
    "Количество строк с пропущенными значениями в столбце 'year_of_release' составляет 269 шт. или 1.6% от всех значений. Данные строки также можно удалить из датафрейма. Это существенно не повлияет на достоверность анализа данных."
   ]
  },
  {
   "cell_type": "code",
   "execution_count": 7,
   "metadata": {},
   "outputs": [],
   "source": [
    "# удаление строк с пропущенными значениями в столбце year_of_release\n",
    "data = data.dropna(subset = ['name', 'year_of_release']).reset_index(drop=True)"
   ]
  },
  {
   "cell_type": "markdown",
   "metadata": {},
   "source": [
    "Столбец 'year_of_release' тип данных float несмотря на то, что год - это целое число. Для удобства в дальнейшем изменим тип данных на int."
   ]
  },
  {
   "cell_type": "code",
   "execution_count": 8,
   "metadata": {},
   "outputs": [],
   "source": [
    "# изменение типа данных в столбце year_of_release\n",
    "data['year_of_release'] = data['year_of_release'].astype('int') "
   ]
  },
  {
   "cell_type": "markdown",
   "metadata": {},
   "source": [
    "В столбце 'rating' отсутствует более 6 тыс. значений. В данном столбце указывается возрастной ценз компьютерных игр по системе ESRB, которая определяет рейтинги для компьютерных видеоигр и другого развлекательного программного обеспечения в США и Канаде. \n",
    "Заполнить эти пропуски невозможно, поскольку данная система не действует в других странах. Если игра не продается в Северной Америке, то и рейтинга ESRB у нее не будет. Для того, чтобы мы могли в дальнейшем использовать данные строки для анализа, заменим пустые значение на n/a (not available)."
   ]
  },
  {
   "cell_type": "code",
   "execution_count": 9,
   "metadata": {},
   "outputs": [],
   "source": [
    "# замена пропусков на значение n/a\n",
    "data['rating'] = data['rating'].fillna('n/a')"
   ]
  },
  {
   "cell_type": "markdown",
   "metadata": {},
   "source": [
    "Пропуски в столбцах 'critic_score' и 'user_score' оставляем незаполненными. Эти показатели не зависят от других показателей датафрейма, в связи с чем заполнение пропусков невозможно.\n",
    "\n",
    "Также следует отметить, что столбец 'user_score' содержит числовые данные, однако при этом имеет тип данных object. Для того, чтобы выяснить причину, выведем перечень уникальных значений столбца."
   ]
  },
  {
   "cell_type": "code",
   "execution_count": 10,
   "metadata": {},
   "outputs": [
    {
     "data": {
      "text/plain": [
       "array(['8', nan, '8.3', '8.5', '6.6', '8.4', '8.6', '7.7', '6.3', '7.4',\n",
       "       '8.2', '9', '7.9', '8.1', '8.7', '7.1', '3.4', '5.3', '4.8', '3.2',\n",
       "       '8.9', '6.4', '7.8', '7.5', '2.6', '7.2', '9.2', '7', '7.3', '4.3',\n",
       "       '7.6', '5.7', '5', '9.1', '6.5', 'tbd', '8.8', '6.9', '9.4', '6.8',\n",
       "       '6.1', '6.7', '5.4', '4', '4.9', '4.5', '9.3', '6.2', '4.2', '6',\n",
       "       '3.7', '4.1', '5.8', '5.6', '5.5', '4.4', '4.6', '5.9', '3.9',\n",
       "       '3.1', '2.9', '5.2', '3.3', '4.7', '5.1', '3.5', '2.5', '1.9', '3',\n",
       "       '2.7', '2.2', '2', '9.5', '2.1', '3.6', '2.8', '1.8', '3.8', '0',\n",
       "       '1.6', '9.6', '2.4', '1.7', '1.1', '0.3', '1.5', '0.7', '1.2',\n",
       "       '2.3', '0.5', '1.3', '0.2', '0.6', '1.4', '0.9', '1', '9.7'],\n",
       "      dtype=object)"
      ]
     },
     "execution_count": 10,
     "metadata": {},
     "output_type": "execute_result"
    }
   ],
   "source": [
    "# вывод всех уникальных значений столбца user_score\n",
    "data['user_score'].unique()"
   ]
  },
  {
   "cell_type": "markdown",
   "metadata": {},
   "source": [
    "В столбце 'user_score' помимо числовых значений присутствует аббревиатура 'tbd', что расшифровывается как \"to be determined\" или \"будет определено\". Это означает, что игра находится в процессе оценки, но сама оценка пока не проставлена (вероятно не набралось нужного количества оценок для возможности ее публикации). По сути это означает, что оценка у игры отсутствует. В связи с этим произведем замену значения 'tbd' на значение 'NaN'. Затем преобразуем данные в тип float, поскольку тип object не позволит нам в дальнейшем проводить анализ данного столбца (object - текстовый формат, не позволяющий проводить математические действия над данными)."
   ]
  },
  {
   "cell_type": "code",
   "execution_count": 11,
   "metadata": {},
   "outputs": [],
   "source": [
    "# замена значения 'tbd' на 'NaN', изменение типа данных\n",
    "data['user_score'] = data['user_score'].replace('tbd', 'NaN').astype('float') "
   ]
  },
  {
   "cell_type": "markdown",
   "metadata": {},
   "source": [
    "Выведем основную информацию о датафрейме с помощью метода info()."
   ]
  },
  {
   "cell_type": "code",
   "execution_count": 12,
   "metadata": {},
   "outputs": [
    {
     "name": "stdout",
     "output_type": "stream",
     "text": [
      "<class 'pandas.core.frame.DataFrame'>\n",
      "RangeIndex: 16444 entries, 0 to 16443\n",
      "Data columns (total 11 columns):\n",
      " #   Column           Non-Null Count  Dtype  \n",
      "---  ------           --------------  -----  \n",
      " 0   name             16444 non-null  object \n",
      " 1   platform         16444 non-null  object \n",
      " 2   year_of_release  16444 non-null  int32  \n",
      " 3   genre            16444 non-null  object \n",
      " 4   na_sales         16444 non-null  float64\n",
      " 5   eu_sales         16444 non-null  float64\n",
      " 6   jp_sales         16444 non-null  float64\n",
      " 7   other_sales      16444 non-null  float64\n",
      " 8   critic_score     7983 non-null   float64\n",
      " 9   user_score       7463 non-null   float64\n",
      " 10  rating           16444 non-null  object \n",
      "dtypes: float64(6), int32(1), object(4)\n",
      "memory usage: 1.3+ MB\n"
     ]
    }
   ],
   "source": [
    "data.info()"
   ]
  },
  {
   "cell_type": "markdown",
   "metadata": {},
   "source": [
    "После проведенных изменений стало видно, что в столбцах 'critic_score' и 'user_score' отсутствует примерно одинаковое количество значений. Возможно между ними имеется взаимосвязь. Проверим это. В отдельную переменную сохраним срез данных, где будут только те строки датафрейма, где отсутствуют значения в столбце 'critic_score'. Затем выведем основную информацию о полученном срезе."
   ]
  },
  {
   "cell_type": "code",
   "execution_count": 13,
   "metadata": {},
   "outputs": [
    {
     "name": "stdout",
     "output_type": "stream",
     "text": [
      "<class 'pandas.core.frame.DataFrame'>\n",
      "Int64Index: 8461 entries, 1 to 16443\n",
      "Data columns (total 11 columns):\n",
      " #   Column           Non-Null Count  Dtype  \n",
      "---  ------           --------------  -----  \n",
      " 0   name             8461 non-null   object \n",
      " 1   platform         8461 non-null   object \n",
      " 2   year_of_release  8461 non-null   int32  \n",
      " 3   genre            8461 non-null   object \n",
      " 4   na_sales         8461 non-null   float64\n",
      " 5   eu_sales         8461 non-null   float64\n",
      " 6   jp_sales         8461 non-null   float64\n",
      " 7   other_sales      8461 non-null   float64\n",
      " 8   critic_score     0 non-null      float64\n",
      " 9   user_score       569 non-null    float64\n",
      " 10  rating           8461 non-null   object \n",
      "dtypes: float64(6), int32(1), object(4)\n",
      "memory usage: 760.2+ KB\n"
     ]
    }
   ],
   "source": [
    "data_score = data.query('critic_score.isna()')\n",
    "data_score.info()"
   ]
  },
  {
   "cell_type": "markdown",
   "metadata": {},
   "source": [
    "Данные в столбце 'user_score' практически отсутствуют. Таким образом около 7900 игр не имеют ни оценки критиков, ни оценки пользователей. Возможно, причиной этого является то, часть игр не оценивается критиками и пользователями (в т.ч. нишевые игры).  "
   ]
  },
  {
   "cell_type": "markdown",
   "metadata": {},
   "source": [
    "**2.3 Обработка дубликатов**"
   ]
  },
  {
   "cell_type": "markdown",
   "metadata": {},
   "source": [
    "Проверим наличие явных и неявных дубликатов в датафрейме."
   ]
  },
  {
   "cell_type": "code",
   "execution_count": 14,
   "metadata": {},
   "outputs": [
    {
     "data": {
      "text/plain": [
       "0"
      ]
     },
     "execution_count": 14,
     "metadata": {},
     "output_type": "execute_result"
    }
   ],
   "source": [
    "# создадим копию датафрейма\n",
    "data_dup = data.copy()\n",
    "# приведем данные столбца name к нижнему регистру\n",
    "data_dup['name'] = data_dup['name'].str.lower()\n",
    "# проверим наличие дубликатов\n",
    "data_dup.duplicated().sum()"
   ]
  },
  {
   "cell_type": "markdown",
   "metadata": {},
   "source": [
    "Явные и неявные дубликаты отсутствуют"
   ]
  },
  {
   "cell_type": "markdown",
   "metadata": {},
   "source": [
    "**2.4 Добавление в таблицу новых столбцов**"
   ]
  },
  {
   "cell_type": "markdown",
   "metadata": {},
   "source": [
    "Добавим в таблицу столбец c суммарными продажами во всех регионах."
   ]
  },
  {
   "cell_type": "code",
   "execution_count": 15,
   "metadata": {},
   "outputs": [],
   "source": [
    "# добавление столбца total_sales\n",
    "data['total_sales'] = data['na_sales'] + data['eu_sales'] + data['jp_sales'] + data['other_sales']"
   ]
  },
  {
   "cell_type": "markdown",
   "metadata": {},
   "source": [
    "<a id=\"3\"></a>\n",
    "## Исследовательский анализ данных"
   ]
  },
  {
   "cell_type": "markdown",
   "metadata": {},
   "source": [
    "***Изучим, сколько игр выпускалось в разные годы***"
   ]
  },
  {
   "cell_type": "code",
   "execution_count": 16,
   "metadata": {},
   "outputs": [
    {
     "data": {
      "text/plain": [
       "year_of_release\n",
       "1980       9\n",
       "1981      46\n",
       "1982      36\n",
       "1983      17\n",
       "1984      14\n",
       "1985      14\n",
       "1986      21\n",
       "1987      16\n",
       "1988      15\n",
       "1989      17\n",
       "1990      16\n",
       "1991      41\n",
       "1992      43\n",
       "1993      60\n",
       "1994     121\n",
       "1995     219\n",
       "1996     263\n",
       "1997     289\n",
       "1998     379\n",
       "1999     338\n",
       "2000     350\n",
       "2001     482\n",
       "2002     829\n",
       "2003     775\n",
       "2004     762\n",
       "2005     939\n",
       "2006    1006\n",
       "2007    1197\n",
       "2008    1427\n",
       "2009    1426\n",
       "2010    1255\n",
       "2011    1136\n",
       "2012     653\n",
       "2013     544\n",
       "2014     581\n",
       "2015     606\n",
       "2016     502\n",
       "Name: year_of_release, dtype: int64"
      ]
     },
     "execution_count": 16,
     "metadata": {},
     "output_type": "execute_result"
    }
   ],
   "source": [
    "# сгруппируем данные по столбцу year_of_release, вычислим количество вышедших игр \n",
    "data.groupby('year_of_release')['year_of_release'].agg('count')"
   ]
  },
  {
   "cell_type": "markdown",
   "metadata": {},
   "source": [
    "Для наглядности построим график."
   ]
  },
  {
   "cell_type": "code",
   "execution_count": 17,
   "metadata": {},
   "outputs": [
    {
     "data": {
      "image/png": "[encoded data removed]",
      "text/plain": [
       "<Figure size 640x480 with 1 Axes>"
      ]
     },
     "metadata": {},
     "output_type": "display_data"
    }
   ],
   "source": [
    "# сгруппируем данные по столбцу year_of_release, вычислим количество вышедших игр и построим график\n",
    "data.groupby('year_of_release')['total_sales'].agg('count').plot(title = 'Изменение количества вышедших игр по годам',\n",
    "                                                                 grid = True, ylabel = 'count');"
   ]
  },
  {
   "cell_type": "markdown",
   "metadata": {},
   "source": [
    "В период с 1980 по 1993 года в год выпускалось не более 100 игр. С 1994 до 2000 года наблюдался умеренный рост количества выпускаемых игр. С 2000 года происходит стремительный рост, который достигает своего пика в 2008 году на отметке 1427 игр за год. Далее идет снижение, а с 2014 года опять начинается умеренный рост.  \n",
    "\n",
    "На основании сводной информации можно сделать вывод, что данные за 2016 год являются неполными, поскольку в мы видим значительный спад по сравнению с 2015 годом, тогда как до этого была заметна тенденция к росту количества выпускаемых игр. Неполные данные могут привести к неверным выводам. В связи с этим данные за 2016 год не подходят для проведения анализа с целью построения прогноза на 2017 год.\n",
    "\n",
    "Актуальным для построения прогноза на 2017 год является период с 2013 по 2015 год, поскольку этот период и наиболее однородный и отражает текущие тенденции в изменении количества выходящих игр за год."
   ]
  },
  {
   "cell_type": "markdown",
   "metadata": {},
   "source": [
    "***Посмотрим, как менялись продажи по платформам***\n",
    "\n",
    "Выведем 7 платформ с наибольшими суммарными продажами за весь период наблюдений."
   ]
  },
  {
   "cell_type": "code",
   "execution_count": 18,
   "metadata": {},
   "outputs": [
    {
     "data": {
      "text/html": [
       "<div>\n",
       "<style scoped>\n",
       "    .dataframe tbody tr th:only-of-type {\n",
       "        vertical-align: middle;\n",
       "    }\n",
       "\n",
       "    .dataframe tbody tr th {\n",
       "        vertical-align: top;\n",
       "    }\n",
       "\n",
       "    .dataframe thead th {\n",
       "        text-align: right;\n",
       "    }\n",
       "</style>\n",
       "<table border=\"1\" class=\"dataframe\">\n",
       "  <thead>\n",
       "    <tr style=\"text-align: right;\">\n",
       "      <th></th>\n",
       "      <th>total_sales</th>\n",
       "    </tr>\n",
       "    <tr>\n",
       "      <th>platform</th>\n",
       "      <th></th>\n",
       "    </tr>\n",
       "  </thead>\n",
       "  <tbody>\n",
       "    <tr>\n",
       "      <th>PS2</th>\n",
       "      <td>1233.56</td>\n",
       "    </tr>\n",
       "    <tr>\n",
       "      <th>X360</th>\n",
       "      <td>961.24</td>\n",
       "    </tr>\n",
       "    <tr>\n",
       "      <th>PS3</th>\n",
       "      <td>931.34</td>\n",
       "    </tr>\n",
       "    <tr>\n",
       "      <th>Wii</th>\n",
       "      <td>891.18</td>\n",
       "    </tr>\n",
       "    <tr>\n",
       "      <th>DS</th>\n",
       "      <td>802.78</td>\n",
       "    </tr>\n",
       "    <tr>\n",
       "      <th>PS</th>\n",
       "      <td>727.58</td>\n",
       "    </tr>\n",
       "    <tr>\n",
       "      <th>PS4</th>\n",
       "      <td>314.14</td>\n",
       "    </tr>\n",
       "  </tbody>\n",
       "</table>\n",
       "</div>"
      ],
      "text/plain": [
       "          total_sales\n",
       "platform             \n",
       "PS2           1233.56\n",
       "X360           961.24\n",
       "PS3            931.34\n",
       "Wii            891.18\n",
       "DS             802.78\n",
       "PS             727.58\n",
       "PS4            314.14"
      ]
     },
     "execution_count": 18,
     "metadata": {},
     "output_type": "execute_result"
    }
   ],
   "source": [
    "(\n",
    "    # сделаем свод по столбцу platform и вычислим суммарное количество продаж\n",
    "    data.pivot_table(index = ['platform'], values = 'total_sales', aggfunc = 'sum')\n",
    "    # отсотрируем в порядке убывания\n",
    "    .sort_values(by = 'total_sales', ascending = False)\n",
    "    # выведем первые 7 строк\n",
    "    .head(7)\n",
    ")"
   ]
  },
  {
   "cell_type": "markdown",
   "metadata": {},
   "source": [
    "Наибольшее количество продаж приходится на игры с платформы PS2 - 1 233 млн. копий. Платформы X360 и PS3 имеют суммарные продажи более 900 млн. копий каждая. Далее следуют платформы Wii, DS, PS и PS4. \n",
    "\n",
    "Построим распределение продаж по годам по 7 платформам с наибольшими суммарными продажами."
   ]
  },
  {
   "cell_type": "code",
   "execution_count": 19,
   "metadata": {},
   "outputs": [
    {
     "data": {
      "image/png": "[encoded data removed]",
      "text/plain": [
       "<Figure size 640x480 with 1 Axes>"
      ]
     },
     "metadata": {},
     "output_type": "display_data"
    }
   ],
   "source": [
    "(\n",
    "    # сделаем срез данных по нужной платформе\n",
    "    data.query('platform == \"PS2\"')\n",
    "    # сделаем свод по столбцу year_of_release и вычислим суммарное количество продаж\n",
    "    .pivot_table(index = 'year_of_release', values = 'total_sales', aggfunc = 'sum')\n",
    "    # построим график\n",
    "    .plot(kind = 'bar', title = 'Распределение продаж по годам платформы PS2', legend = True, ylabel = 'total_sales')\n",
    ");"
   ]
  },
  {
   "cell_type": "code",
   "execution_count": 20,
   "metadata": {},
   "outputs": [
    {
     "data": {
      "image/png": "[encoded data removed]",
      "text/plain": [
       "<Figure size 640x480 with 1 Axes>"
      ]
     },
     "metadata": {},
     "output_type": "display_data"
    }
   ],
   "source": [
    "(\n",
    "    # сделаем срез данных по нужной платформе\n",
    "    data.query('platform == \"X360\"')\n",
    "    # сделаем свод по столбцу year_of_release и вычислим суммарное количество продаж\n",
    "    .pivot_table(index = 'year_of_release', values = 'total_sales', aggfunc = 'sum')\n",
    "    # построим график\n",
    "    .plot(kind = 'bar', title = 'Распределение продаж по годам платформы X360', legend = True, ylabel = 'total_sales')\n",
    ");"
   ]
  },
  {
   "cell_type": "code",
   "execution_count": 21,
   "metadata": {},
   "outputs": [
    {
     "data": {
      "image/png": "[encoded data removed]",
      "text/plain": [
       "<Figure size 640x480 with 1 Axes>"
      ]
     },
     "metadata": {},
     "output_type": "display_data"
    }
   ],
   "source": [
    "(\n",
    "    # сделаем срез данных по нужной платформе\n",
    "    data.query('platform == \"PS3\"')\n",
    "    # сделаем свод по столбцу year_of_release и вычислим суммарное количество продаж\n",
    "    .pivot_table(index = 'year_of_release', values = 'total_sales', aggfunc = 'sum')\n",
    "    # построим график\n",
    "    .plot(kind = 'bar', title = 'Распределение продаж по годам платформы PS3', legend = True, ylabel = 'total_sales')\n",
    ");"
   ]
  },
  {
   "cell_type": "code",
   "execution_count": 22,
   "metadata": {},
   "outputs": [
    {
     "data": {
      "image/png": "[encoded data removed]",
      "text/plain": [
       "<Figure size 640x480 with 1 Axes>"
      ]
     },
     "metadata": {},
     "output_type": "display_data"
    }
   ],
   "source": [
    "(\n",
    "    # сделаем срез данных по нужной платформе\n",
    "    data.query('platform == \"Wii\"')\n",
    "    # сделаем свод по столбцу year_of_release и вычислим суммарное количество продаж\n",
    "    .pivot_table(index = 'year_of_release', values = 'total_sales', aggfunc = 'sum')\n",
    "    # построим график\n",
    "    .plot(kind = 'bar', title = 'Распределение продаж по годам платформы Wii', legend = True, ylabel = 'total_sales')\n",
    ");"
   ]
  },
  {
   "cell_type": "code",
   "execution_count": 23,
   "metadata": {},
   "outputs": [
    {
     "data": {
      "image/png": "[encoded data removed]",
      "text/plain": [
       "<Figure size 640x480 with 1 Axes>"
      ]
     },
     "metadata": {},
     "output_type": "display_data"
    }
   ],
   "source": [
    "(\n",
    "    # сделаем срез данных по нужной платформе\n",
    "    data.query('platform == \"DS\"')\n",
    "    # сделаем свод по столбцу year_of_release и вычислим суммарное количество продаж\n",
    "    .pivot_table(index = 'year_of_release', values = 'total_sales', aggfunc = 'sum')\n",
    "    # построим график\n",
    "    .plot(kind = 'bar', title = 'Распределение продаж по годам платформы DS', legend = True, ylabel = 'total_sales')\n",
    ");"
   ]
  },
  {
   "cell_type": "code",
   "execution_count": 24,
   "metadata": {},
   "outputs": [
    {
     "data": {
      "image/png": "[encoded data removed]",
      "text/plain": [
       "<Figure size 640x480 with 1 Axes>"
      ]
     },
     "metadata": {},
     "output_type": "display_data"
    }
   ],
   "source": [
    "(\n",
    "    # сделаем срез данных по нужной платформе\n",
    "    data.query('platform == \"PS\"')\n",
    "    # сделаем свод по столбцу year_of_release и вычислим суммарное количество продаж\n",
    "    .pivot_table(index = 'year_of_release', values = 'total_sales', aggfunc = 'sum')\n",
    "    # построим график\n",
    "    .plot(kind = 'bar', title = 'Распределение продаж по годам платформы PS', legend = True, ylabel = 'total_sales')\n",
    ");"
   ]
  },
  {
   "cell_type": "code",
   "execution_count": 25,
   "metadata": {},
   "outputs": [
    {
     "data": {
      "image/png": "[encoded data removed]",
      "text/plain": [
       "<Figure size 640x480 with 1 Axes>"
      ]
     },
     "metadata": {},
     "output_type": "display_data"
    }
   ],
   "source": [
    "(\n",
    "    # сделаем срез данных по нужной платформе\n",
    "    data.query('platform == \"PS4\"')\n",
    "    # сделаем свод по столбцу year_of_release и вычислим суммарное количество продаж\n",
    "    .pivot_table(index = 'year_of_release', values = 'total_sales', aggfunc = 'sum')\n",
    "    # построим график\n",
    "    .plot(kind = 'bar', title = 'Распределение продаж по годам платформы PS4', legend = True, ylabel = 'total_sales')\n",
    ");"
   ]
  },
  {
   "cell_type": "markdown",
   "metadata": {},
   "source": [
    "Проанализировав 7 наиболее продаваемых платформ, можно сделать вывод о том, что продажи на каждой из платформ в среднем длятся 10 лет. Однако есть и исключения. Например, игры с платформы DS продавались почти 30 лет.\n",
    "\n",
    "Далее изучим как часто появляются новые и исчезают старые платформы. Данные возьмем за период, когда начался стремительный рост продаж игр, а именно с 2000 года. Данные за более ранние периоды не представляют интереса в связи с их незначительностью."
   ]
  },
  {
   "cell_type": "code",
   "execution_count": 26,
   "metadata": {},
   "outputs": [
    {
     "data": {
      "text/html": [
       "<div>\n",
       "<style scoped>\n",
       "    .dataframe tbody tr th:only-of-type {\n",
       "        vertical-align: middle;\n",
       "    }\n",
       "\n",
       "    .dataframe tbody tr th {\n",
       "        vertical-align: top;\n",
       "    }\n",
       "\n",
       "    .dataframe thead th {\n",
       "        text-align: right;\n",
       "    }\n",
       "</style>\n",
       "<table border=\"1\" class=\"dataframe\">\n",
       "  <thead>\n",
       "    <tr style=\"text-align: right;\">\n",
       "      <th>year_of_release</th>\n",
       "      <th>2000</th>\n",
       "      <th>2001</th>\n",
       "      <th>2002</th>\n",
       "      <th>2003</th>\n",
       "      <th>2004</th>\n",
       "      <th>2005</th>\n",
       "      <th>2006</th>\n",
       "      <th>2007</th>\n",
       "      <th>2008</th>\n",
       "      <th>2009</th>\n",
       "      <th>2010</th>\n",
       "      <th>2011</th>\n",
       "      <th>2012</th>\n",
       "      <th>2013</th>\n",
       "      <th>2014</th>\n",
       "      <th>2015</th>\n",
       "      <th>2016</th>\n",
       "    </tr>\n",
       "    <tr>\n",
       "      <th>platform</th>\n",
       "      <th></th>\n",
       "      <th></th>\n",
       "      <th></th>\n",
       "      <th></th>\n",
       "      <th></th>\n",
       "      <th></th>\n",
       "      <th></th>\n",
       "      <th></th>\n",
       "      <th></th>\n",
       "      <th></th>\n",
       "      <th></th>\n",
       "      <th></th>\n",
       "      <th></th>\n",
       "      <th></th>\n",
       "      <th></th>\n",
       "      <th></th>\n",
       "      <th></th>\n",
       "    </tr>\n",
       "  </thead>\n",
       "  <tbody>\n",
       "    <tr>\n",
       "      <th>3DS</th>\n",
       "      <td>-</td>\n",
       "      <td>-</td>\n",
       "      <td>-</td>\n",
       "      <td>-</td>\n",
       "      <td>-</td>\n",
       "      <td>-</td>\n",
       "      <td>-</td>\n",
       "      <td>-</td>\n",
       "      <td>-</td>\n",
       "      <td>-</td>\n",
       "      <td>-</td>\n",
       "      <td>63.2</td>\n",
       "      <td>51.36</td>\n",
       "      <td>56.57</td>\n",
       "      <td>43.76</td>\n",
       "      <td>27.78</td>\n",
       "      <td>15.14</td>\n",
       "    </tr>\n",
       "    <tr>\n",
       "      <th>DC</th>\n",
       "      <td>5.99</td>\n",
       "      <td>1.07</td>\n",
       "      <td>0.29</td>\n",
       "      <td>-</td>\n",
       "      <td>-</td>\n",
       "      <td>-</td>\n",
       "      <td>-</td>\n",
       "      <td>0.02</td>\n",
       "      <td>0.04</td>\n",
       "      <td>-</td>\n",
       "      <td>-</td>\n",
       "      <td>-</td>\n",
       "      <td>-</td>\n",
       "      <td>-</td>\n",
       "      <td>-</td>\n",
       "      <td>-</td>\n",
       "      <td>-</td>\n",
       "    </tr>\n",
       "    <tr>\n",
       "      <th>DS</th>\n",
       "      <td>-</td>\n",
       "      <td>-</td>\n",
       "      <td>-</td>\n",
       "      <td>-</td>\n",
       "      <td>17.27</td>\n",
       "      <td>130.14</td>\n",
       "      <td>119.81</td>\n",
       "      <td>146.94</td>\n",
       "      <td>145.31</td>\n",
       "      <td>119.54</td>\n",
       "      <td>85.02</td>\n",
       "      <td>26.18</td>\n",
       "      <td>11.01</td>\n",
       "      <td>1.54</td>\n",
       "      <td>-</td>\n",
       "      <td>-</td>\n",
       "      <td>-</td>\n",
       "    </tr>\n",
       "    <tr>\n",
       "      <th>GB</th>\n",
       "      <td>19.76</td>\n",
       "      <td>9.24</td>\n",
       "      <td>-</td>\n",
       "      <td>-</td>\n",
       "      <td>-</td>\n",
       "      <td>-</td>\n",
       "      <td>-</td>\n",
       "      <td>-</td>\n",
       "      <td>-</td>\n",
       "      <td>-</td>\n",
       "      <td>-</td>\n",
       "      <td>-</td>\n",
       "      <td>-</td>\n",
       "      <td>-</td>\n",
       "      <td>-</td>\n",
       "      <td>-</td>\n",
       "      <td>-</td>\n",
       "    </tr>\n",
       "    <tr>\n",
       "      <th>GBA</th>\n",
       "      <td>0.07</td>\n",
       "      <td>61.53</td>\n",
       "      <td>74.16</td>\n",
       "      <td>56.67</td>\n",
       "      <td>77.91</td>\n",
       "      <td>33.86</td>\n",
       "      <td>5.28</td>\n",
       "      <td>3.4</td>\n",
       "      <td>-</td>\n",
       "      <td>-</td>\n",
       "      <td>-</td>\n",
       "      <td>-</td>\n",
       "      <td>-</td>\n",
       "      <td>-</td>\n",
       "      <td>-</td>\n",
       "      <td>-</td>\n",
       "      <td>-</td>\n",
       "    </tr>\n",
       "    <tr>\n",
       "      <th>GC</th>\n",
       "      <td>-</td>\n",
       "      <td>26.34</td>\n",
       "      <td>51.81</td>\n",
       "      <td>50.61</td>\n",
       "      <td>28.82</td>\n",
       "      <td>27.62</td>\n",
       "      <td>11.26</td>\n",
       "      <td>0.27</td>\n",
       "      <td>-</td>\n",
       "      <td>-</td>\n",
       "      <td>-</td>\n",
       "      <td>-</td>\n",
       "      <td>-</td>\n",
       "      <td>-</td>\n",
       "      <td>-</td>\n",
       "      <td>-</td>\n",
       "      <td>-</td>\n",
       "    </tr>\n",
       "    <tr>\n",
       "      <th>N64</th>\n",
       "      <td>33.97</td>\n",
       "      <td>3.25</td>\n",
       "      <td>0.08</td>\n",
       "      <td>-</td>\n",
       "      <td>-</td>\n",
       "      <td>-</td>\n",
       "      <td>-</td>\n",
       "      <td>-</td>\n",
       "      <td>-</td>\n",
       "      <td>-</td>\n",
       "      <td>-</td>\n",
       "      <td>-</td>\n",
       "      <td>-</td>\n",
       "      <td>-</td>\n",
       "      <td>-</td>\n",
       "      <td>-</td>\n",
       "      <td>-</td>\n",
       "    </tr>\n",
       "    <tr>\n",
       "      <th>PC</th>\n",
       "      <td>4.66</td>\n",
       "      <td>5.47</td>\n",
       "      <td>8.57</td>\n",
       "      <td>8.84</td>\n",
       "      <td>10.39</td>\n",
       "      <td>4.37</td>\n",
       "      <td>2.85</td>\n",
       "      <td>9.28</td>\n",
       "      <td>12.42</td>\n",
       "      <td>16.91</td>\n",
       "      <td>24.28</td>\n",
       "      <td>35.03</td>\n",
       "      <td>23.22</td>\n",
       "      <td>12.38</td>\n",
       "      <td>13.28</td>\n",
       "      <td>8.52</td>\n",
       "      <td>5.25</td>\n",
       "    </tr>\n",
       "    <tr>\n",
       "      <th>PS</th>\n",
       "      <td>96.37</td>\n",
       "      <td>35.59</td>\n",
       "      <td>6.67</td>\n",
       "      <td>2.07</td>\n",
       "      <td>-</td>\n",
       "      <td>-</td>\n",
       "      <td>-</td>\n",
       "      <td>-</td>\n",
       "      <td>-</td>\n",
       "      <td>-</td>\n",
       "      <td>-</td>\n",
       "      <td>-</td>\n",
       "      <td>-</td>\n",
       "      <td>-</td>\n",
       "      <td>-</td>\n",
       "      <td>-</td>\n",
       "      <td>-</td>\n",
       "    </tr>\n",
       "    <tr>\n",
       "      <th>PS2</th>\n",
       "      <td>39.17</td>\n",
       "      <td>166.43</td>\n",
       "      <td>205.38</td>\n",
       "      <td>184.31</td>\n",
       "      <td>211.81</td>\n",
       "      <td>160.66</td>\n",
       "      <td>103.42</td>\n",
       "      <td>75.99</td>\n",
       "      <td>53.9</td>\n",
       "      <td>26.4</td>\n",
       "      <td>5.64</td>\n",
       "      <td>0.45</td>\n",
       "      <td>-</td>\n",
       "      <td>-</td>\n",
       "      <td>-</td>\n",
       "      <td>-</td>\n",
       "      <td>-</td>\n",
       "    </tr>\n",
       "    <tr>\n",
       "      <th>PS3</th>\n",
       "      <td>-</td>\n",
       "      <td>-</td>\n",
       "      <td>-</td>\n",
       "      <td>-</td>\n",
       "      <td>-</td>\n",
       "      <td>-</td>\n",
       "      <td>20.96</td>\n",
       "      <td>73.19</td>\n",
       "      <td>118.52</td>\n",
       "      <td>130.93</td>\n",
       "      <td>142.17</td>\n",
       "      <td>156.78</td>\n",
       "      <td>107.36</td>\n",
       "      <td>113.25</td>\n",
       "      <td>47.76</td>\n",
       "      <td>16.82</td>\n",
       "      <td>3.6</td>\n",
       "    </tr>\n",
       "    <tr>\n",
       "      <th>PS4</th>\n",
       "      <td>-</td>\n",
       "      <td>-</td>\n",
       "      <td>-</td>\n",
       "      <td>-</td>\n",
       "      <td>-</td>\n",
       "      <td>-</td>\n",
       "      <td>-</td>\n",
       "      <td>-</td>\n",
       "      <td>-</td>\n",
       "      <td>-</td>\n",
       "      <td>-</td>\n",
       "      <td>-</td>\n",
       "      <td>-</td>\n",
       "      <td>25.99</td>\n",
       "      <td>100.0</td>\n",
       "      <td>118.9</td>\n",
       "      <td>69.25</td>\n",
       "    </tr>\n",
       "    <tr>\n",
       "      <th>PSP</th>\n",
       "      <td>-</td>\n",
       "      <td>-</td>\n",
       "      <td>-</td>\n",
       "      <td>-</td>\n",
       "      <td>7.06</td>\n",
       "      <td>43.84</td>\n",
       "      <td>55.32</td>\n",
       "      <td>46.93</td>\n",
       "      <td>34.55</td>\n",
       "      <td>37.78</td>\n",
       "      <td>35.04</td>\n",
       "      <td>17.82</td>\n",
       "      <td>7.69</td>\n",
       "      <td>3.14</td>\n",
       "      <td>0.24</td>\n",
       "      <td>0.12</td>\n",
       "      <td>-</td>\n",
       "    </tr>\n",
       "    <tr>\n",
       "      <th>PSV</th>\n",
       "      <td>-</td>\n",
       "      <td>-</td>\n",
       "      <td>-</td>\n",
       "      <td>-</td>\n",
       "      <td>-</td>\n",
       "      <td>-</td>\n",
       "      <td>-</td>\n",
       "      <td>-</td>\n",
       "      <td>-</td>\n",
       "      <td>-</td>\n",
       "      <td>-</td>\n",
       "      <td>4.63</td>\n",
       "      <td>16.19</td>\n",
       "      <td>10.59</td>\n",
       "      <td>11.9</td>\n",
       "      <td>6.25</td>\n",
       "      <td>4.25</td>\n",
       "    </tr>\n",
       "    <tr>\n",
       "      <th>WS</th>\n",
       "      <td>0.68</td>\n",
       "      <td>0.28</td>\n",
       "      <td>-</td>\n",
       "      <td>-</td>\n",
       "      <td>-</td>\n",
       "      <td>-</td>\n",
       "      <td>-</td>\n",
       "      <td>-</td>\n",
       "      <td>-</td>\n",
       "      <td>-</td>\n",
       "      <td>-</td>\n",
       "      <td>-</td>\n",
       "      <td>-</td>\n",
       "      <td>-</td>\n",
       "      <td>-</td>\n",
       "      <td>-</td>\n",
       "      <td>-</td>\n",
       "    </tr>\n",
       "    <tr>\n",
       "      <th>Wii</th>\n",
       "      <td>-</td>\n",
       "      <td>-</td>\n",
       "      <td>-</td>\n",
       "      <td>-</td>\n",
       "      <td>-</td>\n",
       "      <td>-</td>\n",
       "      <td>137.15</td>\n",
       "      <td>152.77</td>\n",
       "      <td>171.32</td>\n",
       "      <td>206.97</td>\n",
       "      <td>127.95</td>\n",
       "      <td>59.65</td>\n",
       "      <td>21.71</td>\n",
       "      <td>8.59</td>\n",
       "      <td>3.75</td>\n",
       "      <td>1.14</td>\n",
       "      <td>0.18</td>\n",
       "    </tr>\n",
       "    <tr>\n",
       "      <th>WiiU</th>\n",
       "      <td>-</td>\n",
       "      <td>-</td>\n",
       "      <td>-</td>\n",
       "      <td>-</td>\n",
       "      <td>-</td>\n",
       "      <td>-</td>\n",
       "      <td>-</td>\n",
       "      <td>-</td>\n",
       "      <td>-</td>\n",
       "      <td>-</td>\n",
       "      <td>-</td>\n",
       "      <td>-</td>\n",
       "      <td>17.56</td>\n",
       "      <td>21.65</td>\n",
       "      <td>22.03</td>\n",
       "      <td>16.35</td>\n",
       "      <td>4.6</td>\n",
       "    </tr>\n",
       "    <tr>\n",
       "      <th>X360</th>\n",
       "      <td>-</td>\n",
       "      <td>-</td>\n",
       "      <td>-</td>\n",
       "      <td>-</td>\n",
       "      <td>-</td>\n",
       "      <td>8.25</td>\n",
       "      <td>51.62</td>\n",
       "      <td>95.41</td>\n",
       "      <td>135.26</td>\n",
       "      <td>120.29</td>\n",
       "      <td>170.03</td>\n",
       "      <td>143.84</td>\n",
       "      <td>99.74</td>\n",
       "      <td>88.58</td>\n",
       "      <td>34.74</td>\n",
       "      <td>11.96</td>\n",
       "      <td>1.52</td>\n",
       "    </tr>\n",
       "    <tr>\n",
       "      <th>XB</th>\n",
       "      <td>0.99</td>\n",
       "      <td>22.26</td>\n",
       "      <td>48.01</td>\n",
       "      <td>55.04</td>\n",
       "      <td>65.42</td>\n",
       "      <td>49.08</td>\n",
       "      <td>10.04</td>\n",
       "      <td>0.55</td>\n",
       "      <td>0.18</td>\n",
       "      <td>-</td>\n",
       "      <td>-</td>\n",
       "      <td>-</td>\n",
       "      <td>-</td>\n",
       "      <td>-</td>\n",
       "      <td>-</td>\n",
       "      <td>-</td>\n",
       "      <td>-</td>\n",
       "    </tr>\n",
       "    <tr>\n",
       "      <th>XOne</th>\n",
       "      <td>-</td>\n",
       "      <td>-</td>\n",
       "      <td>-</td>\n",
       "      <td>-</td>\n",
       "      <td>-</td>\n",
       "      <td>-</td>\n",
       "      <td>-</td>\n",
       "      <td>-</td>\n",
       "      <td>-</td>\n",
       "      <td>-</td>\n",
       "      <td>-</td>\n",
       "      <td>-</td>\n",
       "      <td>-</td>\n",
       "      <td>18.96</td>\n",
       "      <td>54.07</td>\n",
       "      <td>60.14</td>\n",
       "      <td>26.15</td>\n",
       "    </tr>\n",
       "  </tbody>\n",
       "</table>\n",
       "</div>"
      ],
      "text/plain": [
       "year_of_release   2000    2001    2002    2003    2004    2005    2006  \\\n",
       "platform                                                                 \n",
       "3DS                  -       -       -       -       -       -       -   \n",
       "DC                5.99    1.07    0.29       -       -       -       -   \n",
       "DS                   -       -       -       -   17.27  130.14  119.81   \n",
       "GB               19.76    9.24       -       -       -       -       -   \n",
       "GBA               0.07   61.53   74.16   56.67   77.91   33.86    5.28   \n",
       "GC                   -   26.34   51.81   50.61   28.82   27.62   11.26   \n",
       "N64              33.97    3.25    0.08       -       -       -       -   \n",
       "PC                4.66    5.47    8.57    8.84   10.39    4.37    2.85   \n",
       "PS               96.37   35.59    6.67    2.07       -       -       -   \n",
       "PS2              39.17  166.43  205.38  184.31  211.81  160.66  103.42   \n",
       "PS3                  -       -       -       -       -       -   20.96   \n",
       "PS4                  -       -       -       -       -       -       -   \n",
       "PSP                  -       -       -       -    7.06   43.84   55.32   \n",
       "PSV                  -       -       -       -       -       -       -   \n",
       "WS                0.68    0.28       -       -       -       -       -   \n",
       "Wii                  -       -       -       -       -       -  137.15   \n",
       "WiiU                 -       -       -       -       -       -       -   \n",
       "X360                 -       -       -       -       -    8.25   51.62   \n",
       "XB                0.99   22.26   48.01   55.04   65.42   49.08   10.04   \n",
       "XOne                 -       -       -       -       -       -       -   \n",
       "\n",
       "year_of_release    2007    2008    2009    2010    2011    2012    2013  \\\n",
       "platform                                                                  \n",
       "3DS                   -       -       -       -    63.2   51.36   56.57   \n",
       "DC                 0.02    0.04       -       -       -       -       -   \n",
       "DS               146.94  145.31  119.54   85.02   26.18   11.01    1.54   \n",
       "GB                    -       -       -       -       -       -       -   \n",
       "GBA                 3.4       -       -       -       -       -       -   \n",
       "GC                 0.27       -       -       -       -       -       -   \n",
       "N64                   -       -       -       -       -       -       -   \n",
       "PC                 9.28   12.42   16.91   24.28   35.03   23.22   12.38   \n",
       "PS                    -       -       -       -       -       -       -   \n",
       "PS2               75.99    53.9    26.4    5.64    0.45       -       -   \n",
       "PS3               73.19  118.52  130.93  142.17  156.78  107.36  113.25   \n",
       "PS4                   -       -       -       -       -       -   25.99   \n",
       "PSP               46.93   34.55   37.78   35.04   17.82    7.69    3.14   \n",
       "PSV                   -       -       -       -    4.63   16.19   10.59   \n",
       "WS                    -       -       -       -       -       -       -   \n",
       "Wii              152.77  171.32  206.97  127.95   59.65   21.71    8.59   \n",
       "WiiU                  -       -       -       -       -   17.56   21.65   \n",
       "X360              95.41  135.26  120.29  170.03  143.84   99.74   88.58   \n",
       "XB                 0.55    0.18       -       -       -       -       -   \n",
       "XOne                  -       -       -       -       -       -   18.96   \n",
       "\n",
       "year_of_release   2014   2015   2016  \n",
       "platform                              \n",
       "3DS              43.76  27.78  15.14  \n",
       "DC                   -      -      -  \n",
       "DS                   -      -      -  \n",
       "GB                   -      -      -  \n",
       "GBA                  -      -      -  \n",
       "GC                   -      -      -  \n",
       "N64                  -      -      -  \n",
       "PC               13.28   8.52   5.25  \n",
       "PS                   -      -      -  \n",
       "PS2                  -      -      -  \n",
       "PS3              47.76  16.82    3.6  \n",
       "PS4              100.0  118.9  69.25  \n",
       "PSP               0.24   0.12      -  \n",
       "PSV               11.9   6.25   4.25  \n",
       "WS                   -      -      -  \n",
       "Wii               3.75   1.14   0.18  \n",
       "WiiU             22.03  16.35    4.6  \n",
       "X360             34.74  11.96   1.52  \n",
       "XB                   -      -      -  \n",
       "XOne             54.07  60.14  26.15  "
      ]
     },
     "execution_count": 26,
     "metadata": {},
     "output_type": "execute_result"
    }
   ],
   "source": [
    "(\n",
    "    # сделаем срез данных, убрав данные до 2000 года\n",
    "    data.query('year_of_release > 1999')\n",
    "    # сделаем свод по столбцу platform и выведем количество продаж в каждом году\n",
    "    .pivot_table(index = 'platform', columns = 'year_of_release', values = 'total_sales', aggfunc = 'sum')\n",
    "    .fillna('-')\n",
    ")"
   ]
  },
  {
   "cell_type": "markdown",
   "metadata": {},
   "source": [
    "Новые платформы появляются примерно 1 раз в 2-3 года. Закрытие платформ происходит немного реже."
   ]
  },
  {
   "cell_type": "markdown",
   "metadata": {},
   "source": [
    "***Создание данных за актуальный период***"
   ]
  },
  {
   "cell_type": "markdown",
   "metadata": {},
   "source": [
    "Как уже говорилось ранее, актуальным для построения прогноза на 2017 год является период с 2013 по 2015 год, поскольку этот период и наиболее однородный, отражает текущие тенденции в изменении количества выходящих игр за год, а также учитывает средний период открытия и закрытия платформ. \n",
    "\n",
    "В отдельной переменной data_act сохраним данные только за период с 2013 по 2015 года. Эти данные мы будем использовать для дальнейшего анализа."
   ]
  },
  {
   "cell_type": "code",
   "execution_count": 27,
   "metadata": {},
   "outputs": [],
   "source": [
    "# создоние переменной data_act с данными за период 2013-2015\n",
    "data_act = data.query('2012 < year_of_release < 2016') "
   ]
  },
  {
   "cell_type": "markdown",
   "metadata": {},
   "source": [
    "***Посмотрим, какие платформы лидируют по продажам***\n",
    "\n",
    "Выведем данные о продажах на платформах за каждый год актуального периода."
   ]
  },
  {
   "cell_type": "code",
   "execution_count": 28,
   "metadata": {},
   "outputs": [
    {
     "data": {
      "text/html": [
       "<div>\n",
       "<style scoped>\n",
       "    .dataframe tbody tr th:only-of-type {\n",
       "        vertical-align: middle;\n",
       "    }\n",
       "\n",
       "    .dataframe tbody tr th {\n",
       "        vertical-align: top;\n",
       "    }\n",
       "\n",
       "    .dataframe thead th {\n",
       "        text-align: right;\n",
       "    }\n",
       "</style>\n",
       "<table border=\"1\" class=\"dataframe\">\n",
       "  <thead>\n",
       "    <tr style=\"text-align: right;\">\n",
       "      <th>year_of_release</th>\n",
       "      <th>2013</th>\n",
       "      <th>2014</th>\n",
       "      <th>2015</th>\n",
       "    </tr>\n",
       "    <tr>\n",
       "      <th>platform</th>\n",
       "      <th></th>\n",
       "      <th></th>\n",
       "      <th></th>\n",
       "    </tr>\n",
       "  </thead>\n",
       "  <tbody>\n",
       "    <tr>\n",
       "      <th>PS4</th>\n",
       "      <td>25.99</td>\n",
       "      <td>100.00</td>\n",
       "      <td>118.90</td>\n",
       "    </tr>\n",
       "    <tr>\n",
       "      <th>XOne</th>\n",
       "      <td>18.96</td>\n",
       "      <td>54.07</td>\n",
       "      <td>60.14</td>\n",
       "    </tr>\n",
       "    <tr>\n",
       "      <th>3DS</th>\n",
       "      <td>56.57</td>\n",
       "      <td>43.76</td>\n",
       "      <td>27.78</td>\n",
       "    </tr>\n",
       "    <tr>\n",
       "      <th>PS3</th>\n",
       "      <td>113.25</td>\n",
       "      <td>47.76</td>\n",
       "      <td>16.82</td>\n",
       "    </tr>\n",
       "    <tr>\n",
       "      <th>WiiU</th>\n",
       "      <td>21.65</td>\n",
       "      <td>22.03</td>\n",
       "      <td>16.35</td>\n",
       "    </tr>\n",
       "    <tr>\n",
       "      <th>X360</th>\n",
       "      <td>88.58</td>\n",
       "      <td>34.74</td>\n",
       "      <td>11.96</td>\n",
       "    </tr>\n",
       "    <tr>\n",
       "      <th>PC</th>\n",
       "      <td>12.38</td>\n",
       "      <td>13.28</td>\n",
       "      <td>8.52</td>\n",
       "    </tr>\n",
       "    <tr>\n",
       "      <th>PSV</th>\n",
       "      <td>10.59</td>\n",
       "      <td>11.90</td>\n",
       "      <td>6.25</td>\n",
       "    </tr>\n",
       "    <tr>\n",
       "      <th>Wii</th>\n",
       "      <td>8.59</td>\n",
       "      <td>3.75</td>\n",
       "      <td>1.14</td>\n",
       "    </tr>\n",
       "    <tr>\n",
       "      <th>PSP</th>\n",
       "      <td>3.14</td>\n",
       "      <td>0.24</td>\n",
       "      <td>0.12</td>\n",
       "    </tr>\n",
       "    <tr>\n",
       "      <th>DS</th>\n",
       "      <td>1.54</td>\n",
       "      <td>0.00</td>\n",
       "      <td>0.00</td>\n",
       "    </tr>\n",
       "  </tbody>\n",
       "</table>\n",
       "</div>"
      ],
      "text/plain": [
       "year_of_release    2013    2014    2015\n",
       "platform                               \n",
       "PS4               25.99  100.00  118.90\n",
       "XOne              18.96   54.07   60.14\n",
       "3DS               56.57   43.76   27.78\n",
       "PS3              113.25   47.76   16.82\n",
       "WiiU              21.65   22.03   16.35\n",
       "X360              88.58   34.74   11.96\n",
       "PC                12.38   13.28    8.52\n",
       "PSV               10.59   11.90    6.25\n",
       "Wii                8.59    3.75    1.14\n",
       "PSP                3.14    0.24    0.12\n",
       "DS                 1.54    0.00    0.00"
      ]
     },
     "execution_count": 28,
     "metadata": {},
     "output_type": "execute_result"
    }
   ],
   "source": [
    "(\n",
    "    # сделаем свод по столбцу platform и выведем продажи за каждый год актуального периода\n",
    "    data_act.pivot_table(index = 'platform', columns = 'year_of_release', values = 'total_sales', aggfunc = 'sum')\n",
    "    # отсортируем в порядке убывания\n",
    "    .sort_values(by = 2015, ascending = False)\n",
    "    .fillna(0)\n",
    ")"
   ]
  },
  {
   "cell_type": "markdown",
   "metadata": {},
   "source": [
    "По итогам 2015 года самой прибыльной платформой являлась PS4. На протяжении 3-х последних лет продажи игр на этой платформе росли. Также хорошие продажи, которые растут с каждым годом, имеет платформа XOne. Эти две платформы являются самыми потенциально прибыльными.\n",
    "\n",
    "Продажи игр на других платформах снижаются из года в год. По некоторым платформам периодически прослеживается рост продаж, который, однако, в последствии все равно заканчивается снижением. "
   ]
  },
  {
   "cell_type": "markdown",
   "metadata": {},
   "source": [
    "***Проанализируем продажи игр в разбивке по платформам***\n",
    "\n",
    "Выведем 7 наиболее продаваемых платформ суммарно за весь актуальный период."
   ]
  },
  {
   "cell_type": "code",
   "execution_count": 29,
   "metadata": {},
   "outputs": [
    {
     "data": {
      "text/html": [
       "<div>\n",
       "<style scoped>\n",
       "    .dataframe tbody tr th:only-of-type {\n",
       "        vertical-align: middle;\n",
       "    }\n",
       "\n",
       "    .dataframe tbody tr th {\n",
       "        vertical-align: top;\n",
       "    }\n",
       "\n",
       "    .dataframe thead th {\n",
       "        text-align: right;\n",
       "    }\n",
       "</style>\n",
       "<table border=\"1\" class=\"dataframe\">\n",
       "  <thead>\n",
       "    <tr style=\"text-align: right;\">\n",
       "      <th></th>\n",
       "      <th>количество игр</th>\n",
       "      <th>суммарные продажи</th>\n",
       "    </tr>\n",
       "    <tr>\n",
       "      <th>platform</th>\n",
       "      <th></th>\n",
       "      <th></th>\n",
       "    </tr>\n",
       "  </thead>\n",
       "  <tbody>\n",
       "    <tr>\n",
       "      <th>PS4</th>\n",
       "      <td>228</td>\n",
       "      <td>244.89</td>\n",
       "    </tr>\n",
       "    <tr>\n",
       "      <th>PS3</th>\n",
       "      <td>307</td>\n",
       "      <td>177.83</td>\n",
       "    </tr>\n",
       "    <tr>\n",
       "      <th>X360</th>\n",
       "      <td>173</td>\n",
       "      <td>135.28</td>\n",
       "    </tr>\n",
       "    <tr>\n",
       "      <th>XOne</th>\n",
       "      <td>160</td>\n",
       "      <td>133.17</td>\n",
       "    </tr>\n",
       "    <tr>\n",
       "      <th>3DS</th>\n",
       "      <td>257</td>\n",
       "      <td>128.11</td>\n",
       "    </tr>\n",
       "    <tr>\n",
       "      <th>WiiU</th>\n",
       "      <td>101</td>\n",
       "      <td>60.03</td>\n",
       "    </tr>\n",
       "    <tr>\n",
       "      <th>PC</th>\n",
       "      <td>135</td>\n",
       "      <td>34.18</td>\n",
       "    </tr>\n",
       "  </tbody>\n",
       "</table>\n",
       "</div>"
      ],
      "text/plain": [
       "          количество игр  суммарные продажи\n",
       "platform                                   \n",
       "PS4                  228             244.89\n",
       "PS3                  307             177.83\n",
       "X360                 173             135.28\n",
       "XOne                 160             133.17\n",
       "3DS                  257             128.11\n",
       "WiiU                 101              60.03\n",
       "PC                   135              34.18"
      ]
     },
     "execution_count": 29,
     "metadata": {},
     "output_type": "execute_result"
    }
   ],
   "source": [
    "# сделаем свод по столбцу platform и выведем количество игр и их продаж \n",
    "data_act_boxplot = data_act.pivot_table(index = 'platform', values = 'total_sales', aggfunc = ['count', 'sum'])\n",
    "# переименуем столбцы\n",
    "data_act_boxplot.columns=['количество игр', 'суммарные продажи']\n",
    "# отсортируем в порядке убывания и выведем 7 значений\n",
    "data_act_boxplot.sort_values(by = 'суммарные продажи', ascending = False).head(7)"
   ]
  },
  {
   "cell_type": "markdown",
   "metadata": {},
   "source": [
    "Построим график «ящик с усами» по глобальным продажам игр в разбивке по 7 наиболее продаваемым платформам."
   ]
  },
  {
   "cell_type": "code",
   "execution_count": 30,
   "metadata": {},
   "outputs": [
    {
     "data": {
      "image/png": "[encoded data removed]",
      "text/plain": [
       "<Figure size 1500x700 with 1 Axes>"
      ]
     },
     "metadata": {},
     "output_type": "display_data"
    }
   ],
   "source": [
    "# создадим перечень из 7 наиболее продаваемых платформ\n",
    "columns = ['PS4', 'PS3', 'X360', 'XOne', '3DS', 'WiiU', 'PC']\n",
    "(\n",
    "    # перегруппируем таблицу\n",
    "    data_act.pivot_table(index = 'name', columns = 'platform', values = 'total_sales')\n",
    "    # построим график\n",
    "    .boxplot(column = columns, showfliers = False, figsize = (15, 7))\n",
    ");\n",
    "plt.xlabel('platform');\n",
    "plt.ylabel('total_sales');\n",
    "plt.title('Диаграмма размаха по глобальным продажам игр');"
   ]
  },
  {
   "cell_type": "markdown",
   "metadata": {},
   "source": [
    "На диаграммах размаха видно, что самые продаваемые в 2015 году платформы PS4 и XOne имеют наибольший разброс данных и межквартильный размах. Достаточно большое количество игр на данных платформах имеют высокие показатели продаж. \n",
    "\n",
    "Однако, несмотря на достаточно значительную разницу в объеме продаж между платформами, медианное значение продаж отличается не сильно. Большое количество продаж на платформах-лидерах, вероятно так же обусловлено большим количеством игр на платформах. "
   ]
  },
  {
   "cell_type": "markdown",
   "metadata": {},
   "source": [
    "***Посмотрим, как влияют на продажи самой популярной платформы отзывы пользователей и критиков***\n",
    "\n",
    "На продажи игр влияют различные факторы. Чтобы узнать влияют ли отзывы пользователей и критиков на продажи, необходимо изучить совместное распределение величин и рассчитать корреляцию - величину, характеризующую взаимосвязь двух или нескольких величин. Чем ближе коэффициент корреляции к крайним значениям 1 или -1, тем теснее линейная взаимосвязь\n",
    "\n",
    "Оценим влияние отзывов критиков на продажи на самой популярной платформе PS4."
   ]
  },
  {
   "cell_type": "code",
   "execution_count": 31,
   "metadata": {},
   "outputs": [],
   "source": [
    "# создадим срез данных\n",
    "data_act_ps4=data_act.query('platform == \"PS4\"')"
   ]
  },
  {
   "cell_type": "code",
   "execution_count": 32,
   "metadata": {},
   "outputs": [
    {
     "data": {
      "text/plain": [
       "0.43"
      ]
     },
     "execution_count": 32,
     "metadata": {},
     "output_type": "execute_result"
    }
   ],
   "source": [
    "# расчет коэффициента корреляции\n",
    "data_act_ps4['total_sales'].corr(data_act_ps4['critic_score']).round(2)"
   ]
  },
  {
   "cell_type": "code",
   "execution_count": 33,
   "metadata": {},
   "outputs": [
    {
     "data": {
      "image/png": "[encoded data removed]",
      "text/plain": [
       "<Figure size 640x480 with 1 Axes>"
      ]
     },
     "metadata": {},
     "output_type": "display_data"
    }
   ],
   "source": [
    "# вывод графика зависимости параметров total_sales и critic_score\n",
    "data_act_ps4.plot(x='total_sales', y = 'critic_score', \n",
    "                  kind = 'scatter', alpha = 0.5, title= 'Зависимость продаж от оценки критиков на платформе PS4');"
   ]
  },
  {
   "cell_type": "markdown",
   "metadata": {},
   "source": [
    "Размер коэффициента корреляции (0.43) и форма графика свидетельствуют о слабой связи между показателями. Вероятно, на продажи  игр другие факторы влияют сильнее, отзывы критиков.\n",
    "\n",
    "Оценим влияние отзывов пользователей на продажи на платформе PS4."
   ]
  },
  {
   "cell_type": "code",
   "execution_count": 34,
   "metadata": {},
   "outputs": [
    {
     "data": {
      "text/plain": [
       "0.02"
      ]
     },
     "execution_count": 34,
     "metadata": {},
     "output_type": "execute_result"
    }
   ],
   "source": [
    "# расчет коэффициента корреляции\n",
    "data_act_ps4['total_sales'].corr(data_act_ps4['user_score']).round(2)"
   ]
  },
  {
   "cell_type": "code",
   "execution_count": 35,
   "metadata": {},
   "outputs": [
    {
     "data": {
      "image/png": "[encoded data removed]",
      "text/plain": [
       "<Figure size 640x480 with 1 Axes>"
      ]
     },
     "metadata": {},
     "output_type": "display_data"
    }
   ],
   "source": [
    "# вывод графика зависимости параметров total_sales и user_score\n",
    "data_act_ps4.plot(x='total_sales', y = 'user_score', \n",
    "                  kind = 'scatter', alpha = 0.5, title= 'Зависимость продаж от оценки пользователей на платформе PS4');"
   ]
  },
  {
   "cell_type": "markdown",
   "metadata": {},
   "source": [
    "Коэффициент корреляции практически равен 0. Связь между продажами и оценкой пользователей отсутствует. "
   ]
  },
  {
   "cell_type": "markdown",
   "metadata": {},
   "source": [
    "***Соотнесем сделанные выводы с продажами игр на других платформах***\n",
    "\n",
    "Оценим влияние отзывов критиков на продажи на других платформах."
   ]
  },
  {
   "cell_type": "code",
   "execution_count": 36,
   "metadata": {},
   "outputs": [],
   "source": [
    "# создадим срез данных\n",
    "data_act_other=data_act.query('platform != \"PS4\"')"
   ]
  },
  {
   "cell_type": "code",
   "execution_count": 37,
   "metadata": {},
   "outputs": [
    {
     "data": {
      "text/plain": [
       "0.3"
      ]
     },
     "execution_count": 37,
     "metadata": {},
     "output_type": "execute_result"
    }
   ],
   "source": [
    "# расчет коэффициента корреляции\n",
    "data_act_other['total_sales'].corr(data_act_other['critic_score']).round(2)"
   ]
  },
  {
   "cell_type": "code",
   "execution_count": 38,
   "metadata": {},
   "outputs": [
    {
     "data": {
      "image/png": "[encoded data removed]",
      "text/plain": [
       "<Figure size 640x480 with 1 Axes>"
      ]
     },
     "metadata": {},
     "output_type": "display_data"
    }
   ],
   "source": [
    "# вывод графика зависимости параметров total_sales и critic_score\n",
    "data_act_other.plot(x='total_sales', y = 'critic_score', \n",
    "                    kind = 'scatter', alpha = 0.5, title= 'Зависимость продаж от оценки критиков на других платформах');"
   ]
  },
  {
   "cell_type": "markdown",
   "metadata": {},
   "source": [
    "Размер коэффициента корреляции (0.3) и форма графика свидетельствуют о слабой связи между показателями, аналогично с данными по платформе PS4. Вероятно, на продажи  игр другие факторы влияют сильнее, отзывы критиков.\n",
    "\n",
    "Оценим влияние отзывов пользователей на продажи на других платформах."
   ]
  },
  {
   "cell_type": "code",
   "execution_count": 39,
   "metadata": {},
   "outputs": [
    {
     "data": {
      "text/plain": [
       "-0.002"
      ]
     },
     "execution_count": 39,
     "metadata": {},
     "output_type": "execute_result"
    }
   ],
   "source": [
    "# расчет коэффициента корреляции\n",
    "data_act_other['total_sales'].corr(data_act_other['user_score']).round(3)"
   ]
  },
  {
   "cell_type": "code",
   "execution_count": 40,
   "metadata": {},
   "outputs": [
    {
     "data": {
      "image/png": "[encoded data removed]",
      "text/plain": [
       "<Figure size 640x480 with 1 Axes>"
      ]
     },
     "metadata": {},
     "output_type": "display_data"
    }
   ],
   "source": [
    "# вывод графика зависимости параметров total_sales и user_score\n",
    "data_act_other.plot(x='total_sales', y = 'user_score', \n",
    "                    kind = 'scatter', alpha = 0.5, title= 'Зависимость продаж от оценки пользователей на других платформах');"
   ]
  },
  {
   "cell_type": "markdown",
   "metadata": {},
   "source": [
    "Как и на платформе PS4, на других платформах также отсутствует связь между продажами и оценкой пользователей. Коэффициент корреляции практически равен 0."
   ]
  },
  {
   "cell_type": "markdown",
   "metadata": {},
   "source": [
    "***Посмотрим на общее распределение игр по жанрам***\n",
    "\n",
    "Выведем данные о медианных продажах по жанрам за каждый год актуального периода. Поскольку на медианное значение вбросы практически не влияют, то оно будет более точным по сравнению со средним значением."
   ]
  },
  {
   "cell_type": "code",
   "execution_count": 41,
   "metadata": {},
   "outputs": [
    {
     "data": {
      "text/html": [
       "<div>\n",
       "<style scoped>\n",
       "    .dataframe tbody tr th:only-of-type {\n",
       "        vertical-align: middle;\n",
       "    }\n",
       "\n",
       "    .dataframe tbody tr th {\n",
       "        vertical-align: top;\n",
       "    }\n",
       "\n",
       "    .dataframe thead th {\n",
       "        text-align: right;\n",
       "    }\n",
       "</style>\n",
       "<table border=\"1\" class=\"dataframe\">\n",
       "  <thead>\n",
       "    <tr style=\"text-align: right;\">\n",
       "      <th>year_of_release</th>\n",
       "      <th>2013</th>\n",
       "      <th>2014</th>\n",
       "      <th>2015</th>\n",
       "    </tr>\n",
       "    <tr>\n",
       "      <th>genre</th>\n",
       "      <th></th>\n",
       "      <th></th>\n",
       "      <th></th>\n",
       "    </tr>\n",
       "  </thead>\n",
       "  <tbody>\n",
       "    <tr>\n",
       "      <th>Shooter</th>\n",
       "      <td>0.340</td>\n",
       "      <td>0.660</td>\n",
       "      <td>0.925</td>\n",
       "    </tr>\n",
       "    <tr>\n",
       "      <th>Simulation</th>\n",
       "      <td>0.105</td>\n",
       "      <td>0.120</td>\n",
       "      <td>0.200</td>\n",
       "    </tr>\n",
       "    <tr>\n",
       "      <th>Misc</th>\n",
       "      <td>0.175</td>\n",
       "      <td>0.160</td>\n",
       "      <td>0.190</td>\n",
       "    </tr>\n",
       "    <tr>\n",
       "      <th>Racing</th>\n",
       "      <td>0.340</td>\n",
       "      <td>0.170</td>\n",
       "      <td>0.150</td>\n",
       "    </tr>\n",
       "    <tr>\n",
       "      <th>Sports</th>\n",
       "      <td>0.370</td>\n",
       "      <td>0.460</td>\n",
       "      <td>0.120</td>\n",
       "    </tr>\n",
       "    <tr>\n",
       "      <th>Role-Playing</th>\n",
       "      <td>0.180</td>\n",
       "      <td>0.110</td>\n",
       "      <td>0.105</td>\n",
       "    </tr>\n",
       "    <tr>\n",
       "      <th>Fighting</th>\n",
       "      <td>0.155</td>\n",
       "      <td>0.130</td>\n",
       "      <td>0.100</td>\n",
       "    </tr>\n",
       "    <tr>\n",
       "      <th>Platform</th>\n",
       "      <td>0.385</td>\n",
       "      <td>0.830</td>\n",
       "      <td>0.100</td>\n",
       "    </tr>\n",
       "    <tr>\n",
       "      <th>Action</th>\n",
       "      <td>0.200</td>\n",
       "      <td>0.205</td>\n",
       "      <td>0.070</td>\n",
       "    </tr>\n",
       "    <tr>\n",
       "      <th>Puzzle</th>\n",
       "      <td>0.100</td>\n",
       "      <td>0.050</td>\n",
       "      <td>0.045</td>\n",
       "    </tr>\n",
       "    <tr>\n",
       "      <th>Strategy</th>\n",
       "      <td>0.190</td>\n",
       "      <td>0.060</td>\n",
       "      <td>0.045</td>\n",
       "    </tr>\n",
       "    <tr>\n",
       "      <th>Adventure</th>\n",
       "      <td>0.025</td>\n",
       "      <td>0.040</td>\n",
       "      <td>0.030</td>\n",
       "    </tr>\n",
       "  </tbody>\n",
       "</table>\n",
       "</div>"
      ],
      "text/plain": [
       "year_of_release   2013   2014   2015\n",
       "genre                               \n",
       "Shooter          0.340  0.660  0.925\n",
       "Simulation       0.105  0.120  0.200\n",
       "Misc             0.175  0.160  0.190\n",
       "Racing           0.340  0.170  0.150\n",
       "Sports           0.370  0.460  0.120\n",
       "Role-Playing     0.180  0.110  0.105\n",
       "Fighting         0.155  0.130  0.100\n",
       "Platform         0.385  0.830  0.100\n",
       "Action           0.200  0.205  0.070\n",
       "Puzzle           0.100  0.050  0.045\n",
       "Strategy         0.190  0.060  0.045\n",
       "Adventure        0.025  0.040  0.030"
      ]
     },
     "execution_count": 41,
     "metadata": {},
     "output_type": "execute_result"
    }
   ],
   "source": [
    "(\n",
    "    # сделаем свод по столбцу platform и выведем продажи за каждый год актуального периода\n",
    "    data_act.pivot_table(index = 'genre', columns = 'year_of_release', values = 'total_sales', aggfunc = 'median')\n",
    "    # отсортируем по убыванию\n",
    "    .sort_values(by = 2015, ascending = False)\n",
    ")"
   ]
  },
  {
   "cell_type": "markdown",
   "metadata": {},
   "source": [
    "Данные таблицы показывают, что предпочнения пользователей постоянно меняются. По итогам 2015 года самыми продаваемыми жарами были: Shooter, Simulation, Misc, Racing и Sports. Продажи игр в жанре Racing имеют тенденцию к снижению. Изменения продаж в жанрах Misc и Sports разнонаправленные. А вот продажи в жанрах Shooter и Simulation ежегодно растут. Поэтому данные жанры являются наиболее потенциально прибыльным. \n",
    "\n",
    "Наименее популярные жанры: Adventure, Strategy и Puzzle. Практически у всех из них продажи ежегодно сокращаются."
   ]
  },
  {
   "cell_type": "markdown",
   "metadata": {},
   "source": [
    "<a id=\"4\"></a>\n",
    "## Портрет пользователя каждого региона ###\n",
    "\n",
    "Определим различные показатели для пользователей следующих регионов:\n",
    "\n",
    "- Северная Америка (na);\n",
    "- Европа (eu);\n",
    "- Япония (jp)."
   ]
  },
  {
   "cell_type": "markdown",
   "metadata": {},
   "source": [
    "***Самые популярные платформы (ТОП-5)***\n",
    "\n",
    "Выведем информацию о ТОП-5 самых популярных платформ в разных регионах."
   ]
  },
  {
   "cell_type": "code",
   "execution_count": 42,
   "metadata": {},
   "outputs": [
    {
     "name": "stdout",
     "output_type": "stream",
     "text": [
      "Общая сумма продаж в Северной Америке: 392.78\n"
     ]
    },
    {
     "data": {
      "text/html": [
       "<div>\n",
       "<style scoped>\n",
       "    .dataframe tbody tr th:only-of-type {\n",
       "        vertical-align: middle;\n",
       "    }\n",
       "\n",
       "    .dataframe tbody tr th {\n",
       "        vertical-align: top;\n",
       "    }\n",
       "\n",
       "    .dataframe thead th {\n",
       "        text-align: right;\n",
       "    }\n",
       "</style>\n",
       "<table border=\"1\" class=\"dataframe\">\n",
       "  <thead>\n",
       "    <tr style=\"text-align: right;\">\n",
       "      <th></th>\n",
       "      <th>продажи в Северной Америке</th>\n",
       "    </tr>\n",
       "    <tr>\n",
       "      <th>platform</th>\n",
       "      <th></th>\n",
       "    </tr>\n",
       "  </thead>\n",
       "  <tbody>\n",
       "    <tr>\n",
       "      <th>PS4</th>\n",
       "      <td>87.25</td>\n",
       "    </tr>\n",
       "    <tr>\n",
       "      <th>X360</th>\n",
       "      <td>80.97</td>\n",
       "    </tr>\n",
       "    <tr>\n",
       "      <th>XOne</th>\n",
       "      <td>78.85</td>\n",
       "    </tr>\n",
       "    <tr>\n",
       "      <th>PS3</th>\n",
       "      <td>62.83</td>\n",
       "    </tr>\n",
       "    <tr>\n",
       "      <th>3DS</th>\n",
       "      <td>34.06</td>\n",
       "    </tr>\n",
       "  </tbody>\n",
       "</table>\n",
       "</div>"
      ],
      "text/plain": [
       "          продажи в Северной Америке\n",
       "platform                            \n",
       "PS4                            87.25\n",
       "X360                           80.97\n",
       "XOne                           78.85\n",
       "PS3                            62.83\n",
       "3DS                            34.06"
      ]
     },
     "execution_count": 42,
     "metadata": {},
     "output_type": "execute_result"
    }
   ],
   "source": [
    "print('Общая сумма продаж в Северной Америке:', data_act['na_sales'].sum())\n",
    "(\n",
    "    # сделаем свод по столбцу platform и выведем продажи в na\n",
    "    data_act.pivot_table(index = 'platform', values = 'na_sales', aggfunc = 'sum')\n",
    "    # отсортируем по убыванию\n",
    "    .sort_values(by = 'na_sales', ascending = False)\n",
    "    # переименуем столбец и выведем ТОП-5\n",
    "    .rename(columns={'na_sales': 'продажи в Северной Америке'}).head()\n",
    ")"
   ]
  },
  {
   "cell_type": "code",
   "execution_count": 43,
   "metadata": {},
   "outputs": [
    {
     "name": "stdout",
     "output_type": "stream",
     "text": [
      "Общая сумма продаж в Европе: 341.01\n"
     ]
    },
    {
     "data": {
      "text/html": [
       "<div>\n",
       "<style scoped>\n",
       "    .dataframe tbody tr th:only-of-type {\n",
       "        vertical-align: middle;\n",
       "    }\n",
       "\n",
       "    .dataframe tbody tr th {\n",
       "        vertical-align: top;\n",
       "    }\n",
       "\n",
       "    .dataframe thead th {\n",
       "        text-align: right;\n",
       "    }\n",
       "</style>\n",
       "<table border=\"1\" class=\"dataframe\">\n",
       "  <thead>\n",
       "    <tr style=\"text-align: right;\">\n",
       "      <th></th>\n",
       "      <th>продажи в Европе</th>\n",
       "    </tr>\n",
       "    <tr>\n",
       "      <th>platform</th>\n",
       "      <th></th>\n",
       "    </tr>\n",
       "  </thead>\n",
       "  <tbody>\n",
       "    <tr>\n",
       "      <th>PS4</th>\n",
       "      <td>109.31</td>\n",
       "    </tr>\n",
       "    <tr>\n",
       "      <th>PS3</th>\n",
       "      <td>66.55</td>\n",
       "    </tr>\n",
       "    <tr>\n",
       "      <th>XOne</th>\n",
       "      <td>41.96</td>\n",
       "    </tr>\n",
       "    <tr>\n",
       "      <th>X360</th>\n",
       "      <td>41.81</td>\n",
       "    </tr>\n",
       "    <tr>\n",
       "      <th>3DS</th>\n",
       "      <td>28.63</td>\n",
       "    </tr>\n",
       "  </tbody>\n",
       "</table>\n",
       "</div>"
      ],
      "text/plain": [
       "          продажи в Европе\n",
       "platform                  \n",
       "PS4                 109.31\n",
       "PS3                  66.55\n",
       "XOne                 41.96\n",
       "X360                 41.81\n",
       "3DS                  28.63"
      ]
     },
     "execution_count": 43,
     "metadata": {},
     "output_type": "execute_result"
    }
   ],
   "source": [
    "print('Общая сумма продаж в Европе:', data_act['eu_sales'].sum())\n",
    "(\n",
    "    # сделаем свод по столбцу platform и выведем продажи в eu\n",
    "    data_act.pivot_table(index = 'platform', values = 'eu_sales', aggfunc = 'sum')\n",
    "     # отсортируем по убыванию\n",
    "    .sort_values(by = 'eu_sales', ascending = False)\n",
    "    # переименуем столбец и выведем ТОП-5\n",
    "    .rename(columns={'eu_sales': 'продажи в Европе'}).head()\n",
    ")"
   ]
  },
  {
   "cell_type": "code",
   "execution_count": 44,
   "metadata": {},
   "outputs": [
    {
     "name": "stdout",
     "output_type": "stream",
     "text": [
      "Общая сумма продаж в Японии: 121.47\n"
     ]
    },
    {
     "data": {
      "text/html": [
       "<div>\n",
       "<style scoped>\n",
       "    .dataframe tbody tr th:only-of-type {\n",
       "        vertical-align: middle;\n",
       "    }\n",
       "\n",
       "    .dataframe tbody tr th {\n",
       "        vertical-align: top;\n",
       "    }\n",
       "\n",
       "    .dataframe thead th {\n",
       "        text-align: right;\n",
       "    }\n",
       "</style>\n",
       "<table border=\"1\" class=\"dataframe\">\n",
       "  <thead>\n",
       "    <tr style=\"text-align: right;\">\n",
       "      <th></th>\n",
       "      <th>продажи в Японии</th>\n",
       "    </tr>\n",
       "    <tr>\n",
       "      <th>platform</th>\n",
       "      <th></th>\n",
       "    </tr>\n",
       "  </thead>\n",
       "  <tbody>\n",
       "    <tr>\n",
       "      <th>3DS</th>\n",
       "      <td>59.78</td>\n",
       "    </tr>\n",
       "    <tr>\n",
       "      <th>PS3</th>\n",
       "      <td>22.05</td>\n",
       "    </tr>\n",
       "    <tr>\n",
       "      <th>PSV</th>\n",
       "      <td>15.03</td>\n",
       "    </tr>\n",
       "    <tr>\n",
       "      <th>PS4</th>\n",
       "      <td>10.22</td>\n",
       "    </tr>\n",
       "    <tr>\n",
       "      <th>WiiU</th>\n",
       "      <td>10.21</td>\n",
       "    </tr>\n",
       "  </tbody>\n",
       "</table>\n",
       "</div>"
      ],
      "text/plain": [
       "          продажи в Японии\n",
       "platform                  \n",
       "3DS                  59.78\n",
       "PS3                  22.05\n",
       "PSV                  15.03\n",
       "PS4                  10.22\n",
       "WiiU                 10.21"
      ]
     },
     "execution_count": 44,
     "metadata": {},
     "output_type": "execute_result"
    }
   ],
   "source": [
    "print('Общая сумма продаж в Японии:', data_act['jp_sales'].sum().round(2))\n",
    "(\n",
    "    # сделаем свод по столбцу platform и выведем продажи в jp\n",
    "    data_act.pivot_table(index = 'platform', values = 'jp_sales', aggfunc = 'sum')\n",
    "     # отсортируем по убыванию\n",
    "    .sort_values(by = 'jp_sales', ascending = False)\n",
    "    # переименуем столбец и выведем ТОП-5\n",
    "    .rename(columns={'jp_sales': 'продажи в Японии'}).head()\n",
    ")"
   ]
  },
  {
   "cell_type": "markdown",
   "metadata": {},
   "source": [
    "В Северной Америке и в Европе лидером продаж является платформа PS4. Доля продаж PS4 в общем объеме продаж в Северной Америке составляет 22.2%, а в Европе - 32.1%.  В целом ТОП-5 в этих регионах выглядит примерно одинаково. Помимо PS4 в него входят следующие платформы: PS3, XOne, X360 и 3DS. Однако их позиции в ТОП-5 в Северной Америке и Европе все же немного отличаются.\n",
    "\n",
    "В Японии перечень самых популярных платформ иной. Здесь лидером является платформа 3DS (49.2% от общих продаж), которая замыкает ТОП-5 в Северной Америке и Европе (чуть более 8% от общих продаж в каждом из этих регионов). Далее следуют платформы: PS3, PSV, PS4 и WiiU. Данная разница объясняется большой популярностью игровой консоли Nintendo в Японии, что и приводит к большим продажам на платформах 3DS и WiiU."
   ]
  },
  {
   "cell_type": "markdown",
   "metadata": {},
   "source": [
    "***Самые популярные жанры (ТОП-5)***\n",
    "\n",
    "Выведем информацию о ТОП-5 самых популярных жанров в разных регионах."
   ]
  },
  {
   "cell_type": "code",
   "execution_count": 45,
   "metadata": {},
   "outputs": [
    {
     "name": "stdout",
     "output_type": "stream",
     "text": [
      "Oбщая сумма продаж в Северной Америке: 392.78\n"
     ]
    },
    {
     "data": {
      "text/html": [
       "<div>\n",
       "<style scoped>\n",
       "    .dataframe tbody tr th:only-of-type {\n",
       "        vertical-align: middle;\n",
       "    }\n",
       "\n",
       "    .dataframe tbody tr th {\n",
       "        vertical-align: top;\n",
       "    }\n",
       "\n",
       "    .dataframe thead th {\n",
       "        text-align: right;\n",
       "    }\n",
       "</style>\n",
       "<table border=\"1\" class=\"dataframe\">\n",
       "  <thead>\n",
       "    <tr style=\"text-align: right;\">\n",
       "      <th></th>\n",
       "      <th>продажи в Северной Америке</th>\n",
       "    </tr>\n",
       "    <tr>\n",
       "      <th>genre</th>\n",
       "      <th></th>\n",
       "    </tr>\n",
       "  </thead>\n",
       "  <tbody>\n",
       "    <tr>\n",
       "      <th>Action</th>\n",
       "      <td>116.76</td>\n",
       "    </tr>\n",
       "    <tr>\n",
       "      <th>Shooter</th>\n",
       "      <td>93.50</td>\n",
       "    </tr>\n",
       "    <tr>\n",
       "      <th>Sports</th>\n",
       "      <td>57.73</td>\n",
       "    </tr>\n",
       "    <tr>\n",
       "      <th>Role-Playing</th>\n",
       "      <td>40.51</td>\n",
       "    </tr>\n",
       "    <tr>\n",
       "      <th>Misc</th>\n",
       "      <td>26.73</td>\n",
       "    </tr>\n",
       "  </tbody>\n",
       "</table>\n",
       "</div>"
      ],
      "text/plain": [
       "              продажи в Северной Америке\n",
       "genre                                   \n",
       "Action                            116.76\n",
       "Shooter                            93.50\n",
       "Sports                             57.73\n",
       "Role-Playing                       40.51\n",
       "Misc                               26.73"
      ]
     },
     "execution_count": 45,
     "metadata": {},
     "output_type": "execute_result"
    }
   ],
   "source": [
    "print('Oбщая сумма продаж в Северной Америке:', data_act['na_sales'].sum())\n",
    "(\n",
    "    # сделаем свод по столбцу genre и выведем продажи в na\n",
    "    data_act.pivot_table(index = 'genre', values = 'na_sales', aggfunc = 'sum')\n",
    "    # отсортируем по убыванию\n",
    "    .sort_values(by = 'na_sales', ascending = False)\n",
    "    # переименуем столбец и выведем ТОП-5\n",
    "    .rename(columns={'na_sales': 'продажи в Северной Америке'}).head()\n",
    ")"
   ]
  },
  {
   "cell_type": "code",
   "execution_count": 46,
   "metadata": {},
   "outputs": [
    {
     "name": "stdout",
     "output_type": "stream",
     "text": [
      "Oбщая сумма продаж в Европе: 341.01\n"
     ]
    },
    {
     "data": {
      "text/html": [
       "<div>\n",
       "<style scoped>\n",
       "    .dataframe tbody tr th:only-of-type {\n",
       "        vertical-align: middle;\n",
       "    }\n",
       "\n",
       "    .dataframe tbody tr th {\n",
       "        vertical-align: top;\n",
       "    }\n",
       "\n",
       "    .dataframe thead th {\n",
       "        text-align: right;\n",
       "    }\n",
       "</style>\n",
       "<table border=\"1\" class=\"dataframe\">\n",
       "  <thead>\n",
       "    <tr style=\"text-align: right;\">\n",
       "      <th></th>\n",
       "      <th>продажи в Европе</th>\n",
       "    </tr>\n",
       "    <tr>\n",
       "      <th>genre</th>\n",
       "      <th></th>\n",
       "    </tr>\n",
       "  </thead>\n",
       "  <tbody>\n",
       "    <tr>\n",
       "      <th>Action</th>\n",
       "      <td>107.45</td>\n",
       "    </tr>\n",
       "    <tr>\n",
       "      <th>Shooter</th>\n",
       "      <td>71.96</td>\n",
       "    </tr>\n",
       "    <tr>\n",
       "      <th>Sports</th>\n",
       "      <td>48.51</td>\n",
       "    </tr>\n",
       "    <tr>\n",
       "      <th>Role-Playing</th>\n",
       "      <td>32.69</td>\n",
       "    </tr>\n",
       "    <tr>\n",
       "      <th>Misc</th>\n",
       "      <td>19.38</td>\n",
       "    </tr>\n",
       "  </tbody>\n",
       "</table>\n",
       "</div>"
      ],
      "text/plain": [
       "              продажи в Европе\n",
       "genre                         \n",
       "Action                  107.45\n",
       "Shooter                  71.96\n",
       "Sports                   48.51\n",
       "Role-Playing             32.69\n",
       "Misc                     19.38"
      ]
     },
     "execution_count": 46,
     "metadata": {},
     "output_type": "execute_result"
    }
   ],
   "source": [
    "print('Oбщая сумма продаж в Европе:', data_act['eu_sales'].sum())\n",
    "(\n",
    "    # сделаем свод по столбцу genre и выведем продажи в eu\n",
    "    data_act.pivot_table(index = 'genre', values = 'eu_sales', aggfunc = 'sum')\n",
    "     # отсортируем по убыванию\n",
    "    .sort_values(by = 'eu_sales', ascending = False)\n",
    "    # переименуем столбец и выведем ТОП-5\n",
    "    .rename(columns={'eu_sales': 'продажи в Европе'}).head()\n",
    ")"
   ]
  },
  {
   "cell_type": "code",
   "execution_count": 47,
   "metadata": {},
   "outputs": [
    {
     "name": "stdout",
     "output_type": "stream",
     "text": [
      "Oбщая сумма продаж в Японии: 121.47\n"
     ]
    },
    {
     "data": {
      "text/html": [
       "<div>\n",
       "<style scoped>\n",
       "    .dataframe tbody tr th:only-of-type {\n",
       "        vertical-align: middle;\n",
       "    }\n",
       "\n",
       "    .dataframe tbody tr th {\n",
       "        vertical-align: top;\n",
       "    }\n",
       "\n",
       "    .dataframe thead th {\n",
       "        text-align: right;\n",
       "    }\n",
       "</style>\n",
       "<table border=\"1\" class=\"dataframe\">\n",
       "  <thead>\n",
       "    <tr style=\"text-align: right;\">\n",
       "      <th></th>\n",
       "      <th>продажи в Японии</th>\n",
       "    </tr>\n",
       "    <tr>\n",
       "      <th>genre</th>\n",
       "      <th></th>\n",
       "    </tr>\n",
       "  </thead>\n",
       "  <tbody>\n",
       "    <tr>\n",
       "      <th>Role-Playing</th>\n",
       "      <td>44.43</td>\n",
       "    </tr>\n",
       "    <tr>\n",
       "      <th>Action</th>\n",
       "      <td>33.42</td>\n",
       "    </tr>\n",
       "    <tr>\n",
       "      <th>Misc</th>\n",
       "      <td>8.16</td>\n",
       "    </tr>\n",
       "    <tr>\n",
       "      <th>Fighting</th>\n",
       "      <td>6.90</td>\n",
       "    </tr>\n",
       "    <tr>\n",
       "      <th>Shooter</th>\n",
       "      <td>5.55</td>\n",
       "    </tr>\n",
       "  </tbody>\n",
       "</table>\n",
       "</div>"
      ],
      "text/plain": [
       "              продажи в Японии\n",
       "genre                         \n",
       "Role-Playing             44.43\n",
       "Action                   33.42\n",
       "Misc                      8.16\n",
       "Fighting                  6.90\n",
       "Shooter                   5.55"
      ]
     },
     "execution_count": 47,
     "metadata": {},
     "output_type": "execute_result"
    }
   ],
   "source": [
    "print('Oбщая сумма продаж в Японии:', data_act['jp_sales'].sum().round(2))\n",
    "(\n",
    "    # сделаем свод по столбцу genre и выведем продажи в jp\n",
    "    data_act.pivot_table(index = 'genre', values = 'jp_sales', aggfunc = 'sum')\n",
    "     # отсортируем по убыванию\n",
    "    .sort_values(by = 'jp_sales', ascending = False)\n",
    "    # переименуем столбец и выведем топ-5\n",
    "    .rename(columns={'jp_sales': 'продажи в Японии'}).head()\n",
    ")"
   ]
  },
  {
   "cell_type": "markdown",
   "metadata": {},
   "source": [
    "В Северной Америке и в Европе ТОП-5 самых популярных жанров выглядит абсолютно одинаково:\n",
    "\n",
    "1. Action\n",
    "2. Shooter\n",
    "3. Sports\n",
    "4. Role-Playing\n",
    "5. Misc\n",
    "\n",
    "Их доли продаж в указанных регионах отличаются незначительно. Например, доля продаж игр в самом популярном жанре Action в Северной Америке составляет 29.7%, а в Европе - 31.5%.\n",
    "\n",
    "В Японии самым популярным жанром является Role-Playing (36.6% от общих продаж). В Северной Америке и Европе данный жанр занимает лишь 4 место по популярности. Далее следуют Action (лидер в Северной Америке и Европе), Misc, Fighting и Shooter."
   ]
  },
  {
   "cell_type": "markdown",
   "metadata": {},
   "source": [
    "***Оценка влияния рейтинга ESRB на продажи в отдельных регионах***\n",
    "\n",
    "Для проведения оценки, построим график распределения продаж в каждом из регионов по рейтингам ESRB."
   ]
  },
  {
   "cell_type": "code",
   "execution_count": 48,
   "metadata": {},
   "outputs": [
    {
     "data": {
      "image/png": "[encoded data removed]",
      "text/plain": [
       "<Figure size 640x480 with 1 Axes>"
      ]
     },
     "metadata": {},
     "output_type": "display_data"
    }
   ],
   "source": [
    "(\n",
    "    # сделаем свод по столбцу rating и вычислим суммарные продажи в na\n",
    "    data_act.pivot_table(index = 'rating', values = 'na_sales', aggfunc = 'sum')\n",
    "    # построим столбчатый график \n",
    "    .plot(kind = 'bar', title= 'Распределение продаж в Северной Америке по рейтингам ESRB', ylabel = 'total_sales')\n",
    ");"
   ]
  },
  {
   "cell_type": "code",
   "execution_count": 49,
   "metadata": {},
   "outputs": [
    {
     "name": "stdout",
     "output_type": "stream",
     "text": [
      "Oбщая сумма продаж в Северной Америке: 392.78\n"
     ]
    },
    {
     "data": {
      "text/html": [
       "<div>\n",
       "<style scoped>\n",
       "    .dataframe tbody tr th:only-of-type {\n",
       "        vertical-align: middle;\n",
       "    }\n",
       "\n",
       "    .dataframe tbody tr th {\n",
       "        vertical-align: top;\n",
       "    }\n",
       "\n",
       "    .dataframe thead th {\n",
       "        text-align: right;\n",
       "    }\n",
       "</style>\n",
       "<table border=\"1\" class=\"dataframe\">\n",
       "  <thead>\n",
       "    <tr style=\"text-align: right;\">\n",
       "      <th></th>\n",
       "      <th>продажи в Северной Америке</th>\n",
       "    </tr>\n",
       "    <tr>\n",
       "      <th>rating</th>\n",
       "      <th></th>\n",
       "    </tr>\n",
       "  </thead>\n",
       "  <tbody>\n",
       "    <tr>\n",
       "      <th>M</th>\n",
       "      <td>149.54</td>\n",
       "    </tr>\n",
       "    <tr>\n",
       "      <th>n/a</th>\n",
       "      <td>80.89</td>\n",
       "    </tr>\n",
       "    <tr>\n",
       "      <th>E</th>\n",
       "      <td>71.08</td>\n",
       "    </tr>\n",
       "    <tr>\n",
       "      <th>E10+</th>\n",
       "      <td>50.43</td>\n",
       "    </tr>\n",
       "    <tr>\n",
       "      <th>T</th>\n",
       "      <td>40.84</td>\n",
       "    </tr>\n",
       "  </tbody>\n",
       "</table>\n",
       "</div>"
      ],
      "text/plain": [
       "        продажи в Северной Америке\n",
       "rating                            \n",
       "M                           149.54\n",
       "n/a                          80.89\n",
       "E                            71.08\n",
       "E10+                         50.43\n",
       "T                            40.84"
      ]
     },
     "execution_count": 49,
     "metadata": {},
     "output_type": "execute_result"
    }
   ],
   "source": [
    "print('Oбщая сумма продаж в Северной Америке:', data_act['na_sales'].sum())\n",
    "(\n",
    "    # сделаем свод по столбцу genre и выведем продажи в na\n",
    "    data_act.pivot_table(index = 'rating', values = 'na_sales', aggfunc = 'sum')\n",
    "    # отсортируем по убыванию\n",
    "    .sort_values(by = 'na_sales', ascending = False)\n",
    "    # переименуем столбец и выведем ТОП-5\n",
    "    .rename(columns={'na_sales': 'продажи в Северной Америке'}).head()\n",
    ")"
   ]
  },
  {
   "cell_type": "markdown",
   "metadata": {},
   "source": [
    "В Северной Америке наибольшие продажи приходятся на игры, с рейтингом М - «Для взрослых». Также достаточно высокие продажи имеют игры с рейтингом Е («Для всех») и Е10+(«Для всех от 10 лет и старше»). Однако около 21% продаваемых игр вообще не имеют присвоенного рейтинга ESRB."
   ]
  },
  {
   "cell_type": "code",
   "execution_count": 50,
   "metadata": {},
   "outputs": [
    {
     "data": {
      "image/png": "[encoded data removed]",
      "text/plain": [
       "<Figure size 640x480 with 1 Axes>"
      ]
     },
     "metadata": {},
     "output_type": "display_data"
    }
   ],
   "source": [
    "(\n",
    "    # сделаем свод по столбцу rating и вычислим суммарные продажи в eu\n",
    "    data_act.pivot_table(index = 'rating', values = 'eu_sales', aggfunc = 'sum')\n",
    "    # построим столбчатый график \n",
    "    .plot(kind = 'bar', title= 'Распределение продаж в Европе по рейтингам ESRB', ylabel = 'total_sales')\n",
    ");"
   ]
  },
  {
   "cell_type": "code",
   "execution_count": 51,
   "metadata": {},
   "outputs": [
    {
     "name": "stdout",
     "output_type": "stream",
     "text": [
      "Oбщая сумма продаж в Европе: 341.01\n"
     ]
    },
    {
     "data": {
      "text/html": [
       "<div>\n",
       "<style scoped>\n",
       "    .dataframe tbody tr th:only-of-type {\n",
       "        vertical-align: middle;\n",
       "    }\n",
       "\n",
       "    .dataframe tbody tr th {\n",
       "        vertical-align: top;\n",
       "    }\n",
       "\n",
       "    .dataframe thead th {\n",
       "        text-align: right;\n",
       "    }\n",
       "</style>\n",
       "<table border=\"1\" class=\"dataframe\">\n",
       "  <thead>\n",
       "    <tr style=\"text-align: right;\">\n",
       "      <th></th>\n",
       "      <th>продажи в Европе</th>\n",
       "    </tr>\n",
       "    <tr>\n",
       "      <th>rating</th>\n",
       "      <th></th>\n",
       "    </tr>\n",
       "  </thead>\n",
       "  <tbody>\n",
       "    <tr>\n",
       "      <th>M</th>\n",
       "      <td>128.78</td>\n",
       "    </tr>\n",
       "    <tr>\n",
       "      <th>n/a</th>\n",
       "      <td>71.44</td>\n",
       "    </tr>\n",
       "    <tr>\n",
       "      <th>E</th>\n",
       "      <td>69.75</td>\n",
       "    </tr>\n",
       "    <tr>\n",
       "      <th>E10+</th>\n",
       "      <td>38.88</td>\n",
       "    </tr>\n",
       "    <tr>\n",
       "      <th>T</th>\n",
       "      <td>32.16</td>\n",
       "    </tr>\n",
       "  </tbody>\n",
       "</table>\n",
       "</div>"
      ],
      "text/plain": [
       "        продажи в Европе\n",
       "rating                  \n",
       "M                 128.78\n",
       "n/a                71.44\n",
       "E                  69.75\n",
       "E10+               38.88\n",
       "T                  32.16"
      ]
     },
     "execution_count": 51,
     "metadata": {},
     "output_type": "execute_result"
    }
   ],
   "source": [
    "print('Oбщая сумма продаж в Европе:', data_act['eu_sales'].sum())\n",
    "(\n",
    "    # сделаем свод по столбцу genre и выведем продажи в eu\n",
    "    data_act.pivot_table(index = 'rating', values = 'eu_sales', aggfunc = 'sum')\n",
    "     # отсортируем по убыванию\n",
    "    .sort_values(by = 'eu_sales', ascending = False)\n",
    "    # переименуем столбец и выведем ТОП-5\n",
    "    .rename(columns={'eu_sales': 'продажи в Европе'}).head()\n",
    ")"
   ]
  },
  {
   "cell_type": "markdown",
   "metadata": {},
   "source": [
    "В Европе ситуация аналогичная."
   ]
  },
  {
   "cell_type": "code",
   "execution_count": 52,
   "metadata": {},
   "outputs": [
    {
     "data": {
      "image/png": "[encoded data removed]",
      "text/plain": [
       "<Figure size 640x480 with 1 Axes>"
      ]
     },
     "metadata": {},
     "output_type": "display_data"
    }
   ],
   "source": [
    "(\n",
    "    # сделаем свод по столбцу rating и вычислим суммарные продажи в jp\n",
    "    data_act.pivot_table(index = 'rating', values = 'jp_sales', aggfunc = 'sum')\n",
    "    # построим столбчатый график \n",
    "    .plot(kind = 'bar', title= 'Распределение продаж в Японии по рейтингам ESRB', ylabel = 'total_sales')\n",
    ");"
   ]
  },
  {
   "cell_type": "code",
   "execution_count": 53,
   "metadata": {},
   "outputs": [
    {
     "name": "stdout",
     "output_type": "stream",
     "text": [
      "Oбщая сумма продаж в Японии: 121.47\n"
     ]
    },
    {
     "data": {
      "text/html": [
       "<div>\n",
       "<style scoped>\n",
       "    .dataframe tbody tr th:only-of-type {\n",
       "        vertical-align: middle;\n",
       "    }\n",
       "\n",
       "    .dataframe tbody tr th {\n",
       "        vertical-align: top;\n",
       "    }\n",
       "\n",
       "    .dataframe thead th {\n",
       "        text-align: right;\n",
       "    }\n",
       "</style>\n",
       "<table border=\"1\" class=\"dataframe\">\n",
       "  <thead>\n",
       "    <tr style=\"text-align: right;\">\n",
       "      <th></th>\n",
       "      <th>продажи в Японии</th>\n",
       "    </tr>\n",
       "    <tr>\n",
       "      <th>rating</th>\n",
       "      <th></th>\n",
       "    </tr>\n",
       "  </thead>\n",
       "  <tbody>\n",
       "    <tr>\n",
       "      <th>n/a</th>\n",
       "      <td>70.73</td>\n",
       "    </tr>\n",
       "    <tr>\n",
       "      <th>T</th>\n",
       "      <td>18.32</td>\n",
       "    </tr>\n",
       "    <tr>\n",
       "      <th>E</th>\n",
       "      <td>14.07</td>\n",
       "    </tr>\n",
       "    <tr>\n",
       "      <th>M</th>\n",
       "      <td>12.91</td>\n",
       "    </tr>\n",
       "    <tr>\n",
       "      <th>E10+</th>\n",
       "      <td>5.44</td>\n",
       "    </tr>\n",
       "  </tbody>\n",
       "</table>\n",
       "</div>"
      ],
      "text/plain": [
       "        продажи в Японии\n",
       "rating                  \n",
       "n/a                70.73\n",
       "T                  18.32\n",
       "E                  14.07\n",
       "M                  12.91\n",
       "E10+                5.44"
      ]
     },
     "execution_count": 53,
     "metadata": {},
     "output_type": "execute_result"
    }
   ],
   "source": [
    "print('Oбщая сумма продаж в Японии:', data_act['jp_sales'].sum().round(2))\n",
    "(\n",
    "    # сделаем свод по столбцу genre и выведем продажи в jp\n",
    "    data_act.pivot_table(index = 'rating', values = 'jp_sales', aggfunc = 'sum')\n",
    "     # отсортируем по убыванию\n",
    "    .sort_values(by = 'jp_sales', ascending = False)\n",
    "    # переименуем столбец и выведем топ-5\n",
    "    .rename(columns={'jp_sales': 'продажи в Японии'}).head()\n",
    ")"
   ]
  },
  {
   "cell_type": "markdown",
   "metadata": {},
   "source": [
    "В Японии подавляющее большинство продаваемых игр не имеет рейтинга ESRB.\n",
    "\n",
    "Система ESRB (Entertainment Software Rating Board) определяет рейтинги для компьютерных видеоигр и другого развлекательного программного обеспечения в США и Канаде. В Великобритании и большинстве европейских стран действует система PEGI (Pan European Game Information). В Японии действует система CERO (Computer Entertainment Rating Organization).\n",
    "\n",
    "Таким образом рейтинг ESRB может влиять только на продажи игр в Северной Америке. Для других регионов целесообразнее оценивать влияние на продажи других рейтинговых систем.\n",
    "\n",
    "На основании графиков можно сделать вывод, что в Северной Америке наличие рейтинга ESRB влияет на продажи, поскольку 79% проданных игр имеют такой рейтинг и большинство из них относится к рейтингу М («Для взрослых»).\n",
    "\n",
    "В Европе также 79% проданных игр имеют такой рейтинг ESRB и большинство из них также относится к рейтингу М («Для взрослых»). Но здесь такой высокий показатель скорее объясняется схожим по составу набором продаваемых игр в Северной Америке и Европе. То есть в Европе продается много игр, которые имеют рейтинг ESRB, поскольку они продаются и в Северной Америке. Для европейского рынка правильнее оценивать влияние на продажи наличие и значение рейтинга PEGI.\n",
    "\n",
    "В Японии рейтинг ESRB не оказывает никакого влияния на продажи в связи с тем, что лишь небольшая доля продаваемых игр имеет данный рейтинг. Видимо в Японии выпускается большое количество игр для внутреннего рынка."
   ]
  },
  {
   "cell_type": "markdown",
   "metadata": {},
   "source": [
    "<a id=\"5\"></a>\n",
    "## Проверьте гипотезы"
   ]
  },
  {
   "cell_type": "markdown",
   "metadata": {},
   "source": [
    "Произведем проверку следующих гипотез:\n",
    "\n",
    "- Средние пользовательские рейтинги платформ Xbox One и PC одинаковые;\n",
    "- Средние пользовательские рейтинги жанров Action (англ. «действие», экшен-игры) и Sports (англ. «спортивные соревнования») разные.\n",
    "\n",
    "Установим уровень статистической значимости в размере 5%, что является общепринятым пороговым значением. Установка уровня статистической значимости менее 5% приведет к тому, что в среднем в одном исследовании из 20 гипотеза будет отвергнута не потому, что она неверна, а потому, что реальное значение случайно далеко «уехало» от предполагаемого."
   ]
  },
  {
   "cell_type": "markdown",
   "metadata": {},
   "source": [
    "***Проверим гипотезу, что средние пользовательские рейтинги платформ Xbox One и PC одинаковые***"
   ]
  },
  {
   "cell_type": "markdown",
   "metadata": {},
   "source": [
    "Проверка гипотез начинается с формулировки нулевой гипотезы H_0. Сформулируем ее следующим образом:\n",
    "\n",
    "H_0: Средний пользовательский рейтинг платформы Xbox One = средний пользовательский рейтинг платформы PC.\n",
    "\n",
    "\n",
    "Исходя из H_0 формулируется альтернативная гипотеза H_a. Это утверждение, которое принимается верным, если отбрасывается H_0. Сформулируем альтернативную гипотезу:\n",
    "\n",
    "H_a: Средний пользовательский рейтинг платформы Xbox One ≠ средний пользовательский рейтинг платформы PC.\n",
    "\n",
    "Для проверки гипотезы о равенстве средних пользовательских рейтингов воспользуемся методом scipy.stats.ttest_ind."
   ]
  },
  {
   "cell_type": "code",
   "execution_count": 54,
   "metadata": {},
   "outputs": [
    {
     "name": "stdout",
     "output_type": "stream",
     "text": [
      "p-value: 0.2867036680187632\n",
      "Не получилось отвергнуть нулевую гипотезу\n"
     ]
    }
   ],
   "source": [
    "# создание перечня оценок пользователей платформы XOne\n",
    "xbox_one = data_act.loc[(data_act['platform'] == 'XOne') & (data_act['user_score'] >= 0)]['user_score']\n",
    "# создание перечня оценок пользователей платформы PC\n",
    "pc = data_act.loc[(data_act['platform'] == 'PC') & (data_act['user_score'] >= 0)]['user_score']\n",
    "# проведение стат. теста о равенстве пользовательских рейтингов\n",
    "results = st.stats.ttest_ind(xbox_one, pc, equal_var = False)\n",
    "# установим уровень статистической значимости\n",
    "alpha = 0.05 \n",
    "# вывод на экран величины p-value\n",
    "print('p-value:', results.pvalue) \n",
    "# сравнение значения p-value с alpha\n",
    "if results.pvalue < alpha:\n",
    "    print('Отвергаем нулевую гипотезу')\n",
    "else:\n",
    "    print('Не получилось отвергнуть нулевую гипотезу') "
   ]
  },
  {
   "cell_type": "markdown",
   "metadata": {},
   "source": [
    "Значение p-value показывает: вероятность случайно получить такое или большее значение равно почти 28.7%. Это слишком большая вероятность, чтобы делать вывод о значимом различии между средними пользовательскими оценками. Следовательно мы не отвергаем нулевую гипотезу.\n",
    "\n",
    "Гипотеза о том, что средние пользовательские рейтинги платформ Xbox One и PC одинаковые не опровергнута!"
   ]
  },
  {
   "cell_type": "markdown",
   "metadata": {},
   "source": [
    "***Проверим гипотезу, что средние пользовательские рейтинги жанров Action и Sports разные***"
   ]
  },
  {
   "cell_type": "markdown",
   "metadata": {},
   "source": [
    "Сформулируем нулевую гипотезу H_0: Средний пользовательский рейтинг жанра Action = средний пользовательский рейтинг жанра Sports.\n",
    "\n",
    "Сформулируем альтернативную гипотезу H_a: Средний пользовательский рейтинг жанра Action ≠ средний пользовательский рейтинг жанра Sports."
   ]
  },
  {
   "cell_type": "code",
   "execution_count": 55,
   "metadata": {},
   "outputs": [
    {
     "name": "stdout",
     "output_type": "stream",
     "text": [
      "p-value: 3.5076737062533423e-19\n",
      "Отвергаем нулевую гипотезу\n"
     ]
    }
   ],
   "source": [
    "# создание перечня оценок пользователей жанра Action\n",
    "action = data_act.loc[(data_act['genre'] == 'Action') & (data_act['user_score'] >= 0)]['user_score']\n",
    "# создание перечня оценок пользователей жанра Sports\n",
    "sports = data_act.loc[(data_act['genre'] == 'Sports') & (data_act['user_score'] >= 0)]['user_score']\n",
    "# проведение стат. теста о равенстве пользовательских рейтингов\n",
    "results = st.stats.ttest_ind(action, sports, equal_var = False)\n",
    "# установим уровень статистической значимости\n",
    "alpha = 0.05 \n",
    "# вывод на экран величины p-value\n",
    "print('p-value:', results.pvalue) \n",
    "# сравнение значения p-value с alpha\n",
    "if results.pvalue < alpha:\n",
    "    print('Отвергаем нулевую гипотезу')\n",
    "else:\n",
    "    print('Не получилось отвергнуть нулевую гипотезу') "
   ]
  },
  {
   "cell_type": "markdown",
   "metadata": {},
   "source": [
    "Значение p-value показывает: вероятность случайно получить такое или большее значение практически равно 0. В связи с этим  мы  отвергаем нулевую гипотезу, что средний пользовательский рейтинг жанра Action = средний пользовательский рейтинг жанра Sports.\n",
    "\n",
    "Гипотеза о том, что средние пользовательские рейтинги жанров Action и Sports разные не опровергнута!"
   ]
  },
  {
   "cell_type": "markdown",
   "metadata": {},
   "source": [
    "<a id=\"6\"></a>\n",
    "## Вывод"
   ]
  },
  {
   "cell_type": "markdown",
   "metadata": {},
   "source": [
    "В период с 1980 по 1993 года в год выпускалось не более 100 игр. С 1994 по 2000 год наблюдался умеренный рост количества выпускаемых игр. С 2000 года происходит стремительный рост, который достигает своего пика в 2008 году. Далее идет снижение, а с 2014 года опять начинается умеренный рост.\n",
    "\n",
    "Наибольшее количество продаж за весь период наблюдения приходилось на игры с платформы PS2 - 1 233 млн. копий.\n",
    "\n",
    "Продажи на каждой из платформ в среднем длятся 10 лет. Однако есть и исключения. Новые платформы появляются примерно 1 раз в 2-3 года. Закрытие платформ происходит немного реже.\n",
    "\n",
    "Актуальным для построения прогноза на 2017 год является период с 2013 по 2015 год, поскольку этот период и наиболее однородный, отражает текущие тенденции в изменении количества выходящих игр за год, а также учитывает средний период открытия и закрытия платформ. Данные за 2016 год представлены не в полном объеме.\n",
    "\n",
    "По итогам 2015 года самыми потенциально прибыльными платформами являлись PS4 и XOne. На протяжении 3-х последних лет продажи игр на этих платформах росли. Эти же платформы имеют наибольший разброс данных и межквартильный размах. То есть достаточно большое количество игр на данных платформах имеют высокие показатели продаж. Однако медианное значение продаж на различных платформах отличается незначительно, следовательно большое количество продаж на платформах обусловлено большим количеством игр на каждой из них.\n",
    "\n",
    "На основании проведенного анализа можно сделать вывод о том, что оценки критиков оказывают незначительное влияния на продажи игр. А оценки пользователей - вовсе не оказывают.\n",
    "\n",
    "В 2015 году  жанрами с самыми высокими продажами были: Shooter, Simulation, Misc, Racing и Sports. Жанры Shooter и Simulation являются наиболее потенциально прибыльными.\n",
    "\n",
    "При составлении портрета пользователей Северной Америки, Европы и Японии было выявлено следующее:\n",
    "\n",
    "-\tВ Северной Америке и в Европе лидируют одни и те же платформы. Наиболее продаваемая из них - PS4. В Японии лидером является платформа 3DS.\n",
    "\n",
    "-\tНаиболее популярные жанры игр в Северной Америке и в Европе так же совпадают. К ним относятся Action, Shooter и Sports. В Японии самыми популярными жанрам являются Role-Playing, Action и Misc.\n",
    "\n",
    "-\tРейтинг ESRB влияет на продажи игр в Северной Америке и наиболее популярны здесь игры с рейтингом М («Для взрослых»). Однако в Европе и Японии действуют свои системы рейтингов. В связи с этим не целесообразно оценивать влияние рейтинга ESRB на продажи в Европе и Японии. \n",
    "\n",
    "Проверка гипотезы о том, что средние пользовательские рейтинги платформ Xbox One и PC одинаковые показала, достаточную вероятность данного равенства в связи с чем, гипотеза не была отвергнута.\n",
    "\n",
    "Проверка гипотезы о том, что средние пользовательские рейтинги жанров Action и Sports разные показала, практически нулевую вероятность равенства средних рейтингов. В связи с этим, гипотеза о том, что средние пользовательские рейтинги жанров Action и Sports разные не была отвергнута."
   ]
  }
 ],
 "metadata": {
  "ExecuteTimeLog": [
   {
    "duration": 789,
    "start_time": "2023-02-13T09:45:54.876Z"
   },
   {
    "duration": 133,
    "start_time": "2023-02-13T09:47:32.073Z"
   },
   {
    "duration": 22,
    "start_time": "2023-02-13T09:48:01.201Z"
   },
   {
    "duration": 15,
    "start_time": "2023-02-13T09:48:52.018Z"
   },
   {
    "duration": 58,
    "start_time": "2023-02-13T09:56:13.782Z"
   },
   {
    "duration": 5,
    "start_time": "2023-02-13T10:04:10.506Z"
   },
   {
    "duration": 13,
    "start_time": "2023-02-13T10:04:18.572Z"
   },
   {
    "duration": 5,
    "start_time": "2023-02-13T10:06:37.872Z"
   },
   {
    "duration": 16,
    "start_time": "2023-02-13T10:06:39.997Z"
   },
   {
    "duration": 4,
    "start_time": "2023-02-13T10:07:56.232Z"
   },
   {
    "duration": 16,
    "start_time": "2023-02-13T10:07:58.691Z"
   },
   {
    "duration": 4,
    "start_time": "2023-02-13T10:09:46.448Z"
   },
   {
    "duration": 14,
    "start_time": "2023-02-13T10:09:48.263Z"
   },
   {
    "duration": 4,
    "start_time": "2023-02-13T10:10:52.928Z"
   },
   {
    "duration": 15,
    "start_time": "2023-02-13T10:10:53.672Z"
   },
   {
    "duration": 4,
    "start_time": "2023-02-13T10:12:58.329Z"
   },
   {
    "duration": 15,
    "start_time": "2023-02-13T10:13:01.409Z"
   },
   {
    "duration": 6,
    "start_time": "2023-02-13T10:16:34.384Z"
   },
   {
    "duration": 13,
    "start_time": "2023-02-13T10:17:41.077Z"
   },
   {
    "duration": 75,
    "start_time": "2023-02-13T10:20:11.860Z"
   },
   {
    "duration": 11,
    "start_time": "2023-02-13T10:20:27.461Z"
   },
   {
    "duration": 12,
    "start_time": "2023-02-13T10:22:34.831Z"
   },
   {
    "duration": 628,
    "start_time": "2023-02-13T10:22:44.779Z"
   },
   {
    "duration": 71,
    "start_time": "2023-02-13T10:22:45.409Z"
   },
   {
    "duration": 27,
    "start_time": "2023-02-13T10:22:45.481Z"
   },
   {
    "duration": 15,
    "start_time": "2023-02-13T10:22:45.510Z"
   },
   {
    "duration": 7,
    "start_time": "2023-02-13T10:22:45.526Z"
   },
   {
    "duration": 88,
    "start_time": "2023-02-13T10:22:45.534Z"
   },
   {
    "duration": 0,
    "start_time": "2023-02-13T10:22:45.624Z"
   },
   {
    "duration": 9,
    "start_time": "2023-02-13T10:26:25.865Z"
   },
   {
    "duration": 28,
    "start_time": "2023-02-13T10:27:39.232Z"
   },
   {
    "duration": 19,
    "start_time": "2023-02-13T10:28:14.141Z"
   },
   {
    "duration": 10,
    "start_time": "2023-02-13T10:29:43.828Z"
   },
   {
    "duration": 28,
    "start_time": "2023-02-13T10:30:42.074Z"
   },
   {
    "duration": 12,
    "start_time": "2023-02-13T10:31:40.555Z"
   },
   {
    "duration": 13,
    "start_time": "2023-02-13T10:31:41.276Z"
   },
   {
    "duration": 14,
    "start_time": "2023-02-13T10:31:55.827Z"
   },
   {
    "duration": 5,
    "start_time": "2023-02-13T10:32:04.108Z"
   },
   {
    "duration": 22,
    "start_time": "2023-02-13T10:32:14.223Z"
   },
   {
    "duration": 14,
    "start_time": "2023-02-13T10:42:36.944Z"
   },
   {
    "duration": 6,
    "start_time": "2023-02-13T10:44:35.282Z"
   },
   {
    "duration": 12,
    "start_time": "2023-02-13T10:46:49.377Z"
   },
   {
    "duration": 4,
    "start_time": "2023-02-13T10:47:09.109Z"
   },
   {
    "duration": 6,
    "start_time": "2023-02-13T10:47:45.307Z"
   },
   {
    "duration": 7,
    "start_time": "2023-02-13T10:49:15.188Z"
   },
   {
    "duration": 5,
    "start_time": "2023-02-13T10:49:32.987Z"
   },
   {
    "duration": 11,
    "start_time": "2023-02-13T10:50:53.766Z"
   },
   {
    "duration": 21,
    "start_time": "2023-02-13T10:51:07.063Z"
   },
   {
    "duration": 11,
    "start_time": "2023-02-13T11:41:43.321Z"
   },
   {
    "duration": 15,
    "start_time": "2023-02-13T11:41:47.387Z"
   },
   {
    "duration": 16,
    "start_time": "2023-02-13T11:42:37.529Z"
   },
   {
    "duration": 14,
    "start_time": "2023-02-13T11:42:50.523Z"
   },
   {
    "duration": 5,
    "start_time": "2023-02-13T11:44:54.532Z"
   },
   {
    "duration": 26,
    "start_time": "2023-02-13T11:45:05.651Z"
   },
   {
    "duration": 10,
    "start_time": "2023-02-13T11:45:26.755Z"
   },
   {
    "duration": 23,
    "start_time": "2023-02-13T11:45:32.984Z"
   },
   {
    "duration": 616,
    "start_time": "2023-02-13T11:45:52.109Z"
   },
   {
    "duration": 79,
    "start_time": "2023-02-13T11:45:52.726Z"
   },
   {
    "duration": 22,
    "start_time": "2023-02-13T11:45:52.806Z"
   },
   {
    "duration": 16,
    "start_time": "2023-02-13T11:45:52.830Z"
   },
   {
    "duration": 8,
    "start_time": "2023-02-13T11:45:52.849Z"
   },
   {
    "duration": 17,
    "start_time": "2023-02-13T11:45:52.859Z"
   },
   {
    "duration": 12,
    "start_time": "2023-02-13T11:45:52.894Z"
   },
   {
    "duration": 18,
    "start_time": "2023-02-13T11:45:52.908Z"
   },
   {
    "duration": 5,
    "start_time": "2023-02-13T11:45:52.928Z"
   },
   {
    "duration": 6,
    "start_time": "2023-02-13T11:45:52.935Z"
   },
   {
    "duration": 25,
    "start_time": "2023-02-13T11:45:52.943Z"
   },
   {
    "duration": 36,
    "start_time": "2023-02-13T11:45:52.970Z"
   },
   {
    "duration": 24,
    "start_time": "2023-02-13T11:45:53.008Z"
   },
   {
    "duration": 4,
    "start_time": "2023-02-13T11:48:29.000Z"
   },
   {
    "duration": 6,
    "start_time": "2023-02-13T11:52:27.672Z"
   },
   {
    "duration": 5,
    "start_time": "2023-02-13T11:57:51.942Z"
   },
   {
    "duration": 5,
    "start_time": "2023-02-13T11:58:36.892Z"
   },
   {
    "duration": 6,
    "start_time": "2023-02-13T12:02:47.420Z"
   },
   {
    "duration": 8,
    "start_time": "2023-02-13T12:03:34.333Z"
   },
   {
    "duration": 9,
    "start_time": "2023-02-13T12:03:56.153Z"
   },
   {
    "duration": 9,
    "start_time": "2023-02-13T12:09:35.824Z"
   },
   {
    "duration": 23,
    "start_time": "2023-02-13T12:12:22.875Z"
   },
   {
    "duration": 7,
    "start_time": "2023-02-13T12:13:25.987Z"
   },
   {
    "duration": 9,
    "start_time": "2023-02-13T12:14:00.413Z"
   },
   {
    "duration": 9,
    "start_time": "2023-02-13T12:14:29.406Z"
   },
   {
    "duration": 8,
    "start_time": "2023-02-13T12:14:53.875Z"
   },
   {
    "duration": 10,
    "start_time": "2023-02-13T12:15:08.988Z"
   },
   {
    "duration": 11,
    "start_time": "2023-02-13T12:15:34.368Z"
   },
   {
    "duration": 9,
    "start_time": "2023-02-13T12:15:51.293Z"
   },
   {
    "duration": 10,
    "start_time": "2023-02-13T12:16:24.295Z"
   },
   {
    "duration": 8,
    "start_time": "2023-02-13T12:16:39.285Z"
   },
   {
    "duration": 9,
    "start_time": "2023-02-13T12:17:00.677Z"
   },
   {
    "duration": 8,
    "start_time": "2023-02-13T12:17:34.670Z"
   },
   {
    "duration": 21,
    "start_time": "2023-02-13T12:19:03.232Z"
   },
   {
    "duration": 24,
    "start_time": "2023-02-13T12:22:57.921Z"
   },
   {
    "duration": 7,
    "start_time": "2023-02-13T12:28:46.660Z"
   },
   {
    "duration": 11,
    "start_time": "2023-02-13T12:28:54.378Z"
   },
   {
    "duration": 824,
    "start_time": "2023-02-13T12:33:28.689Z"
   },
   {
    "duration": 51,
    "start_time": "2023-02-13T12:33:40.049Z"
   },
   {
    "duration": 15,
    "start_time": "2023-02-13T12:33:46.971Z"
   },
   {
    "duration": 612,
    "start_time": "2023-02-13T12:34:37.161Z"
   },
   {
    "duration": 70,
    "start_time": "2023-02-13T12:34:37.775Z"
   },
   {
    "duration": 21,
    "start_time": "2023-02-13T12:34:37.849Z"
   },
   {
    "duration": 15,
    "start_time": "2023-02-13T12:34:37.872Z"
   },
   {
    "duration": 5,
    "start_time": "2023-02-13T12:34:37.889Z"
   },
   {
    "duration": 23,
    "start_time": "2023-02-13T12:34:37.896Z"
   },
   {
    "duration": 17,
    "start_time": "2023-02-13T12:34:37.921Z"
   },
   {
    "duration": 61,
    "start_time": "2023-02-13T12:34:37.940Z"
   },
   {
    "duration": 20,
    "start_time": "2023-02-13T12:34:38.004Z"
   },
   {
    "duration": 6,
    "start_time": "2023-02-13T12:34:38.026Z"
   },
   {
    "duration": 13,
    "start_time": "2023-02-13T12:34:38.033Z"
   },
   {
    "duration": 11,
    "start_time": "2023-02-13T12:34:38.048Z"
   },
   {
    "duration": 19,
    "start_time": "2023-02-13T12:34:38.061Z"
   },
   {
    "duration": 28,
    "start_time": "2023-02-13T12:34:38.081Z"
   },
   {
    "duration": 17,
    "start_time": "2023-02-13T12:34:38.111Z"
   },
   {
    "duration": 6,
    "start_time": "2023-02-13T12:34:38.130Z"
   },
   {
    "duration": 627,
    "start_time": "2023-02-13T12:34:49.585Z"
   },
   {
    "duration": 71,
    "start_time": "2023-02-13T12:34:50.213Z"
   },
   {
    "duration": 19,
    "start_time": "2023-02-13T12:34:50.286Z"
   },
   {
    "duration": 14,
    "start_time": "2023-02-13T12:34:50.307Z"
   },
   {
    "duration": 21,
    "start_time": "2023-02-13T12:34:50.322Z"
   },
   {
    "duration": 20,
    "start_time": "2023-02-13T12:34:50.345Z"
   },
   {
    "duration": 13,
    "start_time": "2023-02-13T12:34:50.367Z"
   },
   {
    "duration": 54,
    "start_time": "2023-02-13T12:34:50.382Z"
   },
   {
    "duration": 13,
    "start_time": "2023-02-13T12:34:50.437Z"
   },
   {
    "duration": 5,
    "start_time": "2023-02-13T12:34:50.452Z"
   },
   {
    "duration": 8,
    "start_time": "2023-02-13T12:34:50.458Z"
   },
   {
    "duration": 27,
    "start_time": "2023-02-13T12:34:50.468Z"
   },
   {
    "duration": 10,
    "start_time": "2023-02-13T12:34:50.498Z"
   },
   {
    "duration": 21,
    "start_time": "2023-02-13T12:34:50.510Z"
   },
   {
    "duration": 13,
    "start_time": "2023-02-13T12:34:50.533Z"
   },
   {
    "duration": 6,
    "start_time": "2023-02-13T12:34:50.548Z"
   },
   {
    "duration": 20,
    "start_time": "2023-02-13T12:37:45.368Z"
   },
   {
    "duration": 46,
    "start_time": "2023-02-13T12:38:12.657Z"
   },
   {
    "duration": 49,
    "start_time": "2023-02-13T12:38:31.449Z"
   },
   {
    "duration": 241,
    "start_time": "2023-02-13T12:39:35.157Z"
   },
   {
    "duration": 9,
    "start_time": "2023-02-13T12:42:49.872Z"
   },
   {
    "duration": 51,
    "start_time": "2023-02-13T12:43:03.076Z"
   },
   {
    "duration": 15,
    "start_time": "2023-02-13T12:43:08.733Z"
   },
   {
    "duration": 48,
    "start_time": "2023-02-13T12:43:39.384Z"
   },
   {
    "duration": 14,
    "start_time": "2023-02-13T12:43:42.497Z"
   },
   {
    "duration": 49,
    "start_time": "2023-02-13T12:45:15.657Z"
   },
   {
    "duration": 21,
    "start_time": "2023-02-13T12:45:21.715Z"
   },
   {
    "duration": 583,
    "start_time": "2023-02-13T12:45:36.647Z"
   },
   {
    "duration": 73,
    "start_time": "2023-02-13T12:45:37.232Z"
   },
   {
    "duration": 19,
    "start_time": "2023-02-13T12:45:37.306Z"
   },
   {
    "duration": 13,
    "start_time": "2023-02-13T12:45:37.327Z"
   },
   {
    "duration": 5,
    "start_time": "2023-02-13T12:45:37.342Z"
   },
   {
    "duration": 18,
    "start_time": "2023-02-13T12:45:37.348Z"
   },
   {
    "duration": 12,
    "start_time": "2023-02-13T12:45:37.367Z"
   },
   {
    "duration": 49,
    "start_time": "2023-02-13T12:45:37.394Z"
   },
   {
    "duration": 20,
    "start_time": "2023-02-13T12:45:37.444Z"
   },
   {
    "duration": 32,
    "start_time": "2023-02-13T12:45:37.466Z"
   },
   {
    "duration": 5,
    "start_time": "2023-02-13T12:45:37.500Z"
   },
   {
    "duration": 9,
    "start_time": "2023-02-13T12:45:37.506Z"
   },
   {
    "duration": 6,
    "start_time": "2023-02-13T12:45:37.517Z"
   },
   {
    "duration": 16,
    "start_time": "2023-02-13T12:45:37.525Z"
   },
   {
    "duration": 21,
    "start_time": "2023-02-13T12:45:37.542Z"
   },
   {
    "duration": 40,
    "start_time": "2023-02-13T12:45:37.565Z"
   },
   {
    "duration": 4,
    "start_time": "2023-02-13T12:45:37.607Z"
   },
   {
    "duration": 260,
    "start_time": "2023-02-13T12:48:46.739Z"
   },
   {
    "duration": 2,
    "start_time": "2023-02-13T12:52:24.388Z"
   },
   {
    "duration": 3,
    "start_time": "2023-02-13T12:52:46.618Z"
   },
   {
    "duration": 2,
    "start_time": "2023-02-13T12:52:51.461Z"
   },
   {
    "duration": 3,
    "start_time": "2023-02-13T12:52:56.151Z"
   },
   {
    "duration": 4,
    "start_time": "2023-02-13T12:59:48.904Z"
   },
   {
    "duration": 6,
    "start_time": "2023-02-13T13:00:07.384Z"
   },
   {
    "duration": 5,
    "start_time": "2023-02-13T13:00:23.321Z"
   },
   {
    "duration": 18,
    "start_time": "2023-02-13T13:00:46.084Z"
   },
   {
    "duration": 26,
    "start_time": "2023-02-13T13:07:16.557Z"
   },
   {
    "duration": 27,
    "start_time": "2023-02-13T13:07:47.645Z"
   },
   {
    "duration": 43,
    "start_time": "2023-02-13T13:07:55.894Z"
   },
   {
    "duration": 57,
    "start_time": "2023-02-13T13:08:31.206Z"
   },
   {
    "duration": 7,
    "start_time": "2023-02-13T13:14:43.337Z"
   },
   {
    "duration": 7,
    "start_time": "2023-02-13T13:14:51.003Z"
   },
   {
    "duration": 8,
    "start_time": "2023-02-13T13:15:00.056Z"
   },
   {
    "duration": 576,
    "start_time": "2023-02-13T13:15:07.230Z"
   },
   {
    "duration": 81,
    "start_time": "2023-02-13T13:15:07.808Z"
   },
   {
    "duration": 23,
    "start_time": "2023-02-13T13:15:07.891Z"
   },
   {
    "duration": 14,
    "start_time": "2023-02-13T13:15:07.916Z"
   },
   {
    "duration": 8,
    "start_time": "2023-02-13T13:15:07.932Z"
   },
   {
    "duration": 11,
    "start_time": "2023-02-13T13:15:07.941Z"
   },
   {
    "duration": 42,
    "start_time": "2023-02-13T13:15:07.953Z"
   },
   {
    "duration": 12,
    "start_time": "2023-02-13T13:15:07.997Z"
   },
   {
    "duration": 3,
    "start_time": "2023-02-13T13:15:08.010Z"
   },
   {
    "duration": 16,
    "start_time": "2023-02-13T13:15:08.014Z"
   },
   {
    "duration": 2,
    "start_time": "2023-02-13T13:15:08.032Z"
   },
   {
    "duration": 5,
    "start_time": "2023-02-13T13:15:08.036Z"
   },
   {
    "duration": 8,
    "start_time": "2023-02-13T13:15:08.043Z"
   },
   {
    "duration": 47,
    "start_time": "2023-02-13T13:15:08.053Z"
   },
   {
    "duration": 8,
    "start_time": "2023-02-13T13:15:08.102Z"
   },
   {
    "duration": 20,
    "start_time": "2023-02-13T13:15:08.111Z"
   },
   {
    "duration": 5,
    "start_time": "2023-02-13T13:15:08.133Z"
   },
   {
    "duration": 103,
    "start_time": "2023-02-13T13:15:08.139Z"
   },
   {
    "duration": 0,
    "start_time": "2023-02-13T13:15:08.243Z"
   },
   {
    "duration": 655,
    "start_time": "2023-02-13T13:15:29.268Z"
   },
   {
    "duration": 68,
    "start_time": "2023-02-13T13:15:29.925Z"
   },
   {
    "duration": 21,
    "start_time": "2023-02-13T13:15:29.994Z"
   },
   {
    "duration": 25,
    "start_time": "2023-02-13T13:15:30.016Z"
   },
   {
    "duration": 27,
    "start_time": "2023-02-13T13:15:30.043Z"
   },
   {
    "duration": 14,
    "start_time": "2023-02-13T13:15:30.072Z"
   },
   {
    "duration": 13,
    "start_time": "2023-02-13T13:15:30.088Z"
   },
   {
    "duration": 14,
    "start_time": "2023-02-13T13:15:30.103Z"
   },
   {
    "duration": 2,
    "start_time": "2023-02-13T13:15:30.119Z"
   },
   {
    "duration": 30,
    "start_time": "2023-02-13T13:15:30.123Z"
   },
   {
    "duration": 2,
    "start_time": "2023-02-13T13:15:30.155Z"
   },
   {
    "duration": 13,
    "start_time": "2023-02-13T13:15:30.159Z"
   },
   {
    "duration": 9,
    "start_time": "2023-02-13T13:15:30.174Z"
   },
   {
    "duration": 24,
    "start_time": "2023-02-13T13:15:30.185Z"
   },
   {
    "duration": 7,
    "start_time": "2023-02-13T13:15:30.211Z"
   },
   {
    "duration": 21,
    "start_time": "2023-02-13T13:15:30.219Z"
   },
   {
    "duration": 5,
    "start_time": "2023-02-13T13:15:30.241Z"
   },
   {
    "duration": 94,
    "start_time": "2023-02-13T13:15:30.247Z"
   },
   {
    "duration": 0,
    "start_time": "2023-02-13T13:15:30.342Z"
   },
   {
    "duration": 8,
    "start_time": "2023-02-13T13:15:55.033Z"
   },
   {
    "duration": 8,
    "start_time": "2023-02-13T13:16:32.442Z"
   },
   {
    "duration": 9,
    "start_time": "2023-02-13T13:17:18.458Z"
   },
   {
    "duration": 596,
    "start_time": "2023-02-13T13:17:33.159Z"
   },
   {
    "duration": 68,
    "start_time": "2023-02-13T13:17:33.757Z"
   },
   {
    "duration": 19,
    "start_time": "2023-02-13T13:17:33.826Z"
   },
   {
    "duration": 12,
    "start_time": "2023-02-13T13:17:33.847Z"
   },
   {
    "duration": 5,
    "start_time": "2023-02-13T13:17:33.861Z"
   },
   {
    "duration": 26,
    "start_time": "2023-02-13T13:17:33.867Z"
   },
   {
    "duration": 11,
    "start_time": "2023-02-13T13:17:33.895Z"
   },
   {
    "duration": 18,
    "start_time": "2023-02-13T13:17:33.907Z"
   },
   {
    "duration": 2,
    "start_time": "2023-02-13T13:17:33.927Z"
   },
   {
    "duration": 29,
    "start_time": "2023-02-13T13:17:33.931Z"
   },
   {
    "duration": 3,
    "start_time": "2023-02-13T13:17:33.962Z"
   },
   {
    "duration": 28,
    "start_time": "2023-02-13T13:17:33.967Z"
   },
   {
    "duration": 10,
    "start_time": "2023-02-13T13:17:33.998Z"
   },
   {
    "duration": 29,
    "start_time": "2023-02-13T13:17:34.010Z"
   },
   {
    "duration": 10,
    "start_time": "2023-02-13T13:17:34.041Z"
   },
   {
    "duration": 22,
    "start_time": "2023-02-13T13:17:34.052Z"
   },
   {
    "duration": 6,
    "start_time": "2023-02-13T13:17:34.076Z"
   },
   {
    "duration": 109,
    "start_time": "2023-02-13T13:17:34.094Z"
   },
   {
    "duration": 0,
    "start_time": "2023-02-13T13:17:34.204Z"
   },
   {
    "duration": 10,
    "start_time": "2023-02-13T13:17:57.178Z"
   },
   {
    "duration": 8,
    "start_time": "2023-02-13T13:18:35.285Z"
   },
   {
    "duration": 12,
    "start_time": "2023-02-13T13:18:59.763Z"
   },
   {
    "duration": 55,
    "start_time": "2023-02-13T13:20:36.494Z"
   },
   {
    "duration": 13,
    "start_time": "2023-02-13T13:20:51.434Z"
   },
   {
    "duration": 10,
    "start_time": "2023-02-13T13:21:20.140Z"
   },
   {
    "duration": 192,
    "start_time": "2023-02-13T13:21:54.277Z"
   },
   {
    "duration": 8,
    "start_time": "2023-02-13T13:22:10.950Z"
   },
   {
    "duration": 571,
    "start_time": "2023-02-13T13:22:26.033Z"
   },
   {
    "duration": 72,
    "start_time": "2023-02-13T13:22:26.606Z"
   },
   {
    "duration": 20,
    "start_time": "2023-02-13T13:22:26.680Z"
   },
   {
    "duration": 13,
    "start_time": "2023-02-13T13:22:26.702Z"
   },
   {
    "duration": 6,
    "start_time": "2023-02-13T13:22:26.717Z"
   },
   {
    "duration": 19,
    "start_time": "2023-02-13T13:22:26.724Z"
   },
   {
    "duration": 11,
    "start_time": "2023-02-13T13:22:26.745Z"
   },
   {
    "duration": 40,
    "start_time": "2023-02-13T13:22:26.757Z"
   },
   {
    "duration": 2,
    "start_time": "2023-02-13T13:22:26.799Z"
   },
   {
    "duration": 23,
    "start_time": "2023-02-13T13:22:26.803Z"
   },
   {
    "duration": 3,
    "start_time": "2023-02-13T13:22:26.828Z"
   },
   {
    "duration": 10,
    "start_time": "2023-02-13T13:22:26.832Z"
   },
   {
    "duration": 8,
    "start_time": "2023-02-13T13:22:26.844Z"
   },
   {
    "duration": 24,
    "start_time": "2023-02-13T13:22:26.854Z"
   },
   {
    "duration": 8,
    "start_time": "2023-02-13T13:22:26.893Z"
   },
   {
    "duration": 14,
    "start_time": "2023-02-13T13:22:26.902Z"
   },
   {
    "duration": 12,
    "start_time": "2023-02-13T13:22:26.918Z"
   },
   {
    "duration": 5,
    "start_time": "2023-02-13T13:22:26.932Z"
   },
   {
    "duration": 101,
    "start_time": "2023-02-13T13:22:26.938Z"
   },
   {
    "duration": 0,
    "start_time": "2023-02-13T13:22:27.041Z"
   },
   {
    "duration": 8,
    "start_time": "2023-02-13T13:22:51.456Z"
   },
   {
    "duration": 13,
    "start_time": "2023-02-13T13:22:56.773Z"
   },
   {
    "duration": 7,
    "start_time": "2023-02-13T13:23:28.607Z"
   },
   {
    "duration": 581,
    "start_time": "2023-02-13T13:23:40.219Z"
   },
   {
    "duration": 72,
    "start_time": "2023-02-13T13:23:40.801Z"
   },
   {
    "duration": 21,
    "start_time": "2023-02-13T13:23:40.875Z"
   },
   {
    "duration": 15,
    "start_time": "2023-02-13T13:23:40.898Z"
   },
   {
    "duration": 7,
    "start_time": "2023-02-13T13:23:40.914Z"
   },
   {
    "duration": 14,
    "start_time": "2023-02-13T13:23:40.922Z"
   },
   {
    "duration": 10,
    "start_time": "2023-02-13T13:23:40.937Z"
   },
   {
    "duration": 10,
    "start_time": "2023-02-13T13:23:40.949Z"
   },
   {
    "duration": 1,
    "start_time": "2023-02-13T13:23:40.961Z"
   },
   {
    "duration": 39,
    "start_time": "2023-02-13T13:23:40.965Z"
   },
   {
    "duration": 2,
    "start_time": "2023-02-13T13:23:41.006Z"
   },
   {
    "duration": 10,
    "start_time": "2023-02-13T13:23:41.009Z"
   },
   {
    "duration": 4,
    "start_time": "2023-02-13T13:23:41.022Z"
   },
   {
    "duration": 23,
    "start_time": "2023-02-13T13:23:41.028Z"
   },
   {
    "duration": 6,
    "start_time": "2023-02-13T13:23:41.052Z"
   },
   {
    "duration": 13,
    "start_time": "2023-02-13T13:23:41.060Z"
   },
   {
    "duration": 15,
    "start_time": "2023-02-13T13:23:41.093Z"
   },
   {
    "duration": 4,
    "start_time": "2023-02-13T13:23:41.109Z"
   },
   {
    "duration": 7,
    "start_time": "2023-02-13T13:23:41.115Z"
   },
   {
    "duration": 6,
    "start_time": "2023-02-13T13:23:41.123Z"
   },
   {
    "duration": 2,
    "start_time": "2023-02-13T13:29:18.633Z"
   },
   {
    "duration": 6,
    "start_time": "2023-02-13T14:03:28.548Z"
   },
   {
    "duration": 637,
    "start_time": "2023-02-13T15:35:45.626Z"
   },
   {
    "duration": 80,
    "start_time": "2023-02-13T15:35:46.265Z"
   },
   {
    "duration": 22,
    "start_time": "2023-02-13T15:35:46.347Z"
   },
   {
    "duration": 15,
    "start_time": "2023-02-13T15:35:46.371Z"
   },
   {
    "duration": 8,
    "start_time": "2023-02-13T15:35:46.388Z"
   },
   {
    "duration": 20,
    "start_time": "2023-02-13T15:35:46.399Z"
   },
   {
    "duration": 11,
    "start_time": "2023-02-13T15:35:46.421Z"
   },
   {
    "duration": 9,
    "start_time": "2023-02-13T15:35:46.434Z"
   },
   {
    "duration": 2,
    "start_time": "2023-02-13T15:35:46.445Z"
   },
   {
    "duration": 19,
    "start_time": "2023-02-13T15:35:46.449Z"
   },
   {
    "duration": 2,
    "start_time": "2023-02-13T15:35:46.469Z"
   },
   {
    "duration": 24,
    "start_time": "2023-02-13T15:35:46.473Z"
   },
   {
    "duration": 15,
    "start_time": "2023-02-13T15:35:46.499Z"
   },
   {
    "duration": 4,
    "start_time": "2023-02-13T15:35:46.516Z"
   },
   {
    "duration": 10,
    "start_time": "2023-02-13T15:35:46.521Z"
   },
   {
    "duration": 12,
    "start_time": "2023-02-13T15:35:46.532Z"
   },
   {
    "duration": 16,
    "start_time": "2023-02-13T15:35:46.545Z"
   },
   {
    "duration": 5,
    "start_time": "2023-02-13T15:35:46.562Z"
   },
   {
    "duration": 28,
    "start_time": "2023-02-13T15:35:46.569Z"
   },
   {
    "duration": 6,
    "start_time": "2023-02-13T15:35:46.599Z"
   },
   {
    "duration": 12,
    "start_time": "2023-02-13T15:35:46.608Z"
   },
   {
    "duration": 68,
    "start_time": "2023-02-13T15:36:07.612Z"
   },
   {
    "duration": 4,
    "start_time": "2023-02-13T15:36:14.847Z"
   },
   {
    "duration": 681,
    "start_time": "2023-02-13T15:36:30.981Z"
   },
   {
    "duration": 78,
    "start_time": "2023-02-13T15:36:31.664Z"
   },
   {
    "duration": 20,
    "start_time": "2023-02-13T15:36:31.743Z"
   },
   {
    "duration": 18,
    "start_time": "2023-02-13T15:36:31.765Z"
   },
   {
    "duration": 6,
    "start_time": "2023-02-13T15:36:31.785Z"
   },
   {
    "duration": 38,
    "start_time": "2023-02-13T15:36:31.794Z"
   },
   {
    "duration": 25,
    "start_time": "2023-02-13T15:36:31.834Z"
   },
   {
    "duration": 28,
    "start_time": "2023-02-13T15:36:31.861Z"
   },
   {
    "duration": 8,
    "start_time": "2023-02-13T15:36:31.891Z"
   },
   {
    "duration": 29,
    "start_time": "2023-02-13T15:36:31.902Z"
   },
   {
    "duration": 3,
    "start_time": "2023-02-13T15:36:31.932Z"
   },
   {
    "duration": 18,
    "start_time": "2023-02-13T15:36:31.937Z"
   },
   {
    "duration": 17,
    "start_time": "2023-02-13T15:36:31.957Z"
   },
   {
    "duration": 11,
    "start_time": "2023-02-13T15:36:31.976Z"
   },
   {
    "duration": 16,
    "start_time": "2023-02-13T15:36:31.988Z"
   },
   {
    "duration": 12,
    "start_time": "2023-02-13T15:36:32.005Z"
   },
   {
    "duration": 15,
    "start_time": "2023-02-13T15:36:32.019Z"
   },
   {
    "duration": 6,
    "start_time": "2023-02-13T15:36:32.035Z"
   },
   {
    "duration": 20,
    "start_time": "2023-02-13T15:36:32.042Z"
   },
   {
    "duration": 17,
    "start_time": "2023-02-13T15:36:32.064Z"
   },
   {
    "duration": 31,
    "start_time": "2023-02-13T15:36:32.082Z"
   },
   {
    "duration": 14,
    "start_time": "2023-02-13T16:19:21.142Z"
   },
   {
    "duration": 16,
    "start_time": "2023-02-13T16:21:13.562Z"
   },
   {
    "duration": 13,
    "start_time": "2023-02-13T16:22:03.509Z"
   },
   {
    "duration": 3,
    "start_time": "2023-02-13T16:30:24.412Z"
   },
   {
    "duration": 2131,
    "start_time": "2023-02-13T16:31:31.868Z"
   },
   {
    "duration": 19,
    "start_time": "2023-02-13T16:31:49.542Z"
   },
   {
    "duration": 12,
    "start_time": "2023-02-13T16:32:02.829Z"
   },
   {
    "duration": 588,
    "start_time": "2023-02-13T16:34:53.036Z"
   },
   {
    "duration": 72,
    "start_time": "2023-02-13T16:34:53.626Z"
   },
   {
    "duration": 18,
    "start_time": "2023-02-13T16:34:53.700Z"
   },
   {
    "duration": 13,
    "start_time": "2023-02-13T16:34:53.720Z"
   },
   {
    "duration": 7,
    "start_time": "2023-02-13T16:34:53.735Z"
   },
   {
    "duration": 20,
    "start_time": "2023-02-13T16:34:53.743Z"
   },
   {
    "duration": 28,
    "start_time": "2023-02-13T16:34:53.765Z"
   },
   {
    "duration": 16,
    "start_time": "2023-02-13T16:34:53.795Z"
   },
   {
    "duration": 3,
    "start_time": "2023-02-13T16:34:53.812Z"
   },
   {
    "duration": 4,
    "start_time": "2023-02-13T16:34:53.818Z"
   },
   {
    "duration": 10,
    "start_time": "2023-02-13T16:34:53.823Z"
   },
   {
    "duration": 15,
    "start_time": "2023-02-13T16:34:53.834Z"
   },
   {
    "duration": 18,
    "start_time": "2023-02-13T16:34:53.850Z"
   },
   {
    "duration": 24,
    "start_time": "2023-02-13T16:34:53.870Z"
   },
   {
    "duration": 6,
    "start_time": "2023-02-13T16:34:53.896Z"
   },
   {
    "duration": 5,
    "start_time": "2023-02-13T16:34:53.903Z"
   },
   {
    "duration": 5,
    "start_time": "2023-02-13T16:34:53.909Z"
   },
   {
    "duration": 7,
    "start_time": "2023-02-13T16:34:53.916Z"
   },
   {
    "duration": 13,
    "start_time": "2023-02-13T16:34:53.924Z"
   },
   {
    "duration": 14,
    "start_time": "2023-02-13T16:34:53.938Z"
   },
   {
    "duration": 10,
    "start_time": "2023-02-13T16:34:53.956Z"
   },
   {
    "duration": 35,
    "start_time": "2023-02-13T16:34:53.967Z"
   },
   {
    "duration": 12,
    "start_time": "2023-02-13T16:34:54.004Z"
   },
   {
    "duration": 16,
    "start_time": "2023-02-13T16:34:54.018Z"
   },
   {
    "duration": 77,
    "start_time": "2023-02-13T16:35:16.886Z"
   },
   {
    "duration": 3,
    "start_time": "2023-02-13T16:42:52.051Z"
   },
   {
    "duration": 2310,
    "start_time": "2023-02-13T16:42:56.626Z"
   },
   {
    "duration": 12,
    "start_time": "2023-02-13T16:42:58.938Z"
   },
   {
    "duration": 4,
    "start_time": "2023-02-13T16:52:54.128Z"
   },
   {
    "duration": 12,
    "start_time": "2023-02-13T16:52:56.521Z"
   },
   {
    "duration": 4,
    "start_time": "2023-02-13T16:53:15.609Z"
   },
   {
    "duration": 15,
    "start_time": "2023-02-13T16:53:18.370Z"
   },
   {
    "duration": 5,
    "start_time": "2023-02-13T16:53:51.369Z"
   },
   {
    "duration": 579,
    "start_time": "2023-02-13T16:54:28.257Z"
   },
   {
    "duration": 78,
    "start_time": "2023-02-13T16:54:28.838Z"
   },
   {
    "duration": 19,
    "start_time": "2023-02-13T16:54:28.917Z"
   },
   {
    "duration": 13,
    "start_time": "2023-02-13T16:54:28.938Z"
   },
   {
    "duration": 8,
    "start_time": "2023-02-13T16:54:28.952Z"
   },
   {
    "duration": 10,
    "start_time": "2023-02-13T16:54:28.962Z"
   },
   {
    "duration": 30,
    "start_time": "2023-02-13T16:54:28.973Z"
   },
   {
    "duration": 13,
    "start_time": "2023-02-13T16:54:29.005Z"
   },
   {
    "duration": 3,
    "start_time": "2023-02-13T16:54:29.019Z"
   },
   {
    "duration": 2204,
    "start_time": "2023-02-13T16:54:29.024Z"
   },
   {
    "duration": 16,
    "start_time": "2023-02-13T16:54:31.229Z"
   },
   {
    "duration": 15,
    "start_time": "2023-02-13T16:54:31.247Z"
   },
   {
    "duration": 5,
    "start_time": "2023-02-13T16:54:31.264Z"
   },
   {
    "duration": 15,
    "start_time": "2023-02-13T16:54:31.270Z"
   },
   {
    "duration": 9,
    "start_time": "2023-02-13T16:54:31.286Z"
   },
   {
    "duration": 82,
    "start_time": "2023-02-13T16:54:31.297Z"
   },
   {
    "duration": 0,
    "start_time": "2023-02-13T16:54:31.382Z"
   },
   {
    "duration": 0,
    "start_time": "2023-02-13T16:54:31.383Z"
   },
   {
    "duration": 0,
    "start_time": "2023-02-13T16:54:31.393Z"
   },
   {
    "duration": 1,
    "start_time": "2023-02-13T16:54:31.394Z"
   },
   {
    "duration": 0,
    "start_time": "2023-02-13T16:54:31.396Z"
   },
   {
    "duration": 0,
    "start_time": "2023-02-13T16:54:31.397Z"
   },
   {
    "duration": 0,
    "start_time": "2023-02-13T16:54:31.398Z"
   },
   {
    "duration": 12,
    "start_time": "2023-02-13T16:56:04.003Z"
   },
   {
    "duration": 7,
    "start_time": "2023-02-13T16:56:14.953Z"
   },
   {
    "duration": 6,
    "start_time": "2023-02-13T16:56:21.932Z"
   },
   {
    "duration": 12,
    "start_time": "2023-02-13T16:56:26.554Z"
   },
   {
    "duration": 5,
    "start_time": "2023-02-13T16:56:33.760Z"
   },
   {
    "duration": 655,
    "start_time": "2023-02-13T16:58:47.892Z"
   },
   {
    "duration": 71,
    "start_time": "2023-02-13T16:58:48.549Z"
   },
   {
    "duration": 21,
    "start_time": "2023-02-13T16:58:48.622Z"
   },
   {
    "duration": 17,
    "start_time": "2023-02-13T16:58:48.645Z"
   },
   {
    "duration": 7,
    "start_time": "2023-02-13T16:58:48.663Z"
   },
   {
    "duration": 27,
    "start_time": "2023-02-13T16:58:48.672Z"
   },
   {
    "duration": 11,
    "start_time": "2023-02-13T16:58:48.701Z"
   },
   {
    "duration": 13,
    "start_time": "2023-02-13T16:58:48.713Z"
   },
   {
    "duration": 3,
    "start_time": "2023-02-13T16:58:48.727Z"
   },
   {
    "duration": 2177,
    "start_time": "2023-02-13T16:58:48.732Z"
   },
   {
    "duration": 12,
    "start_time": "2023-02-13T16:58:50.910Z"
   },
   {
    "duration": 12,
    "start_time": "2023-02-13T16:58:50.924Z"
   },
   {
    "duration": 3,
    "start_time": "2023-02-13T16:58:50.937Z"
   },
   {
    "duration": 9,
    "start_time": "2023-02-13T16:58:50.941Z"
   },
   {
    "duration": 10,
    "start_time": "2023-02-13T16:58:50.951Z"
   },
   {
    "duration": 7,
    "start_time": "2023-02-13T16:58:50.963Z"
   },
   {
    "duration": 33,
    "start_time": "2023-02-13T16:58:50.971Z"
   },
   {
    "duration": 5,
    "start_time": "2023-02-13T16:58:51.005Z"
   },
   {
    "duration": 13,
    "start_time": "2023-02-13T16:58:51.012Z"
   },
   {
    "duration": 5,
    "start_time": "2023-02-13T16:58:51.027Z"
   },
   {
    "duration": 8,
    "start_time": "2023-02-13T16:58:51.034Z"
   },
   {
    "duration": 8,
    "start_time": "2023-02-13T16:58:51.044Z"
   },
   {
    "duration": 6,
    "start_time": "2023-02-13T16:58:51.054Z"
   },
   {
    "duration": 4,
    "start_time": "2023-02-13T17:02:28.394Z"
   },
   {
    "duration": 21,
    "start_time": "2023-02-13T17:02:29.902Z"
   },
   {
    "duration": 4,
    "start_time": "2023-02-13T17:02:37.150Z"
   },
   {
    "duration": 615,
    "start_time": "2023-02-13T17:03:04.446Z"
   },
   {
    "duration": 71,
    "start_time": "2023-02-13T17:03:05.063Z"
   },
   {
    "duration": 21,
    "start_time": "2023-02-13T17:03:05.136Z"
   },
   {
    "duration": 16,
    "start_time": "2023-02-13T17:03:05.159Z"
   },
   {
    "duration": 19,
    "start_time": "2023-02-13T17:03:05.176Z"
   },
   {
    "duration": 15,
    "start_time": "2023-02-13T17:03:05.196Z"
   },
   {
    "duration": 12,
    "start_time": "2023-02-13T17:03:05.212Z"
   },
   {
    "duration": 14,
    "start_time": "2023-02-13T17:03:05.226Z"
   },
   {
    "duration": 4,
    "start_time": "2023-02-13T17:03:05.241Z"
   },
   {
    "duration": 2292,
    "start_time": "2023-02-13T17:03:05.247Z"
   },
   {
    "duration": 13,
    "start_time": "2023-02-13T17:03:07.541Z"
   },
   {
    "duration": 19,
    "start_time": "2023-02-13T17:03:07.555Z"
   },
   {
    "duration": 5,
    "start_time": "2023-02-13T17:03:07.576Z"
   },
   {
    "duration": 2,
    "start_time": "2023-02-13T17:03:07.593Z"
   },
   {
    "duration": 11,
    "start_time": "2023-02-13T17:03:07.597Z"
   },
   {
    "duration": 10,
    "start_time": "2023-02-13T17:03:07.609Z"
   },
   {
    "duration": 25,
    "start_time": "2023-02-13T17:03:07.621Z"
   },
   {
    "duration": 7,
    "start_time": "2023-02-13T17:03:07.647Z"
   },
   {
    "duration": 35,
    "start_time": "2023-02-13T17:03:07.655Z"
   },
   {
    "duration": 5,
    "start_time": "2023-02-13T17:03:07.692Z"
   },
   {
    "duration": 11,
    "start_time": "2023-02-13T17:03:07.699Z"
   },
   {
    "duration": 6,
    "start_time": "2023-02-13T17:03:07.711Z"
   },
   {
    "duration": 11,
    "start_time": "2023-02-13T17:03:07.718Z"
   },
   {
    "duration": 6,
    "start_time": "2023-02-13T17:05:40.824Z"
   },
   {
    "duration": 5,
    "start_time": "2023-02-13T17:06:16.289Z"
   },
   {
    "duration": 24,
    "start_time": "2023-02-13T17:08:35.386Z"
   },
   {
    "duration": 7,
    "start_time": "2023-02-13T17:09:10.788Z"
   },
   {
    "duration": 7,
    "start_time": "2023-02-13T17:09:51.058Z"
   },
   {
    "duration": 19,
    "start_time": "2023-02-13T17:10:12.699Z"
   },
   {
    "duration": 7,
    "start_time": "2023-02-13T17:11:28.124Z"
   },
   {
    "duration": 12,
    "start_time": "2023-02-13T17:11:29.820Z"
   },
   {
    "duration": 76,
    "start_time": "2023-02-13T17:35:51.964Z"
   },
   {
    "duration": 10,
    "start_time": "2023-02-13T17:36:09.378Z"
   },
   {
    "duration": 13,
    "start_time": "2023-02-13T17:36:20.841Z"
   },
   {
    "duration": 17,
    "start_time": "2023-02-13T17:37:08.381Z"
   },
   {
    "duration": 14,
    "start_time": "2023-02-13T17:37:19.726Z"
   },
   {
    "duration": 14,
    "start_time": "2023-02-13T17:37:32.443Z"
   },
   {
    "duration": 4,
    "start_time": "2023-02-13T17:39:19.095Z"
   },
   {
    "duration": 557,
    "start_time": "2023-02-13T17:39:48.344Z"
   },
   {
    "duration": 69,
    "start_time": "2023-02-13T17:39:48.904Z"
   },
   {
    "duration": 19,
    "start_time": "2023-02-13T17:39:48.977Z"
   },
   {
    "duration": 13,
    "start_time": "2023-02-13T17:39:48.997Z"
   },
   {
    "duration": 6,
    "start_time": "2023-02-13T17:39:49.012Z"
   },
   {
    "duration": 13,
    "start_time": "2023-02-13T17:39:49.019Z"
   },
   {
    "duration": 12,
    "start_time": "2023-02-13T17:39:49.034Z"
   },
   {
    "duration": 14,
    "start_time": "2023-02-13T17:39:49.047Z"
   },
   {
    "duration": 3,
    "start_time": "2023-02-13T17:39:49.064Z"
   },
   {
    "duration": 2203,
    "start_time": "2023-02-13T17:39:49.095Z"
   },
   {
    "duration": 16,
    "start_time": "2023-02-13T17:39:51.300Z"
   },
   {
    "duration": 15,
    "start_time": "2023-02-13T17:39:51.317Z"
   },
   {
    "duration": 3,
    "start_time": "2023-02-13T17:39:51.334Z"
   },
   {
    "duration": 5,
    "start_time": "2023-02-13T17:39:51.339Z"
   },
   {
    "duration": 14,
    "start_time": "2023-02-13T17:39:51.346Z"
   },
   {
    "duration": 38,
    "start_time": "2023-02-13T17:39:51.362Z"
   },
   {
    "duration": 16,
    "start_time": "2023-02-13T17:39:51.402Z"
   },
   {
    "duration": 5,
    "start_time": "2023-02-13T17:39:51.420Z"
   },
   {
    "duration": 14,
    "start_time": "2023-02-13T17:39:51.427Z"
   },
   {
    "duration": 12,
    "start_time": "2023-02-13T17:39:51.443Z"
   },
   {
    "duration": 41,
    "start_time": "2023-02-13T17:39:51.457Z"
   },
   {
    "duration": 6,
    "start_time": "2023-02-13T17:39:51.500Z"
   },
   {
    "duration": 8,
    "start_time": "2023-02-13T17:39:51.507Z"
   },
   {
    "duration": 6,
    "start_time": "2023-02-13T17:39:51.516Z"
   },
   {
    "duration": 20,
    "start_time": "2023-02-13T17:39:51.523Z"
   },
   {
    "duration": 8,
    "start_time": "2023-02-13T17:39:51.545Z"
   },
   {
    "duration": 5,
    "start_time": "2023-02-13T17:40:29.709Z"
   },
   {
    "duration": 17,
    "start_time": "2023-02-13T17:41:00.116Z"
   },
   {
    "duration": 19,
    "start_time": "2023-02-13T17:41:40.205Z"
   },
   {
    "duration": 24,
    "start_time": "2023-02-13T18:34:28.448Z"
   },
   {
    "duration": 612,
    "start_time": "2023-02-13T18:34:36.023Z"
   },
   {
    "duration": 72,
    "start_time": "2023-02-13T18:34:36.637Z"
   },
   {
    "duration": 18,
    "start_time": "2023-02-13T18:34:36.711Z"
   },
   {
    "duration": 15,
    "start_time": "2023-02-13T18:34:36.731Z"
   },
   {
    "duration": 5,
    "start_time": "2023-02-13T18:34:36.748Z"
   },
   {
    "duration": 16,
    "start_time": "2023-02-13T18:34:36.755Z"
   },
   {
    "duration": 29,
    "start_time": "2023-02-13T18:34:36.772Z"
   },
   {
    "duration": 23,
    "start_time": "2023-02-13T18:34:36.802Z"
   },
   {
    "duration": 15,
    "start_time": "2023-02-13T18:34:36.827Z"
   },
   {
    "duration": 3,
    "start_time": "2023-02-13T18:34:36.845Z"
   },
   {
    "duration": 2324,
    "start_time": "2023-02-13T18:34:36.850Z"
   },
   {
    "duration": 17,
    "start_time": "2023-02-13T18:34:39.176Z"
   },
   {
    "duration": 14,
    "start_time": "2023-02-13T18:34:39.195Z"
   },
   {
    "duration": 2,
    "start_time": "2023-02-13T18:34:39.211Z"
   },
   {
    "duration": 6,
    "start_time": "2023-02-13T18:34:39.215Z"
   },
   {
    "duration": 8,
    "start_time": "2023-02-13T18:34:39.222Z"
   },
   {
    "duration": 10,
    "start_time": "2023-02-13T18:34:39.231Z"
   },
   {
    "duration": 16,
    "start_time": "2023-02-13T18:34:39.242Z"
   },
   {
    "duration": 5,
    "start_time": "2023-02-13T18:34:39.259Z"
   },
   {
    "duration": 8,
    "start_time": "2023-02-13T18:34:39.294Z"
   },
   {
    "duration": 12,
    "start_time": "2023-02-13T18:34:39.303Z"
   },
   {
    "duration": 14,
    "start_time": "2023-02-13T18:34:39.317Z"
   },
   {
    "duration": 5,
    "start_time": "2023-02-13T18:34:39.333Z"
   },
   {
    "duration": 4,
    "start_time": "2023-02-13T18:34:39.340Z"
   },
   {
    "duration": 4,
    "start_time": "2023-02-13T18:34:39.346Z"
   },
   {
    "duration": 45,
    "start_time": "2023-02-13T18:34:39.351Z"
   },
   {
    "duration": 22,
    "start_time": "2023-02-13T18:34:39.398Z"
   },
   {
    "duration": 9,
    "start_time": "2023-02-13T18:38:27.765Z"
   },
   {
    "duration": 6,
    "start_time": "2023-02-13T18:58:39.316Z"
   },
   {
    "duration": 706,
    "start_time": "2023-02-13T18:58:51.889Z"
   },
   {
    "duration": 71,
    "start_time": "2023-02-13T18:58:52.596Z"
   },
   {
    "duration": 18,
    "start_time": "2023-02-13T18:58:52.669Z"
   },
   {
    "duration": 13,
    "start_time": "2023-02-13T18:58:52.689Z"
   },
   {
    "duration": 6,
    "start_time": "2023-02-13T18:58:52.704Z"
   },
   {
    "duration": 10,
    "start_time": "2023-02-13T18:58:52.712Z"
   },
   {
    "duration": 14,
    "start_time": "2023-02-13T18:58:52.724Z"
   },
   {
    "duration": 26,
    "start_time": "2023-02-13T18:58:52.740Z"
   },
   {
    "duration": 36,
    "start_time": "2023-02-13T18:58:52.768Z"
   },
   {
    "duration": 3,
    "start_time": "2023-02-13T18:58:52.807Z"
   },
   {
    "duration": 2434,
    "start_time": "2023-02-13T18:58:52.811Z"
   },
   {
    "duration": 13,
    "start_time": "2023-02-13T18:58:55.247Z"
   },
   {
    "duration": 16,
    "start_time": "2023-02-13T18:58:55.262Z"
   },
   {
    "duration": 13,
    "start_time": "2023-02-13T18:58:55.280Z"
   },
   {
    "duration": 3,
    "start_time": "2023-02-13T18:58:55.295Z"
   },
   {
    "duration": 9,
    "start_time": "2023-02-13T18:58:55.300Z"
   },
   {
    "duration": 10,
    "start_time": "2023-02-13T18:58:55.310Z"
   },
   {
    "duration": 14,
    "start_time": "2023-02-13T18:58:55.321Z"
   },
   {
    "duration": 4,
    "start_time": "2023-02-13T18:58:55.337Z"
   },
   {
    "duration": 29,
    "start_time": "2023-02-13T18:58:55.343Z"
   },
   {
    "duration": 11,
    "start_time": "2023-02-13T18:58:55.374Z"
   },
   {
    "duration": 14,
    "start_time": "2023-02-13T18:58:55.387Z"
   },
   {
    "duration": 6,
    "start_time": "2023-02-13T18:58:55.403Z"
   },
   {
    "duration": 11,
    "start_time": "2023-02-13T18:58:55.410Z"
   },
   {
    "duration": 5,
    "start_time": "2023-02-13T18:58:55.422Z"
   },
   {
    "duration": 9,
    "start_time": "2023-02-13T18:58:55.428Z"
   },
   {
    "duration": 18,
    "start_time": "2023-02-13T18:58:55.438Z"
   },
   {
    "duration": 5,
    "start_time": "2023-02-13T18:58:55.459Z"
   },
   {
    "duration": 73,
    "start_time": "2023-02-13T18:59:47.969Z"
   },
   {
    "duration": 5,
    "start_time": "2023-02-13T19:00:35.459Z"
   },
   {
    "duration": 8,
    "start_time": "2023-02-13T19:00:46.966Z"
   },
   {
    "duration": 13,
    "start_time": "2023-02-13T19:00:57.548Z"
   },
   {
    "duration": 4,
    "start_time": "2023-02-13T19:02:56.540Z"
   },
   {
    "duration": 6,
    "start_time": "2023-02-13T19:06:44.526Z"
   },
   {
    "duration": 4,
    "start_time": "2023-02-13T19:08:57.184Z"
   },
   {
    "duration": 4,
    "start_time": "2023-02-13T19:09:59.120Z"
   },
   {
    "duration": 624,
    "start_time": "2023-02-13T19:10:09.270Z"
   },
   {
    "duration": 69,
    "start_time": "2023-02-13T19:10:09.896Z"
   },
   {
    "duration": 18,
    "start_time": "2023-02-13T19:10:09.967Z"
   },
   {
    "duration": 13,
    "start_time": "2023-02-13T19:10:09.986Z"
   },
   {
    "duration": 6,
    "start_time": "2023-02-13T19:10:10.001Z"
   },
   {
    "duration": 12,
    "start_time": "2023-02-13T19:10:10.009Z"
   },
   {
    "duration": 29,
    "start_time": "2023-02-13T19:10:10.022Z"
   },
   {
    "duration": 15,
    "start_time": "2023-02-13T19:10:10.052Z"
   },
   {
    "duration": 9,
    "start_time": "2023-02-13T19:10:10.068Z"
   },
   {
    "duration": 2285,
    "start_time": "2023-02-13T19:10:10.079Z"
   },
   {
    "duration": 18,
    "start_time": "2023-02-13T19:10:12.366Z"
   },
   {
    "duration": 3,
    "start_time": "2023-02-13T19:10:12.393Z"
   },
   {
    "duration": 7,
    "start_time": "2023-02-13T19:10:12.398Z"
   },
   {
    "duration": 7,
    "start_time": "2023-02-13T19:10:12.408Z"
   },
   {
    "duration": 19,
    "start_time": "2023-02-13T19:10:12.417Z"
   },
   {
    "duration": 6,
    "start_time": "2023-02-13T19:10:12.438Z"
   },
   {
    "duration": 28,
    "start_time": "2023-02-13T19:10:12.445Z"
   },
   {
    "duration": 20,
    "start_time": "2023-02-13T19:10:12.474Z"
   },
   {
    "duration": 19,
    "start_time": "2023-02-13T19:10:12.496Z"
   },
   {
    "duration": 8,
    "start_time": "2023-02-13T19:10:12.517Z"
   },
   {
    "duration": 37,
    "start_time": "2023-02-13T19:10:12.527Z"
   },
   {
    "duration": 20,
    "start_time": "2023-02-13T19:10:12.566Z"
   },
   {
    "duration": 24,
    "start_time": "2023-02-13T19:10:12.588Z"
   },
   {
    "duration": 22,
    "start_time": "2023-02-13T19:10:12.613Z"
   },
   {
    "duration": 7,
    "start_time": "2023-02-13T19:10:12.637Z"
   },
   {
    "duration": 4,
    "start_time": "2023-02-13T19:22:13.246Z"
   },
   {
    "duration": 4,
    "start_time": "2023-02-13T19:23:23.863Z"
   },
   {
    "duration": 7,
    "start_time": "2023-02-13T19:37:35.160Z"
   },
   {
    "duration": 13,
    "start_time": "2023-02-13T19:37:53.386Z"
   },
   {
    "duration": 16,
    "start_time": "2023-02-13T19:37:56.562Z"
   },
   {
    "duration": 163,
    "start_time": "2023-02-13T19:50:02.544Z"
   },
   {
    "duration": 12,
    "start_time": "2023-02-13T19:50:40.335Z"
   },
   {
    "duration": 14,
    "start_time": "2023-02-13T20:12:01.741Z"
   },
   {
    "duration": 18,
    "start_time": "2023-02-13T20:14:17.868Z"
   },
   {
    "duration": 15,
    "start_time": "2023-02-13T20:15:05.276Z"
   },
   {
    "duration": 14,
    "start_time": "2023-02-13T20:15:43.405Z"
   },
   {
    "duration": 638,
    "start_time": "2023-02-13T20:18:21.905Z"
   },
   {
    "duration": 74,
    "start_time": "2023-02-13T20:18:22.546Z"
   },
   {
    "duration": 22,
    "start_time": "2023-02-13T20:18:22.622Z"
   },
   {
    "duration": 15,
    "start_time": "2023-02-13T20:18:22.647Z"
   },
   {
    "duration": 7,
    "start_time": "2023-02-13T20:18:22.663Z"
   },
   {
    "duration": 31,
    "start_time": "2023-02-13T20:18:22.672Z"
   },
   {
    "duration": 18,
    "start_time": "2023-02-13T20:18:22.704Z"
   },
   {
    "duration": 16,
    "start_time": "2023-02-13T20:18:22.724Z"
   },
   {
    "duration": 3,
    "start_time": "2023-02-13T20:18:22.742Z"
   },
   {
    "duration": 2415,
    "start_time": "2023-02-13T20:18:22.747Z"
   },
   {
    "duration": 14,
    "start_time": "2023-02-13T20:18:25.164Z"
   },
   {
    "duration": 5,
    "start_time": "2023-02-13T20:18:25.179Z"
   },
   {
    "duration": 5,
    "start_time": "2023-02-13T20:18:25.193Z"
   },
   {
    "duration": 14,
    "start_time": "2023-02-13T20:18:25.200Z"
   },
   {
    "duration": 15,
    "start_time": "2023-02-13T20:18:25.216Z"
   },
   {
    "duration": 14,
    "start_time": "2023-02-13T20:18:25.233Z"
   },
   {
    "duration": 15,
    "start_time": "2023-02-13T20:18:25.249Z"
   },
   {
    "duration": 32,
    "start_time": "2023-02-13T20:18:25.265Z"
   },
   {
    "duration": 16,
    "start_time": "2023-02-13T20:18:25.299Z"
   },
   {
    "duration": 13,
    "start_time": "2023-02-13T20:18:25.317Z"
   },
   {
    "duration": 5,
    "start_time": "2023-02-13T20:18:25.332Z"
   },
   {
    "duration": 67,
    "start_time": "2023-02-13T20:21:56.545Z"
   },
   {
    "duration": 14,
    "start_time": "2023-02-13T20:22:17.282Z"
   },
   {
    "duration": 24,
    "start_time": "2023-02-13T20:23:23.394Z"
   },
   {
    "duration": 16,
    "start_time": "2023-02-13T20:23:50.170Z"
   },
   {
    "duration": 16,
    "start_time": "2023-02-13T20:25:41.717Z"
   },
   {
    "duration": 19,
    "start_time": "2023-02-13T20:26:03.757Z"
   },
   {
    "duration": 20,
    "start_time": "2023-02-13T20:27:39.141Z"
   },
   {
    "duration": 16,
    "start_time": "2023-02-13T20:29:06.285Z"
   },
   {
    "duration": 15,
    "start_time": "2023-02-13T20:29:24.646Z"
   },
   {
    "duration": 765,
    "start_time": "2023-02-14T06:31:38.099Z"
   },
   {
    "duration": 244,
    "start_time": "2023-02-14T06:31:38.866Z"
   },
   {
    "duration": 21,
    "start_time": "2023-02-14T06:31:39.112Z"
   },
   {
    "duration": 16,
    "start_time": "2023-02-14T06:31:39.135Z"
   },
   {
    "duration": 7,
    "start_time": "2023-02-14T06:31:39.152Z"
   },
   {
    "duration": 12,
    "start_time": "2023-02-14T06:31:39.161Z"
   },
   {
    "duration": 32,
    "start_time": "2023-02-14T06:31:39.174Z"
   },
   {
    "duration": 13,
    "start_time": "2023-02-14T06:31:39.208Z"
   },
   {
    "duration": 2,
    "start_time": "2023-02-14T06:31:39.223Z"
   },
   {
    "duration": 2374,
    "start_time": "2023-02-14T06:31:39.228Z"
   },
   {
    "duration": 16,
    "start_time": "2023-02-14T06:31:41.614Z"
   },
   {
    "duration": 8,
    "start_time": "2023-02-14T06:31:41.632Z"
   },
   {
    "duration": 7,
    "start_time": "2023-02-14T06:31:41.641Z"
   },
   {
    "duration": 6,
    "start_time": "2023-02-14T06:31:41.649Z"
   },
   {
    "duration": 13,
    "start_time": "2023-02-14T06:31:41.657Z"
   },
   {
    "duration": 13,
    "start_time": "2023-02-14T06:31:41.671Z"
   },
   {
    "duration": 29,
    "start_time": "2023-02-14T06:31:41.686Z"
   },
   {
    "duration": 5,
    "start_time": "2023-02-14T06:31:41.716Z"
   },
   {
    "duration": 14,
    "start_time": "2023-02-14T06:31:41.722Z"
   },
   {
    "duration": 15,
    "start_time": "2023-02-14T06:31:41.737Z"
   },
   {
    "duration": 8,
    "start_time": "2023-02-14T06:31:41.753Z"
   },
   {
    "duration": 42,
    "start_time": "2023-02-14T06:31:41.762Z"
   },
   {
    "duration": 12,
    "start_time": "2023-02-14T06:31:41.806Z"
   },
   {
    "duration": 12,
    "start_time": "2023-02-14T06:32:16.691Z"
   },
   {
    "duration": 196,
    "start_time": "2023-02-14T06:38:39.684Z"
   },
   {
    "duration": 178,
    "start_time": "2023-02-14T06:39:44.650Z"
   },
   {
    "duration": 113,
    "start_time": "2023-02-14T06:39:59.781Z"
   },
   {
    "duration": 631,
    "start_time": "2023-02-14T06:40:13.100Z"
   },
   {
    "duration": 83,
    "start_time": "2023-02-14T06:40:13.733Z"
   },
   {
    "duration": 18,
    "start_time": "2023-02-14T06:40:13.817Z"
   },
   {
    "duration": 23,
    "start_time": "2023-02-14T06:40:13.837Z"
   },
   {
    "duration": 9,
    "start_time": "2023-02-14T06:40:13.862Z"
   },
   {
    "duration": 33,
    "start_time": "2023-02-14T06:40:13.872Z"
   },
   {
    "duration": 15,
    "start_time": "2023-02-14T06:40:13.907Z"
   },
   {
    "duration": 22,
    "start_time": "2023-02-14T06:40:13.924Z"
   },
   {
    "duration": 8,
    "start_time": "2023-02-14T06:40:13.948Z"
   },
   {
    "duration": 2169,
    "start_time": "2023-02-14T06:40:13.958Z"
   },
   {
    "duration": 13,
    "start_time": "2023-02-14T06:40:16.128Z"
   },
   {
    "duration": 3,
    "start_time": "2023-02-14T06:40:16.143Z"
   },
   {
    "duration": 27,
    "start_time": "2023-02-14T06:40:16.148Z"
   },
   {
    "duration": 33,
    "start_time": "2023-02-14T06:40:16.176Z"
   },
   {
    "duration": 25,
    "start_time": "2023-02-14T06:40:16.211Z"
   },
   {
    "duration": 32,
    "start_time": "2023-02-14T06:40:16.238Z"
   },
   {
    "duration": 38,
    "start_time": "2023-02-14T06:40:16.272Z"
   },
   {
    "duration": 15,
    "start_time": "2023-02-14T06:40:16.312Z"
   },
   {
    "duration": 37,
    "start_time": "2023-02-14T06:40:16.328Z"
   },
   {
    "duration": 35,
    "start_time": "2023-02-14T06:40:16.367Z"
   },
   {
    "duration": 80,
    "start_time": "2023-02-14T06:40:16.404Z"
   },
   {
    "duration": 0,
    "start_time": "2023-02-14T06:40:16.487Z"
   },
   {
    "duration": 0,
    "start_time": "2023-02-14T06:40:16.488Z"
   },
   {
    "duration": 0,
    "start_time": "2023-02-14T06:40:16.489Z"
   },
   {
    "duration": 266,
    "start_time": "2023-02-14T06:40:43.343Z"
   },
   {
    "duration": 182,
    "start_time": "2023-02-14T06:40:59.876Z"
   },
   {
    "duration": 724,
    "start_time": "2023-02-14T06:41:22.482Z"
   },
   {
    "duration": 83,
    "start_time": "2023-02-14T06:41:23.208Z"
   },
   {
    "duration": 19,
    "start_time": "2023-02-14T06:41:23.293Z"
   },
   {
    "duration": 13,
    "start_time": "2023-02-14T06:41:23.315Z"
   },
   {
    "duration": 6,
    "start_time": "2023-02-14T06:41:23.330Z"
   },
   {
    "duration": 13,
    "start_time": "2023-02-14T06:41:23.337Z"
   },
   {
    "duration": 12,
    "start_time": "2023-02-14T06:41:23.352Z"
   },
   {
    "duration": 44,
    "start_time": "2023-02-14T06:41:23.366Z"
   },
   {
    "duration": 3,
    "start_time": "2023-02-14T06:41:23.412Z"
   },
   {
    "duration": 2414,
    "start_time": "2023-02-14T06:41:23.418Z"
   },
   {
    "duration": 12,
    "start_time": "2023-02-14T06:41:25.834Z"
   },
   {
    "duration": 3,
    "start_time": "2023-02-14T06:41:25.848Z"
   },
   {
    "duration": 7,
    "start_time": "2023-02-14T06:41:25.853Z"
   },
   {
    "duration": 13,
    "start_time": "2023-02-14T06:41:25.862Z"
   },
   {
    "duration": 28,
    "start_time": "2023-02-14T06:41:25.876Z"
   },
   {
    "duration": 15,
    "start_time": "2023-02-14T06:41:25.905Z"
   },
   {
    "duration": 14,
    "start_time": "2023-02-14T06:41:25.921Z"
   },
   {
    "duration": 4,
    "start_time": "2023-02-14T06:41:25.936Z"
   },
   {
    "duration": 23,
    "start_time": "2023-02-14T06:41:25.942Z"
   },
   {
    "duration": 15,
    "start_time": "2023-02-14T06:41:25.966Z"
   },
   {
    "duration": 216,
    "start_time": "2023-02-14T06:41:26.004Z"
   },
   {
    "duration": 6,
    "start_time": "2023-02-14T06:41:26.222Z"
   },
   {
    "duration": 16,
    "start_time": "2023-02-14T06:41:26.231Z"
   },
   {
    "duration": 23,
    "start_time": "2023-02-14T06:41:26.248Z"
   },
   {
    "duration": 180,
    "start_time": "2023-02-14T06:41:42.904Z"
   },
   {
    "duration": 209,
    "start_time": "2023-02-14T06:42:04.910Z"
   },
   {
    "duration": 168,
    "start_time": "2023-02-14T06:42:33.318Z"
   },
   {
    "duration": 227,
    "start_time": "2023-02-14T06:43:38.878Z"
   },
   {
    "duration": 161,
    "start_time": "2023-02-14T06:43:41.846Z"
   },
   {
    "duration": 175,
    "start_time": "2023-02-14T06:43:45.222Z"
   },
   {
    "duration": 83,
    "start_time": "2023-02-14T06:52:14.611Z"
   },
   {
    "duration": 88,
    "start_time": "2023-02-14T06:53:52.709Z"
   },
   {
    "duration": 57,
    "start_time": "2023-02-14T06:54:47.277Z"
   },
   {
    "duration": 206,
    "start_time": "2023-02-14T06:57:22.340Z"
   },
   {
    "duration": 96,
    "start_time": "2023-02-14T06:57:33.301Z"
   },
   {
    "duration": 71,
    "start_time": "2023-02-14T06:57:48.885Z"
   },
   {
    "duration": 54,
    "start_time": "2023-02-14T06:58:37.050Z"
   },
   {
    "duration": 5,
    "start_time": "2023-02-14T07:23:35.631Z"
   },
   {
    "duration": 6,
    "start_time": "2023-02-14T07:23:46.019Z"
   },
   {
    "duration": 14,
    "start_time": "2023-02-14T07:24:01.582Z"
   },
   {
    "duration": 22,
    "start_time": "2023-02-14T07:24:15.819Z"
   },
   {
    "duration": 18,
    "start_time": "2023-02-14T07:25:57.023Z"
   },
   {
    "duration": 25,
    "start_time": "2023-02-14T07:26:07.359Z"
   },
   {
    "duration": 25,
    "start_time": "2023-02-14T07:26:11.644Z"
   },
   {
    "duration": 18,
    "start_time": "2023-02-14T07:29:29.806Z"
   },
   {
    "duration": 20,
    "start_time": "2023-02-14T07:30:04.216Z"
   },
   {
    "duration": 95,
    "start_time": "2023-02-14T07:59:01.480Z"
   },
   {
    "duration": 93,
    "start_time": "2023-02-14T08:00:04.905Z"
   },
   {
    "duration": 104,
    "start_time": "2023-02-14T08:00:19.280Z"
   },
   {
    "duration": 92,
    "start_time": "2023-02-14T08:00:49.856Z"
   },
   {
    "duration": 87,
    "start_time": "2023-02-14T08:01:04.347Z"
   },
   {
    "duration": 108,
    "start_time": "2023-02-14T08:01:35.585Z"
   },
   {
    "duration": 96,
    "start_time": "2023-02-14T08:01:54.552Z"
   },
   {
    "duration": 95,
    "start_time": "2023-02-14T08:02:19.802Z"
   },
   {
    "duration": 134,
    "start_time": "2023-02-14T08:03:12.914Z"
   },
   {
    "duration": 651,
    "start_time": "2023-02-14T08:03:27.691Z"
   },
   {
    "duration": 96,
    "start_time": "2023-02-14T08:03:28.343Z"
   },
   {
    "duration": 28,
    "start_time": "2023-02-14T08:03:28.441Z"
   },
   {
    "duration": 17,
    "start_time": "2023-02-14T08:03:28.471Z"
   },
   {
    "duration": 14,
    "start_time": "2023-02-14T08:03:28.489Z"
   },
   {
    "duration": 9,
    "start_time": "2023-02-14T08:03:28.505Z"
   },
   {
    "duration": 16,
    "start_time": "2023-02-14T08:03:28.516Z"
   },
   {
    "duration": 17,
    "start_time": "2023-02-14T08:03:28.534Z"
   },
   {
    "duration": 4,
    "start_time": "2023-02-14T08:03:28.552Z"
   },
   {
    "duration": 2333,
    "start_time": "2023-02-14T08:03:28.559Z"
   },
   {
    "duration": 17,
    "start_time": "2023-02-14T08:03:30.894Z"
   },
   {
    "duration": 3,
    "start_time": "2023-02-14T08:03:30.914Z"
   },
   {
    "duration": 23,
    "start_time": "2023-02-14T08:03:30.919Z"
   },
   {
    "duration": 43,
    "start_time": "2023-02-14T08:03:30.944Z"
   },
   {
    "duration": 38,
    "start_time": "2023-02-14T08:03:30.989Z"
   },
   {
    "duration": 23,
    "start_time": "2023-02-14T08:03:31.029Z"
   },
   {
    "duration": 14,
    "start_time": "2023-02-14T08:03:31.054Z"
   },
   {
    "duration": 9,
    "start_time": "2023-02-14T08:03:31.070Z"
   },
   {
    "duration": 18,
    "start_time": "2023-02-14T08:03:31.080Z"
   },
   {
    "duration": 22,
    "start_time": "2023-02-14T08:03:31.100Z"
   },
   {
    "duration": 237,
    "start_time": "2023-02-14T08:03:31.124Z"
   },
   {
    "duration": 190,
    "start_time": "2023-02-14T08:03:31.362Z"
   },
   {
    "duration": 185,
    "start_time": "2023-02-14T08:03:31.554Z"
   },
   {
    "duration": 175,
    "start_time": "2023-02-14T08:03:31.741Z"
   },
   {
    "duration": 222,
    "start_time": "2023-02-14T08:03:31.918Z"
   },
   {
    "duration": 173,
    "start_time": "2023-02-14T08:03:32.142Z"
   },
   {
    "duration": 52,
    "start_time": "2023-02-14T08:03:32.317Z"
   },
   {
    "duration": 33,
    "start_time": "2023-02-14T08:03:32.372Z"
   },
   {
    "duration": 19,
    "start_time": "2023-02-14T08:03:32.407Z"
   },
   {
    "duration": 102,
    "start_time": "2023-02-14T08:03:32.428Z"
   },
   {
    "duration": 106,
    "start_time": "2023-02-14T08:03:32.531Z"
   },
   {
    "duration": 102,
    "start_time": "2023-02-14T08:03:32.639Z"
   },
   {
    "duration": 14,
    "start_time": "2023-02-14T08:03:32.742Z"
   },
   {
    "duration": 6,
    "start_time": "2023-02-14T08:03:46.571Z"
   },
   {
    "duration": 101,
    "start_time": "2023-02-14T08:04:25.804Z"
   },
   {
    "duration": 93,
    "start_time": "2023-02-14T08:04:50.099Z"
   },
   {
    "duration": 17,
    "start_time": "2023-02-14T08:24:16.849Z"
   },
   {
    "duration": 23,
    "start_time": "2023-02-14T08:26:08.359Z"
   },
   {
    "duration": 5,
    "start_time": "2023-02-14T08:32:25.746Z"
   },
   {
    "duration": 6,
    "start_time": "2023-02-14T08:33:42.378Z"
   },
   {
    "duration": 5,
    "start_time": "2023-02-14T08:34:07.235Z"
   },
   {
    "duration": 4,
    "start_time": "2023-02-14T08:34:47.163Z"
   },
   {
    "duration": 7,
    "start_time": "2023-02-14T08:34:55.532Z"
   },
   {
    "duration": 173,
    "start_time": "2023-02-14T08:35:46.564Z"
   },
   {
    "duration": 144,
    "start_time": "2023-02-14T08:36:18.021Z"
   },
   {
    "duration": 7,
    "start_time": "2023-02-14T08:40:28.914Z"
   },
   {
    "duration": 5,
    "start_time": "2023-02-14T08:40:52.007Z"
   },
   {
    "duration": 5,
    "start_time": "2023-02-14T08:41:02.792Z"
   },
   {
    "duration": 6,
    "start_time": "2023-02-14T08:41:20.553Z"
   },
   {
    "duration": 137,
    "start_time": "2023-02-14T08:41:50.281Z"
   },
   {
    "duration": 136,
    "start_time": "2023-02-14T08:42:45.752Z"
   },
   {
    "duration": 31,
    "start_time": "2023-02-14T08:43:01.985Z"
   },
   {
    "duration": 33,
    "start_time": "2023-02-14T08:46:19.890Z"
   },
   {
    "duration": 35,
    "start_time": "2023-02-14T08:46:44.267Z"
   },
   {
    "duration": 39,
    "start_time": "2023-02-14T08:47:07.741Z"
   },
   {
    "duration": 27,
    "start_time": "2023-02-14T08:49:38.724Z"
   },
   {
    "duration": 4,
    "start_time": "2023-02-14T08:49:53.575Z"
   },
   {
    "duration": 3,
    "start_time": "2023-02-14T08:51:21.084Z"
   },
   {
    "duration": 100,
    "start_time": "2023-02-14T08:53:30.757Z"
   },
   {
    "duration": 14,
    "start_time": "2023-02-14T08:56:51.865Z"
   },
   {
    "duration": 19,
    "start_time": "2023-02-14T08:58:48.532Z"
   },
   {
    "duration": 109,
    "start_time": "2023-02-14T08:58:59.540Z"
   },
   {
    "duration": 21,
    "start_time": "2023-02-14T08:59:58.427Z"
   },
   {
    "duration": 31,
    "start_time": "2023-02-14T09:00:55.108Z"
   },
   {
    "duration": 849,
    "start_time": "2023-02-14T09:01:32.717Z"
   },
   {
    "duration": 149,
    "start_time": "2023-02-14T09:01:33.569Z"
   },
   {
    "duration": 27,
    "start_time": "2023-02-14T09:01:33.720Z"
   },
   {
    "duration": 19,
    "start_time": "2023-02-14T09:01:33.750Z"
   },
   {
    "duration": 35,
    "start_time": "2023-02-14T09:01:33.772Z"
   },
   {
    "duration": 14,
    "start_time": "2023-02-14T09:01:33.815Z"
   },
   {
    "duration": 21,
    "start_time": "2023-02-14T09:01:33.831Z"
   },
   {
    "duration": 26,
    "start_time": "2023-02-14T09:01:33.854Z"
   },
   {
    "duration": 4,
    "start_time": "2023-02-14T09:01:33.882Z"
   },
   {
    "duration": 3226,
    "start_time": "2023-02-14T09:01:33.890Z"
   },
   {
    "duration": 25,
    "start_time": "2023-02-14T09:01:37.119Z"
   },
   {
    "duration": 10,
    "start_time": "2023-02-14T09:01:37.148Z"
   },
   {
    "duration": 27,
    "start_time": "2023-02-14T09:01:37.160Z"
   },
   {
    "duration": 82,
    "start_time": "2023-02-14T09:01:37.190Z"
   },
   {
    "duration": 24,
    "start_time": "2023-02-14T09:01:37.277Z"
   },
   {
    "duration": 76,
    "start_time": "2023-02-14T09:01:37.303Z"
   },
   {
    "duration": 73,
    "start_time": "2023-02-14T09:01:37.384Z"
   },
   {
    "duration": 18,
    "start_time": "2023-02-14T09:01:37.460Z"
   },
   {
    "duration": 58,
    "start_time": "2023-02-14T09:01:37.483Z"
   },
   {
    "duration": 32,
    "start_time": "2023-02-14T09:01:37.543Z"
   },
   {
    "duration": 337,
    "start_time": "2023-02-14T09:01:37.577Z"
   },
   {
    "duration": 326,
    "start_time": "2023-02-14T09:01:37.916Z"
   },
   {
    "duration": 266,
    "start_time": "2023-02-14T09:01:38.246Z"
   },
   {
    "duration": 280,
    "start_time": "2023-02-14T09:01:38.514Z"
   },
   {
    "duration": 334,
    "start_time": "2023-02-14T09:01:38.796Z"
   },
   {
    "duration": 276,
    "start_time": "2023-02-14T09:01:39.134Z"
   },
   {
    "duration": 71,
    "start_time": "2023-02-14T09:01:39.416Z"
   },
   {
    "duration": 84,
    "start_time": "2023-02-14T09:01:39.494Z"
   },
   {
    "duration": 58,
    "start_time": "2023-02-14T09:01:39.585Z"
   },
   {
    "duration": 183,
    "start_time": "2023-02-14T09:01:39.645Z"
   },
   {
    "duration": 180,
    "start_time": "2023-02-14T09:01:39.831Z"
   },
   {
    "duration": 205,
    "start_time": "2023-02-14T09:01:40.018Z"
   },
   {
    "duration": 219,
    "start_time": "2023-02-14T09:01:40.235Z"
   },
   {
    "duration": 227,
    "start_time": "2023-02-14T09:01:40.462Z"
   },
   {
    "duration": 9,
    "start_time": "2023-02-14T09:01:40.695Z"
   },
   {
    "duration": 160,
    "start_time": "2023-02-14T09:01:40.711Z"
   },
   {
    "duration": 224,
    "start_time": "2023-02-14T09:01:40.873Z"
   },
   {
    "duration": 6,
    "start_time": "2023-02-14T09:01:41.099Z"
   },
   {
    "duration": 357,
    "start_time": "2023-02-14T09:01:41.107Z"
   },
   {
    "duration": 9,
    "start_time": "2023-02-14T09:01:41.466Z"
   },
   {
    "duration": 113,
    "start_time": "2023-02-14T09:01:41.477Z"
   },
   {
    "duration": 234,
    "start_time": "2023-02-14T09:01:41.592Z"
   },
   {
    "duration": 14,
    "start_time": "2023-02-14T09:01:41.832Z"
   },
   {
    "duration": 197,
    "start_time": "2023-02-14T09:01:41.852Z"
   },
   {
    "duration": 26,
    "start_time": "2023-02-14T09:01:42.051Z"
   },
   {
    "duration": 118,
    "start_time": "2023-02-14T09:01:42.088Z"
   },
   {
    "duration": 23,
    "start_time": "2023-02-14T09:02:35.811Z"
   },
   {
    "duration": 20,
    "start_time": "2023-02-14T09:04:06.580Z"
   },
   {
    "duration": 21,
    "start_time": "2023-02-14T09:05:16.023Z"
   },
   {
    "duration": 106,
    "start_time": "2023-02-14T09:05:59.444Z"
   },
   {
    "duration": 19,
    "start_time": "2023-02-14T09:06:31.245Z"
   },
   {
    "duration": 24,
    "start_time": "2023-02-14T09:06:37.625Z"
   },
   {
    "duration": 208,
    "start_time": "2023-02-14T09:10:34.761Z"
   },
   {
    "duration": 158,
    "start_time": "2023-02-14T09:10:56.427Z"
   },
   {
    "duration": 176,
    "start_time": "2023-02-14T09:11:13.360Z"
   },
   {
    "duration": 143,
    "start_time": "2023-02-14T09:11:45.050Z"
   },
   {
    "duration": 141,
    "start_time": "2023-02-14T09:11:57.796Z"
   },
   {
    "duration": 162,
    "start_time": "2023-02-14T09:12:20.881Z"
   },
   {
    "duration": 149,
    "start_time": "2023-02-14T09:12:45.331Z"
   },
   {
    "duration": 142,
    "start_time": "2023-02-14T09:19:15.180Z"
   },
   {
    "duration": 5,
    "start_time": "2023-02-14T09:19:22.942Z"
   },
   {
    "duration": 11,
    "start_time": "2023-02-14T09:20:00.039Z"
   },
   {
    "duration": 15,
    "start_time": "2023-02-14T09:21:51.880Z"
   },
   {
    "duration": 516,
    "start_time": "2023-02-14T09:22:00.106Z"
   },
   {
    "duration": 1310,
    "start_time": "2023-02-14T09:22:05.127Z"
   },
   {
    "duration": 160,
    "start_time": "2023-02-14T09:22:06.439Z"
   },
   {
    "duration": 29,
    "start_time": "2023-02-14T09:22:06.600Z"
   },
   {
    "duration": 47,
    "start_time": "2023-02-14T09:22:06.634Z"
   },
   {
    "duration": 69,
    "start_time": "2023-02-14T09:22:06.685Z"
   },
   {
    "duration": 63,
    "start_time": "2023-02-14T09:22:06.756Z"
   },
   {
    "duration": 29,
    "start_time": "2023-02-14T09:22:06.823Z"
   },
   {
    "duration": 26,
    "start_time": "2023-02-14T09:22:06.855Z"
   },
   {
    "duration": 5,
    "start_time": "2023-02-14T09:22:06.884Z"
   },
   {
    "duration": 2732,
    "start_time": "2023-02-14T09:22:06.891Z"
   },
   {
    "duration": 20,
    "start_time": "2023-02-14T09:22:09.625Z"
   },
   {
    "duration": 5,
    "start_time": "2023-02-14T09:22:09.647Z"
   },
   {
    "duration": 7,
    "start_time": "2023-02-14T09:22:09.654Z"
   },
   {
    "duration": 7,
    "start_time": "2023-02-14T09:22:09.665Z"
   },
   {
    "duration": 48,
    "start_time": "2023-02-14T09:22:09.674Z"
   },
   {
    "duration": 24,
    "start_time": "2023-02-14T09:22:09.726Z"
   },
   {
    "duration": 15,
    "start_time": "2023-02-14T09:22:09.752Z"
   },
   {
    "duration": 4,
    "start_time": "2023-02-14T09:22:09.768Z"
   },
   {
    "duration": 15,
    "start_time": "2023-02-14T09:22:09.774Z"
   },
   {
    "duration": 33,
    "start_time": "2023-02-14T09:22:09.790Z"
   },
   {
    "duration": 231,
    "start_time": "2023-02-14T09:22:09.825Z"
   },
   {
    "duration": 240,
    "start_time": "2023-02-14T09:22:10.058Z"
   },
   {
    "duration": 212,
    "start_time": "2023-02-14T09:22:10.303Z"
   },
   {
    "duration": 203,
    "start_time": "2023-02-14T09:22:10.517Z"
   },
   {
    "duration": 190,
    "start_time": "2023-02-14T09:22:10.724Z"
   },
   {
    "duration": 212,
    "start_time": "2023-02-14T09:22:10.919Z"
   },
   {
    "duration": 68,
    "start_time": "2023-02-14T09:22:11.139Z"
   },
   {
    "duration": 39,
    "start_time": "2023-02-14T09:22:11.208Z"
   },
   {
    "duration": 21,
    "start_time": "2023-02-14T09:22:11.250Z"
   },
   {
    "duration": 108,
    "start_time": "2023-02-14T09:22:11.273Z"
   },
   {
    "duration": 114,
    "start_time": "2023-02-14T09:22:11.383Z"
   },
   {
    "duration": 122,
    "start_time": "2023-02-14T09:22:11.507Z"
   },
   {
    "duration": 197,
    "start_time": "2023-02-14T09:22:11.631Z"
   },
   {
    "duration": 109,
    "start_time": "2023-02-14T09:22:11.830Z"
   },
   {
    "duration": 6,
    "start_time": "2023-02-14T09:22:11.941Z"
   },
   {
    "duration": 19,
    "start_time": "2023-02-14T09:22:11.949Z"
   },
   {
    "duration": 163,
    "start_time": "2023-02-14T09:22:11.970Z"
   },
   {
    "duration": 5,
    "start_time": "2023-02-14T09:22:12.135Z"
   },
   {
    "duration": 189,
    "start_time": "2023-02-14T09:22:12.142Z"
   },
   {
    "duration": 6,
    "start_time": "2023-02-14T09:22:12.333Z"
   },
   {
    "duration": 7,
    "start_time": "2023-02-14T09:22:12.343Z"
   },
   {
    "duration": 155,
    "start_time": "2023-02-14T09:22:12.352Z"
   },
   {
    "duration": 8,
    "start_time": "2023-02-14T09:22:12.513Z"
   },
   {
    "duration": 127,
    "start_time": "2023-02-14T09:22:12.528Z"
   },
   {
    "duration": 18,
    "start_time": "2023-02-14T09:22:12.656Z"
   },
   {
    "duration": 47,
    "start_time": "2023-02-14T09:22:12.676Z"
   },
   {
    "duration": 20,
    "start_time": "2023-02-14T09:22:12.725Z"
   },
   {
    "duration": 138,
    "start_time": "2023-02-14T09:22:12.747Z"
   },
   {
    "duration": 151,
    "start_time": "2023-02-14T09:22:12.887Z"
   },
   {
    "duration": 197,
    "start_time": "2023-02-14T09:22:13.040Z"
   },
   {
    "duration": 142,
    "start_time": "2023-02-14T09:22:13.239Z"
   },
   {
    "duration": 143,
    "start_time": "2023-02-14T09:22:13.383Z"
   },
   {
    "duration": 8,
    "start_time": "2023-02-14T09:23:34.956Z"
   },
   {
    "duration": 8,
    "start_time": "2023-02-14T09:25:37.548Z"
   },
   {
    "duration": 12,
    "start_time": "2023-02-14T09:26:12.121Z"
   },
   {
    "duration": 7,
    "start_time": "2023-02-14T09:27:55.643Z"
   },
   {
    "duration": 7,
    "start_time": "2023-02-14T09:28:24.047Z"
   },
   {
    "duration": 9,
    "start_time": "2023-02-14T10:47:45.351Z"
   },
   {
    "duration": 9,
    "start_time": "2023-02-14T10:47:53.437Z"
   },
   {
    "duration": 12,
    "start_time": "2023-02-14T11:41:02.171Z"
   },
   {
    "duration": 1188,
    "start_time": "2023-02-14T11:42:47.863Z"
   },
   {
    "duration": 90,
    "start_time": "2023-02-14T11:42:49.054Z"
   },
   {
    "duration": 22,
    "start_time": "2023-02-14T11:42:49.146Z"
   },
   {
    "duration": 15,
    "start_time": "2023-02-14T11:42:49.171Z"
   },
   {
    "duration": 8,
    "start_time": "2023-02-14T11:42:49.187Z"
   },
   {
    "duration": 10,
    "start_time": "2023-02-14T11:42:49.203Z"
   },
   {
    "duration": 16,
    "start_time": "2023-02-14T11:42:49.214Z"
   },
   {
    "duration": 25,
    "start_time": "2023-02-14T11:42:49.232Z"
   },
   {
    "duration": 26,
    "start_time": "2023-02-14T11:42:49.259Z"
   },
   {
    "duration": 5,
    "start_time": "2023-02-14T11:42:49.287Z"
   },
   {
    "duration": 2446,
    "start_time": "2023-02-14T11:42:49.293Z"
   },
   {
    "duration": 13,
    "start_time": "2023-02-14T11:42:51.741Z"
   },
   {
    "duration": 6,
    "start_time": "2023-02-14T11:42:51.755Z"
   },
   {
    "duration": 7,
    "start_time": "2023-02-14T11:42:51.762Z"
   },
   {
    "duration": 10,
    "start_time": "2023-02-14T11:42:51.771Z"
   },
   {
    "duration": 37,
    "start_time": "2023-02-14T11:42:51.782Z"
   },
   {
    "duration": 21,
    "start_time": "2023-02-14T11:42:51.821Z"
   },
   {
    "duration": 17,
    "start_time": "2023-02-14T11:42:51.844Z"
   },
   {
    "duration": 5,
    "start_time": "2023-02-14T11:42:51.862Z"
   },
   {
    "duration": 44,
    "start_time": "2023-02-14T11:42:51.868Z"
   },
   {
    "duration": 25,
    "start_time": "2023-02-14T11:42:51.914Z"
   },
   {
    "duration": 221,
    "start_time": "2023-02-14T11:42:51.941Z"
   },
   {
    "duration": 197,
    "start_time": "2023-02-14T11:42:52.164Z"
   },
   {
    "duration": 190,
    "start_time": "2023-02-14T11:42:52.362Z"
   },
   {
    "duration": 187,
    "start_time": "2023-02-14T11:42:52.554Z"
   },
   {
    "duration": 207,
    "start_time": "2023-02-14T11:42:52.743Z"
   },
   {
    "duration": 194,
    "start_time": "2023-02-14T11:42:52.952Z"
   },
   {
    "duration": 59,
    "start_time": "2023-02-14T11:42:53.152Z"
   },
   {
    "duration": 6,
    "start_time": "2023-02-14T11:42:53.213Z"
   },
   {
    "duration": 33,
    "start_time": "2023-02-14T11:42:53.222Z"
   },
   {
    "duration": 116,
    "start_time": "2023-02-14T11:42:53.257Z"
   },
   {
    "duration": 113,
    "start_time": "2023-02-14T11:42:53.374Z"
   },
   {
    "duration": 118,
    "start_time": "2023-02-14T11:42:53.488Z"
   },
   {
    "duration": 190,
    "start_time": "2023-02-14T11:42:53.608Z"
   },
   {
    "duration": 105,
    "start_time": "2023-02-14T11:42:53.804Z"
   },
   {
    "duration": 5,
    "start_time": "2023-02-14T11:42:53.911Z"
   },
   {
    "duration": 12,
    "start_time": "2023-02-14T11:42:53.918Z"
   },
   {
    "duration": 156,
    "start_time": "2023-02-14T11:42:53.932Z"
   },
   {
    "duration": 15,
    "start_time": "2023-02-14T11:42:54.090Z"
   },
   {
    "duration": 158,
    "start_time": "2023-02-14T11:42:54.107Z"
   },
   {
    "duration": 5,
    "start_time": "2023-02-14T11:42:54.267Z"
   },
   {
    "duration": 9,
    "start_time": "2023-02-14T11:42:54.273Z"
   },
   {
    "duration": 129,
    "start_time": "2023-02-14T11:42:54.283Z"
   },
   {
    "duration": 5,
    "start_time": "2023-02-14T11:42:54.413Z"
   },
   {
    "duration": 142,
    "start_time": "2023-02-14T11:42:54.420Z"
   },
   {
    "duration": 20,
    "start_time": "2023-02-14T11:42:54.564Z"
   },
   {
    "duration": 32,
    "start_time": "2023-02-14T11:42:54.586Z"
   },
   {
    "duration": 16,
    "start_time": "2023-02-14T11:42:54.620Z"
   },
   {
    "duration": 153,
    "start_time": "2023-02-14T11:42:54.638Z"
   },
   {
    "duration": 151,
    "start_time": "2023-02-14T11:42:54.792Z"
   },
   {
    "duration": 148,
    "start_time": "2023-02-14T11:42:54.945Z"
   },
   {
    "duration": 137,
    "start_time": "2023-02-14T11:42:55.095Z"
   },
   {
    "duration": 11,
    "start_time": "2023-02-14T11:42:55.233Z"
   },
   {
    "duration": 10,
    "start_time": "2023-02-14T11:42:55.246Z"
   },
   {
    "duration": 119,
    "start_time": "2023-02-14T11:59:12.147Z"
   },
   {
    "duration": 5,
    "start_time": "2023-02-14T11:59:19.707Z"
   },
   {
    "duration": 1186,
    "start_time": "2023-02-14T11:59:26.362Z"
   },
   {
    "duration": 88,
    "start_time": "2023-02-14T11:59:27.549Z"
   },
   {
    "duration": 21,
    "start_time": "2023-02-14T11:59:27.639Z"
   },
   {
    "duration": 13,
    "start_time": "2023-02-14T11:59:27.662Z"
   },
   {
    "duration": 7,
    "start_time": "2023-02-14T11:59:27.677Z"
   },
   {
    "duration": 32,
    "start_time": "2023-02-14T11:59:27.686Z"
   },
   {
    "duration": 14,
    "start_time": "2023-02-14T11:59:27.720Z"
   },
   {
    "duration": 8,
    "start_time": "2023-02-14T11:59:27.735Z"
   },
   {
    "duration": 148,
    "start_time": "2023-02-14T11:59:27.745Z"
   },
   {
    "duration": 0,
    "start_time": "2023-02-14T11:59:27.896Z"
   },
   {
    "duration": 0,
    "start_time": "2023-02-14T11:59:27.903Z"
   },
   {
    "duration": 0,
    "start_time": "2023-02-14T11:59:27.904Z"
   },
   {
    "duration": 0,
    "start_time": "2023-02-14T11:59:27.905Z"
   },
   {
    "duration": 0,
    "start_time": "2023-02-14T11:59:27.906Z"
   },
   {
    "duration": 0,
    "start_time": "2023-02-14T11:59:27.908Z"
   },
   {
    "duration": 0,
    "start_time": "2023-02-14T11:59:27.909Z"
   },
   {
    "duration": 0,
    "start_time": "2023-02-14T11:59:27.910Z"
   },
   {
    "duration": 0,
    "start_time": "2023-02-14T11:59:27.912Z"
   },
   {
    "duration": 0,
    "start_time": "2023-02-14T11:59:27.913Z"
   },
   {
    "duration": 0,
    "start_time": "2023-02-14T11:59:27.914Z"
   },
   {
    "duration": 0,
    "start_time": "2023-02-14T11:59:27.915Z"
   },
   {
    "duration": 0,
    "start_time": "2023-02-14T11:59:27.917Z"
   },
   {
    "duration": 0,
    "start_time": "2023-02-14T11:59:27.917Z"
   },
   {
    "duration": 0,
    "start_time": "2023-02-14T11:59:27.919Z"
   },
   {
    "duration": 0,
    "start_time": "2023-02-14T11:59:27.920Z"
   },
   {
    "duration": 1,
    "start_time": "2023-02-14T11:59:27.921Z"
   },
   {
    "duration": 0,
    "start_time": "2023-02-14T11:59:27.923Z"
   },
   {
    "duration": 0,
    "start_time": "2023-02-14T11:59:27.924Z"
   },
   {
    "duration": 0,
    "start_time": "2023-02-14T11:59:27.925Z"
   },
   {
    "duration": 0,
    "start_time": "2023-02-14T11:59:27.926Z"
   },
   {
    "duration": 0,
    "start_time": "2023-02-14T11:59:27.927Z"
   },
   {
    "duration": 0,
    "start_time": "2023-02-14T11:59:27.928Z"
   },
   {
    "duration": 0,
    "start_time": "2023-02-14T11:59:27.930Z"
   },
   {
    "duration": 0,
    "start_time": "2023-02-14T11:59:27.931Z"
   },
   {
    "duration": 0,
    "start_time": "2023-02-14T11:59:27.933Z"
   },
   {
    "duration": 0,
    "start_time": "2023-02-14T11:59:27.934Z"
   },
   {
    "duration": 0,
    "start_time": "2023-02-14T11:59:27.935Z"
   },
   {
    "duration": 0,
    "start_time": "2023-02-14T11:59:27.936Z"
   },
   {
    "duration": 0,
    "start_time": "2023-02-14T11:59:27.938Z"
   },
   {
    "duration": 0,
    "start_time": "2023-02-14T11:59:27.939Z"
   },
   {
    "duration": 0,
    "start_time": "2023-02-14T11:59:27.940Z"
   },
   {
    "duration": 0,
    "start_time": "2023-02-14T11:59:27.941Z"
   },
   {
    "duration": 0,
    "start_time": "2023-02-14T11:59:27.942Z"
   },
   {
    "duration": 0,
    "start_time": "2023-02-14T11:59:28.004Z"
   },
   {
    "duration": 0,
    "start_time": "2023-02-14T11:59:28.006Z"
   },
   {
    "duration": 0,
    "start_time": "2023-02-14T11:59:28.007Z"
   },
   {
    "duration": 0,
    "start_time": "2023-02-14T11:59:28.009Z"
   },
   {
    "duration": 0,
    "start_time": "2023-02-14T11:59:28.010Z"
   },
   {
    "duration": 0,
    "start_time": "2023-02-14T11:59:28.012Z"
   },
   {
    "duration": 0,
    "start_time": "2023-02-14T11:59:28.012Z"
   },
   {
    "duration": 1103,
    "start_time": "2023-02-14T12:00:23.548Z"
   },
   {
    "duration": 94,
    "start_time": "2023-02-14T12:00:24.653Z"
   },
   {
    "duration": 20,
    "start_time": "2023-02-14T12:00:24.748Z"
   },
   {
    "duration": 14,
    "start_time": "2023-02-14T12:00:24.770Z"
   },
   {
    "duration": 5,
    "start_time": "2023-02-14T12:00:24.786Z"
   },
   {
    "duration": 17,
    "start_time": "2023-02-14T12:00:24.793Z"
   },
   {
    "duration": 13,
    "start_time": "2023-02-14T12:00:24.811Z"
   },
   {
    "duration": 7,
    "start_time": "2023-02-14T12:00:24.825Z"
   },
   {
    "duration": 7,
    "start_time": "2023-02-14T12:00:24.833Z"
   },
   {
    "duration": 7,
    "start_time": "2023-02-14T12:00:24.844Z"
   },
   {
    "duration": 7,
    "start_time": "2023-02-14T12:00:24.853Z"
   },
   {
    "duration": 26,
    "start_time": "2023-02-14T12:00:24.861Z"
   },
   {
    "duration": 32,
    "start_time": "2023-02-14T12:00:24.888Z"
   },
   {
    "duration": 23,
    "start_time": "2023-02-14T12:00:24.922Z"
   },
   {
    "duration": 5,
    "start_time": "2023-02-14T12:00:24.947Z"
   },
   {
    "duration": 20,
    "start_time": "2023-02-14T12:00:24.954Z"
   },
   {
    "duration": 40,
    "start_time": "2023-02-14T12:00:24.975Z"
   },
   {
    "duration": 239,
    "start_time": "2023-02-14T12:00:25.017Z"
   },
   {
    "duration": 209,
    "start_time": "2023-02-14T12:00:25.257Z"
   },
   {
    "duration": 183,
    "start_time": "2023-02-14T12:00:25.467Z"
   },
   {
    "duration": 183,
    "start_time": "2023-02-14T12:00:25.652Z"
   },
   {
    "duration": 218,
    "start_time": "2023-02-14T12:00:25.836Z"
   },
   {
    "duration": 175,
    "start_time": "2023-02-14T12:00:26.056Z"
   },
   {
    "duration": 47,
    "start_time": "2023-02-14T12:00:26.232Z"
   },
   {
    "duration": 25,
    "start_time": "2023-02-14T12:00:26.281Z"
   },
   {
    "duration": 20,
    "start_time": "2023-02-14T12:00:26.308Z"
   },
   {
    "duration": 129,
    "start_time": "2023-02-14T12:00:26.330Z"
   },
   {
    "duration": 124,
    "start_time": "2023-02-14T12:00:26.463Z"
   },
   {
    "duration": 142,
    "start_time": "2023-02-14T12:00:26.590Z"
   },
   {
    "duration": 222,
    "start_time": "2023-02-14T12:00:26.735Z"
   },
   {
    "duration": 112,
    "start_time": "2023-02-14T12:00:26.958Z"
   },
   {
    "duration": 5,
    "start_time": "2023-02-14T12:00:27.071Z"
   },
   {
    "duration": 8,
    "start_time": "2023-02-14T12:00:27.078Z"
   },
   {
    "duration": 172,
    "start_time": "2023-02-14T12:00:27.088Z"
   },
   {
    "duration": 5,
    "start_time": "2023-02-14T12:00:27.262Z"
   },
   {
    "duration": 147,
    "start_time": "2023-02-14T12:00:27.269Z"
   },
   {
    "duration": 6,
    "start_time": "2023-02-14T12:00:27.418Z"
   },
   {
    "duration": 9,
    "start_time": "2023-02-14T12:00:27.426Z"
   },
   {
    "duration": 147,
    "start_time": "2023-02-14T12:00:27.436Z"
   },
   {
    "duration": 6,
    "start_time": "2023-02-14T12:00:27.584Z"
   },
   {
    "duration": 161,
    "start_time": "2023-02-14T12:00:27.606Z"
   },
   {
    "duration": 19,
    "start_time": "2023-02-14T12:00:27.769Z"
   },
   {
    "duration": 33,
    "start_time": "2023-02-14T12:00:27.789Z"
   },
   {
    "duration": 23,
    "start_time": "2023-02-14T12:00:27.824Z"
   },
   {
    "duration": 172,
    "start_time": "2023-02-14T12:00:27.849Z"
   },
   {
    "duration": 149,
    "start_time": "2023-02-14T12:00:28.023Z"
   },
   {
    "duration": 173,
    "start_time": "2023-02-14T12:00:28.173Z"
   },
   {
    "duration": 163,
    "start_time": "2023-02-14T12:00:28.348Z"
   },
   {
    "duration": 11,
    "start_time": "2023-02-14T12:00:28.513Z"
   },
   {
    "duration": 15,
    "start_time": "2023-02-14T12:00:28.526Z"
   },
   {
    "duration": 22,
    "start_time": "2023-02-14T12:01:02.988Z"
   },
   {
    "duration": 3,
    "start_time": "2023-02-14T12:12:30.071Z"
   },
   {
    "duration": 12,
    "start_time": "2023-02-14T12:12:46.431Z"
   },
   {
    "duration": 1130,
    "start_time": "2023-02-14T12:12:51.844Z"
   },
   {
    "duration": 94,
    "start_time": "2023-02-14T12:12:52.976Z"
   },
   {
    "duration": 23,
    "start_time": "2023-02-14T12:12:53.072Z"
   },
   {
    "duration": 22,
    "start_time": "2023-02-14T12:12:53.097Z"
   },
   {
    "duration": 9,
    "start_time": "2023-02-14T12:12:53.126Z"
   },
   {
    "duration": 11,
    "start_time": "2023-02-14T12:12:53.136Z"
   },
   {
    "duration": 12,
    "start_time": "2023-02-14T12:12:53.149Z"
   },
   {
    "duration": 13,
    "start_time": "2023-02-14T12:12:53.163Z"
   },
   {
    "duration": 8,
    "start_time": "2023-02-14T12:12:53.177Z"
   },
   {
    "duration": 17,
    "start_time": "2023-02-14T12:12:53.188Z"
   },
   {
    "duration": 29,
    "start_time": "2023-02-14T12:12:53.209Z"
   },
   {
    "duration": 18,
    "start_time": "2023-02-14T12:12:53.240Z"
   },
   {
    "duration": 4,
    "start_time": "2023-02-14T12:12:53.260Z"
   },
   {
    "duration": 10,
    "start_time": "2023-02-14T12:12:53.265Z"
   },
   {
    "duration": 16,
    "start_time": "2023-02-14T12:12:53.277Z"
   },
   {
    "duration": 26,
    "start_time": "2023-02-14T12:12:53.295Z"
   },
   {
    "duration": 5,
    "start_time": "2023-02-14T12:12:53.322Z"
   },
   {
    "duration": 20,
    "start_time": "2023-02-14T12:12:53.328Z"
   },
   {
    "duration": 15,
    "start_time": "2023-02-14T12:12:53.350Z"
   },
   {
    "duration": 225,
    "start_time": "2023-02-14T12:12:53.366Z"
   },
   {
    "duration": 194,
    "start_time": "2023-02-14T12:12:53.592Z"
   },
   {
    "duration": 190,
    "start_time": "2023-02-14T12:12:53.788Z"
   },
   {
    "duration": 190,
    "start_time": "2023-02-14T12:12:53.980Z"
   },
   {
    "duration": 195,
    "start_time": "2023-02-14T12:12:54.172Z"
   },
   {
    "duration": 186,
    "start_time": "2023-02-14T12:12:54.369Z"
   },
   {
    "duration": 52,
    "start_time": "2023-02-14T12:12:54.556Z"
   },
   {
    "duration": 7,
    "start_time": "2023-02-14T12:12:54.610Z"
   },
   {
    "duration": 19,
    "start_time": "2023-02-14T12:12:54.622Z"
   },
   {
    "duration": 115,
    "start_time": "2023-02-14T12:12:54.642Z"
   },
   {
    "duration": 105,
    "start_time": "2023-02-14T12:12:54.760Z"
   },
   {
    "duration": 111,
    "start_time": "2023-02-14T12:12:54.867Z"
   },
   {
    "duration": 204,
    "start_time": "2023-02-14T12:12:54.980Z"
   },
   {
    "duration": 133,
    "start_time": "2023-02-14T12:12:55.186Z"
   },
   {
    "duration": 6,
    "start_time": "2023-02-14T12:12:55.321Z"
   },
   {
    "duration": 14,
    "start_time": "2023-02-14T12:12:55.328Z"
   },
   {
    "duration": 158,
    "start_time": "2023-02-14T12:12:55.343Z"
   },
   {
    "duration": 6,
    "start_time": "2023-02-14T12:12:55.505Z"
   },
   {
    "duration": 158,
    "start_time": "2023-02-14T12:12:55.512Z"
   },
   {
    "duration": 6,
    "start_time": "2023-02-14T12:12:55.671Z"
   },
   {
    "duration": 18,
    "start_time": "2023-02-14T12:12:55.678Z"
   },
   {
    "duration": 150,
    "start_time": "2023-02-14T12:12:55.698Z"
   },
   {
    "duration": 5,
    "start_time": "2023-02-14T12:12:55.850Z"
   },
   {
    "duration": 130,
    "start_time": "2023-02-14T12:12:55.857Z"
   },
   {
    "duration": 28,
    "start_time": "2023-02-14T12:12:55.989Z"
   },
   {
    "duration": 17,
    "start_time": "2023-02-14T12:12:56.018Z"
   },
   {
    "duration": 17,
    "start_time": "2023-02-14T12:12:56.037Z"
   },
   {
    "duration": 159,
    "start_time": "2023-02-14T12:12:56.056Z"
   },
   {
    "duration": 156,
    "start_time": "2023-02-14T12:12:56.216Z"
   },
   {
    "duration": 153,
    "start_time": "2023-02-14T12:12:56.373Z"
   },
   {
    "duration": 169,
    "start_time": "2023-02-14T12:12:56.528Z"
   },
   {
    "duration": 17,
    "start_time": "2023-02-14T12:12:56.699Z"
   },
   {
    "duration": 15,
    "start_time": "2023-02-14T12:12:56.720Z"
   },
   {
    "duration": 1225,
    "start_time": "2023-02-14T12:16:26.030Z"
   },
   {
    "duration": 109,
    "start_time": "2023-02-14T12:16:27.257Z"
   },
   {
    "duration": 22,
    "start_time": "2023-02-14T12:16:27.368Z"
   },
   {
    "duration": 26,
    "start_time": "2023-02-14T12:16:27.392Z"
   },
   {
    "duration": 13,
    "start_time": "2023-02-14T12:16:27.421Z"
   },
   {
    "duration": 16,
    "start_time": "2023-02-14T12:16:27.436Z"
   },
   {
    "duration": 14,
    "start_time": "2023-02-14T12:16:27.453Z"
   },
   {
    "duration": 4,
    "start_time": "2023-02-14T12:16:27.469Z"
   },
   {
    "duration": 12,
    "start_time": "2023-02-14T12:16:27.475Z"
   },
   {
    "duration": 7,
    "start_time": "2023-02-14T12:16:27.489Z"
   },
   {
    "duration": 38,
    "start_time": "2023-02-14T12:16:27.503Z"
   },
   {
    "duration": 20,
    "start_time": "2023-02-14T12:16:27.543Z"
   },
   {
    "duration": 4,
    "start_time": "2023-02-14T12:16:27.565Z"
   },
   {
    "duration": 7,
    "start_time": "2023-02-14T12:16:27.573Z"
   },
   {
    "duration": 25,
    "start_time": "2023-02-14T12:16:27.582Z"
   },
   {
    "duration": 19,
    "start_time": "2023-02-14T12:16:27.611Z"
   },
   {
    "duration": 4,
    "start_time": "2023-02-14T12:16:27.632Z"
   },
   {
    "duration": 19,
    "start_time": "2023-02-14T12:16:27.638Z"
   },
   {
    "duration": 17,
    "start_time": "2023-02-14T12:16:27.658Z"
   },
   {
    "duration": 256,
    "start_time": "2023-02-14T12:16:27.676Z"
   },
   {
    "duration": 224,
    "start_time": "2023-02-14T12:16:27.934Z"
   },
   {
    "duration": 215,
    "start_time": "2023-02-14T12:16:28.159Z"
   },
   {
    "duration": 274,
    "start_time": "2023-02-14T12:16:28.376Z"
   },
   {
    "duration": 216,
    "start_time": "2023-02-14T12:16:28.652Z"
   },
   {
    "duration": 214,
    "start_time": "2023-02-14T12:16:28.869Z"
   },
   {
    "duration": 74,
    "start_time": "2023-02-14T12:16:29.085Z"
   },
   {
    "duration": 8,
    "start_time": "2023-02-14T12:16:29.161Z"
   },
   {
    "duration": 37,
    "start_time": "2023-02-14T12:16:29.173Z"
   },
   {
    "duration": 157,
    "start_time": "2023-02-14T12:16:29.211Z"
   },
   {
    "duration": 125,
    "start_time": "2023-02-14T12:16:29.370Z"
   },
   {
    "duration": 127,
    "start_time": "2023-02-14T12:16:29.497Z"
   },
   {
    "duration": 208,
    "start_time": "2023-02-14T12:16:29.627Z"
   },
   {
    "duration": 119,
    "start_time": "2023-02-14T12:16:29.837Z"
   },
   {
    "duration": 5,
    "start_time": "2023-02-14T12:16:29.958Z"
   },
   {
    "duration": 9,
    "start_time": "2023-02-14T12:16:29.965Z"
   },
   {
    "duration": 178,
    "start_time": "2023-02-14T12:16:29.976Z"
   },
   {
    "duration": 6,
    "start_time": "2023-02-14T12:16:30.157Z"
   },
   {
    "duration": 186,
    "start_time": "2023-02-14T12:16:30.165Z"
   },
   {
    "duration": 6,
    "start_time": "2023-02-14T12:16:30.353Z"
   },
   {
    "duration": 39,
    "start_time": "2023-02-14T12:16:30.361Z"
   },
   {
    "duration": 157,
    "start_time": "2023-02-14T12:16:30.405Z"
   },
   {
    "duration": 6,
    "start_time": "2023-02-14T12:16:30.563Z"
   },
   {
    "duration": 170,
    "start_time": "2023-02-14T12:16:30.571Z"
   },
   {
    "duration": 23,
    "start_time": "2023-02-14T12:16:30.743Z"
   },
   {
    "duration": 41,
    "start_time": "2023-02-14T12:16:30.767Z"
   },
   {
    "duration": 29,
    "start_time": "2023-02-14T12:16:30.810Z"
   },
   {
    "duration": 174,
    "start_time": "2023-02-14T12:16:30.841Z"
   },
   {
    "duration": 170,
    "start_time": "2023-02-14T12:16:31.017Z"
   },
   {
    "duration": 179,
    "start_time": "2023-02-14T12:16:31.189Z"
   },
   {
    "duration": 167,
    "start_time": "2023-02-14T12:16:31.370Z"
   },
   {
    "duration": 8,
    "start_time": "2023-02-14T12:16:31.539Z"
   },
   {
    "duration": 13,
    "start_time": "2023-02-14T12:16:31.549Z"
   },
   {
    "duration": 4,
    "start_time": "2023-02-14T12:27:27.923Z"
   },
   {
    "duration": 1243,
    "start_time": "2023-02-14T12:27:35.119Z"
   },
   {
    "duration": 101,
    "start_time": "2023-02-14T12:27:36.364Z"
   },
   {
    "duration": 21,
    "start_time": "2023-02-14T12:27:36.469Z"
   },
   {
    "duration": 17,
    "start_time": "2023-02-14T12:27:36.493Z"
   },
   {
    "duration": 8,
    "start_time": "2023-02-14T12:27:36.513Z"
   },
   {
    "duration": 16,
    "start_time": "2023-02-14T12:27:36.523Z"
   },
   {
    "duration": 15,
    "start_time": "2023-02-14T12:27:36.541Z"
   },
   {
    "duration": 4,
    "start_time": "2023-02-14T12:27:36.558Z"
   },
   {
    "duration": 19,
    "start_time": "2023-02-14T12:27:36.564Z"
   },
   {
    "duration": 47,
    "start_time": "2023-02-14T12:27:36.586Z"
   },
   {
    "duration": 30,
    "start_time": "2023-02-14T12:27:36.636Z"
   },
   {
    "duration": 33,
    "start_time": "2023-02-14T12:27:36.668Z"
   },
   {
    "duration": 36,
    "start_time": "2023-02-14T12:27:36.703Z"
   },
   {
    "duration": 4,
    "start_time": "2023-02-14T12:27:36.741Z"
   },
   {
    "duration": 39,
    "start_time": "2023-02-14T12:27:36.747Z"
   },
   {
    "duration": 39,
    "start_time": "2023-02-14T12:27:36.793Z"
   },
   {
    "duration": 6,
    "start_time": "2023-02-14T12:27:36.834Z"
   },
   {
    "duration": 32,
    "start_time": "2023-02-14T12:27:36.843Z"
   },
   {
    "duration": 32,
    "start_time": "2023-02-14T12:27:36.877Z"
   },
   {
    "duration": 247,
    "start_time": "2023-02-14T12:27:36.911Z"
   },
   {
    "duration": 206,
    "start_time": "2023-02-14T12:27:37.160Z"
   },
   {
    "duration": 206,
    "start_time": "2023-02-14T12:27:37.368Z"
   },
   {
    "duration": 196,
    "start_time": "2023-02-14T12:27:37.576Z"
   },
   {
    "duration": 223,
    "start_time": "2023-02-14T12:27:37.774Z"
   },
   {
    "duration": 212,
    "start_time": "2023-02-14T12:27:37.999Z"
   },
   {
    "duration": 55,
    "start_time": "2023-02-14T12:27:38.213Z"
   },
   {
    "duration": 7,
    "start_time": "2023-02-14T12:27:38.270Z"
   },
   {
    "duration": 38,
    "start_time": "2023-02-14T12:27:38.281Z"
   },
   {
    "duration": 144,
    "start_time": "2023-02-14T12:27:38.322Z"
   },
   {
    "duration": 144,
    "start_time": "2023-02-14T12:27:38.468Z"
   },
   {
    "duration": 129,
    "start_time": "2023-02-14T12:27:38.615Z"
   },
   {
    "duration": 192,
    "start_time": "2023-02-14T12:27:38.746Z"
   },
   {
    "duration": 126,
    "start_time": "2023-02-14T12:27:38.941Z"
   },
   {
    "duration": 6,
    "start_time": "2023-02-14T12:27:39.069Z"
   },
   {
    "duration": 13,
    "start_time": "2023-02-14T12:27:39.077Z"
   },
   {
    "duration": 201,
    "start_time": "2023-02-14T12:27:39.092Z"
   },
   {
    "duration": 12,
    "start_time": "2023-02-14T12:27:39.295Z"
   },
   {
    "duration": 171,
    "start_time": "2023-02-14T12:27:39.309Z"
   },
   {
    "duration": 5,
    "start_time": "2023-02-14T12:27:39.483Z"
   },
   {
    "duration": 14,
    "start_time": "2023-02-14T12:27:39.490Z"
   },
   {
    "duration": 147,
    "start_time": "2023-02-14T12:27:39.506Z"
   },
   {
    "duration": 8,
    "start_time": "2023-02-14T12:27:39.655Z"
   },
   {
    "duration": 156,
    "start_time": "2023-02-14T12:27:39.665Z"
   },
   {
    "duration": 20,
    "start_time": "2023-02-14T12:27:39.823Z"
   },
   {
    "duration": 17,
    "start_time": "2023-02-14T12:27:39.845Z"
   },
   {
    "duration": 41,
    "start_time": "2023-02-14T12:27:39.864Z"
   },
   {
    "duration": 162,
    "start_time": "2023-02-14T12:27:39.908Z"
   },
   {
    "duration": 161,
    "start_time": "2023-02-14T12:27:40.072Z"
   },
   {
    "duration": 201,
    "start_time": "2023-02-14T12:27:40.235Z"
   },
   {
    "duration": 188,
    "start_time": "2023-02-14T12:27:40.438Z"
   },
   {
    "duration": 9,
    "start_time": "2023-02-14T12:27:40.628Z"
   },
   {
    "duration": 13,
    "start_time": "2023-02-14T12:27:40.639Z"
   },
   {
    "duration": 15,
    "start_time": "2023-02-14T12:46:19.422Z"
   },
   {
    "duration": 3,
    "start_time": "2023-02-14T12:47:25.492Z"
   },
   {
    "duration": 110,
    "start_time": "2023-02-14T12:47:35.277Z"
   },
   {
    "duration": 7,
    "start_time": "2023-02-14T12:47:51.692Z"
   },
   {
    "duration": 156,
    "start_time": "2023-02-14T12:49:40.439Z"
   },
   {
    "duration": 8,
    "start_time": "2023-02-14T12:49:52.377Z"
   },
   {
    "duration": 197,
    "start_time": "2023-02-14T12:50:28.020Z"
   },
   {
    "duration": 158,
    "start_time": "2023-02-14T13:04:21.723Z"
   },
   {
    "duration": 216,
    "start_time": "2023-02-14T13:04:52.424Z"
   },
   {
    "duration": 156,
    "start_time": "2023-02-14T13:05:41.957Z"
   },
   {
    "duration": 19,
    "start_time": "2023-02-14T13:29:43.878Z"
   },
   {
    "duration": 18,
    "start_time": "2023-02-14T13:30:01.022Z"
   },
   {
    "duration": 172,
    "start_time": "2023-02-14T13:33:54.003Z"
   },
   {
    "duration": 212,
    "start_time": "2023-02-14T13:38:53.924Z"
   },
   {
    "duration": 179,
    "start_time": "2023-02-14T13:39:21.802Z"
   },
   {
    "duration": 160,
    "start_time": "2023-02-14T13:39:41.761Z"
   },
   {
    "duration": 53,
    "start_time": "2023-02-14T13:42:15.720Z"
   },
   {
    "duration": 44,
    "start_time": "2023-02-14T15:36:16.363Z"
   },
   {
    "duration": 6,
    "start_time": "2023-02-14T15:45:32.076Z"
   },
   {
    "duration": 24,
    "start_time": "2023-02-14T15:48:24.623Z"
   },
   {
    "duration": 1196,
    "start_time": "2023-02-14T15:49:09.530Z"
   },
   {
    "duration": 100,
    "start_time": "2023-02-14T15:49:10.732Z"
   },
   {
    "duration": 22,
    "start_time": "2023-02-14T15:49:10.834Z"
   },
   {
    "duration": 15,
    "start_time": "2023-02-14T15:49:10.858Z"
   },
   {
    "duration": 6,
    "start_time": "2023-02-14T15:49:10.875Z"
   },
   {
    "duration": 37,
    "start_time": "2023-02-14T15:49:10.883Z"
   },
   {
    "duration": 38,
    "start_time": "2023-02-14T15:49:10.922Z"
   },
   {
    "duration": 5,
    "start_time": "2023-02-14T15:49:10.962Z"
   },
   {
    "duration": 10,
    "start_time": "2023-02-14T15:49:10.968Z"
   },
   {
    "duration": 9,
    "start_time": "2023-02-14T15:49:10.980Z"
   },
   {
    "duration": 9,
    "start_time": "2023-02-14T15:49:10.990Z"
   },
   {
    "duration": 40,
    "start_time": "2023-02-14T15:49:11.000Z"
   },
   {
    "duration": 16,
    "start_time": "2023-02-14T15:49:11.042Z"
   },
   {
    "duration": 16,
    "start_time": "2023-02-14T15:49:11.061Z"
   },
   {
    "duration": 4,
    "start_time": "2023-02-14T15:49:11.079Z"
   },
   {
    "duration": 26,
    "start_time": "2023-02-14T15:49:11.084Z"
   },
   {
    "duration": 230,
    "start_time": "2023-02-14T15:49:11.112Z"
   },
   {
    "duration": 15,
    "start_time": "2023-02-14T15:49:11.344Z"
   },
   {
    "duration": 219,
    "start_time": "2023-02-14T15:49:11.360Z"
   },
   {
    "duration": 231,
    "start_time": "2023-02-14T15:49:11.581Z"
   },
   {
    "duration": 223,
    "start_time": "2023-02-14T15:49:11.814Z"
   },
   {
    "duration": 222,
    "start_time": "2023-02-14T15:49:12.039Z"
   },
   {
    "duration": 197,
    "start_time": "2023-02-14T15:49:12.263Z"
   },
   {
    "duration": 205,
    "start_time": "2023-02-14T15:49:12.462Z"
   },
   {
    "duration": 170,
    "start_time": "2023-02-14T15:49:12.669Z"
   },
   {
    "duration": 43,
    "start_time": "2023-02-14T15:49:12.841Z"
   },
   {
    "duration": 18,
    "start_time": "2023-02-14T15:49:12.886Z"
   },
   {
    "duration": 36,
    "start_time": "2023-02-14T15:49:12.906Z"
   },
   {
    "duration": 112,
    "start_time": "2023-02-14T15:49:12.944Z"
   },
   {
    "duration": 199,
    "start_time": "2023-02-14T15:49:13.058Z"
   },
   {
    "duration": 138,
    "start_time": "2023-02-14T15:49:13.259Z"
   },
   {
    "duration": 134,
    "start_time": "2023-02-14T15:49:13.398Z"
   },
   {
    "duration": 124,
    "start_time": "2023-02-14T15:49:13.534Z"
   },
   {
    "duration": 6,
    "start_time": "2023-02-14T15:49:13.659Z"
   },
   {
    "duration": 10,
    "start_time": "2023-02-14T15:49:13.667Z"
   },
   {
    "duration": 197,
    "start_time": "2023-02-14T15:49:13.679Z"
   },
   {
    "duration": 5,
    "start_time": "2023-02-14T15:49:13.878Z"
   },
   {
    "duration": 169,
    "start_time": "2023-02-14T15:49:13.884Z"
   },
   {
    "duration": 5,
    "start_time": "2023-02-14T15:49:14.055Z"
   },
   {
    "duration": 13,
    "start_time": "2023-02-14T15:49:14.061Z"
   },
   {
    "duration": 160,
    "start_time": "2023-02-14T15:49:14.078Z"
   },
   {
    "duration": 6,
    "start_time": "2023-02-14T15:49:14.240Z"
   },
   {
    "duration": 131,
    "start_time": "2023-02-14T15:49:14.248Z"
   },
   {
    "duration": 25,
    "start_time": "2023-02-14T15:49:14.381Z"
   },
   {
    "duration": 23,
    "start_time": "2023-02-14T15:49:14.408Z"
   },
   {
    "duration": 23,
    "start_time": "2023-02-14T15:49:14.433Z"
   },
   {
    "duration": 175,
    "start_time": "2023-02-14T15:49:14.458Z"
   },
   {
    "duration": 143,
    "start_time": "2023-02-14T15:49:14.635Z"
   },
   {
    "duration": 156,
    "start_time": "2023-02-14T15:49:14.780Z"
   },
   {
    "duration": 163,
    "start_time": "2023-02-14T15:49:14.938Z"
   },
   {
    "duration": 32,
    "start_time": "2023-02-14T15:49:15.104Z"
   },
   {
    "duration": 11,
    "start_time": "2023-02-14T15:49:15.138Z"
   },
   {
    "duration": 26,
    "start_time": "2023-02-14T15:51:22.321Z"
   },
   {
    "duration": 22,
    "start_time": "2023-02-14T15:53:29.239Z"
   },
   {
    "duration": 3371,
    "start_time": "2023-02-14T16:55:59.141Z"
   },
   {
    "duration": 3084,
    "start_time": "2023-02-14T16:57:30.665Z"
   },
   {
    "duration": 3038,
    "start_time": "2023-02-14T17:00:34.271Z"
   },
   {
    "duration": 1112,
    "start_time": "2023-02-14T17:00:52.429Z"
   },
   {
    "duration": 88,
    "start_time": "2023-02-14T17:00:53.542Z"
   },
   {
    "duration": 20,
    "start_time": "2023-02-14T17:00:53.632Z"
   },
   {
    "duration": 14,
    "start_time": "2023-02-14T17:00:53.654Z"
   },
   {
    "duration": 7,
    "start_time": "2023-02-14T17:00:53.669Z"
   },
   {
    "duration": 39,
    "start_time": "2023-02-14T17:00:53.677Z"
   },
   {
    "duration": 14,
    "start_time": "2023-02-14T17:00:53.719Z"
   },
   {
    "duration": 4,
    "start_time": "2023-02-14T17:00:53.735Z"
   },
   {
    "duration": 6,
    "start_time": "2023-02-14T17:00:53.740Z"
   },
   {
    "duration": 4,
    "start_time": "2023-02-14T17:00:53.749Z"
   },
   {
    "duration": 6,
    "start_time": "2023-02-14T17:00:53.755Z"
   },
   {
    "duration": 12,
    "start_time": "2023-02-14T17:00:53.763Z"
   },
   {
    "duration": 49,
    "start_time": "2023-02-14T17:00:53.777Z"
   },
   {
    "duration": 15,
    "start_time": "2023-02-14T17:00:53.827Z"
   },
   {
    "duration": 4,
    "start_time": "2023-02-14T17:00:53.844Z"
   },
   {
    "duration": 7,
    "start_time": "2023-02-14T17:00:53.849Z"
   },
   {
    "duration": 184,
    "start_time": "2023-02-14T17:00:53.858Z"
   },
   {
    "duration": 15,
    "start_time": "2023-02-14T17:00:54.043Z"
   },
   {
    "duration": 195,
    "start_time": "2023-02-14T17:00:54.059Z"
   },
   {
    "duration": 191,
    "start_time": "2023-02-14T17:00:54.255Z"
   },
   {
    "duration": 184,
    "start_time": "2023-02-14T17:00:54.448Z"
   },
   {
    "duration": 191,
    "start_time": "2023-02-14T17:00:54.633Z"
   },
   {
    "duration": 180,
    "start_time": "2023-02-14T17:00:54.826Z"
   },
   {
    "duration": 178,
    "start_time": "2023-02-14T17:00:55.015Z"
   },
   {
    "duration": 154,
    "start_time": "2023-02-14T17:00:55.195Z"
   },
   {
    "duration": 61,
    "start_time": "2023-02-14T17:00:55.351Z"
   },
   {
    "duration": 8,
    "start_time": "2023-02-14T17:00:55.415Z"
   },
   {
    "duration": 23,
    "start_time": "2023-02-14T17:00:55.426Z"
   },
   {
    "duration": 108,
    "start_time": "2023-02-14T17:00:55.451Z"
   },
   {
    "duration": 112,
    "start_time": "2023-02-14T17:00:55.561Z"
   },
   {
    "duration": 0,
    "start_time": "2023-02-14T17:00:55.675Z"
   },
   {
    "duration": 0,
    "start_time": "2023-02-14T17:00:55.676Z"
   },
   {
    "duration": 0,
    "start_time": "2023-02-14T17:00:55.677Z"
   },
   {
    "duration": 0,
    "start_time": "2023-02-14T17:00:55.678Z"
   },
   {
    "duration": 0,
    "start_time": "2023-02-14T17:00:55.679Z"
   },
   {
    "duration": 0,
    "start_time": "2023-02-14T17:00:55.680Z"
   },
   {
    "duration": 0,
    "start_time": "2023-02-14T17:00:55.681Z"
   },
   {
    "duration": 0,
    "start_time": "2023-02-14T17:00:55.682Z"
   },
   {
    "duration": 0,
    "start_time": "2023-02-14T17:00:55.683Z"
   },
   {
    "duration": 0,
    "start_time": "2023-02-14T17:00:55.684Z"
   },
   {
    "duration": 0,
    "start_time": "2023-02-14T17:00:55.685Z"
   },
   {
    "duration": 0,
    "start_time": "2023-02-14T17:00:55.686Z"
   },
   {
    "duration": 0,
    "start_time": "2023-02-14T17:00:55.703Z"
   },
   {
    "duration": 0,
    "start_time": "2023-02-14T17:00:55.704Z"
   },
   {
    "duration": 0,
    "start_time": "2023-02-14T17:00:55.704Z"
   },
   {
    "duration": 0,
    "start_time": "2023-02-14T17:00:55.712Z"
   },
   {
    "duration": 0,
    "start_time": "2023-02-14T17:00:55.713Z"
   },
   {
    "duration": 0,
    "start_time": "2023-02-14T17:00:55.714Z"
   },
   {
    "duration": 0,
    "start_time": "2023-02-14T17:00:55.714Z"
   },
   {
    "duration": 0,
    "start_time": "2023-02-14T17:00:55.721Z"
   },
   {
    "duration": 0,
    "start_time": "2023-02-14T17:00:55.725Z"
   },
   {
    "duration": 0,
    "start_time": "2023-02-14T17:00:55.726Z"
   },
   {
    "duration": 0,
    "start_time": "2023-02-14T17:00:55.828Z"
   },
   {
    "duration": 220,
    "start_time": "2023-02-14T17:04:24.367Z"
   },
   {
    "duration": 200,
    "start_time": "2023-02-14T17:04:57.350Z"
   },
   {
    "duration": 256,
    "start_time": "2023-02-14T17:06:13.696Z"
   },
   {
    "duration": 271,
    "start_time": "2023-02-14T17:06:33.122Z"
   },
   {
    "duration": 273,
    "start_time": "2023-02-14T17:06:50.220Z"
   },
   {
    "duration": 76,
    "start_time": "2023-02-14T17:09:11.079Z"
   },
   {
    "duration": 68,
    "start_time": "2023-02-14T17:09:20.815Z"
   },
   {
    "duration": 99,
    "start_time": "2023-02-14T17:11:01.394Z"
   },
   {
    "duration": 92,
    "start_time": "2023-02-14T17:11:13.746Z"
   },
   {
    "duration": 215,
    "start_time": "2023-02-14T17:11:24.436Z"
   },
   {
    "duration": 254,
    "start_time": "2023-02-14T17:12:03.371Z"
   },
   {
    "duration": 1105,
    "start_time": "2023-02-14T17:12:09.951Z"
   },
   {
    "duration": 124,
    "start_time": "2023-02-14T17:12:11.058Z"
   },
   {
    "duration": 36,
    "start_time": "2023-02-14T17:12:11.186Z"
   },
   {
    "duration": 43,
    "start_time": "2023-02-14T17:12:11.225Z"
   },
   {
    "duration": 8,
    "start_time": "2023-02-14T17:12:11.269Z"
   },
   {
    "duration": 34,
    "start_time": "2023-02-14T17:12:11.278Z"
   },
   {
    "duration": 27,
    "start_time": "2023-02-14T17:12:11.314Z"
   },
   {
    "duration": 4,
    "start_time": "2023-02-14T17:12:11.343Z"
   },
   {
    "duration": 10,
    "start_time": "2023-02-14T17:12:11.349Z"
   },
   {
    "duration": 9,
    "start_time": "2023-02-14T17:12:11.361Z"
   },
   {
    "duration": 9,
    "start_time": "2023-02-14T17:12:11.372Z"
   },
   {
    "duration": 19,
    "start_time": "2023-02-14T17:12:11.383Z"
   },
   {
    "duration": 21,
    "start_time": "2023-02-14T17:12:11.405Z"
   },
   {
    "duration": 19,
    "start_time": "2023-02-14T17:12:11.428Z"
   },
   {
    "duration": 5,
    "start_time": "2023-02-14T17:12:11.449Z"
   },
   {
    "duration": 10,
    "start_time": "2023-02-14T17:12:11.456Z"
   },
   {
    "duration": 202,
    "start_time": "2023-02-14T17:12:11.468Z"
   },
   {
    "duration": 20,
    "start_time": "2023-02-14T17:12:11.673Z"
   },
   {
    "duration": 284,
    "start_time": "2023-02-14T17:12:11.695Z"
   },
   {
    "duration": 236,
    "start_time": "2023-02-14T17:12:11.981Z"
   },
   {
    "duration": 190,
    "start_time": "2023-02-14T17:12:12.219Z"
   },
   {
    "duration": 211,
    "start_time": "2023-02-14T17:12:12.411Z"
   },
   {
    "duration": 211,
    "start_time": "2023-02-14T17:12:12.628Z"
   },
   {
    "duration": 196,
    "start_time": "2023-02-14T17:12:12.841Z"
   },
   {
    "duration": 158,
    "start_time": "2023-02-14T17:12:13.039Z"
   },
   {
    "duration": 50,
    "start_time": "2023-02-14T17:12:13.203Z"
   },
   {
    "duration": 6,
    "start_time": "2023-02-14T17:12:13.254Z"
   },
   {
    "duration": 49,
    "start_time": "2023-02-14T17:12:13.264Z"
   },
   {
    "duration": 139,
    "start_time": "2023-02-14T17:12:13.318Z"
   },
   {
    "duration": 384,
    "start_time": "2023-02-14T17:12:13.459Z"
   },
   {
    "duration": 0,
    "start_time": "2023-02-14T17:12:13.845Z"
   },
   {
    "duration": 0,
    "start_time": "2023-02-14T17:12:13.846Z"
   },
   {
    "duration": 0,
    "start_time": "2023-02-14T17:12:13.847Z"
   },
   {
    "duration": 0,
    "start_time": "2023-02-14T17:12:13.848Z"
   },
   {
    "duration": 0,
    "start_time": "2023-02-14T17:12:13.849Z"
   },
   {
    "duration": 0,
    "start_time": "2023-02-14T17:12:13.850Z"
   },
   {
    "duration": 0,
    "start_time": "2023-02-14T17:12:13.852Z"
   },
   {
    "duration": 0,
    "start_time": "2023-02-14T17:12:13.852Z"
   },
   {
    "duration": 0,
    "start_time": "2023-02-14T17:12:13.853Z"
   },
   {
    "duration": 0,
    "start_time": "2023-02-14T17:12:13.854Z"
   },
   {
    "duration": 0,
    "start_time": "2023-02-14T17:12:13.855Z"
   },
   {
    "duration": 0,
    "start_time": "2023-02-14T17:12:13.856Z"
   },
   {
    "duration": 0,
    "start_time": "2023-02-14T17:12:13.858Z"
   },
   {
    "duration": 0,
    "start_time": "2023-02-14T17:12:13.859Z"
   },
   {
    "duration": 0,
    "start_time": "2023-02-14T17:12:13.860Z"
   },
   {
    "duration": 0,
    "start_time": "2023-02-14T17:12:13.861Z"
   },
   {
    "duration": 0,
    "start_time": "2023-02-14T17:12:13.862Z"
   },
   {
    "duration": 0,
    "start_time": "2023-02-14T17:12:13.863Z"
   },
   {
    "duration": 0,
    "start_time": "2023-02-14T17:12:13.864Z"
   },
   {
    "duration": 0,
    "start_time": "2023-02-14T17:12:13.866Z"
   },
   {
    "duration": 1,
    "start_time": "2023-02-14T17:12:13.905Z"
   },
   {
    "duration": 0,
    "start_time": "2023-02-14T17:12:13.906Z"
   },
   {
    "duration": 0,
    "start_time": "2023-02-14T17:12:13.911Z"
   },
   {
    "duration": 171,
    "start_time": "2023-02-14T17:12:48.369Z"
   },
   {
    "duration": 166,
    "start_time": "2023-02-14T17:12:56.221Z"
   },
   {
    "duration": 171,
    "start_time": "2023-02-14T17:13:23.427Z"
   },
   {
    "duration": 203,
    "start_time": "2023-02-14T17:14:08.172Z"
   },
   {
    "duration": 220,
    "start_time": "2023-02-14T17:14:39.828Z"
   },
   {
    "duration": 196,
    "start_time": "2023-02-14T17:14:56.795Z"
   },
   {
    "duration": 175,
    "start_time": "2023-02-14T17:15:10.293Z"
   },
   {
    "duration": 211,
    "start_time": "2023-02-14T17:16:38.975Z"
   },
   {
    "duration": 206,
    "start_time": "2023-02-14T17:16:45.560Z"
   },
   {
    "duration": 219,
    "start_time": "2023-02-14T17:16:55.333Z"
   },
   {
    "duration": 1168,
    "start_time": "2023-02-14T17:17:06.189Z"
   },
   {
    "duration": 102,
    "start_time": "2023-02-14T17:17:07.359Z"
   },
   {
    "duration": 31,
    "start_time": "2023-02-14T17:17:07.463Z"
   },
   {
    "duration": 27,
    "start_time": "2023-02-14T17:17:07.498Z"
   },
   {
    "duration": 9,
    "start_time": "2023-02-14T17:17:07.528Z"
   },
   {
    "duration": 14,
    "start_time": "2023-02-14T17:17:07.539Z"
   },
   {
    "duration": 12,
    "start_time": "2023-02-14T17:17:07.555Z"
   },
   {
    "duration": 7,
    "start_time": "2023-02-14T17:17:07.568Z"
   },
   {
    "duration": 6,
    "start_time": "2023-02-14T17:17:07.577Z"
   },
   {
    "duration": 19,
    "start_time": "2023-02-14T17:17:07.584Z"
   },
   {
    "duration": 9,
    "start_time": "2023-02-14T17:17:07.604Z"
   },
   {
    "duration": 27,
    "start_time": "2023-02-14T17:17:07.614Z"
   },
   {
    "duration": 17,
    "start_time": "2023-02-14T17:17:07.643Z"
   },
   {
    "duration": 15,
    "start_time": "2023-02-14T17:17:07.664Z"
   },
   {
    "duration": 4,
    "start_time": "2023-02-14T17:17:07.681Z"
   },
   {
    "duration": 7,
    "start_time": "2023-02-14T17:17:07.704Z"
   },
   {
    "duration": 171,
    "start_time": "2023-02-14T17:17:07.717Z"
   },
   {
    "duration": 36,
    "start_time": "2023-02-14T17:17:07.890Z"
   },
   {
    "duration": 204,
    "start_time": "2023-02-14T17:17:07.928Z"
   },
   {
    "duration": 205,
    "start_time": "2023-02-14T17:17:08.134Z"
   },
   {
    "duration": 204,
    "start_time": "2023-02-14T17:17:08.341Z"
   },
   {
    "duration": 199,
    "start_time": "2023-02-14T17:17:08.547Z"
   },
   {
    "duration": 196,
    "start_time": "2023-02-14T17:17:08.748Z"
   },
   {
    "duration": 207,
    "start_time": "2023-02-14T17:17:08.945Z"
   },
   {
    "duration": 145,
    "start_time": "2023-02-14T17:17:09.154Z"
   },
   {
    "duration": 51,
    "start_time": "2023-02-14T17:17:09.303Z"
   },
   {
    "duration": 9,
    "start_time": "2023-02-14T17:17:09.356Z"
   },
   {
    "duration": 46,
    "start_time": "2023-02-14T17:17:09.366Z"
   },
   {
    "duration": 121,
    "start_time": "2023-02-14T17:17:09.414Z"
   },
   {
    "duration": 301,
    "start_time": "2023-02-14T17:17:09.538Z"
   },
   {
    "duration": 112,
    "start_time": "2023-02-14T17:17:09.840Z"
   },
   {
    "duration": 126,
    "start_time": "2023-02-14T17:17:09.954Z"
   },
   {
    "duration": 135,
    "start_time": "2023-02-14T17:17:10.082Z"
   },
   {
    "duration": 121,
    "start_time": "2023-02-14T17:17:10.219Z"
   },
   {
    "duration": 5,
    "start_time": "2023-02-14T17:17:10.342Z"
   },
   {
    "duration": 9,
    "start_time": "2023-02-14T17:17:10.349Z"
   },
   {
    "duration": 181,
    "start_time": "2023-02-14T17:17:10.359Z"
   },
   {
    "duration": 6,
    "start_time": "2023-02-14T17:17:10.541Z"
   },
   {
    "duration": 187,
    "start_time": "2023-02-14T17:17:10.549Z"
   },
   {
    "duration": 6,
    "start_time": "2023-02-14T17:17:10.738Z"
   },
   {
    "duration": 5,
    "start_time": "2023-02-14T17:17:10.747Z"
   },
   {
    "duration": 142,
    "start_time": "2023-02-14T17:17:10.754Z"
   },
   {
    "duration": 17,
    "start_time": "2023-02-14T17:17:10.906Z"
   },
   {
    "duration": 132,
    "start_time": "2023-02-14T17:17:10.925Z"
   },
   {
    "duration": 22,
    "start_time": "2023-02-14T17:17:11.059Z"
   },
   {
    "duration": 51,
    "start_time": "2023-02-14T17:17:11.082Z"
   },
   {
    "duration": 41,
    "start_time": "2023-02-14T17:17:11.135Z"
   },
   {
    "duration": 162,
    "start_time": "2023-02-14T17:17:11.178Z"
   },
   {
    "duration": 145,
    "start_time": "2023-02-14T17:17:11.342Z"
   },
   {
    "duration": 251,
    "start_time": "2023-02-14T17:17:11.489Z"
   },
   {
    "duration": 155,
    "start_time": "2023-02-14T17:17:11.742Z"
   },
   {
    "duration": 14,
    "start_time": "2023-02-14T17:17:11.903Z"
   },
   {
    "duration": 10,
    "start_time": "2023-02-14T17:17:11.925Z"
   },
   {
    "duration": 13,
    "start_time": "2023-02-14T17:31:47.520Z"
   },
   {
    "duration": 13,
    "start_time": "2023-02-14T17:32:17.055Z"
   },
   {
    "duration": 13,
    "start_time": "2023-02-14T17:33:07.739Z"
   },
   {
    "duration": 17,
    "start_time": "2023-02-14T17:34:32.074Z"
   },
   {
    "duration": 113,
    "start_time": "2023-02-14T17:48:57.192Z"
   },
   {
    "duration": 31,
    "start_time": "2023-02-14T17:49:13.992Z"
   },
   {
    "duration": 195,
    "start_time": "2023-02-14T18:36:43.332Z"
   },
   {
    "duration": 208,
    "start_time": "2023-02-14T18:36:51.586Z"
   },
   {
    "duration": 13,
    "start_time": "2023-02-14T18:54:55.272Z"
   },
   {
    "duration": 24,
    "start_time": "2023-02-14T18:59:16.624Z"
   },
   {
    "duration": 43,
    "start_time": "2023-02-14T19:03:43.672Z"
   },
   {
    "duration": 36,
    "start_time": "2023-02-14T19:04:24.822Z"
   },
   {
    "duration": 50,
    "start_time": "2023-02-14T19:04:58.971Z"
   },
   {
    "duration": 21,
    "start_time": "2023-02-14T19:05:20.367Z"
   },
   {
    "duration": 14,
    "start_time": "2023-02-14T19:09:44.784Z"
   },
   {
    "duration": 194,
    "start_time": "2023-02-14T19:10:58.121Z"
   },
   {
    "duration": 17,
    "start_time": "2023-02-14T19:11:32.778Z"
   },
   {
    "duration": 23,
    "start_time": "2023-02-14T19:12:21.978Z"
   },
   {
    "duration": 12,
    "start_time": "2023-02-14T19:12:35.466Z"
   },
   {
    "duration": 27,
    "start_time": "2023-02-14T19:14:39.593Z"
   },
   {
    "duration": 22,
    "start_time": "2023-02-14T19:15:37.731Z"
   },
   {
    "duration": 83,
    "start_time": "2023-02-14T19:16:15.784Z"
   },
   {
    "duration": 76,
    "start_time": "2023-02-14T19:16:28.671Z"
   },
   {
    "duration": 24,
    "start_time": "2023-02-14T19:17:25.825Z"
   },
   {
    "duration": 78,
    "start_time": "2023-02-14T19:17:35.272Z"
   },
   {
    "duration": 25,
    "start_time": "2023-02-14T19:18:02.763Z"
   },
   {
    "duration": 20,
    "start_time": "2023-02-14T19:18:49.271Z"
   },
   {
    "duration": 20,
    "start_time": "2023-02-14T19:18:59.216Z"
   },
   {
    "duration": 4,
    "start_time": "2023-02-14T19:19:43.924Z"
   },
   {
    "duration": 13,
    "start_time": "2023-02-14T19:19:49.259Z"
   },
   {
    "duration": 13,
    "start_time": "2023-02-14T19:20:06.331Z"
   },
   {
    "duration": 23,
    "start_time": "2023-02-14T19:20:29.069Z"
   },
   {
    "duration": 20,
    "start_time": "2023-02-14T19:20:40.733Z"
   },
   {
    "duration": 22,
    "start_time": "2023-02-14T19:21:37.045Z"
   },
   {
    "duration": 23,
    "start_time": "2023-02-14T19:23:40.273Z"
   },
   {
    "duration": 1265,
    "start_time": "2023-02-14T19:26:38.217Z"
   },
   {
    "duration": 109,
    "start_time": "2023-02-14T19:26:39.485Z"
   },
   {
    "duration": 28,
    "start_time": "2023-02-14T19:26:39.596Z"
   },
   {
    "duration": 35,
    "start_time": "2023-02-14T19:26:39.627Z"
   },
   {
    "duration": 8,
    "start_time": "2023-02-14T19:26:39.665Z"
   },
   {
    "duration": 26,
    "start_time": "2023-02-14T19:26:39.675Z"
   },
   {
    "duration": 40,
    "start_time": "2023-02-14T19:26:39.703Z"
   },
   {
    "duration": 4,
    "start_time": "2023-02-14T19:26:39.746Z"
   },
   {
    "duration": 12,
    "start_time": "2023-02-14T19:26:39.752Z"
   },
   {
    "duration": 10,
    "start_time": "2023-02-14T19:26:39.765Z"
   },
   {
    "duration": 8,
    "start_time": "2023-02-14T19:26:39.777Z"
   },
   {
    "duration": 26,
    "start_time": "2023-02-14T19:26:39.787Z"
   },
   {
    "duration": 20,
    "start_time": "2023-02-14T19:26:39.823Z"
   },
   {
    "duration": 20,
    "start_time": "2023-02-14T19:26:39.846Z"
   },
   {
    "duration": 5,
    "start_time": "2023-02-14T19:26:39.868Z"
   },
   {
    "duration": 9,
    "start_time": "2023-02-14T19:26:39.875Z"
   },
   {
    "duration": 179,
    "start_time": "2023-02-14T19:26:39.886Z"
   },
   {
    "duration": 19,
    "start_time": "2023-02-14T19:26:40.067Z"
   },
   {
    "duration": 239,
    "start_time": "2023-02-14T19:26:40.088Z"
   },
   {
    "duration": 204,
    "start_time": "2023-02-14T19:26:40.332Z"
   },
   {
    "duration": 201,
    "start_time": "2023-02-14T19:26:40.538Z"
   },
   {
    "duration": 203,
    "start_time": "2023-02-14T19:26:40.741Z"
   },
   {
    "duration": 234,
    "start_time": "2023-02-14T19:26:40.946Z"
   },
   {
    "duration": 211,
    "start_time": "2023-02-14T19:26:41.182Z"
   },
   {
    "duration": 160,
    "start_time": "2023-02-14T19:26:41.395Z"
   },
   {
    "duration": 75,
    "start_time": "2023-02-14T19:26:41.557Z"
   },
   {
    "duration": 7,
    "start_time": "2023-02-14T19:26:41.634Z"
   },
   {
    "duration": 26,
    "start_time": "2023-02-14T19:26:41.643Z"
   },
   {
    "duration": 40,
    "start_time": "2023-02-14T19:26:41.671Z"
   },
   {
    "duration": 216,
    "start_time": "2023-02-14T19:26:41.713Z"
   },
   {
    "duration": 6,
    "start_time": "2023-02-14T19:26:41.932Z"
   },
   {
    "duration": 147,
    "start_time": "2023-02-14T19:26:41.940Z"
   },
   {
    "duration": 0,
    "start_time": "2023-02-14T19:26:42.089Z"
   },
   {
    "duration": 0,
    "start_time": "2023-02-14T19:26:42.090Z"
   },
   {
    "duration": 0,
    "start_time": "2023-02-14T19:26:42.092Z"
   },
   {
    "duration": 0,
    "start_time": "2023-02-14T19:26:42.093Z"
   },
   {
    "duration": 0,
    "start_time": "2023-02-14T19:26:42.094Z"
   },
   {
    "duration": 0,
    "start_time": "2023-02-14T19:26:42.104Z"
   },
   {
    "duration": 0,
    "start_time": "2023-02-14T19:26:42.104Z"
   },
   {
    "duration": 0,
    "start_time": "2023-02-14T19:26:42.105Z"
   },
   {
    "duration": 0,
    "start_time": "2023-02-14T19:26:42.210Z"
   },
   {
    "duration": 0,
    "start_time": "2023-02-14T19:26:42.211Z"
   },
   {
    "duration": 0,
    "start_time": "2023-02-14T19:26:42.213Z"
   },
   {
    "duration": 0,
    "start_time": "2023-02-14T19:26:42.214Z"
   },
   {
    "duration": 0,
    "start_time": "2023-02-14T19:26:42.221Z"
   },
   {
    "duration": 0,
    "start_time": "2023-02-14T19:26:42.222Z"
   },
   {
    "duration": 0,
    "start_time": "2023-02-14T19:26:42.223Z"
   },
   {
    "duration": 0,
    "start_time": "2023-02-14T19:26:42.224Z"
   },
   {
    "duration": 0,
    "start_time": "2023-02-14T19:26:42.225Z"
   },
   {
    "duration": 6,
    "start_time": "2023-02-14T19:28:59.474Z"
   },
   {
    "duration": 20,
    "start_time": "2023-02-14T19:29:04.073Z"
   },
   {
    "duration": 6,
    "start_time": "2023-02-14T19:29:12.776Z"
   },
   {
    "duration": 24,
    "start_time": "2023-02-14T19:29:14.695Z"
   },
   {
    "duration": 1094,
    "start_time": "2023-02-14T19:29:44.908Z"
   },
   {
    "duration": 86,
    "start_time": "2023-02-14T19:29:46.010Z"
   },
   {
    "duration": 25,
    "start_time": "2023-02-14T19:29:46.097Z"
   },
   {
    "duration": 23,
    "start_time": "2023-02-14T19:29:46.124Z"
   },
   {
    "duration": 8,
    "start_time": "2023-02-14T19:29:46.148Z"
   },
   {
    "duration": 11,
    "start_time": "2023-02-14T19:29:46.157Z"
   },
   {
    "duration": 35,
    "start_time": "2023-02-14T19:29:46.170Z"
   },
   {
    "duration": 12,
    "start_time": "2023-02-14T19:29:46.207Z"
   },
   {
    "duration": 7,
    "start_time": "2023-02-14T19:29:46.220Z"
   },
   {
    "duration": 4,
    "start_time": "2023-02-14T19:29:46.230Z"
   },
   {
    "duration": 7,
    "start_time": "2023-02-14T19:29:46.236Z"
   },
   {
    "duration": 13,
    "start_time": "2023-02-14T19:29:46.245Z"
   },
   {
    "duration": 16,
    "start_time": "2023-02-14T19:29:46.259Z"
   },
   {
    "duration": 43,
    "start_time": "2023-02-14T19:29:46.276Z"
   },
   {
    "duration": 6,
    "start_time": "2023-02-14T19:29:46.321Z"
   },
   {
    "duration": 6,
    "start_time": "2023-02-14T19:29:46.329Z"
   },
   {
    "duration": 182,
    "start_time": "2023-02-14T19:29:46.337Z"
   },
   {
    "duration": 15,
    "start_time": "2023-02-14T19:29:46.521Z"
   },
   {
    "duration": 250,
    "start_time": "2023-02-14T19:29:46.537Z"
   },
   {
    "duration": 227,
    "start_time": "2023-02-14T19:29:46.789Z"
   },
   {
    "duration": 191,
    "start_time": "2023-02-14T19:29:47.017Z"
   },
   {
    "duration": 178,
    "start_time": "2023-02-14T19:29:47.217Z"
   },
   {
    "duration": 192,
    "start_time": "2023-02-14T19:29:47.397Z"
   },
   {
    "duration": 187,
    "start_time": "2023-02-14T19:29:47.591Z"
   },
   {
    "duration": 149,
    "start_time": "2023-02-14T19:29:47.780Z"
   },
   {
    "duration": 42,
    "start_time": "2023-02-14T19:29:47.931Z"
   },
   {
    "duration": 6,
    "start_time": "2023-02-14T19:29:47.974Z"
   },
   {
    "duration": 24,
    "start_time": "2023-02-14T19:29:48.004Z"
   },
   {
    "duration": 19,
    "start_time": "2023-02-14T19:29:48.029Z"
   },
   {
    "duration": 203,
    "start_time": "2023-02-14T19:29:48.049Z"
   },
   {
    "duration": 6,
    "start_time": "2023-02-14T19:29:48.253Z"
   },
   {
    "duration": 110,
    "start_time": "2023-02-14T19:29:48.260Z"
   },
   {
    "duration": 0,
    "start_time": "2023-02-14T19:29:48.371Z"
   },
   {
    "duration": 0,
    "start_time": "2023-02-14T19:29:48.373Z"
   },
   {
    "duration": 0,
    "start_time": "2023-02-14T19:29:48.374Z"
   },
   {
    "duration": 0,
    "start_time": "2023-02-14T19:29:48.375Z"
   },
   {
    "duration": 0,
    "start_time": "2023-02-14T19:29:48.376Z"
   },
   {
    "duration": 0,
    "start_time": "2023-02-14T19:29:48.377Z"
   },
   {
    "duration": 1,
    "start_time": "2023-02-14T19:29:48.378Z"
   },
   {
    "duration": 0,
    "start_time": "2023-02-14T19:29:48.380Z"
   },
   {
    "duration": 0,
    "start_time": "2023-02-14T19:29:48.381Z"
   },
   {
    "duration": 0,
    "start_time": "2023-02-14T19:29:48.382Z"
   },
   {
    "duration": 0,
    "start_time": "2023-02-14T19:29:48.403Z"
   },
   {
    "duration": 0,
    "start_time": "2023-02-14T19:29:48.404Z"
   },
   {
    "duration": 0,
    "start_time": "2023-02-14T19:29:48.405Z"
   },
   {
    "duration": 0,
    "start_time": "2023-02-14T19:29:48.406Z"
   },
   {
    "duration": 0,
    "start_time": "2023-02-14T19:29:48.406Z"
   },
   {
    "duration": 0,
    "start_time": "2023-02-14T19:29:48.407Z"
   },
   {
    "duration": 0,
    "start_time": "2023-02-14T19:29:48.408Z"
   },
   {
    "duration": 188,
    "start_time": "2023-02-14T19:30:47.411Z"
   },
   {
    "duration": 6,
    "start_time": "2023-02-14T19:31:50.221Z"
   },
   {
    "duration": 5,
    "start_time": "2023-02-14T19:31:53.179Z"
   },
   {
    "duration": 174,
    "start_time": "2023-02-14T19:32:01.020Z"
   },
   {
    "duration": 6,
    "start_time": "2023-02-14T19:32:07.130Z"
   },
   {
    "duration": 147,
    "start_time": "2023-02-14T19:32:11.576Z"
   },
   {
    "duration": 7,
    "start_time": "2023-02-14T19:32:17.378Z"
   },
   {
    "duration": 1120,
    "start_time": "2023-02-14T19:32:25.316Z"
   },
   {
    "duration": 96,
    "start_time": "2023-02-14T19:32:26.438Z"
   },
   {
    "duration": 21,
    "start_time": "2023-02-14T19:32:26.535Z"
   },
   {
    "duration": 14,
    "start_time": "2023-02-14T19:32:26.557Z"
   },
   {
    "duration": 8,
    "start_time": "2023-02-14T19:32:26.585Z"
   },
   {
    "duration": 30,
    "start_time": "2023-02-14T19:32:26.611Z"
   },
   {
    "duration": 13,
    "start_time": "2023-02-14T19:32:26.643Z"
   },
   {
    "duration": 5,
    "start_time": "2023-02-14T19:32:26.658Z"
   },
   {
    "duration": 13,
    "start_time": "2023-02-14T19:32:26.665Z"
   },
   {
    "duration": 8,
    "start_time": "2023-02-14T19:32:26.680Z"
   },
   {
    "duration": 20,
    "start_time": "2023-02-14T19:32:26.690Z"
   },
   {
    "duration": 36,
    "start_time": "2023-02-14T19:32:26.712Z"
   },
   {
    "duration": 21,
    "start_time": "2023-02-14T19:32:26.750Z"
   },
   {
    "duration": 17,
    "start_time": "2023-02-14T19:32:26.776Z"
   },
   {
    "duration": 34,
    "start_time": "2023-02-14T19:32:26.795Z"
   },
   {
    "duration": 13,
    "start_time": "2023-02-14T19:32:26.831Z"
   },
   {
    "duration": 192,
    "start_time": "2023-02-14T19:32:26.846Z"
   },
   {
    "duration": 15,
    "start_time": "2023-02-14T19:32:27.039Z"
   },
   {
    "duration": 208,
    "start_time": "2023-02-14T19:32:27.055Z"
   },
   {
    "duration": 196,
    "start_time": "2023-02-14T19:32:27.265Z"
   },
   {
    "duration": 189,
    "start_time": "2023-02-14T19:32:27.464Z"
   },
   {
    "duration": 191,
    "start_time": "2023-02-14T19:32:27.655Z"
   },
   {
    "duration": 198,
    "start_time": "2023-02-14T19:32:27.847Z"
   },
   {
    "duration": 183,
    "start_time": "2023-02-14T19:32:28.046Z"
   },
   {
    "duration": 149,
    "start_time": "2023-02-14T19:32:28.231Z"
   },
   {
    "duration": 51,
    "start_time": "2023-02-14T19:32:28.383Z"
   },
   {
    "duration": 5,
    "start_time": "2023-02-14T19:32:28.435Z"
   },
   {
    "duration": 20,
    "start_time": "2023-02-14T19:32:28.442Z"
   },
   {
    "duration": 19,
    "start_time": "2023-02-14T19:32:28.463Z"
   },
   {
    "duration": 211,
    "start_time": "2023-02-14T19:32:28.483Z"
   },
   {
    "duration": 13,
    "start_time": "2023-02-14T19:32:28.696Z"
   },
   {
    "duration": 14,
    "start_time": "2023-02-14T19:32:28.715Z"
   },
   {
    "duration": 214,
    "start_time": "2023-02-14T19:32:28.731Z"
   },
   {
    "duration": 4,
    "start_time": "2023-02-14T19:32:28.947Z"
   },
   {
    "duration": 165,
    "start_time": "2023-02-14T19:32:28.953Z"
   },
   {
    "duration": 13,
    "start_time": "2023-02-14T19:32:29.120Z"
   },
   {
    "duration": 16,
    "start_time": "2023-02-14T19:32:29.136Z"
   },
   {
    "duration": 126,
    "start_time": "2023-02-14T19:32:29.155Z"
   },
   {
    "duration": 5,
    "start_time": "2023-02-14T19:32:29.282Z"
   },
   {
    "duration": 128,
    "start_time": "2023-02-14T19:32:29.289Z"
   },
   {
    "duration": 19,
    "start_time": "2023-02-14T19:32:29.421Z"
   },
   {
    "duration": 16,
    "start_time": "2023-02-14T19:32:29.441Z"
   },
   {
    "duration": 17,
    "start_time": "2023-02-14T19:32:29.459Z"
   },
   {
    "duration": 155,
    "start_time": "2023-02-14T19:32:29.477Z"
   },
   {
    "duration": 145,
    "start_time": "2023-02-14T19:32:29.634Z"
   },
   {
    "duration": 143,
    "start_time": "2023-02-14T19:32:29.781Z"
   },
   {
    "duration": 149,
    "start_time": "2023-02-14T19:32:29.925Z"
   },
   {
    "duration": 8,
    "start_time": "2023-02-14T19:32:30.076Z"
   },
   {
    "duration": 26,
    "start_time": "2023-02-14T19:32:30.085Z"
   },
   {
    "duration": 7,
    "start_time": "2023-02-14T19:41:12.303Z"
   },
   {
    "duration": 12,
    "start_time": "2023-02-14T19:41:14.211Z"
   },
   {
    "duration": 6,
    "start_time": "2023-02-14T19:41:39.123Z"
   },
   {
    "duration": 4,
    "start_time": "2023-02-14T19:41:44.671Z"
   },
   {
    "duration": 167,
    "start_time": "2023-02-14T19:42:18.990Z"
   },
   {
    "duration": 6,
    "start_time": "2023-02-14T19:43:08.169Z"
   },
   {
    "duration": 9,
    "start_time": "2023-02-14T19:43:20.419Z"
   },
   {
    "duration": 138,
    "start_time": "2023-02-14T19:43:42.547Z"
   },
   {
    "duration": 6,
    "start_time": "2023-02-14T19:50:04.972Z"
   },
   {
    "duration": 7,
    "start_time": "2023-02-14T19:50:12.052Z"
   },
   {
    "duration": 152,
    "start_time": "2023-02-14T19:50:42.231Z"
   },
   {
    "duration": 268,
    "start_time": "2023-02-14T19:50:50.038Z"
   },
   {
    "duration": 127,
    "start_time": "2023-02-14T19:51:12.836Z"
   },
   {
    "duration": 120,
    "start_time": "2023-02-14T19:51:28.228Z"
   },
   {
    "duration": 5,
    "start_time": "2023-02-14T19:55:19.169Z"
   },
   {
    "duration": 154,
    "start_time": "2023-02-14T19:56:25.687Z"
   },
   {
    "duration": 165,
    "start_time": "2023-02-14T19:56:38.569Z"
   },
   {
    "duration": 1089,
    "start_time": "2023-02-14T20:02:41.745Z"
   },
   {
    "duration": 106,
    "start_time": "2023-02-14T20:02:42.836Z"
   },
   {
    "duration": 28,
    "start_time": "2023-02-14T20:02:42.943Z"
   },
   {
    "duration": 19,
    "start_time": "2023-02-14T20:02:42.973Z"
   },
   {
    "duration": 18,
    "start_time": "2023-02-14T20:02:42.993Z"
   },
   {
    "duration": 14,
    "start_time": "2023-02-14T20:02:43.013Z"
   },
   {
    "duration": 13,
    "start_time": "2023-02-14T20:02:43.029Z"
   },
   {
    "duration": 4,
    "start_time": "2023-02-14T20:02:43.044Z"
   },
   {
    "duration": 9,
    "start_time": "2023-02-14T20:02:43.049Z"
   },
   {
    "duration": 8,
    "start_time": "2023-02-14T20:02:43.060Z"
   },
   {
    "duration": 41,
    "start_time": "2023-02-14T20:02:43.069Z"
   },
   {
    "duration": 17,
    "start_time": "2023-02-14T20:02:43.115Z"
   },
   {
    "duration": 15,
    "start_time": "2023-02-14T20:02:43.133Z"
   },
   {
    "duration": 15,
    "start_time": "2023-02-14T20:02:43.150Z"
   },
   {
    "duration": 4,
    "start_time": "2023-02-14T20:02:43.166Z"
   },
   {
    "duration": 33,
    "start_time": "2023-02-14T20:02:43.172Z"
   },
   {
    "duration": 162,
    "start_time": "2023-02-14T20:02:43.207Z"
   },
   {
    "duration": 15,
    "start_time": "2023-02-14T20:02:43.370Z"
   },
   {
    "duration": 199,
    "start_time": "2023-02-14T20:02:43.387Z"
   },
   {
    "duration": 195,
    "start_time": "2023-02-14T20:02:43.588Z"
   },
   {
    "duration": 221,
    "start_time": "2023-02-14T20:02:43.785Z"
   },
   {
    "duration": 230,
    "start_time": "2023-02-14T20:02:44.008Z"
   },
   {
    "duration": 184,
    "start_time": "2023-02-14T20:02:44.239Z"
   },
   {
    "duration": 181,
    "start_time": "2023-02-14T20:02:44.425Z"
   },
   {
    "duration": 163,
    "start_time": "2023-02-14T20:02:44.608Z"
   },
   {
    "duration": 73,
    "start_time": "2023-02-14T20:02:44.773Z"
   },
   {
    "duration": 7,
    "start_time": "2023-02-14T20:02:44.848Z"
   },
   {
    "duration": 25,
    "start_time": "2023-02-14T20:02:44.859Z"
   },
   {
    "duration": 39,
    "start_time": "2023-02-14T20:02:44.887Z"
   },
   {
    "duration": 228,
    "start_time": "2023-02-14T20:02:44.928Z"
   },
   {
    "duration": 5,
    "start_time": "2023-02-14T20:02:45.158Z"
   },
   {
    "duration": 10,
    "start_time": "2023-02-14T20:02:45.165Z"
   },
   {
    "duration": 250,
    "start_time": "2023-02-14T20:02:45.177Z"
   },
   {
    "duration": 5,
    "start_time": "2023-02-14T20:02:45.429Z"
   },
   {
    "duration": 155,
    "start_time": "2023-02-14T20:02:45.436Z"
   },
   {
    "duration": 11,
    "start_time": "2023-02-14T20:02:45.592Z"
   },
   {
    "duration": 5,
    "start_time": "2023-02-14T20:02:45.605Z"
   },
   {
    "duration": 142,
    "start_time": "2023-02-14T20:02:45.612Z"
   },
   {
    "duration": 8,
    "start_time": "2023-02-14T20:02:45.757Z"
   },
   {
    "duration": 142,
    "start_time": "2023-02-14T20:02:45.767Z"
   },
   {
    "duration": 20,
    "start_time": "2023-02-14T20:02:45.910Z"
   },
   {
    "duration": 16,
    "start_time": "2023-02-14T20:02:45.931Z"
   },
   {
    "duration": 21,
    "start_time": "2023-02-14T20:02:45.949Z"
   },
   {
    "duration": 163,
    "start_time": "2023-02-14T20:02:45.971Z"
   },
   {
    "duration": 144,
    "start_time": "2023-02-14T20:02:46.136Z"
   },
   {
    "duration": 139,
    "start_time": "2023-02-14T20:02:46.282Z"
   },
   {
    "duration": 215,
    "start_time": "2023-02-14T20:02:46.423Z"
   },
   {
    "duration": 10,
    "start_time": "2023-02-14T20:02:46.640Z"
   },
   {
    "duration": 15,
    "start_time": "2023-02-14T20:02:46.652Z"
   },
   {
    "duration": 33,
    "start_time": "2023-02-14T20:06:34.887Z"
   },
   {
    "duration": 1039,
    "start_time": "2023-02-14T20:30:33.144Z"
   },
   {
    "duration": 88,
    "start_time": "2023-02-14T20:30:34.185Z"
   },
   {
    "duration": 19,
    "start_time": "2023-02-14T20:30:34.275Z"
   },
   {
    "duration": 19,
    "start_time": "2023-02-14T20:30:34.296Z"
   },
   {
    "duration": 15,
    "start_time": "2023-02-14T20:30:34.320Z"
   },
   {
    "duration": 8,
    "start_time": "2023-02-14T20:30:34.337Z"
   },
   {
    "duration": 12,
    "start_time": "2023-02-14T20:30:34.346Z"
   },
   {
    "duration": 3,
    "start_time": "2023-02-14T20:30:34.359Z"
   },
   {
    "duration": 7,
    "start_time": "2023-02-14T20:30:34.364Z"
   },
   {
    "duration": 5,
    "start_time": "2023-02-14T20:30:34.374Z"
   },
   {
    "duration": 30,
    "start_time": "2023-02-14T20:30:34.380Z"
   },
   {
    "duration": 19,
    "start_time": "2023-02-14T20:30:34.417Z"
   },
   {
    "duration": 18,
    "start_time": "2023-02-14T20:30:34.437Z"
   },
   {
    "duration": 14,
    "start_time": "2023-02-14T20:30:34.457Z"
   },
   {
    "duration": 4,
    "start_time": "2023-02-14T20:30:34.473Z"
   },
   {
    "duration": 14,
    "start_time": "2023-02-14T20:30:34.478Z"
   },
   {
    "duration": 165,
    "start_time": "2023-02-14T20:30:34.494Z"
   },
   {
    "duration": 16,
    "start_time": "2023-02-14T20:30:34.660Z"
   },
   {
    "duration": 203,
    "start_time": "2023-02-14T20:30:34.678Z"
   },
   {
    "duration": 201,
    "start_time": "2023-02-14T20:30:34.882Z"
   },
   {
    "duration": 209,
    "start_time": "2023-02-14T20:30:35.085Z"
   },
   {
    "duration": 205,
    "start_time": "2023-02-14T20:30:35.296Z"
   },
   {
    "duration": 176,
    "start_time": "2023-02-14T20:30:35.512Z"
   },
   {
    "duration": 184,
    "start_time": "2023-02-14T20:30:35.690Z"
   },
   {
    "duration": 152,
    "start_time": "2023-02-14T20:30:35.876Z"
   },
   {
    "duration": 42,
    "start_time": "2023-02-14T20:30:36.030Z"
   },
   {
    "duration": 6,
    "start_time": "2023-02-14T20:30:36.073Z"
   },
   {
    "duration": 20,
    "start_time": "2023-02-14T20:30:36.103Z"
   },
   {
    "duration": 18,
    "start_time": "2023-02-14T20:30:36.125Z"
   },
   {
    "duration": 205,
    "start_time": "2023-02-14T20:30:36.144Z"
   },
   {
    "duration": 5,
    "start_time": "2023-02-14T20:30:36.351Z"
   },
   {
    "duration": 11,
    "start_time": "2023-02-14T20:30:36.357Z"
   },
   {
    "duration": 261,
    "start_time": "2023-02-14T20:30:36.369Z"
   },
   {
    "duration": 6,
    "start_time": "2023-02-14T20:30:36.632Z"
   },
   {
    "duration": 213,
    "start_time": "2023-02-14T20:30:36.640Z"
   },
   {
    "duration": 7,
    "start_time": "2023-02-14T20:30:36.856Z"
   },
   {
    "duration": 11,
    "start_time": "2023-02-14T20:30:36.865Z"
   },
   {
    "duration": 154,
    "start_time": "2023-02-14T20:30:36.878Z"
   },
   {
    "duration": 5,
    "start_time": "2023-02-14T20:30:37.035Z"
   },
   {
    "duration": 137,
    "start_time": "2023-02-14T20:30:37.042Z"
   },
   {
    "duration": 38,
    "start_time": "2023-02-14T20:30:37.180Z"
   },
   {
    "duration": 18,
    "start_time": "2023-02-14T20:30:37.221Z"
   },
   {
    "duration": 17,
    "start_time": "2023-02-14T20:30:37.241Z"
   },
   {
    "duration": 150,
    "start_time": "2023-02-14T20:30:37.260Z"
   },
   {
    "duration": 143,
    "start_time": "2023-02-14T20:30:37.411Z"
   },
   {
    "duration": 141,
    "start_time": "2023-02-14T20:30:37.556Z"
   },
   {
    "duration": 155,
    "start_time": "2023-02-14T20:30:37.699Z"
   },
   {
    "duration": 8,
    "start_time": "2023-02-14T20:30:37.856Z"
   },
   {
    "duration": 10,
    "start_time": "2023-02-14T20:30:37.866Z"
   },
   {
    "duration": 1095,
    "start_time": "2023-02-14T20:38:51.369Z"
   },
   {
    "duration": 90,
    "start_time": "2023-02-14T20:38:52.466Z"
   },
   {
    "duration": 21,
    "start_time": "2023-02-14T20:38:52.557Z"
   },
   {
    "duration": 13,
    "start_time": "2023-02-14T20:38:52.581Z"
   },
   {
    "duration": 7,
    "start_time": "2023-02-14T20:38:52.595Z"
   },
   {
    "duration": 25,
    "start_time": "2023-02-14T20:38:52.603Z"
   },
   {
    "duration": 11,
    "start_time": "2023-02-14T20:38:52.629Z"
   },
   {
    "duration": 4,
    "start_time": "2023-02-14T20:38:52.641Z"
   },
   {
    "duration": 6,
    "start_time": "2023-02-14T20:38:52.647Z"
   },
   {
    "duration": 6,
    "start_time": "2023-02-14T20:38:52.655Z"
   },
   {
    "duration": 8,
    "start_time": "2023-02-14T20:38:52.663Z"
   },
   {
    "duration": 15,
    "start_time": "2023-02-14T20:38:52.672Z"
   },
   {
    "duration": 36,
    "start_time": "2023-02-14T20:38:52.689Z"
   },
   {
    "duration": 15,
    "start_time": "2023-02-14T20:38:52.727Z"
   },
   {
    "duration": 5,
    "start_time": "2023-02-14T20:38:52.743Z"
   },
   {
    "duration": 9,
    "start_time": "2023-02-14T20:38:52.751Z"
   },
   {
    "duration": 187,
    "start_time": "2023-02-14T20:38:52.762Z"
   },
   {
    "duration": 15,
    "start_time": "2023-02-14T20:38:52.951Z"
   },
   {
    "duration": 213,
    "start_time": "2023-02-14T20:38:52.967Z"
   },
   {
    "duration": 190,
    "start_time": "2023-02-14T20:38:53.181Z"
   },
   {
    "duration": 186,
    "start_time": "2023-02-14T20:38:53.373Z"
   },
   {
    "duration": 200,
    "start_time": "2023-02-14T20:38:53.561Z"
   },
   {
    "duration": 193,
    "start_time": "2023-02-14T20:38:53.762Z"
   },
   {
    "duration": 203,
    "start_time": "2023-02-14T20:38:53.957Z"
   },
   {
    "duration": 158,
    "start_time": "2023-02-14T20:38:54.163Z"
   },
   {
    "duration": 44,
    "start_time": "2023-02-14T20:38:54.323Z"
   },
   {
    "duration": 7,
    "start_time": "2023-02-14T20:38:54.369Z"
   },
   {
    "duration": 41,
    "start_time": "2023-02-14T20:38:54.379Z"
   },
   {
    "duration": 22,
    "start_time": "2023-02-14T20:38:54.422Z"
   },
   {
    "duration": 202,
    "start_time": "2023-02-14T20:38:54.446Z"
   },
   {
    "duration": 6,
    "start_time": "2023-02-14T20:38:54.649Z"
   },
   {
    "duration": 10,
    "start_time": "2023-02-14T20:38:54.657Z"
   },
   {
    "duration": 253,
    "start_time": "2023-02-14T20:38:54.668Z"
   },
   {
    "duration": 5,
    "start_time": "2023-02-14T20:38:54.922Z"
   },
   {
    "duration": 171,
    "start_time": "2023-02-14T20:38:54.929Z"
   },
   {
    "duration": 20,
    "start_time": "2023-02-14T20:38:55.103Z"
   },
   {
    "duration": 10,
    "start_time": "2023-02-14T20:38:55.124Z"
   },
   {
    "duration": 132,
    "start_time": "2023-02-14T20:38:55.135Z"
   },
   {
    "duration": 5,
    "start_time": "2023-02-14T20:38:55.269Z"
   },
   {
    "duration": 152,
    "start_time": "2023-02-14T20:38:55.275Z"
   },
   {
    "duration": 20,
    "start_time": "2023-02-14T20:38:55.428Z"
   },
   {
    "duration": 17,
    "start_time": "2023-02-14T20:38:55.449Z"
   },
   {
    "duration": 49,
    "start_time": "2023-02-14T20:38:55.467Z"
   },
   {
    "duration": 131,
    "start_time": "2023-02-14T20:38:55.519Z"
   },
   {
    "duration": 162,
    "start_time": "2023-02-14T20:38:55.651Z"
   },
   {
    "duration": 147,
    "start_time": "2023-02-14T20:38:55.815Z"
   },
   {
    "duration": 156,
    "start_time": "2023-02-14T20:38:55.964Z"
   },
   {
    "duration": 11,
    "start_time": "2023-02-14T20:38:56.122Z"
   },
   {
    "duration": 11,
    "start_time": "2023-02-14T20:38:56.134Z"
   },
   {
    "duration": 1424,
    "start_time": "2023-02-15T06:16:29.407Z"
   },
   {
    "duration": 251,
    "start_time": "2023-02-15T06:16:30.833Z"
   },
   {
    "duration": 25,
    "start_time": "2023-02-15T06:16:31.086Z"
   },
   {
    "duration": 37,
    "start_time": "2023-02-15T06:16:31.113Z"
   },
   {
    "duration": 19,
    "start_time": "2023-02-15T06:16:31.152Z"
   },
   {
    "duration": 29,
    "start_time": "2023-02-15T06:16:31.173Z"
   },
   {
    "duration": 35,
    "start_time": "2023-02-15T06:16:31.204Z"
   },
   {
    "duration": 27,
    "start_time": "2023-02-15T06:16:31.241Z"
   },
   {
    "duration": 41,
    "start_time": "2023-02-15T06:16:31.270Z"
   },
   {
    "duration": 34,
    "start_time": "2023-02-15T06:16:31.313Z"
   },
   {
    "duration": 51,
    "start_time": "2023-02-15T06:16:31.349Z"
   },
   {
    "duration": 42,
    "start_time": "2023-02-15T06:16:31.402Z"
   },
   {
    "duration": 43,
    "start_time": "2023-02-15T06:16:31.446Z"
   },
   {
    "duration": 25,
    "start_time": "2023-02-15T06:16:31.493Z"
   },
   {
    "duration": 24,
    "start_time": "2023-02-15T06:16:31.520Z"
   },
   {
    "duration": 29,
    "start_time": "2023-02-15T06:16:31.546Z"
   },
   {
    "duration": 216,
    "start_time": "2023-02-15T06:16:31.577Z"
   },
   {
    "duration": 17,
    "start_time": "2023-02-15T06:16:31.795Z"
   },
   {
    "duration": 213,
    "start_time": "2023-02-15T06:16:31.814Z"
   },
   {
    "duration": 216,
    "start_time": "2023-02-15T06:16:32.029Z"
   },
   {
    "duration": 208,
    "start_time": "2023-02-15T06:16:32.247Z"
   },
   {
    "duration": 207,
    "start_time": "2023-02-15T06:16:32.458Z"
   },
   {
    "duration": 198,
    "start_time": "2023-02-15T06:16:32.667Z"
   },
   {
    "duration": 199,
    "start_time": "2023-02-15T06:16:32.867Z"
   },
   {
    "duration": 161,
    "start_time": "2023-02-15T06:16:33.068Z"
   },
   {
    "duration": 47,
    "start_time": "2023-02-15T06:16:33.236Z"
   },
   {
    "duration": 6,
    "start_time": "2023-02-15T06:16:33.285Z"
   },
   {
    "duration": 53,
    "start_time": "2023-02-15T06:16:33.293Z"
   },
   {
    "duration": 22,
    "start_time": "2023-02-15T06:16:33.349Z"
   },
   {
    "duration": 218,
    "start_time": "2023-02-15T06:16:33.373Z"
   },
   {
    "duration": 6,
    "start_time": "2023-02-15T06:16:33.593Z"
   },
   {
    "duration": 10,
    "start_time": "2023-02-15T06:16:33.602Z"
   },
   {
    "duration": 271,
    "start_time": "2023-02-15T06:16:33.614Z"
   },
   {
    "duration": 6,
    "start_time": "2023-02-15T06:16:33.886Z"
   },
   {
    "duration": 174,
    "start_time": "2023-02-15T06:16:33.893Z"
   },
   {
    "duration": 7,
    "start_time": "2023-02-15T06:16:34.069Z"
   },
   {
    "duration": 16,
    "start_time": "2023-02-15T06:16:34.077Z"
   },
   {
    "duration": 142,
    "start_time": "2023-02-15T06:16:34.094Z"
   },
   {
    "duration": 6,
    "start_time": "2023-02-15T06:16:34.238Z"
   },
   {
    "duration": 131,
    "start_time": "2023-02-15T06:16:34.246Z"
   },
   {
    "duration": 27,
    "start_time": "2023-02-15T06:16:34.381Z"
   },
   {
    "duration": 35,
    "start_time": "2023-02-15T06:16:34.410Z"
   },
   {
    "duration": 20,
    "start_time": "2023-02-15T06:16:34.447Z"
   },
   {
    "duration": 153,
    "start_time": "2023-02-15T06:16:34.470Z"
   },
   {
    "duration": 161,
    "start_time": "2023-02-15T06:16:34.625Z"
   },
   {
    "duration": 148,
    "start_time": "2023-02-15T06:16:34.788Z"
   },
   {
    "duration": 162,
    "start_time": "2023-02-15T06:16:34.938Z"
   },
   {
    "duration": 11,
    "start_time": "2023-02-15T06:16:35.102Z"
   },
   {
    "duration": 39,
    "start_time": "2023-02-15T06:16:35.114Z"
   },
   {
    "duration": 20,
    "start_time": "2023-02-15T06:27:52.152Z"
   },
   {
    "duration": 107,
    "start_time": "2023-02-15T06:29:14.759Z"
   },
   {
    "duration": 19,
    "start_time": "2023-02-15T06:29:30.792Z"
   },
   {
    "duration": 15,
    "start_time": "2023-02-15T06:29:36.031Z"
   },
   {
    "duration": 15,
    "start_time": "2023-02-15T06:29:55.287Z"
   },
   {
    "duration": 16,
    "start_time": "2023-02-15T06:30:31.512Z"
   },
   {
    "duration": 16,
    "start_time": "2023-02-15T06:32:02.192Z"
   },
   {
    "duration": 15,
    "start_time": "2023-02-15T06:32:16.768Z"
   },
   {
    "duration": 16,
    "start_time": "2023-02-15T06:32:28.787Z"
   },
   {
    "duration": 18,
    "start_time": "2023-02-15T06:36:53.015Z"
   },
   {
    "duration": 16,
    "start_time": "2023-02-15T06:37:01.531Z"
   },
   {
    "duration": 15,
    "start_time": "2023-02-15T06:37:51.324Z"
   },
   {
    "duration": 17,
    "start_time": "2023-02-15T06:38:04.972Z"
   },
   {
    "duration": 16,
    "start_time": "2023-02-15T06:38:59.175Z"
   },
   {
    "duration": 16,
    "start_time": "2023-02-15T06:39:24.006Z"
   },
   {
    "duration": 21,
    "start_time": "2023-02-15T07:03:04.435Z"
   },
   {
    "duration": 18,
    "start_time": "2023-02-15T07:05:23.301Z"
   },
   {
    "duration": 14,
    "start_time": "2023-02-15T07:07:23.062Z"
   },
   {
    "duration": 17,
    "start_time": "2023-02-15T07:07:25.616Z"
   },
   {
    "duration": 72,
    "start_time": "2023-02-15T07:14:10.731Z"
   },
   {
    "duration": 95,
    "start_time": "2023-02-15T07:14:17.201Z"
   },
   {
    "duration": 9,
    "start_time": "2023-02-15T07:14:22.811Z"
   },
   {
    "duration": 11,
    "start_time": "2023-02-15T07:14:43.146Z"
   },
   {
    "duration": 5,
    "start_time": "2023-02-15T07:16:07.362Z"
   },
   {
    "duration": 5,
    "start_time": "2023-02-15T07:17:50.203Z"
   },
   {
    "duration": 4,
    "start_time": "2023-02-15T07:18:23.772Z"
   },
   {
    "duration": 17,
    "start_time": "2023-02-15T07:18:48.678Z"
   },
   {
    "duration": 17,
    "start_time": "2023-02-15T07:18:58.265Z"
   },
   {
    "duration": 19,
    "start_time": "2023-02-15T07:19:19.445Z"
   },
   {
    "duration": 16,
    "start_time": "2023-02-15T07:19:56.470Z"
   },
   {
    "duration": 16,
    "start_time": "2023-02-15T07:20:21.261Z"
   },
   {
    "duration": 19,
    "start_time": "2023-02-15T08:03:40.430Z"
   },
   {
    "duration": 17,
    "start_time": "2023-02-15T08:04:02.464Z"
   },
   {
    "duration": 16,
    "start_time": "2023-02-15T08:04:15.468Z"
   },
   {
    "duration": 204,
    "start_time": "2023-02-15T08:45:14.826Z"
   },
   {
    "duration": 181,
    "start_time": "2023-02-15T08:45:29.489Z"
   },
   {
    "duration": 152,
    "start_time": "2023-02-15T08:45:48.986Z"
   },
   {
    "duration": 258,
    "start_time": "2023-02-15T08:47:04.704Z"
   },
   {
    "duration": 17,
    "start_time": "2023-02-15T08:52:38.980Z"
   },
   {
    "duration": 15,
    "start_time": "2023-02-15T08:58:06.873Z"
   },
   {
    "duration": 172,
    "start_time": "2023-02-15T10:18:03.233Z"
   },
   {
    "duration": 11,
    "start_time": "2023-02-15T11:16:10.557Z"
   },
   {
    "duration": 11,
    "start_time": "2023-02-15T11:16:26.909Z"
   },
   {
    "duration": 9,
    "start_time": "2023-02-15T11:49:28.950Z"
   },
   {
    "duration": 1136,
    "start_time": "2023-02-15T11:49:39.050Z"
   },
   {
    "duration": 104,
    "start_time": "2023-02-15T11:49:40.190Z"
   },
   {
    "duration": 33,
    "start_time": "2023-02-15T11:49:40.295Z"
   },
   {
    "duration": 23,
    "start_time": "2023-02-15T11:49:40.331Z"
   },
   {
    "duration": 9,
    "start_time": "2023-02-15T11:49:40.356Z"
   },
   {
    "duration": 19,
    "start_time": "2023-02-15T11:49:40.366Z"
   },
   {
    "duration": 29,
    "start_time": "2023-02-15T11:49:40.387Z"
   },
   {
    "duration": 10,
    "start_time": "2023-02-15T11:49:40.418Z"
   },
   {
    "duration": 5,
    "start_time": "2023-02-15T11:49:40.437Z"
   },
   {
    "duration": 11,
    "start_time": "2023-02-15T11:49:40.445Z"
   },
   {
    "duration": 13,
    "start_time": "2023-02-15T11:49:40.457Z"
   },
   {
    "duration": 24,
    "start_time": "2023-02-15T11:49:40.472Z"
   },
   {
    "duration": 17,
    "start_time": "2023-02-15T11:49:40.498Z"
   },
   {
    "duration": 18,
    "start_time": "2023-02-15T11:49:40.537Z"
   },
   {
    "duration": 6,
    "start_time": "2023-02-15T11:49:40.556Z"
   },
   {
    "duration": 13,
    "start_time": "2023-02-15T11:49:40.563Z"
   },
   {
    "duration": 181,
    "start_time": "2023-02-15T11:49:40.579Z"
   },
   {
    "duration": 21,
    "start_time": "2023-02-15T11:49:40.762Z"
   },
   {
    "duration": 232,
    "start_time": "2023-02-15T11:49:40.785Z"
   },
   {
    "duration": 200,
    "start_time": "2023-02-15T11:49:41.019Z"
   },
   {
    "duration": 227,
    "start_time": "2023-02-15T11:49:41.221Z"
   },
   {
    "duration": 202,
    "start_time": "2023-02-15T11:49:41.450Z"
   },
   {
    "duration": 208,
    "start_time": "2023-02-15T11:49:41.654Z"
   },
   {
    "duration": 202,
    "start_time": "2023-02-15T11:49:41.865Z"
   },
   {
    "duration": 176,
    "start_time": "2023-02-15T11:49:42.069Z"
   },
   {
    "duration": 58,
    "start_time": "2023-02-15T11:49:42.247Z"
   },
   {
    "duration": 8,
    "start_time": "2023-02-15T11:49:42.306Z"
   },
   {
    "duration": 21,
    "start_time": "2023-02-15T11:49:42.338Z"
   },
   {
    "duration": 21,
    "start_time": "2023-02-15T11:49:42.361Z"
   },
   {
    "duration": 226,
    "start_time": "2023-02-15T11:49:42.384Z"
   },
   {
    "duration": 9,
    "start_time": "2023-02-15T11:49:42.612Z"
   },
   {
    "duration": 6,
    "start_time": "2023-02-15T11:49:42.638Z"
   },
   {
    "duration": 252,
    "start_time": "2023-02-15T11:49:42.646Z"
   },
   {
    "duration": 6,
    "start_time": "2023-02-15T11:49:42.900Z"
   },
   {
    "duration": 157,
    "start_time": "2023-02-15T11:49:42.907Z"
   },
   {
    "duration": 6,
    "start_time": "2023-02-15T11:49:43.066Z"
   },
   {
    "duration": 21,
    "start_time": "2023-02-15T11:49:43.073Z"
   },
   {
    "duration": 136,
    "start_time": "2023-02-15T11:49:43.096Z"
   },
   {
    "duration": 7,
    "start_time": "2023-02-15T11:49:43.235Z"
   },
   {
    "duration": 178,
    "start_time": "2023-02-15T11:49:43.243Z"
   },
   {
    "duration": 33,
    "start_time": "2023-02-15T11:49:43.425Z"
   },
   {
    "duration": 19,
    "start_time": "2023-02-15T11:49:43.460Z"
   },
   {
    "duration": 33,
    "start_time": "2023-02-15T11:49:43.482Z"
   },
   {
    "duration": 39,
    "start_time": "2023-02-15T11:49:43.518Z"
   },
   {
    "duration": 20,
    "start_time": "2023-02-15T11:49:43.560Z"
   },
   {
    "duration": 30,
    "start_time": "2023-02-15T11:49:43.582Z"
   },
   {
    "duration": 18,
    "start_time": "2023-02-15T11:49:43.636Z"
   },
   {
    "duration": 192,
    "start_time": "2023-02-15T11:49:43.656Z"
   },
   {
    "duration": 185,
    "start_time": "2023-02-15T11:49:43.850Z"
   },
   {
    "duration": 164,
    "start_time": "2023-02-15T11:49:44.037Z"
   },
   {
    "duration": 9,
    "start_time": "2023-02-15T11:49:44.204Z"
   },
   {
    "duration": 22,
    "start_time": "2023-02-15T11:49:44.215Z"
   },
   {
    "duration": 9,
    "start_time": "2023-02-15T11:57:53.059Z"
   },
   {
    "duration": 8,
    "start_time": "2023-02-15T11:59:39.099Z"
   },
   {
    "duration": 9,
    "start_time": "2023-02-15T12:06:33.377Z"
   },
   {
    "duration": 12,
    "start_time": "2023-02-15T12:23:04.113Z"
   },
   {
    "duration": 4,
    "start_time": "2023-02-15T12:24:28.500Z"
   },
   {
    "duration": 19,
    "start_time": "2023-02-15T12:30:47.479Z"
   },
   {
    "duration": 1153,
    "start_time": "2023-02-15T12:38:12.582Z"
   },
   {
    "duration": 96,
    "start_time": "2023-02-15T12:38:13.738Z"
   },
   {
    "duration": 60,
    "start_time": "2023-02-15T12:38:13.836Z"
   },
   {
    "duration": 54,
    "start_time": "2023-02-15T12:38:13.898Z"
   },
   {
    "duration": 7,
    "start_time": "2023-02-15T12:38:13.955Z"
   },
   {
    "duration": 20,
    "start_time": "2023-02-15T12:38:13.964Z"
   },
   {
    "duration": 21,
    "start_time": "2023-02-15T12:38:13.986Z"
   },
   {
    "duration": 31,
    "start_time": "2023-02-15T12:38:14.009Z"
   },
   {
    "duration": 19,
    "start_time": "2023-02-15T12:38:14.042Z"
   },
   {
    "duration": 9,
    "start_time": "2023-02-15T12:38:14.063Z"
   },
   {
    "duration": 14,
    "start_time": "2023-02-15T12:38:14.074Z"
   },
   {
    "duration": 20,
    "start_time": "2023-02-15T12:38:14.089Z"
   },
   {
    "duration": 18,
    "start_time": "2023-02-15T12:38:14.111Z"
   },
   {
    "duration": 21,
    "start_time": "2023-02-15T12:38:14.133Z"
   },
   {
    "duration": 9,
    "start_time": "2023-02-15T12:38:14.155Z"
   },
   {
    "duration": 38,
    "start_time": "2023-02-15T12:38:14.166Z"
   },
   {
    "duration": 200,
    "start_time": "2023-02-15T12:38:14.206Z"
   },
   {
    "duration": 17,
    "start_time": "2023-02-15T12:38:14.408Z"
   },
   {
    "duration": 216,
    "start_time": "2023-02-15T12:38:14.437Z"
   },
   {
    "duration": 214,
    "start_time": "2023-02-15T12:38:14.654Z"
   },
   {
    "duration": 211,
    "start_time": "2023-02-15T12:38:14.870Z"
   },
   {
    "duration": 199,
    "start_time": "2023-02-15T12:38:15.083Z"
   },
   {
    "duration": 204,
    "start_time": "2023-02-15T12:38:15.283Z"
   },
   {
    "duration": 243,
    "start_time": "2023-02-15T12:38:15.490Z"
   },
   {
    "duration": 179,
    "start_time": "2023-02-15T12:38:15.736Z"
   },
   {
    "duration": 63,
    "start_time": "2023-02-15T12:38:15.917Z"
   },
   {
    "duration": 6,
    "start_time": "2023-02-15T12:38:15.982Z"
   },
   {
    "duration": 26,
    "start_time": "2023-02-15T12:38:15.990Z"
   },
   {
    "duration": 41,
    "start_time": "2023-02-15T12:38:16.018Z"
   },
   {
    "duration": 201,
    "start_time": "2023-02-15T12:38:16.061Z"
   },
   {
    "duration": 6,
    "start_time": "2023-02-15T12:38:16.263Z"
   },
   {
    "duration": 11,
    "start_time": "2023-02-15T12:38:16.271Z"
   },
   {
    "duration": 274,
    "start_time": "2023-02-15T12:38:16.283Z"
   },
   {
    "duration": 5,
    "start_time": "2023-02-15T12:38:16.559Z"
   },
   {
    "duration": 167,
    "start_time": "2023-02-15T12:38:16.566Z"
   },
   {
    "duration": 6,
    "start_time": "2023-02-15T12:38:16.736Z"
   },
   {
    "duration": 12,
    "start_time": "2023-02-15T12:38:16.743Z"
   },
   {
    "duration": 142,
    "start_time": "2023-02-15T12:38:16.756Z"
   },
   {
    "duration": 5,
    "start_time": "2023-02-15T12:38:16.900Z"
   },
   {
    "duration": 150,
    "start_time": "2023-02-15T12:38:16.907Z"
   },
   {
    "duration": 21,
    "start_time": "2023-02-15T12:38:17.061Z"
   },
   {
    "duration": 39,
    "start_time": "2023-02-15T12:38:17.084Z"
   },
   {
    "duration": 38,
    "start_time": "2023-02-15T12:38:17.124Z"
   },
   {
    "duration": 47,
    "start_time": "2023-02-15T12:38:17.164Z"
   },
   {
    "duration": 24,
    "start_time": "2023-02-15T12:38:17.213Z"
   },
   {
    "duration": 33,
    "start_time": "2023-02-15T12:38:17.239Z"
   },
   {
    "duration": 46,
    "start_time": "2023-02-15T12:38:17.274Z"
   },
   {
    "duration": 217,
    "start_time": "2023-02-15T12:38:17.322Z"
   },
   {
    "duration": 156,
    "start_time": "2023-02-15T12:38:17.541Z"
   },
   {
    "duration": 170,
    "start_time": "2023-02-15T12:38:17.699Z"
   },
   {
    "duration": 11,
    "start_time": "2023-02-15T12:38:17.872Z"
   },
   {
    "duration": 44,
    "start_time": "2023-02-15T12:38:17.884Z"
   },
   {
    "duration": 1202,
    "start_time": "2023-02-15T12:41:35.616Z"
   },
   {
    "duration": 101,
    "start_time": "2023-02-15T12:41:36.821Z"
   },
   {
    "duration": 22,
    "start_time": "2023-02-15T12:41:36.923Z"
   },
   {
    "duration": 23,
    "start_time": "2023-02-15T12:41:36.947Z"
   },
   {
    "duration": 22,
    "start_time": "2023-02-15T12:41:36.972Z"
   },
   {
    "duration": 26,
    "start_time": "2023-02-15T12:41:36.996Z"
   },
   {
    "duration": 34,
    "start_time": "2023-02-15T12:41:37.024Z"
   },
   {
    "duration": 18,
    "start_time": "2023-02-15T12:41:37.060Z"
   },
   {
    "duration": 24,
    "start_time": "2023-02-15T12:41:37.079Z"
   },
   {
    "duration": 11,
    "start_time": "2023-02-15T12:41:37.106Z"
   },
   {
    "duration": 26,
    "start_time": "2023-02-15T12:41:37.119Z"
   },
   {
    "duration": 26,
    "start_time": "2023-02-15T12:41:37.147Z"
   },
   {
    "duration": 17,
    "start_time": "2023-02-15T12:41:37.175Z"
   },
   {
    "duration": 25,
    "start_time": "2023-02-15T12:41:37.194Z"
   },
   {
    "duration": 31,
    "start_time": "2023-02-15T12:41:37.220Z"
   },
   {
    "duration": 7,
    "start_time": "2023-02-15T12:41:37.253Z"
   },
   {
    "duration": 196,
    "start_time": "2023-02-15T12:41:37.262Z"
   },
   {
    "duration": 16,
    "start_time": "2023-02-15T12:41:37.460Z"
   },
   {
    "duration": 212,
    "start_time": "2023-02-15T12:41:37.478Z"
   },
   {
    "duration": 212,
    "start_time": "2023-02-15T12:41:37.692Z"
   },
   {
    "duration": 203,
    "start_time": "2023-02-15T12:41:37.905Z"
   },
   {
    "duration": 215,
    "start_time": "2023-02-15T12:41:38.110Z"
   },
   {
    "duration": 215,
    "start_time": "2023-02-15T12:41:38.337Z"
   },
   {
    "duration": 254,
    "start_time": "2023-02-15T12:41:38.555Z"
   },
   {
    "duration": 164,
    "start_time": "2023-02-15T12:41:38.812Z"
   },
   {
    "duration": 47,
    "start_time": "2023-02-15T12:41:38.978Z"
   },
   {
    "duration": 15,
    "start_time": "2023-02-15T12:41:39.026Z"
   },
   {
    "duration": 82,
    "start_time": "2023-02-15T12:41:39.045Z"
   },
   {
    "duration": 43,
    "start_time": "2023-02-15T12:41:39.129Z"
   },
   {
    "duration": 283,
    "start_time": "2023-02-15T12:41:39.174Z"
   },
   {
    "duration": 6,
    "start_time": "2023-02-15T12:41:39.459Z"
   },
   {
    "duration": 45,
    "start_time": "2023-02-15T12:41:39.466Z"
   },
   {
    "duration": 313,
    "start_time": "2023-02-15T12:41:39.513Z"
   },
   {
    "duration": 11,
    "start_time": "2023-02-15T12:41:39.828Z"
   },
   {
    "duration": 198,
    "start_time": "2023-02-15T12:41:39.841Z"
   },
   {
    "duration": 6,
    "start_time": "2023-02-15T12:41:40.041Z"
   },
   {
    "duration": 70,
    "start_time": "2023-02-15T12:41:40.049Z"
   },
   {
    "duration": 239,
    "start_time": "2023-02-15T12:41:40.121Z"
   },
   {
    "duration": 6,
    "start_time": "2023-02-15T12:41:40.363Z"
   },
   {
    "duration": 188,
    "start_time": "2023-02-15T12:41:40.372Z"
   },
   {
    "duration": 38,
    "start_time": "2023-02-15T12:41:40.562Z"
   },
   {
    "duration": 53,
    "start_time": "2023-02-15T12:41:40.603Z"
   },
   {
    "duration": 58,
    "start_time": "2023-02-15T12:41:40.658Z"
   },
   {
    "duration": 51,
    "start_time": "2023-02-15T12:41:40.718Z"
   },
   {
    "duration": 48,
    "start_time": "2023-02-15T12:41:40.771Z"
   },
   {
    "duration": 46,
    "start_time": "2023-02-15T12:41:40.821Z"
   },
   {
    "duration": 88,
    "start_time": "2023-02-15T12:41:40.869Z"
   },
   {
    "duration": 205,
    "start_time": "2023-02-15T12:41:40.959Z"
   },
   {
    "duration": 173,
    "start_time": "2023-02-15T12:41:41.166Z"
   },
   {
    "duration": 187,
    "start_time": "2023-02-15T12:41:41.341Z"
   },
   {
    "duration": 13,
    "start_time": "2023-02-15T12:41:41.530Z"
   },
   {
    "duration": 59,
    "start_time": "2023-02-15T12:41:41.546Z"
   },
   {
    "duration": 1218,
    "start_time": "2023-02-15T13:02:17.648Z"
   },
   {
    "duration": 90,
    "start_time": "2023-02-15T13:02:18.869Z"
   },
   {
    "duration": 22,
    "start_time": "2023-02-15T13:02:18.961Z"
   },
   {
    "duration": 25,
    "start_time": "2023-02-15T13:02:18.986Z"
   },
   {
    "duration": 11,
    "start_time": "2023-02-15T13:02:19.013Z"
   },
   {
    "duration": 30,
    "start_time": "2023-02-15T13:02:19.026Z"
   },
   {
    "duration": 25,
    "start_time": "2023-02-15T13:02:19.058Z"
   },
   {
    "duration": 23,
    "start_time": "2023-02-15T13:02:19.085Z"
   },
   {
    "duration": 31,
    "start_time": "2023-02-15T13:02:19.109Z"
   },
   {
    "duration": 20,
    "start_time": "2023-02-15T13:02:19.143Z"
   },
   {
    "duration": 13,
    "start_time": "2023-02-15T13:02:19.165Z"
   },
   {
    "duration": 19,
    "start_time": "2023-02-15T13:02:19.180Z"
   },
   {
    "duration": 17,
    "start_time": "2023-02-15T13:02:19.200Z"
   },
   {
    "duration": 26,
    "start_time": "2023-02-15T13:02:19.219Z"
   },
   {
    "duration": 5,
    "start_time": "2023-02-15T13:02:19.247Z"
   },
   {
    "duration": 9,
    "start_time": "2023-02-15T13:02:19.254Z"
   },
   {
    "duration": 212,
    "start_time": "2023-02-15T13:02:19.265Z"
   },
   {
    "duration": 18,
    "start_time": "2023-02-15T13:02:19.479Z"
   },
   {
    "duration": 253,
    "start_time": "2023-02-15T13:02:19.500Z"
   },
   {
    "duration": 227,
    "start_time": "2023-02-15T13:02:19.755Z"
   },
   {
    "duration": 209,
    "start_time": "2023-02-15T13:02:19.983Z"
   },
   {
    "duration": 228,
    "start_time": "2023-02-15T13:02:20.195Z"
   },
   {
    "duration": 204,
    "start_time": "2023-02-15T13:02:20.425Z"
   },
   {
    "duration": 212,
    "start_time": "2023-02-15T13:02:20.631Z"
   },
   {
    "duration": 205,
    "start_time": "2023-02-15T13:02:20.845Z"
   },
   {
    "duration": 64,
    "start_time": "2023-02-15T13:02:21.052Z"
   },
   {
    "duration": 21,
    "start_time": "2023-02-15T13:02:21.119Z"
   },
   {
    "duration": 27,
    "start_time": "2023-02-15T13:02:21.144Z"
   },
   {
    "duration": 26,
    "start_time": "2023-02-15T13:02:21.173Z"
   },
   {
    "duration": 248,
    "start_time": "2023-02-15T13:02:21.200Z"
   },
   {
    "duration": 7,
    "start_time": "2023-02-15T13:02:21.450Z"
   },
   {
    "duration": 20,
    "start_time": "2023-02-15T13:02:21.459Z"
   },
   {
    "duration": 308,
    "start_time": "2023-02-15T13:02:21.481Z"
   },
   {
    "duration": 6,
    "start_time": "2023-02-15T13:02:21.791Z"
   },
   {
    "duration": 202,
    "start_time": "2023-02-15T13:02:21.799Z"
   },
   {
    "duration": 34,
    "start_time": "2023-02-15T13:02:22.002Z"
   },
   {
    "duration": 6,
    "start_time": "2023-02-15T13:02:22.039Z"
   },
   {
    "duration": 160,
    "start_time": "2023-02-15T13:02:22.047Z"
   },
   {
    "duration": 6,
    "start_time": "2023-02-15T13:02:22.209Z"
   },
   {
    "duration": 151,
    "start_time": "2023-02-15T13:02:22.216Z"
   },
   {
    "duration": 22,
    "start_time": "2023-02-15T13:02:22.369Z"
   },
   {
    "duration": 16,
    "start_time": "2023-02-15T13:02:22.393Z"
   },
   {
    "duration": 40,
    "start_time": "2023-02-15T13:02:22.410Z"
   },
   {
    "duration": 34,
    "start_time": "2023-02-15T13:02:22.452Z"
   },
   {
    "duration": 64,
    "start_time": "2023-02-15T13:02:22.488Z"
   },
   {
    "duration": 20,
    "start_time": "2023-02-15T13:02:22.554Z"
   },
   {
    "duration": 61,
    "start_time": "2023-02-15T13:02:22.576Z"
   },
   {
    "duration": 270,
    "start_time": "2023-02-15T13:02:22.639Z"
   },
   {
    "duration": 184,
    "start_time": "2023-02-15T13:02:22.911Z"
   },
   {
    "duration": 174,
    "start_time": "2023-02-15T13:02:23.097Z"
   },
   {
    "duration": 10,
    "start_time": "2023-02-15T13:02:23.273Z"
   },
   {
    "duration": 17,
    "start_time": "2023-02-15T13:02:23.285Z"
   },
   {
    "duration": 1203,
    "start_time": "2023-02-15T13:37:29.614Z"
   },
   {
    "duration": 120,
    "start_time": "2023-02-15T13:37:30.820Z"
   },
   {
    "duration": 23,
    "start_time": "2023-02-15T13:37:30.942Z"
   },
   {
    "duration": 34,
    "start_time": "2023-02-15T13:37:30.968Z"
   },
   {
    "duration": 31,
    "start_time": "2023-02-15T13:37:31.004Z"
   },
   {
    "duration": 51,
    "start_time": "2023-02-15T13:37:31.036Z"
   },
   {
    "duration": 33,
    "start_time": "2023-02-15T13:37:31.089Z"
   },
   {
    "duration": 45,
    "start_time": "2023-02-15T13:37:31.123Z"
   },
   {
    "duration": 36,
    "start_time": "2023-02-15T13:37:31.170Z"
   },
   {
    "duration": 34,
    "start_time": "2023-02-15T13:37:31.209Z"
   },
   {
    "duration": 35,
    "start_time": "2023-02-15T13:37:31.245Z"
   },
   {
    "duration": 46,
    "start_time": "2023-02-15T13:37:31.282Z"
   },
   {
    "duration": 34,
    "start_time": "2023-02-15T13:37:31.330Z"
   },
   {
    "duration": 24,
    "start_time": "2023-02-15T13:37:31.366Z"
   },
   {
    "duration": 23,
    "start_time": "2023-02-15T13:37:31.392Z"
   },
   {
    "duration": 45,
    "start_time": "2023-02-15T13:37:31.416Z"
   },
   {
    "duration": 196,
    "start_time": "2023-02-15T13:37:31.463Z"
   },
   {
    "duration": 16,
    "start_time": "2023-02-15T13:37:31.661Z"
   },
   {
    "duration": 227,
    "start_time": "2023-02-15T13:37:31.679Z"
   },
   {
    "duration": 206,
    "start_time": "2023-02-15T13:37:31.908Z"
   },
   {
    "duration": 196,
    "start_time": "2023-02-15T13:37:32.116Z"
   },
   {
    "duration": 196,
    "start_time": "2023-02-15T13:37:32.314Z"
   },
   {
    "duration": 205,
    "start_time": "2023-02-15T13:37:32.512Z"
   },
   {
    "duration": 204,
    "start_time": "2023-02-15T13:37:32.719Z"
   },
   {
    "duration": 156,
    "start_time": "2023-02-15T13:37:32.925Z"
   },
   {
    "duration": 58,
    "start_time": "2023-02-15T13:37:33.084Z"
   },
   {
    "duration": 7,
    "start_time": "2023-02-15T13:37:33.144Z"
   },
   {
    "duration": 66,
    "start_time": "2023-02-15T13:37:33.156Z"
   },
   {
    "duration": 33,
    "start_time": "2023-02-15T13:37:33.224Z"
   },
   {
    "duration": 239,
    "start_time": "2023-02-15T13:37:33.260Z"
   },
   {
    "duration": 7,
    "start_time": "2023-02-15T13:37:33.500Z"
   },
   {
    "duration": 45,
    "start_time": "2023-02-15T13:37:33.508Z"
   },
   {
    "duration": 313,
    "start_time": "2023-02-15T13:37:33.555Z"
   },
   {
    "duration": 7,
    "start_time": "2023-02-15T13:37:33.869Z"
   },
   {
    "duration": 192,
    "start_time": "2023-02-15T13:37:33.878Z"
   },
   {
    "duration": 7,
    "start_time": "2023-02-15T13:37:34.072Z"
   },
   {
    "duration": 52,
    "start_time": "2023-02-15T13:37:34.081Z"
   },
   {
    "duration": 169,
    "start_time": "2023-02-15T13:37:34.136Z"
   },
   {
    "duration": 8,
    "start_time": "2023-02-15T13:37:34.308Z"
   },
   {
    "duration": 203,
    "start_time": "2023-02-15T13:37:34.317Z"
   },
   {
    "duration": 35,
    "start_time": "2023-02-15T13:37:34.522Z"
   },
   {
    "duration": 23,
    "start_time": "2023-02-15T13:37:34.560Z"
   },
   {
    "duration": 72,
    "start_time": "2023-02-15T13:37:34.585Z"
   },
   {
    "duration": 39,
    "start_time": "2023-02-15T13:37:34.659Z"
   },
   {
    "duration": 21,
    "start_time": "2023-02-15T13:37:34.700Z"
   },
   {
    "duration": 53,
    "start_time": "2023-02-15T13:37:34.723Z"
   },
   {
    "duration": 45,
    "start_time": "2023-02-15T13:37:34.777Z"
   },
   {
    "duration": 184,
    "start_time": "2023-02-15T13:37:34.824Z"
   },
   {
    "duration": 166,
    "start_time": "2023-02-15T13:37:35.011Z"
   },
   {
    "duration": 194,
    "start_time": "2023-02-15T13:37:35.180Z"
   },
   {
    "duration": 11,
    "start_time": "2023-02-15T13:37:35.376Z"
   },
   {
    "duration": 23,
    "start_time": "2023-02-15T13:37:35.390Z"
   },
   {
    "duration": 1199,
    "start_time": "2023-02-15T15:15:51.204Z"
   },
   {
    "duration": 105,
    "start_time": "2023-02-15T15:15:52.405Z"
   },
   {
    "duration": 22,
    "start_time": "2023-02-15T15:15:52.512Z"
   },
   {
    "duration": 19,
    "start_time": "2023-02-15T15:15:52.536Z"
   },
   {
    "duration": 22,
    "start_time": "2023-02-15T15:15:52.557Z"
   },
   {
    "duration": 29,
    "start_time": "2023-02-15T15:15:52.581Z"
   },
   {
    "duration": 21,
    "start_time": "2023-02-15T15:15:52.611Z"
   },
   {
    "duration": 30,
    "start_time": "2023-02-15T15:15:52.634Z"
   },
   {
    "duration": 28,
    "start_time": "2023-02-15T15:15:52.666Z"
   },
   {
    "duration": 22,
    "start_time": "2023-02-15T15:15:52.697Z"
   },
   {
    "duration": 15,
    "start_time": "2023-02-15T15:15:52.721Z"
   },
   {
    "duration": 38,
    "start_time": "2023-02-15T15:15:52.738Z"
   },
   {
    "duration": 17,
    "start_time": "2023-02-15T15:15:52.778Z"
   },
   {
    "duration": 21,
    "start_time": "2023-02-15T15:15:52.797Z"
   },
   {
    "duration": 14,
    "start_time": "2023-02-15T15:15:52.820Z"
   },
   {
    "duration": 31,
    "start_time": "2023-02-15T15:15:52.835Z"
   },
   {
    "duration": 185,
    "start_time": "2023-02-15T15:15:52.868Z"
   },
   {
    "duration": 21,
    "start_time": "2023-02-15T15:15:53.056Z"
   },
   {
    "duration": 216,
    "start_time": "2023-02-15T15:15:53.079Z"
   },
   {
    "duration": 215,
    "start_time": "2023-02-15T15:15:53.297Z"
   },
   {
    "duration": 196,
    "start_time": "2023-02-15T15:15:53.514Z"
   },
   {
    "duration": 198,
    "start_time": "2023-02-15T15:15:53.712Z"
   },
   {
    "duration": 200,
    "start_time": "2023-02-15T15:15:53.912Z"
   },
   {
    "duration": 216,
    "start_time": "2023-02-15T15:15:54.114Z"
   },
   {
    "duration": 204,
    "start_time": "2023-02-15T15:15:54.332Z"
   },
   {
    "duration": 55,
    "start_time": "2023-02-15T15:15:54.539Z"
   },
   {
    "duration": 7,
    "start_time": "2023-02-15T15:15:54.597Z"
   },
   {
    "duration": 47,
    "start_time": "2023-02-15T15:15:54.607Z"
   },
   {
    "duration": 23,
    "start_time": "2023-02-15T15:15:54.656Z"
   },
   {
    "duration": 214,
    "start_time": "2023-02-15T15:15:54.681Z"
   },
   {
    "duration": 6,
    "start_time": "2023-02-15T15:15:54.896Z"
   },
   {
    "duration": 8,
    "start_time": "2023-02-15T15:15:54.903Z"
   },
   {
    "duration": 274,
    "start_time": "2023-02-15T15:15:54.913Z"
   },
   {
    "duration": 6,
    "start_time": "2023-02-15T15:15:55.189Z"
   },
   {
    "duration": 171,
    "start_time": "2023-02-15T15:15:55.196Z"
   },
   {
    "duration": 7,
    "start_time": "2023-02-15T15:15:55.368Z"
   },
   {
    "duration": 19,
    "start_time": "2023-02-15T15:15:55.376Z"
   },
   {
    "duration": 144,
    "start_time": "2023-02-15T15:15:55.397Z"
   },
   {
    "duration": 6,
    "start_time": "2023-02-15T15:15:55.542Z"
   },
   {
    "duration": 136,
    "start_time": "2023-02-15T15:15:55.549Z"
   },
   {
    "duration": 22,
    "start_time": "2023-02-15T15:15:55.687Z"
   },
   {
    "duration": 34,
    "start_time": "2023-02-15T15:15:55.711Z"
   },
   {
    "duration": 16,
    "start_time": "2023-02-15T15:15:55.748Z"
   },
   {
    "duration": 17,
    "start_time": "2023-02-15T15:15:55.766Z"
   },
   {
    "duration": 17,
    "start_time": "2023-02-15T15:15:55.784Z"
   },
   {
    "duration": 53,
    "start_time": "2023-02-15T15:15:55.803Z"
   },
   {
    "duration": 27,
    "start_time": "2023-02-15T15:15:55.858Z"
   },
   {
    "duration": 194,
    "start_time": "2023-02-15T15:15:55.887Z"
   },
   {
    "duration": 156,
    "start_time": "2023-02-15T15:15:56.082Z"
   },
   {
    "duration": 162,
    "start_time": "2023-02-15T15:15:56.240Z"
   },
   {
    "duration": 11,
    "start_time": "2023-02-15T15:15:56.405Z"
   },
   {
    "duration": 24,
    "start_time": "2023-02-15T15:15:56.418Z"
   },
   {
    "duration": 1183,
    "start_time": "2023-02-15T15:28:08.629Z"
   },
   {
    "duration": 91,
    "start_time": "2023-02-15T15:28:09.815Z"
   },
   {
    "duration": 30,
    "start_time": "2023-02-15T15:28:09.908Z"
   },
   {
    "duration": 20,
    "start_time": "2023-02-15T15:28:09.941Z"
   },
   {
    "duration": 20,
    "start_time": "2023-02-15T15:28:09.964Z"
   },
   {
    "duration": 21,
    "start_time": "2023-02-15T15:28:09.986Z"
   },
   {
    "duration": 37,
    "start_time": "2023-02-15T15:28:10.010Z"
   },
   {
    "duration": 41,
    "start_time": "2023-02-15T15:28:10.049Z"
   },
   {
    "duration": 18,
    "start_time": "2023-02-15T15:28:10.092Z"
   },
   {
    "duration": 25,
    "start_time": "2023-02-15T15:28:10.113Z"
   },
   {
    "duration": 39,
    "start_time": "2023-02-15T15:28:10.140Z"
   },
   {
    "duration": 43,
    "start_time": "2023-02-15T15:28:10.184Z"
   },
   {
    "duration": 30,
    "start_time": "2023-02-15T15:28:10.230Z"
   },
   {
    "duration": 40,
    "start_time": "2023-02-15T15:28:10.262Z"
   },
   {
    "duration": 9,
    "start_time": "2023-02-15T15:28:10.304Z"
   },
   {
    "duration": 38,
    "start_time": "2023-02-15T15:28:10.315Z"
   },
   {
    "duration": 201,
    "start_time": "2023-02-15T15:28:10.355Z"
   },
   {
    "duration": 17,
    "start_time": "2023-02-15T15:28:10.558Z"
   },
   {
    "duration": 222,
    "start_time": "2023-02-15T15:28:10.577Z"
   },
   {
    "duration": 228,
    "start_time": "2023-02-15T15:28:10.801Z"
   },
   {
    "duration": 198,
    "start_time": "2023-02-15T15:28:11.036Z"
   },
   {
    "duration": 213,
    "start_time": "2023-02-15T15:28:11.236Z"
   },
   {
    "duration": 205,
    "start_time": "2023-02-15T15:28:11.451Z"
   },
   {
    "duration": 193,
    "start_time": "2023-02-15T15:28:11.658Z"
   },
   {
    "duration": 174,
    "start_time": "2023-02-15T15:28:11.853Z"
   },
   {
    "duration": 55,
    "start_time": "2023-02-15T15:28:12.029Z"
   },
   {
    "duration": 6,
    "start_time": "2023-02-15T15:28:12.086Z"
   },
   {
    "duration": 36,
    "start_time": "2023-02-15T15:28:12.096Z"
   },
   {
    "duration": 29,
    "start_time": "2023-02-15T15:28:12.137Z"
   },
   {
    "duration": 228,
    "start_time": "2023-02-15T15:28:12.168Z"
   },
   {
    "duration": 6,
    "start_time": "2023-02-15T15:28:12.398Z"
   },
   {
    "duration": 34,
    "start_time": "2023-02-15T15:28:12.405Z"
   },
   {
    "duration": 261,
    "start_time": "2023-02-15T15:28:12.440Z"
   },
   {
    "duration": 5,
    "start_time": "2023-02-15T15:28:12.703Z"
   },
   {
    "duration": 184,
    "start_time": "2023-02-15T15:28:12.709Z"
   },
   {
    "duration": 8,
    "start_time": "2023-02-15T15:28:12.895Z"
   },
   {
    "duration": 18,
    "start_time": "2023-02-15T15:28:12.905Z"
   },
   {
    "duration": 139,
    "start_time": "2023-02-15T15:28:12.924Z"
   },
   {
    "duration": 6,
    "start_time": "2023-02-15T15:28:13.065Z"
   },
   {
    "duration": 167,
    "start_time": "2023-02-15T15:28:13.072Z"
   },
   {
    "duration": 20,
    "start_time": "2023-02-15T15:28:13.241Z"
   },
   {
    "duration": 110,
    "start_time": "2023-02-15T15:28:13.263Z"
   },
   {
    "duration": 17,
    "start_time": "2023-02-15T15:28:13.375Z"
   },
   {
    "duration": 29,
    "start_time": "2023-02-15T15:28:13.394Z"
   },
   {
    "duration": 25,
    "start_time": "2023-02-15T15:28:13.425Z"
   },
   {
    "duration": 22,
    "start_time": "2023-02-15T15:28:13.451Z"
   },
   {
    "duration": 26,
    "start_time": "2023-02-15T15:28:13.476Z"
   },
   {
    "duration": 187,
    "start_time": "2023-02-15T15:28:13.504Z"
   },
   {
    "duration": 151,
    "start_time": "2023-02-15T15:28:13.693Z"
   },
   {
    "duration": 157,
    "start_time": "2023-02-15T15:28:13.847Z"
   },
   {
    "duration": 9,
    "start_time": "2023-02-15T15:28:14.006Z"
   },
   {
    "duration": 20,
    "start_time": "2023-02-15T15:28:14.017Z"
   },
   {
    "duration": 1491,
    "start_time": "2023-02-15T16:58:48.503Z"
   },
   {
    "duration": 108,
    "start_time": "2023-02-15T16:58:49.997Z"
   },
   {
    "duration": 32,
    "start_time": "2023-02-15T16:58:50.107Z"
   },
   {
    "duration": 21,
    "start_time": "2023-02-15T16:58:50.142Z"
   },
   {
    "duration": 13,
    "start_time": "2023-02-15T16:58:50.165Z"
   },
   {
    "duration": 16,
    "start_time": "2023-02-15T16:58:50.180Z"
   },
   {
    "duration": 38,
    "start_time": "2023-02-15T16:58:50.198Z"
   },
   {
    "duration": 6,
    "start_time": "2023-02-15T16:58:50.239Z"
   },
   {
    "duration": 12,
    "start_time": "2023-02-15T16:58:50.247Z"
   },
   {
    "duration": 14,
    "start_time": "2023-02-15T16:58:50.263Z"
   },
   {
    "duration": 12,
    "start_time": "2023-02-15T16:58:50.279Z"
   },
   {
    "duration": 43,
    "start_time": "2023-02-15T16:58:50.293Z"
   },
   {
    "duration": 24,
    "start_time": "2023-02-15T16:58:50.339Z"
   },
   {
    "duration": 26,
    "start_time": "2023-02-15T16:58:50.366Z"
   },
   {
    "duration": 7,
    "start_time": "2023-02-15T16:58:50.394Z"
   },
   {
    "duration": 37,
    "start_time": "2023-02-15T16:58:50.403Z"
   },
   {
    "duration": 258,
    "start_time": "2023-02-15T16:58:50.442Z"
   },
   {
    "duration": 23,
    "start_time": "2023-02-15T16:58:50.702Z"
   },
   {
    "duration": 302,
    "start_time": "2023-02-15T16:58:50.727Z"
   },
   {
    "duration": 304,
    "start_time": "2023-02-15T16:58:51.037Z"
   },
   {
    "duration": 274,
    "start_time": "2023-02-15T16:58:51.344Z"
   },
   {
    "duration": 272,
    "start_time": "2023-02-15T16:58:51.620Z"
   },
   {
    "duration": 288,
    "start_time": "2023-02-15T16:58:51.894Z"
   },
   {
    "duration": 294,
    "start_time": "2023-02-15T16:58:52.184Z"
   },
   {
    "duration": 208,
    "start_time": "2023-02-15T16:58:52.482Z"
   },
   {
    "duration": 76,
    "start_time": "2023-02-15T16:58:52.693Z"
   },
   {
    "duration": 8,
    "start_time": "2023-02-15T16:58:52.771Z"
   },
   {
    "duration": 54,
    "start_time": "2023-02-15T16:58:52.784Z"
   },
   {
    "duration": 46,
    "start_time": "2023-02-15T16:58:52.840Z"
   },
   {
    "duration": 284,
    "start_time": "2023-02-15T16:58:52.888Z"
   },
   {
    "duration": 7,
    "start_time": "2023-02-15T16:58:53.175Z"
   },
   {
    "duration": 31,
    "start_time": "2023-02-15T16:58:53.184Z"
   },
   {
    "duration": 383,
    "start_time": "2023-02-15T16:58:53.217Z"
   },
   {
    "duration": 7,
    "start_time": "2023-02-15T16:58:53.603Z"
   },
   {
    "duration": 223,
    "start_time": "2023-02-15T16:58:53.614Z"
   },
   {
    "duration": 13,
    "start_time": "2023-02-15T16:58:53.845Z"
   },
   {
    "duration": 23,
    "start_time": "2023-02-15T16:58:53.860Z"
   },
   {
    "duration": 166,
    "start_time": "2023-02-15T16:58:53.885Z"
   },
   {
    "duration": 14,
    "start_time": "2023-02-15T16:58:54.053Z"
   },
   {
    "duration": 148,
    "start_time": "2023-02-15T16:58:54.069Z"
   },
   {
    "duration": 37,
    "start_time": "2023-02-15T16:58:54.219Z"
   },
   {
    "duration": 23,
    "start_time": "2023-02-15T16:58:54.258Z"
   },
   {
    "duration": 32,
    "start_time": "2023-02-15T16:58:54.284Z"
   },
   {
    "duration": 61,
    "start_time": "2023-02-15T16:58:54.318Z"
   },
   {
    "duration": 24,
    "start_time": "2023-02-15T16:58:54.381Z"
   },
   {
    "duration": 21,
    "start_time": "2023-02-15T16:58:54.408Z"
   },
   {
    "duration": 66,
    "start_time": "2023-02-15T16:58:54.436Z"
   },
   {
    "duration": 185,
    "start_time": "2023-02-15T16:58:54.504Z"
   },
   {
    "duration": 202,
    "start_time": "2023-02-15T16:58:54.691Z"
   },
   {
    "duration": 187,
    "start_time": "2023-02-15T16:58:54.896Z"
   },
   {
    "duration": 15,
    "start_time": "2023-02-15T16:58:55.087Z"
   },
   {
    "duration": 21,
    "start_time": "2023-02-15T16:58:55.106Z"
   },
   {
    "duration": 11,
    "start_time": "2023-02-15T17:53:08.371Z"
   },
   {
    "duration": 5,
    "start_time": "2023-02-15T17:54:44.322Z"
   },
   {
    "duration": 9,
    "start_time": "2023-02-15T18:05:42.904Z"
   },
   {
    "duration": 202,
    "start_time": "2023-02-15T18:06:13.596Z"
   },
   {
    "duration": 208,
    "start_time": "2023-02-15T18:38:33.905Z"
   },
   {
    "duration": 279,
    "start_time": "2023-02-15T18:38:47.318Z"
   },
   {
    "duration": 35,
    "start_time": "2023-02-15T18:49:08.061Z"
   },
   {
    "duration": 161,
    "start_time": "2023-02-15T18:54:46.483Z"
   },
   {
    "duration": 217,
    "start_time": "2023-02-15T18:54:57.052Z"
   },
   {
    "duration": 25,
    "start_time": "2023-02-15T18:56:10.740Z"
   },
   {
    "duration": 19,
    "start_time": "2023-02-15T19:06:57.564Z"
   },
   {
    "duration": 13,
    "start_time": "2023-02-15T19:07:21.717Z"
   },
   {
    "duration": 16,
    "start_time": "2023-02-15T19:07:56.540Z"
   },
   {
    "duration": 17,
    "start_time": "2023-02-15T19:08:26.214Z"
   },
   {
    "duration": 16,
    "start_time": "2023-02-15T19:08:52.148Z"
   },
   {
    "duration": 17,
    "start_time": "2023-02-15T19:11:37.287Z"
   },
   {
    "duration": 23,
    "start_time": "2023-02-15T19:11:49.618Z"
   },
   {
    "duration": 19,
    "start_time": "2023-02-15T19:12:08.689Z"
   },
   {
    "duration": 24,
    "start_time": "2023-02-15T19:12:17.543Z"
   },
   {
    "duration": 28,
    "start_time": "2023-02-15T19:12:24.705Z"
   },
   {
    "duration": 24,
    "start_time": "2023-02-15T19:12:34.740Z"
   },
   {
    "duration": 23,
    "start_time": "2023-02-15T19:12:42.464Z"
   },
   {
    "duration": 21,
    "start_time": "2023-02-15T19:12:52.742Z"
   },
   {
    "duration": 1378,
    "start_time": "2023-02-15T19:43:37.514Z"
   },
   {
    "duration": 103,
    "start_time": "2023-02-15T19:43:38.895Z"
   },
   {
    "duration": 24,
    "start_time": "2023-02-15T19:43:39.000Z"
   },
   {
    "duration": 21,
    "start_time": "2023-02-15T19:43:39.027Z"
   },
   {
    "duration": 9,
    "start_time": "2023-02-15T19:43:39.050Z"
   },
   {
    "duration": 19,
    "start_time": "2023-02-15T19:43:39.062Z"
   },
   {
    "duration": 20,
    "start_time": "2023-02-15T19:43:39.083Z"
   },
   {
    "duration": 32,
    "start_time": "2023-02-15T19:43:39.106Z"
   },
   {
    "duration": 6,
    "start_time": "2023-02-15T19:43:39.141Z"
   },
   {
    "duration": 10,
    "start_time": "2023-02-15T19:43:39.150Z"
   },
   {
    "duration": 16,
    "start_time": "2023-02-15T19:43:39.161Z"
   },
   {
    "duration": 22,
    "start_time": "2023-02-15T19:43:39.179Z"
   },
   {
    "duration": 49,
    "start_time": "2023-02-15T19:43:39.203Z"
   },
   {
    "duration": 22,
    "start_time": "2023-02-15T19:43:39.254Z"
   },
   {
    "duration": 6,
    "start_time": "2023-02-15T19:43:39.279Z"
   },
   {
    "duration": 18,
    "start_time": "2023-02-15T19:43:39.287Z"
   },
   {
    "duration": 256,
    "start_time": "2023-02-15T19:43:39.307Z"
   },
   {
    "duration": 18,
    "start_time": "2023-02-15T19:43:39.565Z"
   },
   {
    "duration": 213,
    "start_time": "2023-02-15T19:43:39.585Z"
   },
   {
    "duration": 203,
    "start_time": "2023-02-15T19:43:39.800Z"
   },
   {
    "duration": 210,
    "start_time": "2023-02-15T19:43:40.005Z"
   },
   {
    "duration": 214,
    "start_time": "2023-02-15T19:43:40.216Z"
   },
   {
    "duration": 233,
    "start_time": "2023-02-15T19:43:40.432Z"
   },
   {
    "duration": 207,
    "start_time": "2023-02-15T19:43:40.667Z"
   },
   {
    "duration": 222,
    "start_time": "2023-02-15T19:43:40.876Z"
   },
   {
    "duration": 77,
    "start_time": "2023-02-15T19:43:41.100Z"
   },
   {
    "duration": 7,
    "start_time": "2023-02-15T19:43:41.179Z"
   },
   {
    "duration": 28,
    "start_time": "2023-02-15T19:43:41.191Z"
   },
   {
    "duration": 35,
    "start_time": "2023-02-15T19:43:41.236Z"
   },
   {
    "duration": 283,
    "start_time": "2023-02-15T19:43:41.273Z"
   },
   {
    "duration": 7,
    "start_time": "2023-02-15T19:43:41.558Z"
   },
   {
    "duration": 8,
    "start_time": "2023-02-15T19:43:41.567Z"
   },
   {
    "duration": 340,
    "start_time": "2023-02-15T19:43:41.577Z"
   },
   {
    "duration": 16,
    "start_time": "2023-02-15T19:43:41.920Z"
   },
   {
    "duration": 214,
    "start_time": "2023-02-15T19:43:41.938Z"
   },
   {
    "duration": 7,
    "start_time": "2023-02-15T19:43:42.154Z"
   },
   {
    "duration": 11,
    "start_time": "2023-02-15T19:43:42.163Z"
   },
   {
    "duration": 150,
    "start_time": "2023-02-15T19:43:42.176Z"
   },
   {
    "duration": 14,
    "start_time": "2023-02-15T19:43:42.329Z"
   },
   {
    "duration": 192,
    "start_time": "2023-02-15T19:43:42.345Z"
   },
   {
    "duration": 22,
    "start_time": "2023-02-15T19:43:42.540Z"
   },
   {
    "duration": 22,
    "start_time": "2023-02-15T19:43:42.564Z"
   },
   {
    "duration": 49,
    "start_time": "2023-02-15T19:43:42.589Z"
   },
   {
    "duration": 24,
    "start_time": "2023-02-15T19:43:42.641Z"
   },
   {
    "duration": 29,
    "start_time": "2023-02-15T19:43:42.667Z"
   },
   {
    "duration": 53,
    "start_time": "2023-02-15T19:43:42.698Z"
   },
   {
    "duration": 31,
    "start_time": "2023-02-15T19:43:42.753Z"
   },
   {
    "duration": 178,
    "start_time": "2023-02-15T19:43:42.786Z"
   },
   {
    "duration": 178,
    "start_time": "2023-02-15T19:43:42.966Z"
   },
   {
    "duration": 189,
    "start_time": "2023-02-15T19:43:43.146Z"
   },
   {
    "duration": 13,
    "start_time": "2023-02-15T19:43:43.337Z"
   },
   {
    "duration": 30,
    "start_time": "2023-02-15T19:43:43.352Z"
   },
   {
    "duration": 1183,
    "start_time": "2023-02-15T19:45:09.422Z"
   },
   {
    "duration": 89,
    "start_time": "2023-02-15T19:45:10.607Z"
   },
   {
    "duration": 24,
    "start_time": "2023-02-15T19:45:10.698Z"
   },
   {
    "duration": 44,
    "start_time": "2023-02-15T19:45:10.725Z"
   },
   {
    "duration": 39,
    "start_time": "2023-02-15T19:45:10.771Z"
   },
   {
    "duration": 25,
    "start_time": "2023-02-15T19:45:10.813Z"
   },
   {
    "duration": 32,
    "start_time": "2023-02-15T19:45:10.841Z"
   },
   {
    "duration": 27,
    "start_time": "2023-02-15T19:45:10.875Z"
   },
   {
    "duration": 31,
    "start_time": "2023-02-15T19:45:10.904Z"
   },
   {
    "duration": 19,
    "start_time": "2023-02-15T19:45:10.938Z"
   },
   {
    "duration": 35,
    "start_time": "2023-02-15T19:45:10.959Z"
   },
   {
    "duration": 32,
    "start_time": "2023-02-15T19:45:10.995Z"
   },
   {
    "duration": 41,
    "start_time": "2023-02-15T19:45:11.029Z"
   },
   {
    "duration": 20,
    "start_time": "2023-02-15T19:45:11.072Z"
   },
   {
    "duration": 15,
    "start_time": "2023-02-15T19:45:11.094Z"
   },
   {
    "duration": 16,
    "start_time": "2023-02-15T19:45:11.111Z"
   },
   {
    "duration": 199,
    "start_time": "2023-02-15T19:45:11.130Z"
   },
   {
    "duration": 22,
    "start_time": "2023-02-15T19:45:11.337Z"
   },
   {
    "duration": 232,
    "start_time": "2023-02-15T19:45:11.362Z"
   },
   {
    "duration": 199,
    "start_time": "2023-02-15T19:45:11.596Z"
   },
   {
    "duration": 221,
    "start_time": "2023-02-15T19:45:11.796Z"
   },
   {
    "duration": 245,
    "start_time": "2023-02-15T19:45:12.019Z"
   },
   {
    "duration": 197,
    "start_time": "2023-02-15T19:45:12.265Z"
   },
   {
    "duration": 207,
    "start_time": "2023-02-15T19:45:12.465Z"
   },
   {
    "duration": 192,
    "start_time": "2023-02-15T19:45:12.674Z"
   },
   {
    "duration": 47,
    "start_time": "2023-02-15T19:45:12.868Z"
   },
   {
    "duration": 23,
    "start_time": "2023-02-15T19:45:12.917Z"
   },
   {
    "duration": 59,
    "start_time": "2023-02-15T19:45:12.945Z"
   },
   {
    "duration": 47,
    "start_time": "2023-02-15T19:45:13.006Z"
   },
   {
    "duration": 253,
    "start_time": "2023-02-15T19:45:13.055Z"
   },
   {
    "duration": 9,
    "start_time": "2023-02-15T19:45:13.313Z"
   },
   {
    "duration": 52,
    "start_time": "2023-02-15T19:45:13.324Z"
   },
   {
    "duration": 354,
    "start_time": "2023-02-15T19:45:13.379Z"
   },
   {
    "duration": 6,
    "start_time": "2023-02-15T19:45:13.737Z"
   },
   {
    "duration": 161,
    "start_time": "2023-02-15T19:45:13.745Z"
   },
   {
    "duration": 7,
    "start_time": "2023-02-15T19:45:13.907Z"
   },
   {
    "duration": 39,
    "start_time": "2023-02-15T19:45:13.916Z"
   },
   {
    "duration": 157,
    "start_time": "2023-02-15T19:45:13.958Z"
   },
   {
    "duration": 5,
    "start_time": "2023-02-15T19:45:14.117Z"
   },
   {
    "duration": 169,
    "start_time": "2023-02-15T19:45:14.124Z"
   },
   {
    "duration": 26,
    "start_time": "2023-02-15T19:45:14.296Z"
   },
   {
    "duration": 30,
    "start_time": "2023-02-15T19:45:14.324Z"
   },
   {
    "duration": 26,
    "start_time": "2023-02-15T19:45:14.356Z"
   },
   {
    "duration": 69,
    "start_time": "2023-02-15T19:45:14.384Z"
   },
   {
    "duration": 44,
    "start_time": "2023-02-15T19:45:14.454Z"
   },
   {
    "duration": 51,
    "start_time": "2023-02-15T19:45:14.501Z"
   },
   {
    "duration": 59,
    "start_time": "2023-02-15T19:45:14.554Z"
   },
   {
    "duration": 196,
    "start_time": "2023-02-15T19:45:14.615Z"
   },
   {
    "duration": 212,
    "start_time": "2023-02-15T19:45:14.813Z"
   },
   {
    "duration": 163,
    "start_time": "2023-02-15T19:45:15.027Z"
   },
   {
    "duration": 10,
    "start_time": "2023-02-15T19:45:15.192Z"
   },
   {
    "duration": 28,
    "start_time": "2023-02-15T19:45:15.204Z"
   },
   {
    "duration": 94,
    "start_time": "2023-02-15T20:16:15.102Z"
   },
   {
    "duration": 1258,
    "start_time": "2023-02-16T10:53:58.964Z"
   },
   {
    "duration": 250,
    "start_time": "2023-02-16T10:54:00.224Z"
   },
   {
    "duration": 21,
    "start_time": "2023-02-16T10:54:00.475Z"
   },
   {
    "duration": 23,
    "start_time": "2023-02-16T10:54:00.498Z"
   },
   {
    "duration": 22,
    "start_time": "2023-02-16T10:54:00.523Z"
   },
   {
    "duration": 37,
    "start_time": "2023-02-16T10:54:00.548Z"
   },
   {
    "duration": 34,
    "start_time": "2023-02-16T10:54:00.588Z"
   },
   {
    "duration": 25,
    "start_time": "2023-02-16T10:54:00.624Z"
   },
   {
    "duration": 24,
    "start_time": "2023-02-16T10:54:00.651Z"
   },
   {
    "duration": 44,
    "start_time": "2023-02-16T10:54:00.678Z"
   },
   {
    "duration": 32,
    "start_time": "2023-02-16T10:54:00.725Z"
   },
   {
    "duration": 57,
    "start_time": "2023-02-16T10:54:00.759Z"
   },
   {
    "duration": 42,
    "start_time": "2023-02-16T10:54:00.817Z"
   },
   {
    "duration": 29,
    "start_time": "2023-02-16T10:54:00.861Z"
   },
   {
    "duration": 22,
    "start_time": "2023-02-16T10:54:00.892Z"
   },
   {
    "duration": 20,
    "start_time": "2023-02-16T10:54:00.916Z"
   },
   {
    "duration": 180,
    "start_time": "2023-02-16T10:54:00.938Z"
   },
   {
    "duration": 16,
    "start_time": "2023-02-16T10:54:01.120Z"
   },
   {
    "duration": 206,
    "start_time": "2023-02-16T10:54:01.137Z"
   },
   {
    "duration": 192,
    "start_time": "2023-02-16T10:54:01.344Z"
   },
   {
    "duration": 180,
    "start_time": "2023-02-16T10:54:01.538Z"
   },
   {
    "duration": 177,
    "start_time": "2023-02-16T10:54:01.720Z"
   },
   {
    "duration": 198,
    "start_time": "2023-02-16T10:54:01.898Z"
   },
   {
    "duration": 184,
    "start_time": "2023-02-16T10:54:02.098Z"
   },
   {
    "duration": 143,
    "start_time": "2023-02-16T10:54:02.283Z"
   },
   {
    "duration": 55,
    "start_time": "2023-02-16T10:54:02.427Z"
   },
   {
    "duration": 6,
    "start_time": "2023-02-16T10:54:02.484Z"
   },
   {
    "duration": 24,
    "start_time": "2023-02-16T10:54:02.493Z"
   },
   {
    "duration": 22,
    "start_time": "2023-02-16T10:54:02.518Z"
   },
   {
    "duration": 241,
    "start_time": "2023-02-16T10:54:02.541Z"
   },
   {
    "duration": 6,
    "start_time": "2023-02-16T10:54:02.783Z"
   },
   {
    "duration": 14,
    "start_time": "2023-02-16T10:54:02.791Z"
   },
   {
    "duration": 244,
    "start_time": "2023-02-16T10:54:02.807Z"
   },
   {
    "duration": 14,
    "start_time": "2023-02-16T10:54:03.053Z"
   },
   {
    "duration": 163,
    "start_time": "2023-02-16T10:54:03.069Z"
   },
   {
    "duration": 5,
    "start_time": "2023-02-16T10:54:03.235Z"
   },
   {
    "duration": 10,
    "start_time": "2023-02-16T10:54:03.242Z"
   },
   {
    "duration": 135,
    "start_time": "2023-02-16T10:54:03.267Z"
   },
   {
    "duration": 6,
    "start_time": "2023-02-16T10:54:03.404Z"
   },
   {
    "duration": 157,
    "start_time": "2023-02-16T10:54:03.412Z"
   },
   {
    "duration": 23,
    "start_time": "2023-02-16T10:54:03.571Z"
   },
   {
    "duration": 18,
    "start_time": "2023-02-16T10:54:03.596Z"
   },
   {
    "duration": 17,
    "start_time": "2023-02-16T10:54:03.616Z"
   },
   {
    "duration": 16,
    "start_time": "2023-02-16T10:54:03.667Z"
   },
   {
    "duration": 16,
    "start_time": "2023-02-16T10:54:03.685Z"
   },
   {
    "duration": 16,
    "start_time": "2023-02-16T10:54:03.703Z"
   },
   {
    "duration": 60,
    "start_time": "2023-02-16T10:54:03.721Z"
   },
   {
    "duration": 158,
    "start_time": "2023-02-16T10:54:03.782Z"
   },
   {
    "duration": 146,
    "start_time": "2023-02-16T10:54:03.942Z"
   },
   {
    "duration": 146,
    "start_time": "2023-02-16T10:54:04.090Z"
   },
   {
    "duration": 8,
    "start_time": "2023-02-16T10:54:04.238Z"
   },
   {
    "duration": 10,
    "start_time": "2023-02-16T10:54:04.248Z"
   },
   {
    "duration": 1125,
    "start_time": "2023-02-16T10:55:14.983Z"
   },
   {
    "duration": 100,
    "start_time": "2023-02-16T10:55:16.110Z"
   },
   {
    "duration": 20,
    "start_time": "2023-02-16T10:55:16.212Z"
   },
   {
    "duration": 13,
    "start_time": "2023-02-16T10:55:16.234Z"
   },
   {
    "duration": 7,
    "start_time": "2023-02-16T10:55:16.248Z"
   },
   {
    "duration": 21,
    "start_time": "2023-02-16T10:55:16.257Z"
   },
   {
    "duration": 14,
    "start_time": "2023-02-16T10:55:16.279Z"
   },
   {
    "duration": 8,
    "start_time": "2023-02-16T10:55:16.294Z"
   },
   {
    "duration": 8,
    "start_time": "2023-02-16T10:55:16.303Z"
   },
   {
    "duration": 9,
    "start_time": "2023-02-16T10:55:16.314Z"
   },
   {
    "duration": 9,
    "start_time": "2023-02-16T10:55:16.324Z"
   },
   {
    "duration": 14,
    "start_time": "2023-02-16T10:55:16.334Z"
   },
   {
    "duration": 27,
    "start_time": "2023-02-16T10:55:16.349Z"
   },
   {
    "duration": 15,
    "start_time": "2023-02-16T10:55:16.378Z"
   },
   {
    "duration": 5,
    "start_time": "2023-02-16T10:55:16.394Z"
   },
   {
    "duration": 10,
    "start_time": "2023-02-16T10:55:16.400Z"
   },
   {
    "duration": 172,
    "start_time": "2023-02-16T10:55:16.412Z"
   },
   {
    "duration": 18,
    "start_time": "2023-02-16T10:55:16.586Z"
   },
   {
    "duration": 234,
    "start_time": "2023-02-16T10:55:16.606Z"
   },
   {
    "duration": 188,
    "start_time": "2023-02-16T10:55:16.842Z"
   },
   {
    "duration": 207,
    "start_time": "2023-02-16T10:55:17.032Z"
   },
   {
    "duration": 200,
    "start_time": "2023-02-16T10:55:17.241Z"
   },
   {
    "duration": 179,
    "start_time": "2023-02-16T10:55:17.442Z"
   },
   {
    "duration": 192,
    "start_time": "2023-02-16T10:55:17.623Z"
   },
   {
    "duration": 138,
    "start_time": "2023-02-16T10:55:17.816Z"
   },
   {
    "duration": 42,
    "start_time": "2023-02-16T10:55:17.956Z"
   },
   {
    "duration": 5,
    "start_time": "2023-02-16T10:55:18.000Z"
   },
   {
    "duration": 19,
    "start_time": "2023-02-16T10:55:18.008Z"
   },
   {
    "duration": 38,
    "start_time": "2023-02-16T10:55:18.030Z"
   },
   {
    "duration": 206,
    "start_time": "2023-02-16T10:55:18.069Z"
   },
   {
    "duration": 6,
    "start_time": "2023-02-16T10:55:18.276Z"
   },
   {
    "duration": 14,
    "start_time": "2023-02-16T10:55:18.283Z"
   },
   {
    "duration": 223,
    "start_time": "2023-02-16T10:55:18.299Z"
   },
   {
    "duration": 5,
    "start_time": "2023-02-16T10:55:18.523Z"
   },
   {
    "duration": 145,
    "start_time": "2023-02-16T10:55:18.529Z"
   },
   {
    "duration": 6,
    "start_time": "2023-02-16T10:55:18.676Z"
   },
   {
    "duration": 43,
    "start_time": "2023-02-16T10:55:18.684Z"
   },
   {
    "duration": 162,
    "start_time": "2023-02-16T10:55:18.728Z"
   },
   {
    "duration": 5,
    "start_time": "2023-02-16T10:55:18.892Z"
   },
   {
    "duration": 153,
    "start_time": "2023-02-16T10:55:18.898Z"
   },
   {
    "duration": 32,
    "start_time": "2023-02-16T10:55:19.052Z"
   },
   {
    "duration": 20,
    "start_time": "2023-02-16T10:55:19.085Z"
   },
   {
    "duration": 14,
    "start_time": "2023-02-16T10:55:19.107Z"
   },
   {
    "duration": 18,
    "start_time": "2023-02-16T10:55:19.123Z"
   },
   {
    "duration": 36,
    "start_time": "2023-02-16T10:55:19.143Z"
   },
   {
    "duration": 21,
    "start_time": "2023-02-16T10:55:19.181Z"
   },
   {
    "duration": 38,
    "start_time": "2023-02-16T10:55:19.204Z"
   },
   {
    "duration": 132,
    "start_time": "2023-02-16T10:55:19.243Z"
   },
   {
    "duration": 131,
    "start_time": "2023-02-16T10:55:19.377Z"
   },
   {
    "duration": 151,
    "start_time": "2023-02-16T10:55:19.510Z"
   },
   {
    "duration": 12,
    "start_time": "2023-02-16T10:55:19.666Z"
   },
   {
    "duration": 22,
    "start_time": "2023-02-16T10:55:19.680Z"
   },
   {
    "duration": 1071,
    "start_time": "2023-02-16T11:02:33.326Z"
   },
   {
    "duration": 97,
    "start_time": "2023-02-16T11:02:34.399Z"
   },
   {
    "duration": 19,
    "start_time": "2023-02-16T11:02:34.498Z"
   },
   {
    "duration": 15,
    "start_time": "2023-02-16T11:02:34.519Z"
   },
   {
    "duration": 7,
    "start_time": "2023-02-16T11:02:34.537Z"
   },
   {
    "duration": 29,
    "start_time": "2023-02-16T11:02:34.546Z"
   },
   {
    "duration": 14,
    "start_time": "2023-02-16T11:02:34.577Z"
   },
   {
    "duration": 5,
    "start_time": "2023-02-16T11:02:34.593Z"
   },
   {
    "duration": 6,
    "start_time": "2023-02-16T11:02:34.599Z"
   },
   {
    "duration": 10,
    "start_time": "2023-02-16T11:02:34.607Z"
   },
   {
    "duration": 11,
    "start_time": "2023-02-16T11:02:34.619Z"
   },
   {
    "duration": 18,
    "start_time": "2023-02-16T11:02:34.631Z"
   },
   {
    "duration": 18,
    "start_time": "2023-02-16T11:02:34.667Z"
   },
   {
    "duration": 17,
    "start_time": "2023-02-16T11:02:34.688Z"
   },
   {
    "duration": 4,
    "start_time": "2023-02-16T11:02:34.707Z"
   },
   {
    "duration": 9,
    "start_time": "2023-02-16T11:02:34.713Z"
   },
   {
    "duration": 201,
    "start_time": "2023-02-16T11:02:34.723Z"
   },
   {
    "duration": 19,
    "start_time": "2023-02-16T11:02:34.926Z"
   },
   {
    "duration": 234,
    "start_time": "2023-02-16T11:02:34.947Z"
   },
   {
    "duration": 188,
    "start_time": "2023-02-16T11:02:35.182Z"
   },
   {
    "duration": 185,
    "start_time": "2023-02-16T11:02:35.372Z"
   },
   {
    "duration": 191,
    "start_time": "2023-02-16T11:02:35.559Z"
   },
   {
    "duration": 175,
    "start_time": "2023-02-16T11:02:35.752Z"
   },
   {
    "duration": 174,
    "start_time": "2023-02-16T11:02:35.928Z"
   },
   {
    "duration": 146,
    "start_time": "2023-02-16T11:02:36.104Z"
   },
   {
    "duration": 41,
    "start_time": "2023-02-16T11:02:36.251Z"
   },
   {
    "duration": 4,
    "start_time": "2023-02-16T11:02:36.294Z"
   },
   {
    "duration": 19,
    "start_time": "2023-02-16T11:02:36.299Z"
   },
   {
    "duration": 16,
    "start_time": "2023-02-16T11:02:36.319Z"
   },
   {
    "duration": 188,
    "start_time": "2023-02-16T11:02:36.336Z"
   },
   {
    "duration": 6,
    "start_time": "2023-02-16T11:02:36.526Z"
   },
   {
    "duration": 12,
    "start_time": "2023-02-16T11:02:36.534Z"
   },
   {
    "duration": 215,
    "start_time": "2023-02-16T11:02:36.547Z"
   },
   {
    "duration": 7,
    "start_time": "2023-02-16T11:02:36.767Z"
   },
   {
    "duration": 162,
    "start_time": "2023-02-16T11:02:36.776Z"
   },
   {
    "duration": 6,
    "start_time": "2023-02-16T11:02:36.940Z"
   },
   {
    "duration": 19,
    "start_time": "2023-02-16T11:02:36.948Z"
   },
   {
    "duration": 121,
    "start_time": "2023-02-16T11:02:36.968Z"
   },
   {
    "duration": 5,
    "start_time": "2023-02-16T11:02:37.091Z"
   },
   {
    "duration": 128,
    "start_time": "2023-02-16T11:02:37.097Z"
   },
   {
    "duration": 20,
    "start_time": "2023-02-16T11:02:37.228Z"
   },
   {
    "duration": 26,
    "start_time": "2023-02-16T11:02:37.249Z"
   },
   {
    "duration": 31,
    "start_time": "2023-02-16T11:02:37.276Z"
   },
   {
    "duration": 16,
    "start_time": "2023-02-16T11:02:37.308Z"
   },
   {
    "duration": 29,
    "start_time": "2023-02-16T11:02:37.326Z"
   },
   {
    "duration": 28,
    "start_time": "2023-02-16T11:02:37.357Z"
   },
   {
    "duration": 21,
    "start_time": "2023-02-16T11:02:37.387Z"
   },
   {
    "duration": 151,
    "start_time": "2023-02-16T11:02:37.410Z"
   },
   {
    "duration": 126,
    "start_time": "2023-02-16T11:02:37.563Z"
   },
   {
    "duration": 134,
    "start_time": "2023-02-16T11:02:37.691Z"
   },
   {
    "duration": 10,
    "start_time": "2023-02-16T11:02:37.827Z"
   },
   {
    "duration": 25,
    "start_time": "2023-02-16T11:02:37.839Z"
   },
   {
    "duration": 293,
    "start_time": "2023-02-16T11:30:02.600Z"
   },
   {
    "duration": 1162,
    "start_time": "2023-02-16T11:30:16.361Z"
   },
   {
    "duration": 89,
    "start_time": "2023-02-16T11:30:17.525Z"
   },
   {
    "duration": 21,
    "start_time": "2023-02-16T11:30:17.616Z"
   },
   {
    "duration": 13,
    "start_time": "2023-02-16T11:30:17.639Z"
   },
   {
    "duration": 141,
    "start_time": "2023-02-16T11:30:17.653Z"
   },
   {
    "duration": 0,
    "start_time": "2023-02-16T11:30:17.797Z"
   },
   {
    "duration": 0,
    "start_time": "2023-02-16T11:30:17.798Z"
   },
   {
    "duration": 0,
    "start_time": "2023-02-16T11:30:17.799Z"
   },
   {
    "duration": 0,
    "start_time": "2023-02-16T11:30:17.800Z"
   },
   {
    "duration": 0,
    "start_time": "2023-02-16T11:30:17.801Z"
   },
   {
    "duration": 0,
    "start_time": "2023-02-16T11:30:17.802Z"
   },
   {
    "duration": 0,
    "start_time": "2023-02-16T11:30:17.803Z"
   },
   {
    "duration": 0,
    "start_time": "2023-02-16T11:30:17.804Z"
   },
   {
    "duration": 0,
    "start_time": "2023-02-16T11:30:17.805Z"
   },
   {
    "duration": 0,
    "start_time": "2023-02-16T11:30:17.806Z"
   },
   {
    "duration": 0,
    "start_time": "2023-02-16T11:30:17.807Z"
   },
   {
    "duration": 0,
    "start_time": "2023-02-16T11:30:17.808Z"
   },
   {
    "duration": 0,
    "start_time": "2023-02-16T11:30:17.809Z"
   },
   {
    "duration": 0,
    "start_time": "2023-02-16T11:30:17.810Z"
   },
   {
    "duration": 0,
    "start_time": "2023-02-16T11:30:17.811Z"
   },
   {
    "duration": 0,
    "start_time": "2023-02-16T11:30:17.812Z"
   },
   {
    "duration": 0,
    "start_time": "2023-02-16T11:30:17.813Z"
   },
   {
    "duration": 0,
    "start_time": "2023-02-16T11:30:17.814Z"
   },
   {
    "duration": 0,
    "start_time": "2023-02-16T11:30:17.815Z"
   },
   {
    "duration": 0,
    "start_time": "2023-02-16T11:30:17.815Z"
   },
   {
    "duration": 0,
    "start_time": "2023-02-16T11:30:17.816Z"
   },
   {
    "duration": 0,
    "start_time": "2023-02-16T11:30:17.818Z"
   },
   {
    "duration": 0,
    "start_time": "2023-02-16T11:30:17.818Z"
   },
   {
    "duration": 0,
    "start_time": "2023-02-16T11:30:17.819Z"
   },
   {
    "duration": 0,
    "start_time": "2023-02-16T11:30:17.820Z"
   },
   {
    "duration": 0,
    "start_time": "2023-02-16T11:30:17.821Z"
   },
   {
    "duration": 0,
    "start_time": "2023-02-16T11:30:17.822Z"
   },
   {
    "duration": 0,
    "start_time": "2023-02-16T11:30:17.823Z"
   },
   {
    "duration": 0,
    "start_time": "2023-02-16T11:30:17.824Z"
   },
   {
    "duration": 0,
    "start_time": "2023-02-16T11:30:17.825Z"
   },
   {
    "duration": 0,
    "start_time": "2023-02-16T11:30:17.826Z"
   },
   {
    "duration": 0,
    "start_time": "2023-02-16T11:30:17.826Z"
   },
   {
    "duration": 0,
    "start_time": "2023-02-16T11:30:17.827Z"
   },
   {
    "duration": 0,
    "start_time": "2023-02-16T11:30:17.828Z"
   },
   {
    "duration": 0,
    "start_time": "2023-02-16T11:30:17.829Z"
   },
   {
    "duration": 0,
    "start_time": "2023-02-16T11:30:17.830Z"
   },
   {
    "duration": 0,
    "start_time": "2023-02-16T11:30:17.830Z"
   },
   {
    "duration": 0,
    "start_time": "2023-02-16T11:30:17.831Z"
   },
   {
    "duration": 0,
    "start_time": "2023-02-16T11:30:17.832Z"
   },
   {
    "duration": 0,
    "start_time": "2023-02-16T11:30:17.833Z"
   },
   {
    "duration": 0,
    "start_time": "2023-02-16T11:30:17.834Z"
   },
   {
    "duration": 0,
    "start_time": "2023-02-16T11:30:17.867Z"
   },
   {
    "duration": 0,
    "start_time": "2023-02-16T11:30:17.868Z"
   },
   {
    "duration": 0,
    "start_time": "2023-02-16T11:30:17.869Z"
   },
   {
    "duration": 0,
    "start_time": "2023-02-16T11:30:17.870Z"
   },
   {
    "duration": 0,
    "start_time": "2023-02-16T11:30:17.871Z"
   },
   {
    "duration": 0,
    "start_time": "2023-02-16T11:30:17.872Z"
   },
   {
    "duration": 4,
    "start_time": "2023-02-16T11:30:45.841Z"
   },
   {
    "duration": 5,
    "start_time": "2023-02-16T11:31:08.736Z"
   },
   {
    "duration": 5,
    "start_time": "2023-02-16T11:31:21.427Z"
   },
   {
    "duration": 1037,
    "start_time": "2023-02-16T11:31:29.085Z"
   },
   {
    "duration": 93,
    "start_time": "2023-02-16T11:31:30.124Z"
   },
   {
    "duration": 21,
    "start_time": "2023-02-16T11:31:30.219Z"
   },
   {
    "duration": 18,
    "start_time": "2023-02-16T11:31:30.242Z"
   },
   {
    "duration": 9,
    "start_time": "2023-02-16T11:31:30.261Z"
   },
   {
    "duration": 17,
    "start_time": "2023-02-16T11:31:30.272Z"
   },
   {
    "duration": 32,
    "start_time": "2023-02-16T11:31:30.291Z"
   },
   {
    "duration": 11,
    "start_time": "2023-02-16T11:31:30.325Z"
   },
   {
    "duration": 28,
    "start_time": "2023-02-16T11:31:30.337Z"
   },
   {
    "duration": 21,
    "start_time": "2023-02-16T11:31:30.367Z"
   },
   {
    "duration": 35,
    "start_time": "2023-02-16T11:31:30.390Z"
   },
   {
    "duration": 39,
    "start_time": "2023-02-16T11:31:30.427Z"
   },
   {
    "duration": 43,
    "start_time": "2023-02-16T11:31:30.468Z"
   },
   {
    "duration": 31,
    "start_time": "2023-02-16T11:31:30.513Z"
   },
   {
    "duration": 28,
    "start_time": "2023-02-16T11:31:30.545Z"
   },
   {
    "duration": 25,
    "start_time": "2023-02-16T11:31:30.575Z"
   },
   {
    "duration": 171,
    "start_time": "2023-02-16T11:31:30.602Z"
   },
   {
    "duration": 14,
    "start_time": "2023-02-16T11:31:30.775Z"
   },
   {
    "duration": 205,
    "start_time": "2023-02-16T11:31:30.791Z"
   },
   {
    "duration": 205,
    "start_time": "2023-02-16T11:31:30.998Z"
   },
   {
    "duration": 193,
    "start_time": "2023-02-16T11:31:31.205Z"
   },
   {
    "duration": 193,
    "start_time": "2023-02-16T11:31:31.400Z"
   },
   {
    "duration": 180,
    "start_time": "2023-02-16T11:31:31.594Z"
   },
   {
    "duration": 192,
    "start_time": "2023-02-16T11:31:31.775Z"
   },
   {
    "duration": 154,
    "start_time": "2023-02-16T11:31:31.969Z"
   },
   {
    "duration": 58,
    "start_time": "2023-02-16T11:31:32.125Z"
   },
   {
    "duration": 7,
    "start_time": "2023-02-16T11:31:32.185Z"
   },
   {
    "duration": 26,
    "start_time": "2023-02-16T11:31:32.196Z"
   },
   {
    "duration": 29,
    "start_time": "2023-02-16T11:31:32.223Z"
   },
   {
    "duration": 196,
    "start_time": "2023-02-16T11:31:32.254Z"
   },
   {
    "duration": 5,
    "start_time": "2023-02-16T11:31:32.452Z"
   },
   {
    "duration": 19,
    "start_time": "2023-02-16T11:31:32.468Z"
   },
   {
    "duration": 256,
    "start_time": "2023-02-16T11:31:32.489Z"
   },
   {
    "duration": 6,
    "start_time": "2023-02-16T11:31:32.747Z"
   },
   {
    "duration": 146,
    "start_time": "2023-02-16T11:31:32.767Z"
   },
   {
    "duration": 5,
    "start_time": "2023-02-16T11:31:32.914Z"
   },
   {
    "duration": 14,
    "start_time": "2023-02-16T11:31:32.921Z"
   },
   {
    "duration": 147,
    "start_time": "2023-02-16T11:31:32.937Z"
   },
   {
    "duration": 5,
    "start_time": "2023-02-16T11:31:33.085Z"
   },
   {
    "duration": 130,
    "start_time": "2023-02-16T11:31:33.091Z"
   },
   {
    "duration": 18,
    "start_time": "2023-02-16T11:31:33.222Z"
   },
   {
    "duration": 13,
    "start_time": "2023-02-16T11:31:33.241Z"
   },
   {
    "duration": 15,
    "start_time": "2023-02-16T11:31:33.267Z"
   },
   {
    "duration": 13,
    "start_time": "2023-02-16T11:31:33.284Z"
   },
   {
    "duration": 24,
    "start_time": "2023-02-16T11:31:33.299Z"
   },
   {
    "duration": 14,
    "start_time": "2023-02-16T11:31:33.324Z"
   },
   {
    "duration": 40,
    "start_time": "2023-02-16T11:31:33.339Z"
   },
   {
    "duration": 154,
    "start_time": "2023-02-16T11:31:33.380Z"
   },
   {
    "duration": 136,
    "start_time": "2023-02-16T11:31:33.535Z"
   },
   {
    "duration": 140,
    "start_time": "2023-02-16T11:31:33.673Z"
   },
   {
    "duration": 8,
    "start_time": "2023-02-16T11:31:33.815Z"
   },
   {
    "duration": 22,
    "start_time": "2023-02-16T11:31:33.824Z"
   },
   {
    "duration": 5,
    "start_time": "2023-02-16T11:33:33.956Z"
   },
   {
    "duration": 3,
    "start_time": "2023-02-16T11:35:57.179Z"
   },
   {
    "duration": 11,
    "start_time": "2023-02-16T11:36:57.435Z"
   },
   {
    "duration": 20,
    "start_time": "2023-02-16T11:37:33.374Z"
   },
   {
    "duration": 33,
    "start_time": "2023-02-16T11:41:11.156Z"
   },
   {
    "duration": 22,
    "start_time": "2023-02-16T11:41:24.461Z"
   },
   {
    "duration": 1039,
    "start_time": "2023-02-16T11:45:23.686Z"
   },
   {
    "duration": 106,
    "start_time": "2023-02-16T11:45:24.728Z"
   },
   {
    "duration": 31,
    "start_time": "2023-02-16T11:45:24.836Z"
   },
   {
    "duration": 16,
    "start_time": "2023-02-16T11:45:24.871Z"
   },
   {
    "duration": 16,
    "start_time": "2023-02-16T11:45:24.890Z"
   },
   {
    "duration": 35,
    "start_time": "2023-02-16T11:45:24.908Z"
   },
   {
    "duration": 14,
    "start_time": "2023-02-16T11:45:24.945Z"
   },
   {
    "duration": 25,
    "start_time": "2023-02-16T11:45:24.961Z"
   },
   {
    "duration": 10,
    "start_time": "2023-02-16T11:45:24.988Z"
   },
   {
    "duration": 21,
    "start_time": "2023-02-16T11:45:25.001Z"
   },
   {
    "duration": 24,
    "start_time": "2023-02-16T11:45:25.024Z"
   },
   {
    "duration": 31,
    "start_time": "2023-02-16T11:45:25.050Z"
   },
   {
    "duration": 19,
    "start_time": "2023-02-16T11:45:25.083Z"
   },
   {
    "duration": 36,
    "start_time": "2023-02-16T11:45:25.105Z"
   },
   {
    "duration": 24,
    "start_time": "2023-02-16T11:45:25.143Z"
   },
   {
    "duration": 8,
    "start_time": "2023-02-16T11:45:25.169Z"
   },
   {
    "duration": 177,
    "start_time": "2023-02-16T11:45:25.179Z"
   },
   {
    "duration": 20,
    "start_time": "2023-02-16T11:45:25.357Z"
   },
   {
    "duration": 191,
    "start_time": "2023-02-16T11:45:25.378Z"
   },
   {
    "duration": 189,
    "start_time": "2023-02-16T11:45:25.570Z"
   },
   {
    "duration": 180,
    "start_time": "2023-02-16T11:45:25.761Z"
   },
   {
    "duration": 177,
    "start_time": "2023-02-16T11:45:25.943Z"
   },
   {
    "duration": 189,
    "start_time": "2023-02-16T11:45:26.122Z"
   },
   {
    "duration": 164,
    "start_time": "2023-02-16T11:45:26.313Z"
   },
   {
    "duration": 128,
    "start_time": "2023-02-16T11:45:26.478Z"
   },
   {
    "duration": 39,
    "start_time": "2023-02-16T11:45:26.608Z"
   },
   {
    "duration": 21,
    "start_time": "2023-02-16T11:45:26.648Z"
   },
   {
    "duration": 22,
    "start_time": "2023-02-16T11:45:26.672Z"
   },
   {
    "duration": 19,
    "start_time": "2023-02-16T11:45:26.695Z"
   },
   {
    "duration": 218,
    "start_time": "2023-02-16T11:45:26.716Z"
   },
   {
    "duration": 5,
    "start_time": "2023-02-16T11:45:26.935Z"
   },
   {
    "duration": 8,
    "start_time": "2023-02-16T11:45:26.941Z"
   },
   {
    "duration": 236,
    "start_time": "2023-02-16T11:45:26.951Z"
   },
   {
    "duration": 5,
    "start_time": "2023-02-16T11:45:27.190Z"
   },
   {
    "duration": 154,
    "start_time": "2023-02-16T11:45:27.197Z"
   },
   {
    "duration": 14,
    "start_time": "2023-02-16T11:45:27.353Z"
   },
   {
    "duration": 5,
    "start_time": "2023-02-16T11:45:27.368Z"
   },
   {
    "duration": 130,
    "start_time": "2023-02-16T11:45:27.375Z"
   },
   {
    "duration": 6,
    "start_time": "2023-02-16T11:45:27.507Z"
   },
   {
    "duration": 132,
    "start_time": "2023-02-16T11:45:27.515Z"
   },
   {
    "duration": 25,
    "start_time": "2023-02-16T11:45:27.648Z"
   },
   {
    "duration": 13,
    "start_time": "2023-02-16T11:45:27.675Z"
   },
   {
    "duration": 15,
    "start_time": "2023-02-16T11:45:27.690Z"
   },
   {
    "duration": 15,
    "start_time": "2023-02-16T11:45:27.706Z"
   },
   {
    "duration": 47,
    "start_time": "2023-02-16T11:45:27.723Z"
   },
   {
    "duration": 20,
    "start_time": "2023-02-16T11:45:27.772Z"
   },
   {
    "duration": 14,
    "start_time": "2023-02-16T11:45:27.794Z"
   },
   {
    "duration": 170,
    "start_time": "2023-02-16T11:45:27.810Z"
   },
   {
    "duration": 152,
    "start_time": "2023-02-16T11:45:27.981Z"
   },
   {
    "duration": 159,
    "start_time": "2023-02-16T11:45:28.135Z"
   },
   {
    "duration": 9,
    "start_time": "2023-02-16T11:45:28.296Z"
   },
   {
    "duration": 12,
    "start_time": "2023-02-16T11:45:28.306Z"
   },
   {
    "duration": 69,
    "start_time": "2023-02-16T11:50:08.008Z"
   },
   {
    "duration": 159,
    "start_time": "2023-02-16T11:51:00.807Z"
   },
   {
    "duration": 141,
    "start_time": "2023-02-16T11:51:25.652Z"
   },
   {
    "duration": 137,
    "start_time": "2023-02-16T11:51:46.919Z"
   },
   {
    "duration": 79,
    "start_time": "2023-02-16T11:52:21.673Z"
   },
   {
    "duration": 17,
    "start_time": "2023-02-16T11:55:24.247Z"
   },
   {
    "duration": 17,
    "start_time": "2023-02-16T11:58:09.726Z"
   },
   {
    "duration": 14,
    "start_time": "2023-02-16T11:58:50.908Z"
   },
   {
    "duration": 15,
    "start_time": "2023-02-16T11:59:27.322Z"
   },
   {
    "duration": 1330,
    "start_time": "2023-02-16T16:42:57.009Z"
   },
   {
    "duration": 239,
    "start_time": "2023-02-16T16:42:58.341Z"
   },
   {
    "duration": 21,
    "start_time": "2023-02-16T16:42:58.582Z"
   },
   {
    "duration": 20,
    "start_time": "2023-02-16T16:42:58.605Z"
   },
   {
    "duration": 9,
    "start_time": "2023-02-16T16:42:58.627Z"
   },
   {
    "duration": 25,
    "start_time": "2023-02-16T16:42:58.638Z"
   },
   {
    "duration": 28,
    "start_time": "2023-02-16T16:42:58.665Z"
   },
   {
    "duration": 31,
    "start_time": "2023-02-16T16:42:58.695Z"
   },
   {
    "duration": 16,
    "start_time": "2023-02-16T16:42:58.728Z"
   },
   {
    "duration": 27,
    "start_time": "2023-02-16T16:42:58.747Z"
   },
   {
    "duration": 24,
    "start_time": "2023-02-16T16:42:58.775Z"
   },
   {
    "duration": 42,
    "start_time": "2023-02-16T16:42:58.801Z"
   },
   {
    "duration": 17,
    "start_time": "2023-02-16T16:42:58.844Z"
   },
   {
    "duration": 40,
    "start_time": "2023-02-16T16:42:58.863Z"
   },
   {
    "duration": 5,
    "start_time": "2023-02-16T16:42:58.905Z"
   },
   {
    "duration": 18,
    "start_time": "2023-02-16T16:42:58.912Z"
   },
   {
    "duration": 208,
    "start_time": "2023-02-16T16:42:58.932Z"
   },
   {
    "duration": 17,
    "start_time": "2023-02-16T16:42:59.141Z"
   },
   {
    "duration": 236,
    "start_time": "2023-02-16T16:42:59.160Z"
   },
   {
    "duration": 211,
    "start_time": "2023-02-16T16:42:59.398Z"
   },
   {
    "duration": 191,
    "start_time": "2023-02-16T16:42:59.612Z"
   },
   {
    "duration": 195,
    "start_time": "2023-02-16T16:42:59.805Z"
   },
   {
    "duration": 209,
    "start_time": "2023-02-16T16:43:00.002Z"
   },
   {
    "duration": 226,
    "start_time": "2023-02-16T16:43:00.213Z"
   },
   {
    "duration": 162,
    "start_time": "2023-02-16T16:43:00.441Z"
   },
   {
    "duration": 57,
    "start_time": "2023-02-16T16:43:00.605Z"
   },
   {
    "duration": 7,
    "start_time": "2023-02-16T16:43:00.663Z"
   },
   {
    "duration": 41,
    "start_time": "2023-02-16T16:43:00.673Z"
   },
   {
    "duration": 24,
    "start_time": "2023-02-16T16:43:00.715Z"
   },
   {
    "duration": 208,
    "start_time": "2023-02-16T16:43:00.741Z"
   },
   {
    "duration": 6,
    "start_time": "2023-02-16T16:43:00.951Z"
   },
   {
    "duration": 21,
    "start_time": "2023-02-16T16:43:00.959Z"
   },
   {
    "duration": 254,
    "start_time": "2023-02-16T16:43:00.981Z"
   },
   {
    "duration": 5,
    "start_time": "2023-02-16T16:43:01.237Z"
   },
   {
    "duration": 198,
    "start_time": "2023-02-16T16:43:01.245Z"
   },
   {
    "duration": 7,
    "start_time": "2023-02-16T16:43:01.445Z"
   },
   {
    "duration": 30,
    "start_time": "2023-02-16T16:43:01.454Z"
   },
   {
    "duration": 166,
    "start_time": "2023-02-16T16:43:01.486Z"
   },
   {
    "duration": 7,
    "start_time": "2023-02-16T16:43:01.654Z"
   },
   {
    "duration": 163,
    "start_time": "2023-02-16T16:43:01.662Z"
   },
   {
    "duration": 26,
    "start_time": "2023-02-16T16:43:01.827Z"
   },
   {
    "duration": 20,
    "start_time": "2023-02-16T16:43:01.855Z"
   },
   {
    "duration": 45,
    "start_time": "2023-02-16T16:43:01.877Z"
   },
   {
    "duration": 19,
    "start_time": "2023-02-16T16:43:01.923Z"
   },
   {
    "duration": 17,
    "start_time": "2023-02-16T16:43:01.943Z"
   },
   {
    "duration": 18,
    "start_time": "2023-02-16T16:43:01.962Z"
   },
   {
    "duration": 56,
    "start_time": "2023-02-16T16:43:01.983Z"
   },
   {
    "duration": 177,
    "start_time": "2023-02-16T16:43:02.041Z"
   },
   {
    "duration": 19,
    "start_time": "2023-02-16T16:43:02.220Z"
   },
   {
    "duration": 189,
    "start_time": "2023-02-16T16:43:02.241Z"
   },
   {
    "duration": 20,
    "start_time": "2023-02-16T16:43:02.432Z"
   },
   {
    "duration": 174,
    "start_time": "2023-02-16T16:43:02.454Z"
   },
   {
    "duration": 17,
    "start_time": "2023-02-16T16:43:02.630Z"
   },
   {
    "duration": 122,
    "start_time": "2023-02-16T16:43:02.649Z"
   },
   {
    "duration": 23,
    "start_time": "2023-02-16T16:43:02.772Z"
   },
   {
    "duration": 21,
    "start_time": "2023-02-16T16:55:28.979Z"
   },
   {
    "duration": 22,
    "start_time": "2023-02-16T16:56:13.702Z"
   },
   {
    "duration": 27,
    "start_time": "2023-02-16T16:56:54.502Z"
   },
   {
    "duration": 26,
    "start_time": "2023-02-16T16:59:23.080Z"
   },
   {
    "duration": 25,
    "start_time": "2023-02-16T17:00:55.867Z"
   },
   {
    "duration": 76,
    "start_time": "2023-02-16T18:24:01.469Z"
   },
   {
    "duration": 70,
    "start_time": "2023-02-16T18:45:52.074Z"
   },
   {
    "duration": 176,
    "start_time": "2023-02-16T19:09:40.848Z"
   },
   {
    "duration": 177,
    "start_time": "2023-02-16T19:09:53.445Z"
   },
   {
    "duration": 183,
    "start_time": "2023-02-16T19:10:42.346Z"
   },
   {
    "duration": 111,
    "start_time": "2023-02-16T19:10:56.456Z"
   },
   {
    "duration": 182,
    "start_time": "2023-02-16T19:11:03.479Z"
   },
   {
    "duration": 258,
    "start_time": "2023-02-16T19:16:59.036Z"
   },
   {
    "duration": 193,
    "start_time": "2023-02-16T19:17:22.275Z"
   },
   {
    "duration": 259,
    "start_time": "2023-02-16T19:17:45.080Z"
   },
   {
    "duration": 186,
    "start_time": "2023-02-16T19:17:52.650Z"
   },
   {
    "duration": 193,
    "start_time": "2023-02-16T19:18:01.987Z"
   },
   {
    "duration": 180,
    "start_time": "2023-02-16T19:18:09.682Z"
   },
   {
    "duration": 187,
    "start_time": "2023-02-16T19:18:19.243Z"
   },
   {
    "duration": 159,
    "start_time": "2023-02-16T19:18:25.604Z"
   },
   {
    "duration": 148,
    "start_time": "2023-02-16T19:19:09.572Z"
   },
   {
    "duration": 139,
    "start_time": "2023-02-16T19:19:52.143Z"
   },
   {
    "duration": 197,
    "start_time": "2023-02-16T19:19:59.741Z"
   },
   {
    "duration": 227,
    "start_time": "2023-02-16T19:20:50.381Z"
   },
   {
    "duration": 147,
    "start_time": "2023-02-16T19:21:01.695Z"
   },
   {
    "duration": 144,
    "start_time": "2023-02-16T19:21:12.918Z"
   },
   {
    "duration": 30,
    "start_time": "2023-02-16T19:24:41.313Z"
   },
   {
    "duration": 191,
    "start_time": "2023-02-16T19:24:55.305Z"
   },
   {
    "duration": 21,
    "start_time": "2023-02-16T19:29:17.356Z"
   },
   {
    "duration": 193,
    "start_time": "2023-02-16T19:29:30.651Z"
   },
   {
    "duration": 149,
    "start_time": "2023-02-16T19:30:46.794Z"
   },
   {
    "duration": 197,
    "start_time": "2023-02-16T19:30:54.750Z"
   },
   {
    "duration": 195,
    "start_time": "2023-02-16T19:32:20.679Z"
   },
   {
    "duration": 195,
    "start_time": "2023-02-16T19:32:33.267Z"
   },
   {
    "duration": 203,
    "start_time": "2023-02-16T19:33:03.413Z"
   },
   {
    "duration": 186,
    "start_time": "2023-02-16T19:33:42.981Z"
   },
   {
    "duration": 309,
    "start_time": "2023-02-16T19:35:05.596Z"
   },
   {
    "duration": 201,
    "start_time": "2023-02-16T19:35:48.015Z"
   },
   {
    "duration": 1059,
    "start_time": "2023-02-16T19:42:51.269Z"
   },
   {
    "duration": 84,
    "start_time": "2023-02-16T19:42:52.330Z"
   },
   {
    "duration": 23,
    "start_time": "2023-02-16T19:42:52.416Z"
   },
   {
    "duration": 15,
    "start_time": "2023-02-16T19:42:52.441Z"
   },
   {
    "duration": 4,
    "start_time": "2023-02-16T19:42:52.458Z"
   },
   {
    "duration": 10,
    "start_time": "2023-02-16T19:42:52.464Z"
   },
   {
    "duration": 13,
    "start_time": "2023-02-16T19:42:52.475Z"
   },
   {
    "duration": 33,
    "start_time": "2023-02-16T19:42:52.489Z"
   },
   {
    "duration": 5,
    "start_time": "2023-02-16T19:42:52.524Z"
   },
   {
    "duration": 10,
    "start_time": "2023-02-16T19:42:52.531Z"
   },
   {
    "duration": 9,
    "start_time": "2023-02-16T19:42:52.542Z"
   },
   {
    "duration": 17,
    "start_time": "2023-02-16T19:42:52.553Z"
   },
   {
    "duration": 16,
    "start_time": "2023-02-16T19:42:52.572Z"
   },
   {
    "duration": 44,
    "start_time": "2023-02-16T19:42:52.593Z"
   },
   {
    "duration": 6,
    "start_time": "2023-02-16T19:42:52.639Z"
   },
   {
    "duration": 9,
    "start_time": "2023-02-16T19:42:52.646Z"
   },
   {
    "duration": 174,
    "start_time": "2023-02-16T19:42:52.657Z"
   },
   {
    "duration": 16,
    "start_time": "2023-02-16T19:42:52.832Z"
   },
   {
    "duration": 204,
    "start_time": "2023-02-16T19:42:52.849Z"
   },
   {
    "duration": 191,
    "start_time": "2023-02-16T19:42:53.055Z"
   },
   {
    "duration": 187,
    "start_time": "2023-02-16T19:42:53.248Z"
   },
   {
    "duration": 191,
    "start_time": "2023-02-16T19:42:53.437Z"
   },
   {
    "duration": 181,
    "start_time": "2023-02-16T19:42:53.630Z"
   },
   {
    "duration": 190,
    "start_time": "2023-02-16T19:42:53.813Z"
   },
   {
    "duration": 145,
    "start_time": "2023-02-16T19:42:54.006Z"
   },
   {
    "duration": 42,
    "start_time": "2023-02-16T19:42:54.153Z"
   },
   {
    "duration": 24,
    "start_time": "2023-02-16T19:42:54.197Z"
   },
   {
    "duration": 22,
    "start_time": "2023-02-16T19:42:54.222Z"
   },
   {
    "duration": 19,
    "start_time": "2023-02-16T19:42:54.246Z"
   },
   {
    "duration": 233,
    "start_time": "2023-02-16T19:42:54.266Z"
   },
   {
    "duration": 7,
    "start_time": "2023-02-16T19:42:54.502Z"
   },
   {
    "duration": 20,
    "start_time": "2023-02-16T19:42:54.523Z"
   },
   {
    "duration": 280,
    "start_time": "2023-02-16T19:42:54.545Z"
   },
   {
    "duration": 5,
    "start_time": "2023-02-16T19:42:54.826Z"
   },
   {
    "duration": 159,
    "start_time": "2023-02-16T19:42:54.833Z"
   },
   {
    "duration": 6,
    "start_time": "2023-02-16T19:42:54.995Z"
   },
   {
    "duration": 20,
    "start_time": "2023-02-16T19:42:55.002Z"
   },
   {
    "duration": 158,
    "start_time": "2023-02-16T19:42:55.023Z"
   },
   {
    "duration": 6,
    "start_time": "2023-02-16T19:42:55.182Z"
   },
   {
    "duration": 141,
    "start_time": "2023-02-16T19:42:55.189Z"
   },
   {
    "duration": 19,
    "start_time": "2023-02-16T19:42:55.334Z"
   },
   {
    "duration": 15,
    "start_time": "2023-02-16T19:42:55.355Z"
   },
   {
    "duration": 50,
    "start_time": "2023-02-16T19:42:55.372Z"
   },
   {
    "duration": 20,
    "start_time": "2023-02-16T19:42:55.424Z"
   },
   {
    "duration": 15,
    "start_time": "2023-02-16T19:42:55.446Z"
   },
   {
    "duration": 18,
    "start_time": "2023-02-16T19:42:55.462Z"
   },
   {
    "duration": 42,
    "start_time": "2023-02-16T19:42:55.481Z"
   },
   {
    "duration": 157,
    "start_time": "2023-02-16T19:42:55.524Z"
   },
   {
    "duration": 17,
    "start_time": "2023-02-16T19:42:55.682Z"
   },
   {
    "duration": 161,
    "start_time": "2023-02-16T19:42:55.700Z"
   },
   {
    "duration": 16,
    "start_time": "2023-02-16T19:42:55.862Z"
   },
   {
    "duration": 160,
    "start_time": "2023-02-16T19:42:55.879Z"
   },
   {
    "duration": 16,
    "start_time": "2023-02-16T19:42:56.041Z"
   },
   {
    "duration": 14,
    "start_time": "2023-02-16T19:42:56.059Z"
   },
   {
    "duration": 9,
    "start_time": "2023-02-16T19:42:56.075Z"
   },
   {
    "duration": 1156,
    "start_time": "2023-02-16T19:46:07.351Z"
   },
   {
    "duration": 90,
    "start_time": "2023-02-16T19:46:08.508Z"
   },
   {
    "duration": 23,
    "start_time": "2023-02-16T19:46:08.600Z"
   },
   {
    "duration": 14,
    "start_time": "2023-02-16T19:46:08.625Z"
   },
   {
    "duration": 7,
    "start_time": "2023-02-16T19:46:08.641Z"
   },
   {
    "duration": 13,
    "start_time": "2023-02-16T19:46:08.650Z"
   },
   {
    "duration": 13,
    "start_time": "2023-02-16T19:46:08.664Z"
   },
   {
    "duration": 5,
    "start_time": "2023-02-16T19:46:08.679Z"
   },
   {
    "duration": 7,
    "start_time": "2023-02-16T19:46:08.686Z"
   },
   {
    "duration": 6,
    "start_time": "2023-02-16T19:46:08.720Z"
   },
   {
    "duration": 21,
    "start_time": "2023-02-16T19:46:08.727Z"
   },
   {
    "duration": 21,
    "start_time": "2023-02-16T19:46:08.750Z"
   },
   {
    "duration": 16,
    "start_time": "2023-02-16T19:46:08.773Z"
   },
   {
    "duration": 35,
    "start_time": "2023-02-16T19:46:08.790Z"
   },
   {
    "duration": 5,
    "start_time": "2023-02-16T19:46:08.826Z"
   },
   {
    "duration": 9,
    "start_time": "2023-02-16T19:46:08.832Z"
   },
   {
    "duration": 169,
    "start_time": "2023-02-16T19:46:08.843Z"
   },
   {
    "duration": 16,
    "start_time": "2023-02-16T19:46:09.020Z"
   },
   {
    "duration": 207,
    "start_time": "2023-02-16T19:46:09.038Z"
   },
   {
    "duration": 207,
    "start_time": "2023-02-16T19:46:09.247Z"
   },
   {
    "duration": 194,
    "start_time": "2023-02-16T19:46:09.456Z"
   },
   {
    "duration": 194,
    "start_time": "2023-02-16T19:46:09.652Z"
   },
   {
    "duration": 185,
    "start_time": "2023-02-16T19:46:09.848Z"
   },
   {
    "duration": 186,
    "start_time": "2023-02-16T19:46:10.035Z"
   },
   {
    "duration": 163,
    "start_time": "2023-02-16T19:46:10.222Z"
   },
   {
    "duration": 55,
    "start_time": "2023-02-16T19:46:10.387Z"
   },
   {
    "duration": 6,
    "start_time": "2023-02-16T19:46:10.444Z"
   },
   {
    "duration": 19,
    "start_time": "2023-02-16T19:46:10.453Z"
   },
   {
    "duration": 20,
    "start_time": "2023-02-16T19:46:10.474Z"
   },
   {
    "duration": 242,
    "start_time": "2023-02-16T19:46:10.496Z"
   },
   {
    "duration": 6,
    "start_time": "2023-02-16T19:46:10.740Z"
   },
   {
    "duration": 9,
    "start_time": "2023-02-16T19:46:10.748Z"
   },
   {
    "duration": 251,
    "start_time": "2023-02-16T19:46:10.759Z"
   },
   {
    "duration": 11,
    "start_time": "2023-02-16T19:46:11.013Z"
   },
   {
    "duration": 156,
    "start_time": "2023-02-16T19:46:11.025Z"
   },
   {
    "duration": 5,
    "start_time": "2023-02-16T19:46:11.183Z"
   },
   {
    "duration": 8,
    "start_time": "2023-02-16T19:46:11.190Z"
   },
   {
    "duration": 146,
    "start_time": "2023-02-16T19:46:11.200Z"
   },
   {
    "duration": 6,
    "start_time": "2023-02-16T19:46:11.348Z"
   },
   {
    "duration": 151,
    "start_time": "2023-02-16T19:46:11.355Z"
   },
   {
    "duration": 32,
    "start_time": "2023-02-16T19:46:11.508Z"
   },
   {
    "duration": 17,
    "start_time": "2023-02-16T19:46:11.542Z"
   },
   {
    "duration": 29,
    "start_time": "2023-02-16T19:46:11.561Z"
   },
   {
    "duration": 34,
    "start_time": "2023-02-16T19:46:11.592Z"
   },
   {
    "duration": 16,
    "start_time": "2023-02-16T19:46:11.628Z"
   },
   {
    "duration": 24,
    "start_time": "2023-02-16T19:46:11.646Z"
   },
   {
    "duration": 19,
    "start_time": "2023-02-16T19:46:11.671Z"
   },
   {
    "duration": 181,
    "start_time": "2023-02-16T19:46:11.721Z"
   },
   {
    "duration": 24,
    "start_time": "2023-02-16T19:46:11.904Z"
   },
   {
    "duration": 159,
    "start_time": "2023-02-16T19:46:11.930Z"
   },
   {
    "duration": 16,
    "start_time": "2023-02-16T19:46:12.091Z"
   },
   {
    "duration": 157,
    "start_time": "2023-02-16T19:46:12.121Z"
   },
   {
    "duration": 17,
    "start_time": "2023-02-16T19:46:12.280Z"
   },
   {
    "duration": 26,
    "start_time": "2023-02-16T19:46:12.299Z"
   },
   {
    "duration": 17,
    "start_time": "2023-02-16T19:46:12.327Z"
   }
  ],
  "kernelspec": {
   "display_name": "Python 3 (ipykernel)",
   "language": "python",
   "name": "python3"
  },
  "language_info": {
   "codemirror_mode": {
    "name": "ipython",
    "version": 3
   },
   "file_extension": ".py",
   "mimetype": "text/x-python",
   "name": "python",
   "nbconvert_exporter": "python",
   "pygments_lexer": "ipython3",
   "version": "3.9.13"
  },
  "toc": {
   "base_numbering": 1,
   "nav_menu": {},
   "number_sections": true,
   "sideBar": true,
   "skip_h1_title": true,
   "title_cell": "Table of Contents",
   "title_sidebar": "Contents",
   "toc_cell": false,
   "toc_position": {},
   "toc_section_display": true,
   "toc_window_display": false
  }
 },
 "nbformat": 4,
 "nbformat_minor": 2
}
