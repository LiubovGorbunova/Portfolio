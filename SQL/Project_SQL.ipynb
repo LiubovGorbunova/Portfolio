{
 "cells": [
  {
   "cell_type": "markdown",
   "id": "76e2de66",
   "metadata": {
    "toc": true
   },
   "source": [
    "<h1>Table of Contents<span class=\"tocSkip\"></span></h1>\n",
    "<div class=\"toc\"><ul class=\"toc-item\"><li><span><a href=\"#Загрузка-данных-и-библиотек\" data-toc-modified-id=\"Загрузка-данных-и-библиотек-1\"><span class=\"toc-item-num\">1&nbsp;&nbsp;</span>Загрузка данных и библиотек</a></span></li><li><span><a href=\"#Исследовательский-анализ-данных\" data-toc-modified-id=\"Исследовательский-анализ-данных-2\"><span class=\"toc-item-num\">2&nbsp;&nbsp;</span>Исследовательский анализ данных</a></span></li><li><span><a href=\"#Вывод\" data-toc-modified-id=\"Вывод-3\"><span class=\"toc-item-num\">3&nbsp;&nbsp;</span>Вывод</a></span></li></ul></div>"
   ]
  },
  {
   "cell_type": "markdown",
   "id": "57012d4f",
   "metadata": {},
   "source": [
    "# Анализ данных сервиса для чтения книг по подписке"
   ]
  },
  {
   "cell_type": "markdown",
   "id": "1adc9fbe",
   "metadata": {},
   "source": [
    "**Описание проекта**\n",
    "\n",
    "Компания приобрела крупный сервис для чтения книг по подписке. Необходимо проанализировать базу данных. В ней — информация о книгах, издательствах, авторах, а также пользовательские обзоры книг. Эти данные помогут сформулировать ценностное предложение для нового продукта.\n",
    "\n",
    "**Описание данных**\n",
    "\n",
    "Таблица `books` содержит данные о книгах:\n",
    "\n",
    "- book_id — идентификатор книги;\n",
    "- author_id — идентификатор автора;\n",
    "- title — название книги;\n",
    "- num_pages — количество страниц;\n",
    "- publication_date — дата публикации книги;\n",
    "- publisher_id — идентификатор издателя.\n",
    "\n",
    "Таблица `authors` содержит данные об авторах:\n",
    "\n",
    "- author_id — идентификатор автора;\n",
    "- author — имя автора.\n",
    "\n",
    "Таблица `publishers` содержит данные об издательствах:\n",
    "\n",
    "- publisher_id — идентификатор издательства;\n",
    "- publisher — название издательства;\n",
    "\n",
    "Таблица `ratings` содержит данные о пользовательских оценках книг:\n",
    "\n",
    "- rating_id — идентификатор оценки;\n",
    "- book_id — идентификатор книги;\n",
    "- username — имя пользователя, оставившего оценку;\n",
    "- rating — оценка книги.\n",
    "\n",
    "Таблица `reviews` содержит данные о пользовательских обзорах на книги:\n",
    "\n",
    "- review_id — идентификатор обзора;\n",
    "- book_id — идентификатор книги;\n",
    "- username — имя пользователя, написавшего обзор;\n",
    "- text — текст обзора.\n",
    "\n",
    "**План исследования**\n",
    "\n",
    "1. Посчитать, сколько книг вышло после 1 января 2000 года;\n",
    "2. Для каждой книги посчитать количество обзоров и среднюю оценку;\n",
    "3. Определить издательство, которое выпустило наибольшее число книг толще 50 страниц;\n",
    "4. Определить автора с самой высокой средней оценкой книг (только для книг с 50 и более оценками);\n",
    "5. Посчитать среднее количество обзоров от пользователей, которые поставили больше 48 оценок."
   ]
  },
  {
   "cell_type": "markdown",
   "id": "677afb75",
   "metadata": {},
   "source": [
    "## Загрузка данных и библиотек"
   ]
  },
  {
   "cell_type": "markdown",
   "id": "56809a57",
   "metadata": {},
   "source": [
    "Импортируем необходимые библиотеки."
   ]
  },
  {
   "cell_type": "code",
   "execution_count": 1,
   "id": "836aeac7",
   "metadata": {},
   "outputs": [],
   "source": [
    "# импортируем библиотеки\n",
    "import pandas as pd\n",
    "from sqlalchemy import text, create_engine"
   ]
  },
  {
   "cell_type": "markdown",
   "id": "29e18123",
   "metadata": {},
   "source": [
    "Установим соединение с базой данных."
   ]
  },
  {
   "cell_type": "code",
   "execution_count": 2,
   "id": "f3c98e60",
   "metadata": {},
   "outputs": [],
   "source": [
    "# устанавливаем параметры\n",
    "db_config = {'user': 'praktikum_student', # имя пользователя\n",
    "'pwd': 'Sdf4$2;d-d30pp', # пароль\n",
    "'host': 'rc1b-wcoijxj3yxfsf3fs.mdb.yandexcloud.net',\n",
    "'port': 6432, # порт подключения\n",
    "'db': 'data-analyst-final-project-db'} # название базы данных\n",
    "connection_string = 'postgresql://{user}:{pwd}@{host}:{port}/{db}'.format(**db_config)\n",
    "\n",
    "# сохраняем коннектор\n",
    "engine = create_engine(connection_string, connect_args={'sslmode':'require'})"
   ]
  },
  {
   "cell_type": "markdown",
   "id": "5b283cb7",
   "metadata": {},
   "source": [
    "Выведем первые 5 строк всех таблиц на экран."
   ]
  },
  {
   "cell_type": "code",
   "execution_count": 3,
   "id": "24245559",
   "metadata": {},
   "outputs": [
    {
     "name": "stdout",
     "output_type": "stream",
     "text": [
      "\n",
      "Выведем первые 5 строк таблицы books на экран\n"
     ]
    },
    {
     "data": {
      "text/html": [
       "<div>\n",
       "<style scoped>\n",
       "    .dataframe tbody tr th:only-of-type {\n",
       "        vertical-align: middle;\n",
       "    }\n",
       "\n",
       "    .dataframe tbody tr th {\n",
       "        vertical-align: top;\n",
       "    }\n",
       "\n",
       "    .dataframe thead th {\n",
       "        text-align: right;\n",
       "    }\n",
       "</style>\n",
       "<table border=\"1\" class=\"dataframe\">\n",
       "  <thead>\n",
       "    <tr style=\"text-align: right;\">\n",
       "      <th></th>\n",
       "      <th>book_id</th>\n",
       "      <th>author_id</th>\n",
       "      <th>title</th>\n",
       "      <th>num_pages</th>\n",
       "      <th>publication_date</th>\n",
       "      <th>publisher_id</th>\n",
       "    </tr>\n",
       "  </thead>\n",
       "  <tbody>\n",
       "    <tr>\n",
       "      <th>0</th>\n",
       "      <td>1</td>\n",
       "      <td>546</td>\n",
       "      <td>'Salem's Lot</td>\n",
       "      <td>594</td>\n",
       "      <td>2005-11-01</td>\n",
       "      <td>93</td>\n",
       "    </tr>\n",
       "    <tr>\n",
       "      <th>1</th>\n",
       "      <td>2</td>\n",
       "      <td>465</td>\n",
       "      <td>1 000 Places to See Before You Die</td>\n",
       "      <td>992</td>\n",
       "      <td>2003-05-22</td>\n",
       "      <td>336</td>\n",
       "    </tr>\n",
       "    <tr>\n",
       "      <th>2</th>\n",
       "      <td>3</td>\n",
       "      <td>407</td>\n",
       "      <td>13 Little Blue Envelopes (Little Blue Envelope...</td>\n",
       "      <td>322</td>\n",
       "      <td>2010-12-21</td>\n",
       "      <td>135</td>\n",
       "    </tr>\n",
       "    <tr>\n",
       "      <th>3</th>\n",
       "      <td>4</td>\n",
       "      <td>82</td>\n",
       "      <td>1491: New Revelations of the Americas Before C...</td>\n",
       "      <td>541</td>\n",
       "      <td>2006-10-10</td>\n",
       "      <td>309</td>\n",
       "    </tr>\n",
       "    <tr>\n",
       "      <th>4</th>\n",
       "      <td>5</td>\n",
       "      <td>125</td>\n",
       "      <td>1776</td>\n",
       "      <td>386</td>\n",
       "      <td>2006-07-04</td>\n",
       "      <td>268</td>\n",
       "    </tr>\n",
       "  </tbody>\n",
       "</table>\n",
       "</div>"
      ],
      "text/plain": [
       "   book_id  author_id                                              title  \\\n",
       "0        1        546                                       'Salem's Lot   \n",
       "1        2        465                 1 000 Places to See Before You Die   \n",
       "2        3        407  13 Little Blue Envelopes (Little Blue Envelope...   \n",
       "3        4         82  1491: New Revelations of the Americas Before C...   \n",
       "4        5        125                                               1776   \n",
       "\n",
       "   num_pages publication_date  publisher_id  \n",
       "0        594       2005-11-01            93  \n",
       "1        992       2003-05-22           336  \n",
       "2        322       2010-12-21           135  \n",
       "3        541       2006-10-10           309  \n",
       "4        386       2006-07-04           268  "
      ]
     },
     "metadata": {},
     "output_type": "display_data"
    },
    {
     "name": "stdout",
     "output_type": "stream",
     "text": [
      "\n",
      "Выведем первые 5 строк таблицы authors на экран\n"
     ]
    },
    {
     "data": {
      "text/html": [
       "<div>\n",
       "<style scoped>\n",
       "    .dataframe tbody tr th:only-of-type {\n",
       "        vertical-align: middle;\n",
       "    }\n",
       "\n",
       "    .dataframe tbody tr th {\n",
       "        vertical-align: top;\n",
       "    }\n",
       "\n",
       "    .dataframe thead th {\n",
       "        text-align: right;\n",
       "    }\n",
       "</style>\n",
       "<table border=\"1\" class=\"dataframe\">\n",
       "  <thead>\n",
       "    <tr style=\"text-align: right;\">\n",
       "      <th></th>\n",
       "      <th>author_id</th>\n",
       "      <th>author</th>\n",
       "    </tr>\n",
       "  </thead>\n",
       "  <tbody>\n",
       "    <tr>\n",
       "      <th>0</th>\n",
       "      <td>1</td>\n",
       "      <td>A.S. Byatt</td>\n",
       "    </tr>\n",
       "    <tr>\n",
       "      <th>1</th>\n",
       "      <td>2</td>\n",
       "      <td>Aesop/Laura Harris/Laura Gibbs</td>\n",
       "    </tr>\n",
       "    <tr>\n",
       "      <th>2</th>\n",
       "      <td>3</td>\n",
       "      <td>Agatha Christie</td>\n",
       "    </tr>\n",
       "    <tr>\n",
       "      <th>3</th>\n",
       "      <td>4</td>\n",
       "      <td>Alan Brennert</td>\n",
       "    </tr>\n",
       "    <tr>\n",
       "      <th>4</th>\n",
       "      <td>5</td>\n",
       "      <td>Alan Moore/David   Lloyd</td>\n",
       "    </tr>\n",
       "  </tbody>\n",
       "</table>\n",
       "</div>"
      ],
      "text/plain": [
       "   author_id                          author\n",
       "0          1                      A.S. Byatt\n",
       "1          2  Aesop/Laura Harris/Laura Gibbs\n",
       "2          3                 Agatha Christie\n",
       "3          4                   Alan Brennert\n",
       "4          5        Alan Moore/David   Lloyd"
      ]
     },
     "metadata": {},
     "output_type": "display_data"
    },
    {
     "name": "stdout",
     "output_type": "stream",
     "text": [
      "\n",
      "Выведем первые 5 строк таблицы publishers на экран\n"
     ]
    },
    {
     "data": {
      "text/html": [
       "<div>\n",
       "<style scoped>\n",
       "    .dataframe tbody tr th:only-of-type {\n",
       "        vertical-align: middle;\n",
       "    }\n",
       "\n",
       "    .dataframe tbody tr th {\n",
       "        vertical-align: top;\n",
       "    }\n",
       "\n",
       "    .dataframe thead th {\n",
       "        text-align: right;\n",
       "    }\n",
       "</style>\n",
       "<table border=\"1\" class=\"dataframe\">\n",
       "  <thead>\n",
       "    <tr style=\"text-align: right;\">\n",
       "      <th></th>\n",
       "      <th>publisher_id</th>\n",
       "      <th>publisher</th>\n",
       "    </tr>\n",
       "  </thead>\n",
       "  <tbody>\n",
       "    <tr>\n",
       "      <th>0</th>\n",
       "      <td>1</td>\n",
       "      <td>Ace</td>\n",
       "    </tr>\n",
       "    <tr>\n",
       "      <th>1</th>\n",
       "      <td>2</td>\n",
       "      <td>Ace Book</td>\n",
       "    </tr>\n",
       "    <tr>\n",
       "      <th>2</th>\n",
       "      <td>3</td>\n",
       "      <td>Ace Books</td>\n",
       "    </tr>\n",
       "    <tr>\n",
       "      <th>3</th>\n",
       "      <td>4</td>\n",
       "      <td>Ace Hardcover</td>\n",
       "    </tr>\n",
       "    <tr>\n",
       "      <th>4</th>\n",
       "      <td>5</td>\n",
       "      <td>Addison Wesley Publishing Company</td>\n",
       "    </tr>\n",
       "  </tbody>\n",
       "</table>\n",
       "</div>"
      ],
      "text/plain": [
       "   publisher_id                          publisher\n",
       "0             1                                Ace\n",
       "1             2                           Ace Book\n",
       "2             3                          Ace Books\n",
       "3             4                      Ace Hardcover\n",
       "4             5  Addison Wesley Publishing Company"
      ]
     },
     "metadata": {},
     "output_type": "display_data"
    },
    {
     "name": "stdout",
     "output_type": "stream",
     "text": [
      "\n",
      "Выведем первые 5 строк таблицы ratings на экран\n"
     ]
    },
    {
     "data": {
      "text/html": [
       "<div>\n",
       "<style scoped>\n",
       "    .dataframe tbody tr th:only-of-type {\n",
       "        vertical-align: middle;\n",
       "    }\n",
       "\n",
       "    .dataframe tbody tr th {\n",
       "        vertical-align: top;\n",
       "    }\n",
       "\n",
       "    .dataframe thead th {\n",
       "        text-align: right;\n",
       "    }\n",
       "</style>\n",
       "<table border=\"1\" class=\"dataframe\">\n",
       "  <thead>\n",
       "    <tr style=\"text-align: right;\">\n",
       "      <th></th>\n",
       "      <th>rating_id</th>\n",
       "      <th>book_id</th>\n",
       "      <th>username</th>\n",
       "      <th>rating</th>\n",
       "    </tr>\n",
       "  </thead>\n",
       "  <tbody>\n",
       "    <tr>\n",
       "      <th>0</th>\n",
       "      <td>1</td>\n",
       "      <td>1</td>\n",
       "      <td>ryanfranco</td>\n",
       "      <td>4</td>\n",
       "    </tr>\n",
       "    <tr>\n",
       "      <th>1</th>\n",
       "      <td>2</td>\n",
       "      <td>1</td>\n",
       "      <td>grantpatricia</td>\n",
       "      <td>2</td>\n",
       "    </tr>\n",
       "    <tr>\n",
       "      <th>2</th>\n",
       "      <td>3</td>\n",
       "      <td>1</td>\n",
       "      <td>brandtandrea</td>\n",
       "      <td>5</td>\n",
       "    </tr>\n",
       "    <tr>\n",
       "      <th>3</th>\n",
       "      <td>4</td>\n",
       "      <td>2</td>\n",
       "      <td>lorichen</td>\n",
       "      <td>3</td>\n",
       "    </tr>\n",
       "    <tr>\n",
       "      <th>4</th>\n",
       "      <td>5</td>\n",
       "      <td>2</td>\n",
       "      <td>mariokeller</td>\n",
       "      <td>2</td>\n",
       "    </tr>\n",
       "  </tbody>\n",
       "</table>\n",
       "</div>"
      ],
      "text/plain": [
       "   rating_id  book_id       username  rating\n",
       "0          1        1     ryanfranco       4\n",
       "1          2        1  grantpatricia       2\n",
       "2          3        1   brandtandrea       5\n",
       "3          4        2       lorichen       3\n",
       "4          5        2    mariokeller       2"
      ]
     },
     "metadata": {},
     "output_type": "display_data"
    },
    {
     "name": "stdout",
     "output_type": "stream",
     "text": [
      "\n",
      "Выведем первые 5 строк таблицы reviews на экран\n"
     ]
    },
    {
     "data": {
      "text/html": [
       "<div>\n",
       "<style scoped>\n",
       "    .dataframe tbody tr th:only-of-type {\n",
       "        vertical-align: middle;\n",
       "    }\n",
       "\n",
       "    .dataframe tbody tr th {\n",
       "        vertical-align: top;\n",
       "    }\n",
       "\n",
       "    .dataframe thead th {\n",
       "        text-align: right;\n",
       "    }\n",
       "</style>\n",
       "<table border=\"1\" class=\"dataframe\">\n",
       "  <thead>\n",
       "    <tr style=\"text-align: right;\">\n",
       "      <th></th>\n",
       "      <th>review_id</th>\n",
       "      <th>book_id</th>\n",
       "      <th>username</th>\n",
       "      <th>text</th>\n",
       "    </tr>\n",
       "  </thead>\n",
       "  <tbody>\n",
       "    <tr>\n",
       "      <th>0</th>\n",
       "      <td>1</td>\n",
       "      <td>1</td>\n",
       "      <td>brandtandrea</td>\n",
       "      <td>Mention society tell send professor analysis. ...</td>\n",
       "    </tr>\n",
       "    <tr>\n",
       "      <th>1</th>\n",
       "      <td>2</td>\n",
       "      <td>1</td>\n",
       "      <td>ryanfranco</td>\n",
       "      <td>Foot glass pretty audience hit themselves. Amo...</td>\n",
       "    </tr>\n",
       "    <tr>\n",
       "      <th>2</th>\n",
       "      <td>3</td>\n",
       "      <td>2</td>\n",
       "      <td>lorichen</td>\n",
       "      <td>Listen treat keep worry. Miss husband tax but ...</td>\n",
       "    </tr>\n",
       "    <tr>\n",
       "      <th>3</th>\n",
       "      <td>4</td>\n",
       "      <td>3</td>\n",
       "      <td>johnsonamanda</td>\n",
       "      <td>Finally month interesting blue could nature cu...</td>\n",
       "    </tr>\n",
       "    <tr>\n",
       "      <th>4</th>\n",
       "      <td>5</td>\n",
       "      <td>3</td>\n",
       "      <td>scotttamara</td>\n",
       "      <td>Nation purpose heavy give wait song will. List...</td>\n",
       "    </tr>\n",
       "  </tbody>\n",
       "</table>\n",
       "</div>"
      ],
      "text/plain": [
       "   review_id  book_id       username  \\\n",
       "0          1        1   brandtandrea   \n",
       "1          2        1     ryanfranco   \n",
       "2          3        2       lorichen   \n",
       "3          4        3  johnsonamanda   \n",
       "4          5        3    scotttamara   \n",
       "\n",
       "                                                text  \n",
       "0  Mention society tell send professor analysis. ...  \n",
       "1  Foot glass pretty audience hit themselves. Amo...  \n",
       "2  Listen treat keep worry. Miss husband tax but ...  \n",
       "3  Finally month interesting blue could nature cu...  \n",
       "4  Nation purpose heavy give wait song will. List...  "
      ]
     },
     "metadata": {},
     "output_type": "display_data"
    }
   ],
   "source": [
    "for table in ['books', 'authors', 'publishers', 'ratings', 'reviews']:\n",
    "    query = '''SELECT * \n",
    "               FROM {} \n",
    "               LIMIT 5\n",
    "            '''.format(table)\n",
    "    print()\n",
    "    print('Выведем первые 5 строк таблицы {} на экран'.format(table))\n",
    "    con=engine.connect()\n",
    "    display(pd.io.sql.read_sql(sql=text(query), con = con))"
   ]
  },
  {
   "cell_type": "markdown",
   "id": "90e850c9",
   "metadata": {},
   "source": [
    "## Исследовательский анализ данных"
   ]
  },
  {
   "cell_type": "markdown",
   "id": "2c6857d7",
   "metadata": {},
   "source": [
    "**1. Посчитаем, сколько книг вышло после 1 января 2000 года**"
   ]
  },
  {
   "cell_type": "code",
   "execution_count": 4,
   "id": "c68bdc52",
   "metadata": {},
   "outputs": [
    {
     "data": {
      "text/html": [
       "<div>\n",
       "<style scoped>\n",
       "    .dataframe tbody tr th:only-of-type {\n",
       "        vertical-align: middle;\n",
       "    }\n",
       "\n",
       "    .dataframe tbody tr th {\n",
       "        vertical-align: top;\n",
       "    }\n",
       "\n",
       "    .dataframe thead th {\n",
       "        text-align: right;\n",
       "    }\n",
       "</style>\n",
       "<table border=\"1\" class=\"dataframe\">\n",
       "  <thead>\n",
       "    <tr style=\"text-align: right;\">\n",
       "      <th></th>\n",
       "      <th>books_count</th>\n",
       "    </tr>\n",
       "  </thead>\n",
       "  <tbody>\n",
       "    <tr>\n",
       "      <th>0</th>\n",
       "      <td>819</td>\n",
       "    </tr>\n",
       "  </tbody>\n",
       "</table>\n",
       "</div>"
      ],
      "text/plain": [
       "   books_count\n",
       "0          819"
      ]
     },
     "execution_count": 4,
     "metadata": {},
     "output_type": "execute_result"
    }
   ],
   "source": [
    "query = '''\n",
    "           SELECT COUNT (book_id) AS books_count\n",
    "           FROM books\n",
    "           WHERE publication_date > '2000-01-01'\n",
    "        '''\n",
    "\n",
    "con=engine.connect()\n",
    "pd.io.sql.read_sql(sql=text(query), con = con)"
   ]
  },
  {
   "cell_type": "markdown",
   "id": "34410bd5",
   "metadata": {},
   "source": [
    "После 1 января 2000 года количество выпущенных книг составило 819 шт."
   ]
  },
  {
   "cell_type": "markdown",
   "id": "f0df5174",
   "metadata": {},
   "source": [
    "**2. Для каждой книги посчитаем количество обзоров и среднюю оценку**"
   ]
  },
  {
   "cell_type": "code",
   "execution_count": 5,
   "id": "775be65f",
   "metadata": {},
   "outputs": [
    {
     "data": {
      "text/html": [
       "<div>\n",
       "<style scoped>\n",
       "    .dataframe tbody tr th:only-of-type {\n",
       "        vertical-align: middle;\n",
       "    }\n",
       "\n",
       "    .dataframe tbody tr th {\n",
       "        vertical-align: top;\n",
       "    }\n",
       "\n",
       "    .dataframe thead th {\n",
       "        text-align: right;\n",
       "    }\n",
       "</style>\n",
       "<table border=\"1\" class=\"dataframe\">\n",
       "  <thead>\n",
       "    <tr style=\"text-align: right;\">\n",
       "      <th></th>\n",
       "      <th>title</th>\n",
       "      <th>reviews_count</th>\n",
       "      <th>avg_rating</th>\n",
       "    </tr>\n",
       "  </thead>\n",
       "  <tbody>\n",
       "    <tr>\n",
       "      <th>0</th>\n",
       "      <td>'Salem's Lot</td>\n",
       "      <td>2</td>\n",
       "      <td>3.67</td>\n",
       "    </tr>\n",
       "    <tr>\n",
       "      <th>1</th>\n",
       "      <td>1 000 Places to See Before You Die</td>\n",
       "      <td>1</td>\n",
       "      <td>2.50</td>\n",
       "    </tr>\n",
       "    <tr>\n",
       "      <th>2</th>\n",
       "      <td>13 Little Blue Envelopes (Little Blue Envelope...</td>\n",
       "      <td>3</td>\n",
       "      <td>4.67</td>\n",
       "    </tr>\n",
       "    <tr>\n",
       "      <th>3</th>\n",
       "      <td>1491: New Revelations of the Americas Before C...</td>\n",
       "      <td>2</td>\n",
       "      <td>4.50</td>\n",
       "    </tr>\n",
       "    <tr>\n",
       "      <th>4</th>\n",
       "      <td>1776</td>\n",
       "      <td>4</td>\n",
       "      <td>4.00</td>\n",
       "    </tr>\n",
       "    <tr>\n",
       "      <th>...</th>\n",
       "      <td>...</td>\n",
       "      <td>...</td>\n",
       "      <td>...</td>\n",
       "    </tr>\n",
       "    <tr>\n",
       "      <th>995</th>\n",
       "      <td>Wyrd Sisters (Discworld  #6; Witches #2)</td>\n",
       "      <td>3</td>\n",
       "      <td>3.67</td>\n",
       "    </tr>\n",
       "    <tr>\n",
       "      <th>996</th>\n",
       "      <td>Xenocide (Ender's Saga  #3)</td>\n",
       "      <td>3</td>\n",
       "      <td>3.40</td>\n",
       "    </tr>\n",
       "    <tr>\n",
       "      <th>997</th>\n",
       "      <td>Year of Wonders</td>\n",
       "      <td>4</td>\n",
       "      <td>3.20</td>\n",
       "    </tr>\n",
       "    <tr>\n",
       "      <th>998</th>\n",
       "      <td>You Suck (A Love Story  #2)</td>\n",
       "      <td>2</td>\n",
       "      <td>4.50</td>\n",
       "    </tr>\n",
       "    <tr>\n",
       "      <th>999</th>\n",
       "      <td>Zen and the Art of Motorcycle Maintenance: An ...</td>\n",
       "      <td>4</td>\n",
       "      <td>3.83</td>\n",
       "    </tr>\n",
       "  </tbody>\n",
       "</table>\n",
       "<p>1000 rows × 3 columns</p>\n",
       "</div>"
      ],
      "text/plain": [
       "                                                 title  reviews_count  \\\n",
       "0                                         'Salem's Lot              2   \n",
       "1                   1 000 Places to See Before You Die              1   \n",
       "2    13 Little Blue Envelopes (Little Blue Envelope...              3   \n",
       "3    1491: New Revelations of the Americas Before C...              2   \n",
       "4                                                 1776              4   \n",
       "..                                                 ...            ...   \n",
       "995           Wyrd Sisters (Discworld  #6; Witches #2)              3   \n",
       "996                        Xenocide (Ender's Saga  #3)              3   \n",
       "997                                    Year of Wonders              4   \n",
       "998                        You Suck (A Love Story  #2)              2   \n",
       "999  Zen and the Art of Motorcycle Maintenance: An ...              4   \n",
       "\n",
       "     avg_rating  \n",
       "0          3.67  \n",
       "1          2.50  \n",
       "2          4.67  \n",
       "3          4.50  \n",
       "4          4.00  \n",
       "..          ...  \n",
       "995        3.67  \n",
       "996        3.40  \n",
       "997        3.20  \n",
       "998        4.50  \n",
       "999        3.83  \n",
       "\n",
       "[1000 rows x 3 columns]"
      ]
     },
     "execution_count": 5,
     "metadata": {},
     "output_type": "execute_result"
    }
   ],
   "source": [
    "query = '''\n",
    "           SELECT b.title, \n",
    "           COUNT(DISTINCT rv.review_id) AS reviews_count,\n",
    "           ROUND(AVG(rt.rating), 2) AS avg_rating\n",
    "           FROM books AS b\n",
    "           LEFT JOIN ratings AS rt ON b.book_id = rt.book_id\n",
    "           LEFT JOIN reviews AS rv ON b.book_id = rv.book_id\n",
    "           GROUP BY b.book_id\n",
    "           ORDER BY b.title\n",
    "        '''\n",
    "\n",
    "con=engine.connect()\n",
    "pd.io.sql.read_sql(sql=text(query), con = con)"
   ]
  },
  {
   "cell_type": "markdown",
   "id": "3b77764e",
   "metadata": {},
   "source": [
    "Количество обзоров на каждую из книг составляет от 0 до 7, а средняя оценка книг колеблется от 1.5 до 5.0."
   ]
  },
  {
   "cell_type": "markdown",
   "id": "873dce98",
   "metadata": {},
   "source": [
    "**3. Определим издательство, которое выпустило наибольшее число книг толще 50 страниц (так мы исключим из анализа брошюры)**"
   ]
  },
  {
   "cell_type": "code",
   "execution_count": 6,
   "id": "9b059292",
   "metadata": {},
   "outputs": [
    {
     "data": {
      "text/html": [
       "<div>\n",
       "<style scoped>\n",
       "    .dataframe tbody tr th:only-of-type {\n",
       "        vertical-align: middle;\n",
       "    }\n",
       "\n",
       "    .dataframe tbody tr th {\n",
       "        vertical-align: top;\n",
       "    }\n",
       "\n",
       "    .dataframe thead th {\n",
       "        text-align: right;\n",
       "    }\n",
       "</style>\n",
       "<table border=\"1\" class=\"dataframe\">\n",
       "  <thead>\n",
       "    <tr style=\"text-align: right;\">\n",
       "      <th></th>\n",
       "      <th>publisher</th>\n",
       "      <th>books_count</th>\n",
       "    </tr>\n",
       "  </thead>\n",
       "  <tbody>\n",
       "    <tr>\n",
       "      <th>0</th>\n",
       "      <td>Penguin Books</td>\n",
       "      <td>42</td>\n",
       "    </tr>\n",
       "  </tbody>\n",
       "</table>\n",
       "</div>"
      ],
      "text/plain": [
       "       publisher  books_count\n",
       "0  Penguin Books           42"
      ]
     },
     "execution_count": 6,
     "metadata": {},
     "output_type": "execute_result"
    }
   ],
   "source": [
    "query = '''\n",
    "           SELECT p.publisher,\n",
    "           COUNT (b.book_id) AS books_count\n",
    "           FROM books AS b\n",
    "           LEFT JOIN publishers AS p ON b.publisher_id = p.publisher_id\n",
    "           WHERE num_pages > 50\n",
    "           GROUP BY p.publisher\n",
    "           ORDER BY COUNT(b.book_id) DESC\n",
    "           LIMIT 1\n",
    "        '''\n",
    "con=engine.connect()\n",
    "pd.io.sql.read_sql(sql=text(query), con = con)"
   ]
  },
  {
   "cell_type": "markdown",
   "id": "4ed61753",
   "metadata": {},
   "source": [
    "Издательством, которое выпустило наибольшее число книг толще 50 страниц является издательство Penguin Books."
   ]
  },
  {
   "cell_type": "markdown",
   "id": "cf5ebaad",
   "metadata": {},
   "source": [
    "**4. Определим автора с самой высокой средней оценкой книг (только для книг с 50 и более оценками)**"
   ]
  },
  {
   "cell_type": "code",
   "execution_count": 7,
   "id": "b74c8571",
   "metadata": {},
   "outputs": [
    {
     "data": {
      "text/html": [
       "<div>\n",
       "<style scoped>\n",
       "    .dataframe tbody tr th:only-of-type {\n",
       "        vertical-align: middle;\n",
       "    }\n",
       "\n",
       "    .dataframe tbody tr th {\n",
       "        vertical-align: top;\n",
       "    }\n",
       "\n",
       "    .dataframe thead th {\n",
       "        text-align: right;\n",
       "    }\n",
       "</style>\n",
       "<table border=\"1\" class=\"dataframe\">\n",
       "  <thead>\n",
       "    <tr style=\"text-align: right;\">\n",
       "      <th></th>\n",
       "      <th>author</th>\n",
       "      <th>rating</th>\n",
       "    </tr>\n",
       "  </thead>\n",
       "  <tbody>\n",
       "    <tr>\n",
       "      <th>0</th>\n",
       "      <td>J.K. Rowling/Mary GrandPré</td>\n",
       "      <td>4.29</td>\n",
       "    </tr>\n",
       "  </tbody>\n",
       "</table>\n",
       "</div>"
      ],
      "text/plain": [
       "                       author  rating\n",
       "0  J.K. Rowling/Mary GrandPré    4.29"
      ]
     },
     "execution_count": 7,
     "metadata": {},
     "output_type": "execute_result"
    }
   ],
   "source": [
    "query = '''\n",
    "           SELECT a.author, \n",
    "           ROUND(AVG(r.rating), 2) AS rating\n",
    "           FROM books AS b\n",
    "           LEFT JOIN ratings AS r ON b.book_id = r.book_id\n",
    "           LEFT JOIN authors AS a ON b.author_id = a.author_id\n",
    "           WHERE b.book_id IN (SELECT book_id\n",
    "                               FROM ratings\n",
    "                               GROUP BY book_id\n",
    "                               HAVING COUNT (DISTINCT rating_id) >= 50)\n",
    "           GROUP BY a.author_id\n",
    "           ORDER BY(AVG(r.rating)) DESC\n",
    "           LIMIT 1\n",
    "        '''\n",
    "\n",
    "con=engine.connect()\n",
    "pd.io.sql.read_sql(sql=text(query), con = con)"
   ]
  },
  {
   "cell_type": "markdown",
   "id": "e129a655",
   "metadata": {},
   "source": [
    "У союза авторов J.K. Rowling/Mary GrandPré самые высокие средние оценки книг."
   ]
  },
  {
   "cell_type": "markdown",
   "id": "85717b23",
   "metadata": {},
   "source": [
    "**5. Посчитаем среднее количество обзоров от пользователей, которые поставили больше 48 оценок**"
   ]
  },
  {
   "cell_type": "code",
   "execution_count": 8,
   "id": "cce436de",
   "metadata": {},
   "outputs": [
    {
     "data": {
      "text/html": [
       "<div>\n",
       "<style scoped>\n",
       "    .dataframe tbody tr th:only-of-type {\n",
       "        vertical-align: middle;\n",
       "    }\n",
       "\n",
       "    .dataframe tbody tr th {\n",
       "        vertical-align: top;\n",
       "    }\n",
       "\n",
       "    .dataframe thead th {\n",
       "        text-align: right;\n",
       "    }\n",
       "</style>\n",
       "<table border=\"1\" class=\"dataframe\">\n",
       "  <thead>\n",
       "    <tr style=\"text-align: right;\">\n",
       "      <th></th>\n",
       "      <th>avg_reviews</th>\n",
       "    </tr>\n",
       "  </thead>\n",
       "  <tbody>\n",
       "    <tr>\n",
       "      <th>0</th>\n",
       "      <td>24.0</td>\n",
       "    </tr>\n",
       "  </tbody>\n",
       "</table>\n",
       "</div>"
      ],
      "text/plain": [
       "   avg_reviews\n",
       "0         24.0"
      ]
     },
     "execution_count": 8,
     "metadata": {},
     "output_type": "execute_result"
    }
   ],
   "source": [
    "query = '''\n",
    "           WITH tab_1 AS\n",
    "           (SELECT rv.username,\n",
    "           COUNT (DISTINCT rt.rating_id) AS rating_count,\n",
    "           COUNT (DISTINCT rv.review_id) AS review_count\n",
    "           FROM reviews AS rv\n",
    "           LEFT JOIN ratings AS rt ON rv.username = rt.username\n",
    "           GROUP BY rv.username\n",
    "           HAVING COUNT (DISTINCT rt.rating_id) > 48)\n",
    "           \n",
    "           SELECT ROUND(SUM(review_count) / COUNT(*)) AS avg_reviews\n",
    "           FROM tab_1\n",
    "        '''\n",
    "\n",
    "con=engine.connect()\n",
    "pd.io.sql.read_sql(sql=text(query), con = con)"
   ]
  },
  {
   "cell_type": "markdown",
   "id": "61e84712",
   "metadata": {},
   "source": [
    "Пользователи, которые поставили больше 48 оценок, в среднем составляли 24 обзора на книги. "
   ]
  },
  {
   "cell_type": "markdown",
   "id": "581106db",
   "metadata": {},
   "source": [
    "## Вывод\n",
    "\n",
    "Обзор базы данных сервиса для чтения книг показал, что в ней находится 1000 различных книг от 636 авторов и выпущенных 340 издательствами. \n",
    "\n",
    "По результатам исследования данных установлено:\n",
    "\n",
    "- После 1 января 2000 года количество выпущенных книг составило 819 шт.\n",
    "- Количество обзоров на каждую из книг составляет от 0 до 7, а средняя оценка книг колеблется от 1.5 до 5.0.\n",
    "- Издательством, которое выпустило наибольшее число книг толще 50 страниц является издательство Penguin Books.\n",
    "- У союза авторов J.K. Rowling/Mary GrandPré самые высокие средние оценки книг.\n",
    "- Пользователи, которые поставили больше 48 оценок, в среднем составляли 24 обзора на книги."
   ]
  }
 ],
 "metadata": {
  "ExecuteTimeLog": [
   {
    "duration": 48,
    "start_time": "2023-07-14T04:12:58.079Z"
   },
   {
    "duration": 524,
    "start_time": "2023-07-14T04:13:04.519Z"
   },
   {
    "duration": 24171,
    "start_time": "2023-07-14T04:13:05.045Z"
   },
   {
    "duration": 238,
    "start_time": "2023-07-14T04:13:29.218Z"
   },
   {
    "duration": 131,
    "start_time": "2023-07-14T04:13:29.458Z"
   },
   {
    "duration": 53,
    "start_time": "2023-07-14T04:13:29.591Z"
   },
   {
    "duration": 55,
    "start_time": "2023-07-14T04:13:29.646Z"
   },
   {
    "duration": 55,
    "start_time": "2023-07-14T04:13:29.702Z"
   },
   {
    "duration": 54,
    "start_time": "2023-07-14T04:13:29.759Z"
   },
   {
    "duration": 83,
    "start_time": "2023-07-14T04:13:29.814Z"
   },
   {
    "duration": 54,
    "start_time": "2023-07-14T04:13:29.900Z"
   },
   {
    "duration": 62,
    "start_time": "2023-07-14T04:13:29.956Z"
   },
   {
    "duration": 88,
    "start_time": "2023-07-14T04:13:30.019Z"
   },
   {
    "duration": 132,
    "start_time": "2023-07-14T04:15:33.889Z"
   },
   {
    "duration": 82,
    "start_time": "2023-07-14T04:16:19.066Z"
   },
   {
    "duration": 166,
    "start_time": "2023-07-14T04:18:12.042Z"
   },
   {
    "duration": 76,
    "start_time": "2023-07-14T04:19:26.699Z"
   },
   {
    "duration": 87,
    "start_time": "2023-07-14T04:19:58.074Z"
   },
   {
    "duration": 171,
    "start_time": "2023-07-14T04:20:38.419Z"
   },
   {
    "duration": 94,
    "start_time": "2023-07-14T04:21:56.044Z"
   },
   {
    "duration": 91,
    "start_time": "2023-07-14T04:22:06.540Z"
   },
   {
    "duration": 269,
    "start_time": "2023-07-14T04:23:11.359Z"
   },
   {
    "duration": 56,
    "start_time": "2023-07-14T04:25:35.126Z"
   },
   {
    "duration": 66,
    "start_time": "2023-07-14T04:33:42.202Z"
   },
   {
    "duration": 61,
    "start_time": "2023-07-14T04:33:57.205Z"
   },
   {
    "duration": 53,
    "start_time": "2023-07-14T04:34:08.611Z"
   },
   {
    "duration": 135,
    "start_time": "2023-07-14T04:55:45.214Z"
   },
   {
    "duration": 185,
    "start_time": "2023-07-14T04:55:53.709Z"
   },
   {
    "duration": 74,
    "start_time": "2023-07-14T04:56:17.471Z"
   },
   {
    "duration": 45,
    "start_time": "2023-07-14T04:56:52.923Z"
   },
   {
    "duration": 143,
    "start_time": "2023-07-14T04:57:12.049Z"
   },
   {
    "duration": 58,
    "start_time": "2023-07-14T04:57:59.529Z"
   },
   {
    "duration": 98,
    "start_time": "2023-07-14T04:58:39.721Z"
   },
   {
    "duration": 97,
    "start_time": "2023-07-14T04:59:14.786Z"
   },
   {
    "duration": 97,
    "start_time": "2023-07-14T04:59:48.725Z"
   },
   {
    "duration": 102,
    "start_time": "2023-07-14T05:01:08.426Z"
   },
   {
    "duration": 109,
    "start_time": "2023-07-14T05:01:56.539Z"
   },
   {
    "duration": 106,
    "start_time": "2023-07-14T05:02:41.412Z"
   },
   {
    "duration": 281,
    "start_time": "2023-07-14T05:04:10.637Z"
   },
   {
    "duration": 280,
    "start_time": "2023-07-14T05:04:33.589Z"
   },
   {
    "duration": 262,
    "start_time": "2023-07-14T05:11:41.474Z"
   },
   {
    "duration": 276,
    "start_time": "2023-07-14T05:12:27.402Z"
   },
   {
    "duration": 514,
    "start_time": "2023-07-14T05:13:20.132Z"
   },
   {
    "duration": 18494,
    "start_time": "2023-07-14T05:13:20.648Z"
   },
   {
    "duration": 539,
    "start_time": "2023-07-14T05:13:39.143Z"
   },
   {
    "duration": 54,
    "start_time": "2023-07-14T05:13:39.684Z"
   },
   {
    "duration": 91,
    "start_time": "2023-07-14T05:13:39.739Z"
   },
   {
    "duration": 59,
    "start_time": "2023-07-14T05:13:39.832Z"
   },
   {
    "duration": 61,
    "start_time": "2023-07-14T05:13:39.892Z"
   },
   {
    "duration": 91,
    "start_time": "2023-07-14T05:13:39.955Z"
   },
   {
    "duration": 522,
    "start_time": "2023-07-14T05:16:26.701Z"
   },
   {
    "duration": 16657,
    "start_time": "2023-07-14T05:16:27.225Z"
   },
   {
    "duration": 506,
    "start_time": "2023-07-14T05:16:43.883Z"
   },
   {
    "duration": 53,
    "start_time": "2023-07-14T05:16:44.392Z"
   },
   {
    "duration": 91,
    "start_time": "2023-07-14T05:16:44.447Z"
   },
   {
    "duration": 58,
    "start_time": "2023-07-14T05:16:44.540Z"
   },
   {
    "duration": 62,
    "start_time": "2023-07-14T05:16:44.599Z"
   },
   {
    "duration": 91,
    "start_time": "2023-07-14T05:16:44.663Z"
   },
   {
    "duration": 50,
    "start_time": "2023-07-14T14:32:50.917Z"
   },
   {
    "duration": 7,
    "start_time": "2023-07-14T14:32:57.372Z"
   },
   {
    "duration": 605,
    "start_time": "2023-07-14T14:33:04.947Z"
   },
   {
    "duration": 10229,
    "start_time": "2023-07-14T14:33:05.553Z"
   },
   {
    "duration": 526,
    "start_time": "2023-07-14T14:33:15.784Z"
   },
   {
    "duration": 54,
    "start_time": "2023-07-14T14:33:16.313Z"
   },
   {
    "duration": 98,
    "start_time": "2023-07-14T14:33:16.370Z"
   },
   {
    "duration": 58,
    "start_time": "2023-07-14T14:33:16.469Z"
   },
   {
    "duration": 61,
    "start_time": "2023-07-14T14:33:16.530Z"
   },
   {
    "duration": 86,
    "start_time": "2023-07-14T14:33:16.593Z"
   },
   {
    "duration": 59,
    "start_time": "2023-07-14T14:34:23.944Z"
   },
   {
    "duration": 60,
    "start_time": "2023-07-14T14:34:37.494Z"
   },
   {
    "duration": 59,
    "start_time": "2023-07-14T14:34:52.654Z"
   },
   {
    "duration": 495,
    "start_time": "2023-07-14T14:35:42.131Z"
   },
   {
    "duration": 10478,
    "start_time": "2023-07-14T14:35:42.628Z"
   },
   {
    "duration": 507,
    "start_time": "2023-07-14T14:35:53.108Z"
   },
   {
    "duration": 52,
    "start_time": "2023-07-14T14:35:53.616Z"
   },
   {
    "duration": 88,
    "start_time": "2023-07-14T14:35:53.669Z"
   },
   {
    "duration": 53,
    "start_time": "2023-07-14T14:35:53.759Z"
   },
   {
    "duration": 59,
    "start_time": "2023-07-14T14:35:53.814Z"
   },
   {
    "duration": 86,
    "start_time": "2023-07-14T14:35:53.875Z"
   },
   {
    "duration": 542,
    "start_time": "2023-07-14T14:37:19.711Z"
   },
   {
    "duration": 10532,
    "start_time": "2023-07-14T14:37:20.256Z"
   },
   {
    "duration": 504,
    "start_time": "2023-07-14T14:37:30.790Z"
   },
   {
    "duration": 53,
    "start_time": "2023-07-14T14:37:31.297Z"
   },
   {
    "duration": 217,
    "start_time": "2023-07-14T14:37:31.352Z"
   },
   {
    "duration": 107,
    "start_time": "2023-07-14T14:37:31.571Z"
   },
   {
    "duration": 60,
    "start_time": "2023-07-14T14:37:31.679Z"
   },
   {
    "duration": 98,
    "start_time": "2023-07-14T14:37:31.741Z"
   }
  ],
  "kernelspec": {
   "display_name": "Python 3 (ipykernel)",
   "language": "python",
   "name": "python3"
  },
  "language_info": {
   "codemirror_mode": {
    "name": "ipython",
    "version": 3
   },
   "file_extension": ".py",
   "mimetype": "text/x-python",
   "name": "python",
   "nbconvert_exporter": "python",
   "pygments_lexer": "ipython3",
   "version": "3.9.13"
  },
  "toc": {
   "base_numbering": 1,
   "nav_menu": {},
   "number_sections": true,
   "sideBar": true,
   "skip_h1_title": true,
   "title_cell": "Table of Contents",
   "title_sidebar": "Contents",
   "toc_cell": true,
   "toc_position": {},
   "toc_section_display": true,
   "toc_window_display": false
  }
 },
 "nbformat": 4,
 "nbformat_minor": 5
}
